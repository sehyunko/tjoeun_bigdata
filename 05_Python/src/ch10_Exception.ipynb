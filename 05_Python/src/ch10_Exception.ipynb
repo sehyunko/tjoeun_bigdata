{
 "cells": [
  {
   "cell_type": "markdown",
   "id": "32f75b49",
   "metadata": {},
   "source": [
    "# ch10. 예외 처리 "
   ]
  },
  {
   "cell_type": "markdown",
   "id": "8cd7c5cc",
   "metadata": {},
   "source": [
    "## 1. try-except 문"
   ]
  },
  {
   "cell_type": "code",
   "execution_count": 4,
   "id": "acaf67da",
   "metadata": {},
   "outputs": [
    {
     "name": "stdout",
     "output_type": "stream",
     "text": [
      "정수값을 입력하시오:0\n",
      "입력한 정수값은: 0\n",
      "division by zero\n"
     ]
    }
   ],
   "source": [
    "## 0으로 나누는 연산에 대한 예외처리\n",
    "try:\n",
    "    num = int(input('정수값을 입력하시오:'))\n",
    "    print('입력한 정수값은: %d'%num)\n",
    "    print('100을 입력한 정수로 나눈값: %d'%(100/num))\n",
    "except ZeroDivisionError as e:\n",
    "    print(e) # 에러 메시지를 출력. 자바의 e.getMessage()와 동일\n",
    "except ValueError as e:\n",
    "    print(e)"
   ]
  },
  {
   "cell_type": "code",
   "execution_count": 5,
   "id": "2f463be8",
   "metadata": {},
   "outputs": [
    {
     "name": "stdout",
     "output_type": "stream",
     "text": [
      "정수값을 입력하시오:aa\n",
      "invalid literal for int() with base 10: 'aa'\n"
     ]
    }
   ],
   "source": [
    "# 정수가 아닌 문자열을 입력 했을 때의 예외처리\n",
    "try:\n",
    "    num = int(input('정수값을 입력하시오:'))\n",
    "    print('입력한 정수값은: %d'%num)\n",
    "    print('100을 입력한 정수로 나눈값: %d'%(100/num))\n",
    "except ZeroDivisionError as e:\n",
    "    print(e) # 에러 메시지를 출력. 자바의 e.getMessage()와 동일\n",
    "except ValueError as e:\n",
    "    print(e)"
   ]
  },
  {
   "cell_type": "code",
   "execution_count": 11,
   "id": "fcb332be",
   "metadata": {},
   "outputs": [
    {
     "name": "stdout",
     "output_type": "stream",
     "text": [
      "정수값을 입력하시오:0\n",
      "입력한 정수값은: 0\n",
      "division by zero\n",
      "정수값을 입력하시오:aa\n",
      "invalid literal for int() with base 10: 'aa'\n",
      "정수값을 입력하시오:ab\n",
      "invalid literal for int() with base 10: 'ab'\n"
     ]
    }
   ],
   "source": [
    "## 유효한 정수 값을 입력 받을 때 까지 3번 반복\n",
    "cnt = 0\n",
    "while True:\n",
    "    try:\n",
    "        cnt += 1\n",
    "        num = int(input('정수값을 입력하시오:'))\n",
    "        print('입력한 정수값은: %d'%num)\n",
    "        print('100을 입력한 정수로 나눈값: %d'%(100/num))\n",
    "        break \n",
    "    except (ZeroDivisionError, ValueError) as e:\n",
    "        print(e)\n",
    "    if cnt==3:\n",
    "        break"
   ]
  },
  {
   "cell_type": "code",
   "execution_count": 12,
   "id": "6d1fb585",
   "metadata": {},
   "outputs": [
    {
     "name": "stdout",
     "output_type": "stream",
     "text": [
      "list index out of range\n"
     ]
    }
   ],
   "source": [
    "##  IndexError : 리스트 참조시 길이를 벗어난 인덱스 값으로 참조시 발생 \n",
    "\n",
    "a = [0,1,2,3,4]\n",
    "\n",
    "try:\n",
    "    val = a[6]\n",
    "except IndexError as e:\n",
    "    print(e)"
   ]
  },
  {
   "cell_type": "code",
   "execution_count": 13,
   "id": "db87b03c",
   "metadata": {},
   "outputs": [
    {
     "name": "stdout",
     "output_type": "stream",
     "text": [
      "[Errno 2] No such file or directory: 'C:\\\\Users\\\\User\\\\Desktop\\\\파이썬\\\\data\\\\ch09_member20.csv'\n"
     ]
    }
   ],
   "source": [
    "## FileNotFoundError : 파일 입출력시 해당 경로에 파일이 존재하지 않는 경우\n",
    "\n",
    "try:\n",
    "    f = open(r'C:\\Users\\User\\Desktop\\파이썬\\data\\ch09_member20.csv')\n",
    "except FileNotFoundError as e:\n",
    "    print(e)"
   ]
  },
  {
   "cell_type": "markdown",
   "id": "d126fdc6",
   "metadata": {},
   "source": [
    "## 2. raise 절"
   ]
  },
  {
   "cell_type": "code",
   "execution_count": 19,
   "id": "ae0113ad",
   "metadata": {},
   "outputs": [],
   "source": [
    "class LengthZeroError(Exception):\n",
    "    '길이가 0일 때 발생하는 예외'\n",
    "    pass"
   ]
  },
  {
   "cell_type": "code",
   "execution_count": 20,
   "id": "392580a3",
   "metadata": {},
   "outputs": [],
   "source": [
    "def insert(data):\n",
    "    if len(data)==0:\n",
    "        raise LengthZeroError('매개변수의 길이가 0')\n",
    "    else: \n",
    "        for d in data:\n",
    "            print(d,end=' ')"
   ]
  },
  {
   "cell_type": "code",
   "execution_count": 23,
   "id": "121f4fca",
   "metadata": {},
   "outputs": [
    {
     "name": "stdout",
     "output_type": "stream",
     "text": [
      "매개변수의 길이가 0\n",
      "예외 발생 여부와 관계없이 항상 finally 절을 거침\n"
     ]
    }
   ],
   "source": [
    "data =[]\n",
    "\n",
    "try:\n",
    "    insert(data)\n",
    "except LengthZeroError as e:\n",
    "    print(e)\n",
    "else:\n",
    "    print('정상 실행시 else문을 거침')\n",
    "finally:\n",
    "    print('예외 발생 여부와 관계없이 항상 finally 절을 거침')"
   ]
  },
  {
   "cell_type": "code",
   "execution_count": 24,
   "id": "0c6a6628",
   "metadata": {},
   "outputs": [
    {
     "name": "stdout",
     "output_type": "stream",
     "text": [
      "1 2 3 정상 실행시 else문을 거침\n",
      "예외 발생 여부와 관계없이 항상 finally 절을 거침\n"
     ]
    }
   ],
   "source": [
    "data =[1,2,3]\n",
    "\n",
    "try:\n",
    "    insert(data)\n",
    "except LengthZeroError as e:\n",
    "    print(e)\n",
    "else:\n",
    "    print('정상 실행시 else문을 거침')\n",
    "finally:\n",
    "    print('예외 발생 여부와 관계없이 항상 finally 절을 거침')"
   ]
  },
  {
   "cell_type": "markdown",
   "id": "9dfb4150",
   "metadata": {},
   "source": [
    "## 3. 예외 처리를 이용한 추상클래스 구현"
   ]
  },
  {
   "cell_type": "code",
   "execution_count": 26,
   "id": "88d42ce8",
   "metadata": {},
   "outputs": [],
   "source": [
    "class Shape:\n",
    "    \n",
    "    def __init__(self):\n",
    "        raise NotImplementedError\n",
    "    def calc_area(self):\n",
    "        raise NotImplementedError"
   ]
  },
  {
   "cell_type": "code",
   "execution_count": 29,
   "id": "92e6bf1e",
   "metadata": {},
   "outputs": [],
   "source": [
    "import numpy as np\n",
    "\n",
    "class Circle(Shape):\n",
    "    \n",
    "    def __init__(self,radius):\n",
    "        self.radius = radius\n",
    "    \n",
    "    def calc_area(self):\n",
    "        return round((self.radius**2)*np.pi,2)"
   ]
  },
  {
   "cell_type": "code",
   "execution_count": 30,
   "id": "49bbd30d",
   "metadata": {},
   "outputs": [
    {
     "data": {
      "text/plain": [
       "1256.64"
      ]
     },
     "execution_count": 30,
     "metadata": {},
     "output_type": "execute_result"
    }
   ],
   "source": [
    "circle = Circle(20)\n",
    "\n",
    "circle.calc_area()"
   ]
  },
  {
   "cell_type": "markdown",
   "id": "22a4884d",
   "metadata": {},
   "source": [
    "## 4. 파일 입출력 시 예외처리"
   ]
  },
  {
   "cell_type": "code",
   "execution_count": 31,
   "id": "9fb9769b",
   "metadata": {},
   "outputs": [],
   "source": [
    "try:\n",
    "    f = open(r'C:\\Users\\User\\Desktop\\파이썬\\data\\ch09_member1.csv')\n",
    "except FileNotFoundError as e:\n",
    "    print(e)\n",
    "finally:\n",
    "    f.close()"
   ]
  },
  {
   "cell_type": "code",
   "execution_count": 34,
   "id": "f4e3e8e7",
   "metadata": {},
   "outputs": [
    {
     "name": "stdout",
     "output_type": "stream",
     "text": [
      "'홍길동',20,'kildong@hong.com','서울시 강동구'\n",
      "\n",
      "'윤길동',25,'yoonkil@hong.com','서울시 강서구' \n",
      "\n",
      "'한길동',25,'hankil@hong.com','서울시 은평구' \n"
     ]
    }
   ],
   "source": [
    "## with 절을 이용하여 자동으로 파일경로를 닫아주어 예외 처리구문을 생략 가능하다. \n",
    "## readlines() 메소드는 전체 데이터를 읽어 온 후, 데이터를 한줄 단위로 하여 리스트에 저장한다 \n",
    "\n",
    "\n",
    "with open(r'C:\\Users\\User\\Desktop\\파이썬\\data\\ch09_member1.csv',encoding='utf-8') as f:\n",
    "    lines = f.readlines()\n",
    "    for l in lines:\n",
    "        print(l)"
   ]
  }
 ],
 "metadata": {
  "kernelspec": {
   "display_name": "Python 3",
   "language": "python",
   "name": "python3"
  },
  "language_info": {
   "codemirror_mode": {
    "name": "ipython",
    "version": 3
   },
   "file_extension": ".py",
   "mimetype": "text/x-python",
   "name": "python",
   "nbconvert_exporter": "python",
   "pygments_lexer": "ipython3",
   "version": "3.8.8"
  },
  "toc": {
   "base_numbering": 1,
   "nav_menu": {},
   "number_sections": false,
   "sideBar": true,
   "skip_h1_title": false,
   "title_cell": "Table of Contents",
   "title_sidebar": "Contents",
   "toc_cell": false,
   "toc_position": {},
   "toc_section_display": true,
   "toc_window_display": true
  },
  "varInspector": {
   "cols": {
    "lenName": 16,
    "lenType": 16,
    "lenVar": 40
   },
   "kernels_config": {
    "python": {
     "delete_cmd_postfix": "",
     "delete_cmd_prefix": "del ",
     "library": "var_list.py",
     "varRefreshCmd": "print(var_dic_list())"
    },
    "r": {
     "delete_cmd_postfix": ") ",
     "delete_cmd_prefix": "rm(",
     "library": "var_list.r",
     "varRefreshCmd": "cat(var_dic_list()) "
    }
   },
   "types_to_exclude": [
    "module",
    "function",
    "builtin_function_or_method",
    "instance",
    "_Feature"
   ],
   "window_display": false
  }
 },
 "nbformat": 4,
 "nbformat_minor": 5
}
