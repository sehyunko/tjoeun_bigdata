{
 "cells": [
  {
   "cell_type": "markdown",
   "id": "0c72e189",
   "metadata": {},
   "source": [
    "<b><font size=6 color='green'>ch13. N차원 배열 다루기</font>\n",
    "    \n",
    "* N 차원 배열 객체\n",
    "* 2차원 배열은 행렬개념으로 이해 \n",
    "* numpy 패키지 이용 (C 언어로 구현된 고성능 수치계산 패키지) \n",
    "* C/C++, 포트란 코드의 통합도구 "
   ]
  },
  {
   "cell_type": "markdown",
   "id": "6b30bca4",
   "metadata": {},
   "source": [
    "# 1절. 넘파이 패키지"
   ]
  },
  {
   "cell_type": "code",
   "execution_count": 1,
   "id": "5b8ad3ad",
   "metadata": {},
   "outputs": [
    {
     "data": {
      "text/plain": [
       "'1.19.5'"
      ]
     },
     "execution_count": 1,
     "metadata": {},
     "output_type": "execute_result"
    }
   ],
   "source": [
    "import numpy as np \n",
    "\n",
    "np.__version__"
   ]
  },
  {
   "cell_type": "markdown",
   "id": "7a0ca6df",
   "metadata": {},
   "source": [
    "## 1.1 배열 생성 함수"
   ]
  },
  {
   "cell_type": "code",
   "execution_count": 2,
   "id": "5c7b5b44",
   "metadata": {},
   "outputs": [
    {
     "data": {
      "text/plain": [
       "array([ 0,  1,  2,  3,  4,  5,  6,  7,  8,  9, 10, 11, 12, 13, 14])"
      ]
     },
     "execution_count": 2,
     "metadata": {},
     "output_type": "execute_result"
    }
   ],
   "source": [
    "# 0부터 15앞까지 1씩 증가 하는 1차원 배열\n",
    "a = np.arange(15)  #np.arange(0,15,1) \n",
    "a"
   ]
  },
  {
   "cell_type": "code",
   "execution_count": 3,
   "id": "404b86c4",
   "metadata": {},
   "outputs": [
    {
     "data": {
      "text/plain": [
       "array([[ 0,  1,  2,  3,  4],\n",
       "       [ 5,  6,  7,  8,  9],\n",
       "       [10, 11, 12, 13, 14]])"
      ]
     },
     "execution_count": 3,
     "metadata": {},
     "output_type": "execute_result"
    }
   ],
   "source": [
    "a = np.arange(15).reshape(3,5) # 1행 짜리 리스트를 3행5열 짜리로 변경\n",
    "a"
   ]
  },
  {
   "cell_type": "code",
   "execution_count": 5,
   "id": "43909b84",
   "metadata": {},
   "outputs": [
    {
     "data": {
      "text/plain": [
       "numpy.ndarray"
      ]
     },
     "execution_count": 5,
     "metadata": {},
     "output_type": "execute_result"
    }
   ],
   "source": [
    "type(a) # a변수의 타입"
   ]
  },
  {
   "cell_type": "code",
   "execution_count": 6,
   "id": "b07463f9",
   "metadata": {},
   "outputs": [
    {
     "data": {
      "text/plain": [
       "dtype('int32')"
      ]
     },
     "execution_count": 6,
     "metadata": {},
     "output_type": "execute_result"
    }
   ],
   "source": [
    "a.dtype # a array 내의 데이터들의 타입"
   ]
  },
  {
   "cell_type": "code",
   "execution_count": 7,
   "id": "168649fb",
   "metadata": {},
   "outputs": [
    {
     "data": {
      "text/plain": [
       "'int32'"
      ]
     },
     "execution_count": 7,
     "metadata": {},
     "output_type": "execute_result"
    }
   ],
   "source": [
    "a.dtype.name # a array 내의 데이터를 타입 내용"
   ]
  },
  {
   "cell_type": "code",
   "execution_count": 9,
   "id": "52fb7f08",
   "metadata": {},
   "outputs": [
    {
     "data": {
      "text/plain": [
       "4"
      ]
     },
     "execution_count": 9,
     "metadata": {},
     "output_type": "execute_result"
    }
   ],
   "source": [
    "a.itemsize # a array의 한 요소의 size : integer32 = 4byte"
   ]
  },
  {
   "cell_type": "code",
   "execution_count": 8,
   "id": "f42f3a99",
   "metadata": {},
   "outputs": [
    {
     "data": {
      "text/plain": [
       "2"
      ]
     },
     "execution_count": 8,
     "metadata": {},
     "output_type": "execute_result"
    }
   ],
   "source": [
    "a.ndim # axis 수 or 차원수"
   ]
  },
  {
   "cell_type": "code",
   "execution_count": 10,
   "id": "aede89e4",
   "metadata": {},
   "outputs": [
    {
     "data": {
      "text/plain": [
       "15"
      ]
     },
     "execution_count": 10,
     "metadata": {},
     "output_type": "execute_result"
    }
   ],
   "source": [
    "a.size # 배열 내 요소의 총갯수 "
   ]
  },
  {
   "cell_type": "code",
   "execution_count": 11,
   "id": "1a6ede5d",
   "metadata": {},
   "outputs": [
    {
     "data": {
      "text/plain": [
       "(3, 5)"
      ]
     },
     "execution_count": 11,
     "metadata": {},
     "output_type": "execute_result"
    }
   ],
   "source": [
    "a.shape # 배열의 구조 (3행5열)"
   ]
  },
  {
   "cell_type": "code",
   "execution_count": null,
   "id": "66632a69",
   "metadata": {},
   "outputs": [],
   "source": [
    "a.shape = (5,3)\n",
    "a"
   ]
  },
  {
   "cell_type": "code",
   "execution_count": null,
   "id": "f2b9f90a",
   "metadata": {},
   "outputs": [],
   "source": [
    "# dtype 속성을 바꾸면 \n",
    "\n",
    "a = np.arange(12).reshape(3,4)\n",
    "a"
   ]
  },
  {
   "cell_type": "code",
   "execution_count": null,
   "id": "5f4a0fd6",
   "metadata": {},
   "outputs": [],
   "source": [
    "a.size"
   ]
  },
  {
   "cell_type": "code",
   "execution_count": null,
   "id": "4aa2331e",
   "metadata": {},
   "outputs": [],
   "source": [
    "a.dtype"
   ]
  },
  {
   "cell_type": "code",
   "execution_count": null,
   "id": "a51ea970",
   "metadata": {},
   "outputs": [],
   "source": [
    "a.reshape(1,12)\n",
    "a"
   ]
  },
  {
   "cell_type": "code",
   "execution_count": null,
   "id": "7595d463",
   "metadata": {},
   "outputs": [],
   "source": [
    "a.dtype = np.int64"
   ]
  },
  {
   "cell_type": "code",
   "execution_count": null,
   "id": "166760ae",
   "metadata": {},
   "outputs": [],
   "source": [
    "a.dtype"
   ]
  },
  {
   "cell_type": "code",
   "execution_count": null,
   "id": "26b23873",
   "metadata": {},
   "outputs": [],
   "source": [
    "a # dtype을 함부로 바꾸면 데이터에 변질이 옴"
   ]
  },
  {
   "cell_type": "code",
   "execution_count": null,
   "id": "19a24e53",
   "metadata": {},
   "outputs": [],
   "source": [
    "# dtype을 하면 전체 데이터 갯수도 변질되어, reshape도 안됨 \n",
    "a.size"
   ]
  },
  {
   "cell_type": "markdown",
   "id": "4524cacf",
   "metadata": {},
   "source": [
    "# 2절. 넘파이 배열 \n",
    "\n",
    "* np.array() 함수를 이용한 다른 파이썬 구조 (벡터구조)를 넘파이 배열로 변환 \n",
    "* 넘파이 배열을 생성하는 기타 함수들 : arange, ones, zeros \n",
    "* 특수 라이브러리 함수 (ex. random) 이용\n",
    "* [넘파이 doc](https://numpy.org/doc/stable/index.html)"
   ]
  },
  {
   "cell_type": "markdown",
   "id": "e5c99bbb",
   "metadata": {},
   "source": [
    "## 2.1 array() 함수로 넘파이 배열 만들기"
   ]
  },
  {
   "cell_type": "code",
   "execution_count": null,
   "id": "b98128e6",
   "metadata": {},
   "outputs": [],
   "source": [
    "import numpy as np \n",
    "\n",
    "a = np.array([2,4,6.0], dtype=np.int16) # 넘파이 배열은 같은 자료형만 와야됨. 정수들 모두 실수로 자동 형변환됨\n",
    "a"
   ]
  },
  {
   "cell_type": "code",
   "execution_count": null,
   "id": "452a988a",
   "metadata": {},
   "outputs": [],
   "source": [
    "a[0]"
   ]
  },
  {
   "cell_type": "code",
   "execution_count": null,
   "id": "386e1ebb",
   "metadata": {},
   "outputs": [],
   "source": [
    "for i in a:\n",
    "    print(i, end='\\t')"
   ]
  },
  {
   "cell_type": "code",
   "execution_count": null,
   "id": "85c6aa9e",
   "metadata": {},
   "outputs": [],
   "source": [
    "a.dtype"
   ]
  },
  {
   "cell_type": "code",
   "execution_count": null,
   "id": "d6455766",
   "metadata": {},
   "outputs": [],
   "source": [
    "b = np.array([(1.5,2.3),(4,5)]) # 자동 dtype 셋팅 (float64형). shape 자동 셋팅\n",
    "b"
   ]
  },
  {
   "cell_type": "code",
   "execution_count": null,
   "id": "2fcd709c",
   "metadata": {},
   "outputs": [],
   "source": [
    "a = np.array([1,2],[3,4]) # np.array() 는 항상 하나의 list만 인자값으로 받는다"
   ]
  },
  {
   "cell_type": "code",
   "execution_count": null,
   "id": "8b160144",
   "metadata": {},
   "outputs": [],
   "source": [
    "a = np.array([[1,2],[3,4]])\n",
    "a"
   ]
  },
  {
   "cell_type": "code",
   "execution_count": null,
   "id": "a1bfb97f",
   "metadata": {},
   "outputs": [],
   "source": [
    "# dtype 인수를 통해 type을 셋팅 가능 \n",
    "a = np.array([1,2,3,4], dtype=np.float32).reshape(2,2)\n",
    "a"
   ]
  },
  {
   "cell_type": "code",
   "execution_count": null,
   "id": "5edecd4a",
   "metadata": {},
   "outputs": [],
   "source": [
    "a.dtype"
   ]
  },
  {
   "cell_type": "code",
   "execution_count": null,
   "id": "f52999ea",
   "metadata": {},
   "outputs": [],
   "source": [
    "for i, row in enumerate(a):\n",
    "    for j, data in enumerate(row):\n",
    "        print('%d행 %d열: %d'%(i,j,data))"
   ]
  },
  {
   "cell_type": "code",
   "execution_count": null,
   "id": "7d0bbc51",
   "metadata": {},
   "outputs": [],
   "source": [
    "# 2차원 배열 \n",
    "\n",
    "b = np.array([[1,2,3],[4,5,6]], dtype=np.int16)\n",
    "b"
   ]
  },
  {
   "cell_type": "code",
   "execution_count": null,
   "id": "de10d845",
   "metadata": {},
   "outputs": [],
   "source": [
    "# 넘파이 배열 요소 조회법 1\n",
    "for i, row in enumerate(b):\n",
    "    for j, data in enumerate(row):\n",
    "         print('%d행 %d열: %d'%(i,j,data))"
   ]
  },
  {
   "cell_type": "code",
   "execution_count": null,
   "id": "3b1fe136",
   "metadata": {},
   "outputs": [],
   "source": [
    "# 넘파이 배열 요소 조회법 2\n",
    "b[0,1]"
   ]
  },
  {
   "cell_type": "code",
   "execution_count": null,
   "id": "ee401a17",
   "metadata": {},
   "outputs": [],
   "source": [
    "# 넘파이 배열 슬라이싱\n",
    "b[0,0:2]"
   ]
  },
  {
   "cell_type": "code",
   "execution_count": null,
   "id": "5c087c9e",
   "metadata": {},
   "outputs": [],
   "source": [
    "c = np.array([[1,2],[3,4]], dtype=complex)\n",
    "c"
   ]
  },
  {
   "cell_type": "code",
   "execution_count": null,
   "id": "62e03ea5",
   "metadata": {},
   "outputs": [],
   "source": [
    "# 스칼라 변수의 복제 : 그냥 변수에 대입하는 순간 이뤄짐 (객체 변수는 그렇지 않음)\n",
    "a =10\n",
    "b=a\n",
    "a=9\n",
    "print(b)"
   ]
  },
  {
   "cell_type": "code",
   "execution_count": 19,
   "id": "3e7aa3b4",
   "metadata": {},
   "outputs": [
    {
     "name": "stdout",
     "output_type": "stream",
     "text": [
      "d=\n",
      "[[1 2]\n",
      " [3 4]]\n",
      "f=\n",
      "[[1 2]\n",
      " [3 4]]\n",
      "두변수의 주소: 1243279436736 1243279436896\n",
      "d=\n",
      "[[999   2]\n",
      " [  3   4]]\n",
      "f=\n",
      "[[1 2]\n",
      " [3 4]]\n"
     ]
    }
   ],
   "source": [
    "# numpy 배열 : 객체변수는 그냥 새로운 변수에 대입을 한다고 복사가 되지 않음.\n",
    "\n",
    "c = np.array([[1,2,],[3,4,]])\n",
    "d = np.array(c,copy=True) # 깊은 복사 \n",
    "f = np.array(c,copy=False) # 얕은 복사\n",
    "\n",
    "print('d=',d,sep='\\n')\n",
    "print('f=',f,sep='\\n')\n",
    "print('두변수의 주소:',id(c),id(d))\n",
    "d[0,0] = 999\n",
    "print('d=',d,sep='\\n')\n",
    "print('f=',f,sep='\\n')"
   ]
  },
  {
   "cell_type": "code",
   "execution_count": null,
   "id": "d5959b34",
   "metadata": {},
   "outputs": [],
   "source": [
    "# copy=False 이더라도 dtype이 바뀌면 깊은 복사가 일어남 \n",
    "c = np.array([[1,2,],[3,4,]])\n",
    "d = np.array(c,copy=False, dtype=np.int16) "
   ]
  },
  {
   "cell_type": "markdown",
   "id": "d8a38503",
   "metadata": {},
   "source": [
    "## 2.2 기본값이 있는 배열만들기 \n",
    "\n",
    "* np.zeros(tup) : 모든 요소가 0으로 채워짐\n",
    "* np.ones(tup) : 모든 요소가 1로 채워짐\n",
    "* np.empty(tup) : 모든 요소가 임의의 값으로 채워짐\n",
    "\n",
    "* 이렇게 생성된 배열은 기본 dtype=float64. "
   ]
  },
  {
   "cell_type": "code",
   "execution_count": null,
   "id": "5464d86c",
   "metadata": {},
   "outputs": [],
   "source": [
    "np.zeros((4,4)) # 4행 4열 짜리 0이 들어간 numpy배열 생성"
   ]
  },
  {
   "cell_type": "code",
   "execution_count": null,
   "id": "2ec5404c",
   "metadata": {},
   "outputs": [],
   "source": [
    "x = np.zeros((3,5), dtype=np.int16)\n",
    "print(x)"
   ]
  },
  {
   "cell_type": "code",
   "execution_count": null,
   "id": "ec45ed93",
   "metadata": {},
   "outputs": [],
   "source": [
    "np.ones((2,5), dtype=np.int8)"
   ]
  },
  {
   "cell_type": "code",
   "execution_count": null,
   "id": "12a2ba38",
   "metadata": {},
   "outputs": [],
   "source": [
    "np.empty((2,3)) # 초기값이 메모리 상태에 따른 임의의 값 "
   ]
  },
  {
   "cell_type": "markdown",
   "id": "29fdab8b",
   "metadata": {},
   "source": [
    "## 2.3 연속된 값을 갖는 배열 만들기 \n",
    "\n",
    "* np.arange(from, to, by, dtype=None) : from 부터 to-1까지 by씩 건너뛴 값을 목록으로 N차원 배열을 만듬. from=0, by=1 디폴트값\n",
    "* np.linspace(from, to, num) : from 부터 to까지 num개의 숫자들을 N차원 배열로 만듬\n",
    "* np.random.normal(평균,표준편차, 갯수) : 평균이0이고, 표준편차가 1인 100개의 난수 생성\n",
    "* np.random.random(rup): 0~1 사이의 난수발생"
   ]
  },
  {
   "cell_type": "code",
   "execution_count": null,
   "id": "af39c034",
   "metadata": {},
   "outputs": [],
   "source": [
    "np.arange(10,30,5, dtype=np.float32)"
   ]
  },
  {
   "cell_type": "code",
   "execution_count": null,
   "id": "4c86813c",
   "metadata": {},
   "outputs": [],
   "source": [
    "np.arange(0,2,0.3)"
   ]
  },
  {
   "cell_type": "code",
   "execution_count": null,
   "id": "379c13bd",
   "metadata": {},
   "outputs": [],
   "source": [
    "np.linspace(1,10,10).reshape(5,2)"
   ]
  },
  {
   "cell_type": "code",
   "execution_count": null,
   "id": "1233a244",
   "metadata": {},
   "outputs": [],
   "source": [
    "# 많은 수의 점들을 생성할 때 유용 : linspace\n",
    "\n",
    "from numpy import pi \n",
    "import matplotlib.pyplot as plt\n",
    "x = np.linspace(0,2*pi,100)\n",
    "f = np.sin(x)\n",
    "\n",
    "plt.scatter(x,f)\n",
    "plt.title('sin graph by x values')\n",
    "plt.xlabel('x')\n",
    "plt.ylabel('y')\n",
    "plt.show()\n"
   ]
  },
  {
   "cell_type": "code",
   "execution_count": null,
   "id": "5fec184e",
   "metadata": {},
   "outputs": [],
   "source": [
    "np.random.seed(12)\n",
    "x = np.random.normal(0,1,100)\n",
    "plt.hist(x)\n",
    "plt.title('histogram of random distribution')\n",
    "plt.xlabel('x')\n",
    "plt.show()"
   ]
  },
  {
   "cell_type": "markdown",
   "id": "7c30dc6c",
   "metadata": {},
   "source": [
    "## 2.4 배열의 차원변경하기 "
   ]
  },
  {
   "cell_type": "code",
   "execution_count": null,
   "id": "0409a7f0",
   "metadata": {},
   "outputs": [],
   "source": [
    "np.random.seed(123)\n",
    "t = np.random.random((2,3)) # 0~1인 실수 난수 발생"
   ]
  },
  {
   "cell_type": "code",
   "execution_count": null,
   "id": "c3ca6187",
   "metadata": {},
   "outputs": [],
   "source": [
    "a = np.floor(t*10)\n",
    "a"
   ]
  },
  {
   "cell_type": "code",
   "execution_count": null,
   "id": "3925c87c",
   "metadata": {},
   "outputs": [],
   "source": [
    "a.shape"
   ]
  },
  {
   "cell_type": "code",
   "execution_count": null,
   "id": "11b288a6",
   "metadata": {},
   "outputs": [],
   "source": [
    "# 차원이 풀린 배열을 반환 -> a 에 다시 대입해주지 않으면 a 는 변함이 없음\n",
    "a.ravel()"
   ]
  },
  {
   "cell_type": "code",
   "execution_count": null,
   "id": "3fe6e123",
   "metadata": {},
   "outputs": [],
   "source": [
    "## 대부분 실행 후 콘솔창에 결과물이 나오는건 원래 a 객체에 변화가 없음\n",
    "## 결과물이 콘솔창에 안 뿌려지는 것은 a 객체에 변화가 적용됨\n",
    "a.reshape(3,2)"
   ]
  },
  {
   "cell_type": "code",
   "execution_count": null,
   "id": "727d1a6b",
   "metadata": {},
   "outputs": [],
   "source": [
    "# a 행렬을 전치함 \n",
    "a.T\n",
    "a.transpose()"
   ]
  },
  {
   "cell_type": "code",
   "execution_count": null,
   "id": "862dfcd6",
   "metadata": {},
   "outputs": [],
   "source": [
    "a.reshape(3,-1) # -1로 주어지면 해당 차원의 크기가 자동계산 됨"
   ]
  },
  {
   "cell_type": "code",
   "execution_count": null,
   "id": "bec1b09e",
   "metadata": {},
   "outputs": [],
   "source": [
    "a.reshape(-1,2) # -1은 자동적으로 계산됨 (a는 그대로)"
   ]
  },
  {
   "cell_type": "code",
   "execution_count": null,
   "id": "f2418470",
   "metadata": {},
   "outputs": [],
   "source": [
    "# a.shape = (1,6)\n",
    "\n",
    "a.resize((1,6)) # a에 변경된 것이 적용됨 \n",
    "a"
   ]
  },
  {
   "cell_type": "code",
   "execution_count": null,
   "id": "984985f9",
   "metadata": {},
   "outputs": [],
   "source": [
    "a.resize(-1,2) # reshape() 에서만 - 부호 사용가능 "
   ]
  },
  {
   "cell_type": "code",
   "execution_count": null,
   "id": "c9b405c2",
   "metadata": {},
   "outputs": [],
   "source": [
    "# 가장 많이 쓰는 방식임 \n",
    "\n",
    "a = a.reshape(2,3)"
   ]
  },
  {
   "cell_type": "code",
   "execution_count": null,
   "id": "e59cbcc9",
   "metadata": {},
   "outputs": [],
   "source": [
    "# 로또 번호 6개 (1~45)를 구해서 sort 하여 1차원 배열에 넣고 출력하기\n",
    "\n",
    "while True:\n",
    "    lotto = np.floor(np.random.random(6)*45)+1\n",
    "    lotto = [int(x) for x in lotto]\n",
    "    lotto = np.sort(lotto)\n",
    "    lotto2 = set(lotto)\n",
    "    \n",
    "    if len(lotto) == len(lotto2):\n",
    "        print(lotto2)\n",
    "        break"
   ]
  },
  {
   "cell_type": "code",
   "execution_count": null,
   "id": "83da9b57",
   "metadata": {},
   "outputs": [],
   "source": [
    "# 배열이 너무 커서 인쇄할 수 없는 경우 \n",
    "\n",
    "print(np.arange(10000))"
   ]
  },
  {
   "cell_type": "code",
   "execution_count": null,
   "id": "44a19b9c",
   "metadata": {},
   "outputs": [],
   "source": [
    "# 배열이 너무 커서 인쇄할수 없는 경우는 자동으로 건너뛰고 모서리만 출력\n",
    "# 이동작을 비활성화하고 넘파이 배열을 전체가 출력되도록 할려면 \n",
    "# 인쇄 옵션을 변경. threshold 큰 값으로 조정\n",
    "\n",
    "np.set_printoptions(threshold=10000)\n",
    "print(np.arange(10000))"
   ]
  },
  {
   "cell_type": "code",
   "execution_count": null,
   "id": "69cb57ce",
   "metadata": {},
   "outputs": [],
   "source": [
    "np.set_printoptions(threshold=np.inf) # 무제한으로 다 보기\n",
    "print(np.arange(10000))"
   ]
  },
  {
   "cell_type": "code",
   "execution_count": null,
   "id": "b74974bf",
   "metadata": {},
   "outputs": [],
   "source": [
    "import sys\n",
    "np.set_printoptions(threshold=sys.maxsize) # system 최고 threshold로 보기\n",
    "print(np.arange(10000))"
   ]
  },
  {
   "cell_type": "markdown",
   "id": "d881f2e6",
   "metadata": {},
   "source": [
    "## 2.6 기본 연산동작"
   ]
  },
  {
   "cell_type": "markdown",
   "id": "142ba3ad",
   "metadata": {},
   "source": [
    "### 1) 배열의 요소별 연산"
   ]
  },
  {
   "cell_type": "code",
   "execution_count": null,
   "id": "b3c6417b",
   "metadata": {},
   "outputs": [],
   "source": [
    "a = np.array([20,30,40,50])\n",
    "b = np.arange(4)\n",
    "print(a)\n",
    "print(b)"
   ]
  },
  {
   "cell_type": "code",
   "execution_count": null,
   "id": "0ef6e581",
   "metadata": {},
   "outputs": [],
   "source": [
    "## 요소별 연산의 예시\n",
    "a+b\n",
    "a-b\n",
    "a*b\n",
    "a<35"
   ]
  },
  {
   "cell_type": "markdown",
   "id": "d1fc50a8",
   "metadata": {},
   "source": [
    "### 2) 행렬의 곱 (@) cf. * (요소별 곱) "
   ]
  },
  {
   "cell_type": "code",
   "execution_count": null,
   "id": "1e008f5c",
   "metadata": {},
   "outputs": [],
   "source": [
    "A = np.array([[1,0],\n",
    "             [0,1]])"
   ]
  },
  {
   "cell_type": "code",
   "execution_count": null,
   "id": "d92e6966",
   "metadata": {},
   "outputs": [],
   "source": [
    "B = np.array([[2,0],\n",
    "              [3,4]])"
   ]
  },
  {
   "cell_type": "code",
   "execution_count": null,
   "id": "477316f1",
   "metadata": {},
   "outputs": [],
   "source": [
    "A,B"
   ]
  },
  {
   "cell_type": "code",
   "execution_count": null,
   "id": "7a8fc6a8",
   "metadata": {},
   "outputs": [],
   "source": [
    "print('요소별 곱 A*B = ', A*B, sep='\\n')"
   ]
  },
  {
   "cell_type": "markdown",
   "id": "c70131cb",
   "metadata": {},
   "source": [
    "### 3) 복합대입 연산자 사용 (+=,==,*=,....)"
   ]
  },
  {
   "cell_type": "code",
   "execution_count": null,
   "id": "ae6fba42",
   "metadata": {},
   "outputs": [],
   "source": [
    "a = np.ones((2,3),dtype=int)\n",
    "a"
   ]
  },
  {
   "cell_type": "code",
   "execution_count": null,
   "id": "c07beba4",
   "metadata": {},
   "outputs": [],
   "source": [
    "b = np.random.random((2,3)) # 2차원 2행3열 짜리 배열, dtype=float64\n",
    "b"
   ]
  },
  {
   "cell_type": "code",
   "execution_count": null,
   "id": "444e1392",
   "metadata": {},
   "outputs": [],
   "source": [
    "a +=3\n",
    "a"
   ]
  },
  {
   "cell_type": "code",
   "execution_count": null,
   "id": "4aa05985",
   "metadata": {},
   "outputs": [],
   "source": [
    "b +=a\n",
    "b"
   ]
  },
  {
   "cell_type": "code",
   "execution_count": null,
   "id": "7e7448df",
   "metadata": {},
   "outputs": [],
   "source": [
    "a+=b # b 가 dtype이 float64 이어서 a+b가 float64로 강제 형변환이 일어남"
   ]
  },
  {
   "cell_type": "code",
   "execution_count": null,
   "id": "829be2e8",
   "metadata": {},
   "outputs": [],
   "source": [
    "a = np.ones(3, dtype=np.int16)\n",
    "b = np.linspace(0, np.pi,3)\n",
    "print(a)\n",
    "print(b)"
   ]
  },
  {
   "cell_type": "code",
   "execution_count": null,
   "id": "62ad4752",
   "metadata": {},
   "outputs": [],
   "source": [
    "c = a+b\n",
    "print(c.dtype)"
   ]
  },
  {
   "cell_type": "code",
   "execution_count": null,
   "id": "e5b74d07",
   "metadata": {},
   "outputs": [],
   "source": [
    "c = a +b*1j\n",
    "c.dtype"
   ]
  },
  {
   "cell_type": "markdown",
   "id": "1be6e4bd",
   "metadata": {},
   "source": [
    "### 4) 배열요소별 집계: 배열요소 전체의 sum, min... "
   ]
  },
  {
   "cell_type": "code",
   "execution_count": 1,
   "id": "e0858d10",
   "metadata": {},
   "outputs": [
    {
     "data": {
      "text/plain": [
       "array([[2, 2, 2, 4],\n",
       "       [4, 3, 2, 1]])"
      ]
     },
     "execution_count": 1,
     "metadata": {},
     "output_type": "execute_result"
    }
   ],
   "source": [
    "a = np.array([[2,2,2,4],\n",
    "             [4,3,2,1]])\n",
    "a"
   ]
  },
  {
   "cell_type": "code",
   "execution_count": 2,
   "id": "00cb4f0a",
   "metadata": {},
   "outputs": [
    {
     "name": "stdout",
     "output_type": "stream",
     "text": [
      "전체 합: 20\n",
      "전체 평균: 2.5\n",
      "전체 최소값: 1\n",
      "전체 최대값: 4\n",
      "전체 분산: 1.0\n"
     ]
    }
   ],
   "source": [
    "print('전체 합:',a.sum())\n",
    "print('전체 평균:', a.mean())\n",
    "print('전체 최소값:', a.min())\n",
    "print('전체 최대값:', a.max())\n",
    "print('전체 분산:', a.var())"
   ]
  },
  {
   "cell_type": "markdown",
   "id": "8b4274ca",
   "metadata": {},
   "source": [
    "### 5)배열 축별 집계: 행별 sum,min, ... 열별 sum, min, .... "
   ]
  },
  {
   "cell_type": "code",
   "execution_count": 3,
   "id": "57e55ab5",
   "metadata": {},
   "outputs": [
    {
     "data": {
      "text/plain": [
       "array([[2, 2, 2, 4],\n",
       "       [4, 3, 2, 1]])"
      ]
     },
     "execution_count": 3,
     "metadata": {},
     "output_type": "execute_result"
    }
   ],
   "source": [
    "a = np.array([[2,2,2,4],\n",
    "              [4,3,2,1]])\n",
    "a"
   ]
  },
  {
   "cell_type": "code",
   "execution_count": 4,
   "id": "64749975",
   "metadata": {},
   "outputs": [
    {
     "name": "stdout",
     "output_type": "stream",
     "text": [
      "a 배열의 행별 합(결과는 2열):  [10 10]\n"
     ]
    }
   ],
   "source": [
    "print('a 배열의 행별 합(결과는 2열): ', a.sum(axis=1)) # 행별 합"
   ]
  },
  {
   "cell_type": "code",
   "execution_count": 5,
   "id": "367da2cb",
   "metadata": {},
   "outputs": [
    {
     "name": "stdout",
     "output_type": "stream",
     "text": [
      "a 배열의 열별 합(결과는 2열):  [6 5 4 5]\n"
     ]
    }
   ],
   "source": [
    "print('a 배열의 열별 합(결과는 2열): ', a.sum(axis=0)) # 열별 합"
   ]
  },
  {
   "cell_type": "code",
   "execution_count": 6,
   "id": "d67b83c8",
   "metadata": {},
   "outputs": [
    {
     "name": "stdout",
     "output_type": "stream",
     "text": [
      "a배열의 행별 최소값: [2 1]\n",
      "a배열의 열별 최소값: [2 2 2 1]\n"
     ]
    }
   ],
   "source": [
    "print('a배열의 행별 최소값:', a.min(axis=1))\n",
    "print('a배열의 열별 최소값:', a.min(axis=0))"
   ]
  },
  {
   "cell_type": "code",
   "execution_count": null,
   "id": "7f072d40",
   "metadata": {},
   "outputs": [],
   "source": [
    "'''\n",
    "array([[2,2,2,4],\n",
    "      [4,3,2,1]])\n",
    "\n",
    "'''\n",
    "print('a배열의 행별 최대 값이 있는 index:',a.argmax(axis=1))"
   ]
  },
  {
   "cell_type": "code",
   "execution_count": null,
   "id": "c333c5cb",
   "metadata": {},
   "outputs": [],
   "source": [
    "# 누적합 \n",
    "\n",
    "print(a)\n",
    "print(a.cumsum(axis=1)) # 행별로 누적합 "
   ]
  },
  {
   "cell_type": "code",
   "execution_count": null,
   "id": "c2fe7188",
   "metadata": {},
   "outputs": [],
   "source": [
    "b = np.arange(24).reshape(2,3,4) # 2면 3행 4열짜리 3차원 배열\n",
    "b"
   ]
  },
  {
   "cell_type": "code",
   "execution_count": null,
   "id": "c262f905",
   "metadata": {},
   "outputs": [],
   "source": [
    "print('전체 요소의 합: ',b.sum())\n",
    "print('전체 요소의 표준편차: ',np.sqrt(b.var()))"
   ]
  },
  {
   "cell_type": "code",
   "execution_count": null,
   "id": "1ef6dc58",
   "metadata": {},
   "outputs": [],
   "source": [
    "b.sum(axis=0) # 면은 뺴고, 같은 행, 같은 열끼리 sum \n",
    "# 0면의 0행 0열 + 0면의 0열 1열 +..... "
   ]
  },
  {
   "cell_type": "markdown",
   "id": "2e1a9d73",
   "metadata": {},
   "source": [
    "## 2.7 그외 함수들 (난수 발생: 1차원 배열, 요소연산)"
   ]
  },
  {
   "cell_type": "code",
   "execution_count": null,
   "id": "1ae0b51b",
   "metadata": {},
   "outputs": [],
   "source": [
    "a = np.arange(3)\n",
    "a = np.sqrt(a)\n",
    "a\n",
    "\n",
    "import math \n",
    "\n",
    "# math.sqrt(a) -> 에러 발생. math.sqrt()는 스칼라 값 만을 인자값으로 받음 "
   ]
  },
  {
   "cell_type": "code",
   "execution_count": null,
   "id": "abda4208",
   "metadata": {},
   "outputs": [],
   "source": [
    "a = np.arange(3)\n",
    "b = np.array([10,11,12])\n",
    "a+b"
   ]
  },
  {
   "cell_type": "code",
   "execution_count": null,
   "id": "adb2e3af",
   "metadata": {},
   "outputs": [],
   "source": [
    "np.add(a,b)"
   ]
  },
  {
   "cell_type": "code",
   "execution_count": null,
   "id": "7543d5e1",
   "metadata": {},
   "outputs": [],
   "source": [
    "np.random.rand(5) # 0~1 미만의 난수 5개 발생 (균일 분포에서 난수)"
   ]
  },
  {
   "cell_type": "code",
   "execution_count": null,
   "id": "a8078b70",
   "metadata": {},
   "outputs": [],
   "source": [
    "np.random.randn(5) # 평균이 0이고 표준편차가 1인 정규분포에서 난수 5개 발생"
   ]
  },
  {
   "cell_type": "code",
   "execution_count": null,
   "id": "4ee9224c",
   "metadata": {},
   "outputs": [],
   "source": [
    "np.random.randint(5) # 0~5미만의 정수 난수 발생"
   ]
  },
  {
   "cell_type": "code",
   "execution_count": null,
   "id": "2fe2c210",
   "metadata": {},
   "outputs": [],
   "source": [
    "# rand() 가 균일 분포에서 난수 발생 확인 \n",
    "import matplotlib.pyplot as plt \n",
    "\n",
    "x = np.random.rand(1000) # 1000개의 균일 분포 생성 \n",
    "plt.hist(x, bins=100)\n",
    "plt.xlabel('x')\n",
    "plt.title('histogram of uniform dist')\n",
    "plt.show()"
   ]
  },
  {
   "cell_type": "code",
   "execution_count": null,
   "id": "732eb36f",
   "metadata": {},
   "outputs": [],
   "source": [
    "# randn() 가 표준 정규 분포에서 난수 발생 확인 \n",
    "import matplotlib.pyplot as plt \n",
    "\n",
    "x = np.random.randn(1000000) # 1000개의 균일 분포 생성 \n",
    "plt.hist(x, bins=1000)\n",
    "plt.xlabel('x')\n",
    "plt.title('histogram of normal dist')\n",
    "plt.show()"
   ]
  },
  {
   "cell_type": "code",
   "execution_count": null,
   "id": "874c41e3",
   "metadata": {},
   "outputs": [],
   "source": [
    "# 메모리 사용량과 속도 특정 (메모리 프로파일러)를 로드 하고 임의의 데이터 생성 후 + np.add 비교\n",
    "#  아나콘다 프롬포트에서 memroy_profiler 패키지 install\n",
    "\n",
    "A = np.random.randn(100000000)\n",
    "B = np.random.randn(100000000)\n",
    "C  = np.random.randn(100000000)"
   ]
  },
  {
   "cell_type": "code",
   "execution_count": null,
   "id": "f37d19ca",
   "metadata": {},
   "outputs": [],
   "source": [
    "# %%time : 셀을 실행할 때 소요시간 출력 -> 주석이 있는 셀과 같이 쓰면 실행안됨\n",
    "# %memit: 메모리 사용량 출력 \n",
    "%load_ext memory_profiler"
   ]
  },
  {
   "cell_type": "code",
   "execution_count": null,
   "id": "a32ce12c",
   "metadata": {},
   "outputs": [],
   "source": [
    "%%time\n",
    "%memit G = A*B+C\n",
    "print(G)"
   ]
  },
  {
   "cell_type": "code",
   "execution_count": null,
   "id": "e273f05f",
   "metadata": {},
   "outputs": [],
   "source": [
    "%%time\n",
    "%memit T = A*B; G = T+C; del T\n",
    "print(G)"
   ]
  },
  {
   "cell_type": "code",
   "execution_count": null,
   "id": "8d080008",
   "metadata": {},
   "outputs": [],
   "source": [
    "%%time\n",
    "%memit G = A*B; G +=C\n",
    "print(G)"
   ]
  },
  {
   "cell_type": "code",
   "execution_count": null,
   "id": "d05c11e6",
   "metadata": {},
   "outputs": [],
   "source": [
    "# np.add() 경우 배열 요소별 연산을 할 경우 메모리 절약 "
   ]
  },
  {
   "cell_type": "code",
   "execution_count": null,
   "id": "6957de87",
   "metadata": {},
   "outputs": [],
   "source": [
    "%%time\n",
    "%memit G = A*B; np.add(G,C,G)\n",
    "print(G)"
   ]
  },
  {
   "cell_type": "markdown",
   "id": "e6375bc4",
   "metadata": {},
   "source": [
    "## 2.8 브로드 캐스팅\n",
    "\n",
    "* 행수 또는 열수가 어느 정도 일치해야 브로드캐스팅이 이뤄짐"
   ]
  },
  {
   "cell_type": "code",
   "execution_count": null,
   "id": "9a68cd1f",
   "metadata": {},
   "outputs": [],
   "source": [
    "# 1차원 배열인 경우 \n",
    "\n",
    "a = np.array([1,2,3])\n",
    "b = 10\n",
    "\n",
    "np.add(a,b)"
   ]
  },
  {
   "cell_type": "code",
   "execution_count": null,
   "id": "95aecf2b",
   "metadata": {},
   "outputs": [],
   "source": [
    "# 2차원 배열인 경우 \n",
    "\n",
    "a = np.array([[0,0,0],\n",
    "              [10,10,10],\n",
    "              [20,20,20],\n",
    "              [30,30,30]])\n",
    "\n",
    "b = np.array([5,5,5])\n",
    "np.multiply(a,b)"
   ]
  },
  {
   "cell_type": "code",
   "execution_count": null,
   "id": "1600921d",
   "metadata": {},
   "outputs": [],
   "source": [
    "c = np.array([5,1])\n",
    "np.multiply(a,b)"
   ]
  },
  {
   "cell_type": "code",
   "execution_count": null,
   "id": "131b1fdd",
   "metadata": {},
   "outputs": [],
   "source": [
    "a = np.array([0,10,20,30])  # 1행 4열"
   ]
  },
  {
   "cell_type": "code",
   "execution_count": 20,
   "id": "1eda496b",
   "metadata": {},
   "outputs": [
    {
     "name": "stdout",
     "output_type": "stream",
     "text": [
      "[[[ 0  1  2  3]]\n",
      "\n",
      " [[ 4  5  6  7]]\n",
      "\n",
      " [[ 8  9 10 11]]]\n",
      "\n",
      "[1 2 3]\n"
     ]
    }
   ],
   "source": [
    "#newaxis 연산자 이용하여 배열에 새로운 축을 추가해서 2차원인 4행 1열로 변환 \n",
    "x = a[:,np.newaxis]\n",
    "print(x,end='\\n\\n') # 4행1열\n",
    "b = np.array([1,2,3]) # 1행 3열\n",
    "print(b)"
   ]
  },
  {
   "cell_type": "code",
   "execution_count": 21,
   "id": "546933c8",
   "metadata": {},
   "outputs": [
    {
     "name": "stdout",
     "output_type": "stream",
     "text": [
      "[[1]\n",
      " [2]\n",
      " [3]]\n"
     ]
    }
   ],
   "source": [
    "a = np.array( [1,2,3] )\n",
    "\n",
    "print(a[:, np.newaxis])"
   ]
  },
  {
   "cell_type": "code",
   "execution_count": null,
   "id": "ce0a647c",
   "metadata": {},
   "outputs": [],
   "source": [
    "result = np.add(x,b)\n",
    "result"
   ]
  },
  {
   "cell_type": "markdown",
   "id": "099be706",
   "metadata": {},
   "source": [
    "# 3절. 배열 합치기/분할하기"
   ]
  },
  {
   "cell_type": "code",
   "execution_count": 7,
   "id": "2f81a522",
   "metadata": {},
   "outputs": [
    {
     "data": {
      "text/plain": [
       "array([ 0,  3,  6,  9, 12, 15, 18, 21, 24, 27])"
      ]
     },
     "execution_count": 7,
     "metadata": {},
     "output_type": "execute_result"
    }
   ],
   "source": [
    "a = np.arange(10) *3\n",
    "a"
   ]
  },
  {
   "cell_type": "markdown",
   "id": "b2305abf",
   "metadata": {},
   "source": [
    "## 3.1 인덱싱과 슬라이싱"
   ]
  },
  {
   "cell_type": "code",
   "execution_count": 8,
   "id": "bb1d4f93",
   "metadata": {},
   "outputs": [
    {
     "data": {
      "text/plain": [
       "6"
      ]
     },
     "execution_count": 8,
     "metadata": {},
     "output_type": "execute_result"
    }
   ],
   "source": [
    "# 1) 인덱싱 \n",
    "\n",
    "a[2]"
   ]
  },
  {
   "cell_type": "code",
   "execution_count": 9,
   "id": "9923204e",
   "metadata": {},
   "outputs": [
    {
     "data": {
      "text/plain": [
       "27"
      ]
     },
     "execution_count": 9,
     "metadata": {},
     "output_type": "execute_result"
    }
   ],
   "source": [
    "a[-1]"
   ]
  },
  {
   "cell_type": "code",
   "execution_count": 10,
   "id": "159c7326",
   "metadata": {},
   "outputs": [
    {
     "data": {
      "text/plain": [
       "array([ 0,  6, 12, 18, 24])"
      ]
     },
     "execution_count": 10,
     "metadata": {},
     "output_type": "execute_result"
    }
   ],
   "source": [
    "# 2) 슬라이싱\n",
    "\n",
    "a[0:100:2] # 슬라이싱의 경우 벗어난 인덱스 값이어도 가능"
   ]
  },
  {
   "cell_type": "code",
   "execution_count": 11,
   "id": "7c8c26a5",
   "metadata": {},
   "outputs": [
    {
     "data": {
      "text/plain": [
       "array([-99,   3, -99,   9, -99,  15,  18,  21,  24,  27])"
      ]
     },
     "execution_count": 11,
     "metadata": {},
     "output_type": "execute_result"
    }
   ],
   "source": [
    "# 인덱스로 값 할당 \n",
    "\n",
    "a[:6:2] = -99\n",
    "a"
   ]
  },
  {
   "cell_type": "code",
   "execution_count": 12,
   "id": "96560234",
   "metadata": {},
   "outputs": [
    {
     "data": {
      "text/plain": [
       "array([[ 0,  1,  2,  3],\n",
       "       [ 4,  5,  6,  7],\n",
       "       [ 8,  9, 10, 11],\n",
       "       [12, 13, 14, 15],\n",
       "       [16, 17, 18, 19]])"
      ]
     },
     "execution_count": 12,
     "metadata": {},
     "output_type": "execute_result"
    }
   ],
   "source": [
    "# 3) 다차원 배열의 인덱싱 & 슬라이싱\n",
    "\n",
    "a = np.arange(20).reshape(5,4)\n",
    "a"
   ]
  },
  {
   "cell_type": "code",
   "execution_count": null,
   "id": "66342fbe",
   "metadata": {},
   "outputs": [],
   "source": [
    "a[2,2]"
   ]
  },
  {
   "cell_type": "code",
   "execution_count": 13,
   "id": "60a49fcd",
   "metadata": {},
   "outputs": [
    {
     "data": {
      "text/plain": [
       "array([ 3,  7, 11, 15, 19])"
      ]
     },
     "execution_count": 13,
     "metadata": {},
     "output_type": "execute_result"
    }
   ],
   "source": [
    "# 마지막 열들만 추출 : 1차원 array 반환 = list \n",
    "a[:,-1]"
   ]
  },
  {
   "cell_type": "code",
   "execution_count": 14,
   "id": "58b45f0d",
   "metadata": {},
   "outputs": [
    {
     "data": {
      "text/plain": [
       "array([ 3,  7, 11])"
      ]
     },
     "execution_count": 14,
     "metadata": {},
     "output_type": "execute_result"
    }
   ],
   "source": [
    "# 0~2행 까지의 마지막 열들만 \n",
    "\n",
    "a[0:3,-1]"
   ]
  },
  {
   "cell_type": "code",
   "execution_count": null,
   "id": "ede7fc9c",
   "metadata": {},
   "outputs": [],
   "source": [
    "# 모든행의 마지막 열을 제외한 데이터 추출 : 처음 부터 끝까지 마지막 열 전까지 \n",
    "\n",
    "a[:,:-1]"
   ]
  },
  {
   "cell_type": "code",
   "execution_count": null,
   "id": "b37e20c8",
   "metadata": {},
   "outputs": [],
   "source": [
    "# 0~4행만 추출 \n",
    "\n",
    "a[0:5,:] # 열을 생략하면 모든 열 "
   ]
  },
  {
   "cell_type": "code",
   "execution_count": null,
   "id": "89aec296",
   "metadata": {},
   "outputs": [],
   "source": [
    "a[0:3]"
   ]
  },
  {
   "cell_type": "code",
   "execution_count": null,
   "id": "a87d286f",
   "metadata": {},
   "outputs": [],
   "source": [
    "a[0:3,...] ## ... = 누락된 인덱스 전체"
   ]
  },
  {
   "cell_type": "code",
   "execution_count": null,
   "id": "26be9578",
   "metadata": {},
   "outputs": [],
   "source": [
    "a[..., -1] ## 전체행 마지막 열"
   ]
  },
  {
   "cell_type": "code",
   "execution_count": null,
   "id": "a328bcd4",
   "metadata": {},
   "outputs": [],
   "source": [
    "# 모든 행에 마지막열, 마지막 전열 추출 \n",
    "\n",
    "X = a[...,-1:-3:-1]\n",
    "X"
   ]
  },
  {
   "cell_type": "code",
   "execution_count": 22,
   "id": "6309950c",
   "metadata": {},
   "outputs": [
    {
     "data": {
      "text/plain": [
       "array([2, 3])"
      ]
     },
     "execution_count": 22,
     "metadata": {},
     "output_type": "execute_result"
    }
   ],
   "source": [
    "X = a[...,-2::]\n",
    "X"
   ]
  },
  {
   "cell_type": "markdown",
   "id": "95ae35a2",
   "metadata": {},
   "source": [
    "## 3.2 두 배열을 쌓아 합치기\n",
    "\n",
    "**vstack(tup) : 아래에 추가하는 방식으로 쌓아 함침 (= R의 rbind())**\n",
    "\n",
    "**hstack(tup) : 옆으로 추가하는 방식으로 합침 (=  R의 cbind())**\n",
    "\n",
    "**dstack(tup) : 마지막 축(열)을 쌓아 합침. 0열들끼리 쌓고, 1열끼리 쌓고**\n",
    "\n",
    "**column_stack(tup): 1차원 배열을 열 단위로 배열하여 2차원 배열로 합침**\n",
    "\n",
    "**row_stack(tup):  column_stack(tup)과 반대로 row단위로 합침**\n",
    "\n",
    "**stack(tup, axis=0): axis값에 따라 열 또는 행별로 배열을 합침**\n",
    "\n",
    "<b>r_\\[a,b,c\\], c_\\[a,b,c\\]: R의 rbind(), cbind()와 유사 </b>"
   ]
  },
  {
   "cell_type": "code",
   "execution_count": 15,
   "id": "ad76944f",
   "metadata": {},
   "outputs": [
    {
     "data": {
      "text/plain": [
       "array([[[ 0,  1,  2,  3],\n",
       "        [ 4,  5,  6,  7],\n",
       "        [ 8,  9, 10, 11]],\n",
       "\n",
       "       [[12, 13, 14, 15],\n",
       "        [16, 17, 18, 19],\n",
       "        [20, 21, 22, 23]]])"
      ]
     },
     "execution_count": 15,
     "metadata": {},
     "output_type": "execute_result"
    }
   ],
   "source": [
    "c = np.arange(24).reshape(2,3,4) # 2면 3행 4열\n",
    "c"
   ]
  },
  {
   "cell_type": "code",
   "execution_count": 16,
   "id": "b867c558",
   "metadata": {},
   "outputs": [
    {
     "name": "stdout",
     "output_type": "stream",
     "text": [
      "[[ 0  1  2  3]\n",
      " [ 4  5  6  7]\n",
      " [ 8  9 10 11]]\n",
      "[[12 13 14 15]\n",
      " [16 17 18 19]\n",
      " [20 21 22 23]]\n"
     ]
    }
   ],
   "source": [
    "a,b = c[0], c[1]\n",
    "print(a)\n",
    "print(b)"
   ]
  },
  {
   "cell_type": "code",
   "execution_count": 17,
   "id": "90b0f555",
   "metadata": {},
   "outputs": [
    {
     "data": {
      "text/plain": [
       "array([[ 0,  1,  2,  3],\n",
       "       [ 4,  5,  6,  7],\n",
       "       [ 8,  9, 10, 11],\n",
       "       [12, 13, 14, 15],\n",
       "       [16, 17, 18, 19],\n",
       "       [20, 21, 22, 23]])"
      ]
     },
     "execution_count": 17,
     "metadata": {},
     "output_type": "execute_result"
    }
   ],
   "source": [
    "np.vstack((a,b))"
   ]
  },
  {
   "cell_type": "code",
   "execution_count": 18,
   "id": "d74bf406",
   "metadata": {},
   "outputs": [
    {
     "data": {
      "text/plain": [
       "array([[ 0,  1,  2,  3, 12, 13, 14, 15],\n",
       "       [ 4,  5,  6,  7, 16, 17, 18, 19],\n",
       "       [ 8,  9, 10, 11, 20, 21, 22, 23]])"
      ]
     },
     "execution_count": 18,
     "metadata": {},
     "output_type": "execute_result"
    }
   ],
   "source": [
    "np.hstack((a,b))"
   ]
  },
  {
   "cell_type": "code",
   "execution_count": 19,
   "id": "67d4c5a7",
   "metadata": {},
   "outputs": [
    {
     "data": {
      "text/plain": [
       "array([[[ 0, 12],\n",
       "        [ 1, 13],\n",
       "        [ 2, 14],\n",
       "        [ 3, 15]],\n",
       "\n",
       "       [[ 4, 16],\n",
       "        [ 5, 17],\n",
       "        [ 6, 18],\n",
       "        [ 7, 19]],\n",
       "\n",
       "       [[ 8, 20],\n",
       "        [ 9, 21],\n",
       "        [10, 22],\n",
       "        [11, 23]]])"
      ]
     },
     "execution_count": 19,
     "metadata": {},
     "output_type": "execute_result"
    }
   ],
   "source": [
    "np.dstack((a,b)) # 열들끼리 쌓아서 면을 생성 "
   ]
  },
  {
   "cell_type": "code",
   "execution_count": 20,
   "id": "a101ed4d",
   "metadata": {},
   "outputs": [
    {
     "data": {
      "text/plain": [
       "array([[ 1,  5,  9],\n",
       "       [ 2,  6, 10],\n",
       "       [ 3,  7, 11],\n",
       "       [ 4,  8, 12]])"
      ]
     },
     "execution_count": 20,
     "metadata": {},
     "output_type": "execute_result"
    }
   ],
   "source": [
    "# column_stack(a,b,c): a,b,c 각 리스트를 열별로 합쳐서 하나의 array를 만듬\n",
    "a = np.array([1,2,3,4])\n",
    "b = np.array([5,6,7,8])\n",
    "c = np.array([9,10,11,12])\n",
    "\n",
    "np.column_stack((a,b,c))"
   ]
  },
  {
   "cell_type": "code",
   "execution_count": 21,
   "id": "565415c3",
   "metadata": {},
   "outputs": [
    {
     "data": {
      "text/plain": [
       "array([[ 1,  5,  9],\n",
       "       [ 2,  6, 10],\n",
       "       [ 3,  7, 11],\n",
       "       [ 4,  8, 12]])"
      ]
     },
     "execution_count": 21,
     "metadata": {},
     "output_type": "execute_result"
    }
   ],
   "source": [
    "# column_stack() 안쓰고 합치기\n",
    "x = a[:,np.newaxis]\n",
    "y = b[:,np.newaxis]\n",
    "z = c[:,np.newaxis]\n",
    "\n",
    "np.hstack((x,y,z))"
   ]
  },
  {
   "cell_type": "code",
   "execution_count": 22,
   "id": "ff19436a",
   "metadata": {},
   "outputs": [
    {
     "data": {
      "text/plain": [
       "array([[ 1,  2,  3,  4],\n",
       "       [ 5,  6,  7,  8],\n",
       "       [ 9, 10, 11, 12]])"
      ]
     },
     "execution_count": 22,
     "metadata": {},
     "output_type": "execute_result"
    }
   ],
   "source": [
    "np.row_stack((a,b,c))"
   ]
  },
  {
   "cell_type": "code",
   "execution_count": 26,
   "id": "c0525d64",
   "metadata": {},
   "outputs": [
    {
     "name": "stdout",
     "output_type": "stream",
     "text": [
      "[[ 0  1  2  3]\n",
      " [ 4  5  6  7]\n",
      " [ 8  9 10 11]]\n",
      "[[12 13 14 15]\n",
      " [16 17 18 19]\n",
      " [20 21 22 23]]\n"
     ]
    }
   ],
   "source": [
    "a = np.arange(12).reshape(3,4)\n",
    "b = np.arange(12,24).reshape(3,4)\n",
    "\n",
    "print(a)\n",
    "print(b)"
   ]
  },
  {
   "cell_type": "code",
   "execution_count": 23,
   "id": "024788fe",
   "metadata": {},
   "outputs": [
    {
     "data": {
      "text/plain": [
       "array([[[ 0,  1,  2,  3],\n",
       "        [ 4,  5,  6,  7],\n",
       "        [ 8,  9, 10, 11]],\n",
       "\n",
       "       [[12, 13, 14, 15],\n",
       "        [16, 17, 18, 19],\n",
       "        [20, 21, 22, 23]]])"
      ]
     },
     "execution_count": 23,
     "metadata": {},
     "output_type": "execute_result"
    }
   ],
   "source": [
    "# np.stack(tup, axis): axis=0이면 첫번째 차원 으로 합침, axis=1이면 두번째 차원으로 합침\n",
    "\n",
    "a = np.arange(12).reshape(3,4)\n",
    "b = np.arange(12,24).reshape(3,4)\n",
    "\n",
    "np.stack((a,b),axis=0) # 각 행렬 당 하나의 면을 이룸"
   ]
  },
  {
   "cell_type": "code",
   "execution_count": 24,
   "id": "33e5dc61",
   "metadata": {},
   "outputs": [
    {
     "data": {
      "text/plain": [
       "array([[[ 0,  1,  2,  3],\n",
       "        [12, 13, 14, 15]],\n",
       "\n",
       "       [[ 4,  5,  6,  7],\n",
       "        [16, 17, 18, 19]],\n",
       "\n",
       "       [[ 8,  9, 10, 11],\n",
       "        [20, 21, 22, 23]]])"
      ]
     },
     "execution_count": 24,
     "metadata": {},
     "output_type": "execute_result"
    }
   ],
   "source": [
    "np.stack((a,b),axis=1) # 각 행끼리 합쳐서 면을 이룸"
   ]
  },
  {
   "cell_type": "code",
   "execution_count": 25,
   "id": "82441705",
   "metadata": {},
   "outputs": [
    {
     "data": {
      "text/plain": [
       "array([[[ 0, 12],\n",
       "        [ 1, 13],\n",
       "        [ 2, 14],\n",
       "        [ 3, 15]],\n",
       "\n",
       "       [[ 4, 16],\n",
       "        [ 5, 17],\n",
       "        [ 6, 18],\n",
       "        [ 7, 19]],\n",
       "\n",
       "       [[ 8, 20],\n",
       "        [ 9, 21],\n",
       "        [10, 22],\n",
       "        [11, 23]]])"
      ]
     },
     "execution_count": 25,
     "metadata": {},
     "output_type": "execute_result"
    }
   ],
   "source": [
    "np.stack((a,b),axis=2) # 각 열끼리 합쳐서 면을 이룸"
   ]
  },
  {
   "cell_type": "code",
   "execution_count": 26,
   "id": "2eecce4a",
   "metadata": {},
   "outputs": [],
   "source": [
    "a = np.arange(12)\n",
    "b = np.arange(12,24)\n",
    "c = np.arange(24,36)"
   ]
  },
  {
   "cell_type": "code",
   "execution_count": 27,
   "id": "3ab24ff3",
   "metadata": {},
   "outputs": [
    {
     "data": {
      "text/plain": [
       "array([[ 0,  1,  2,  3,  4,  5,  6,  7,  8,  9, 10, 11],\n",
       "       [12, 13, 14, 15, 16, 17, 18, 19, 20, 21, 22, 23],\n",
       "       [24, 25, 26, 27, 28, 29, 30, 31, 32, 33, 34, 35]])"
      ]
     },
     "execution_count": 27,
     "metadata": {},
     "output_type": "execute_result"
    }
   ],
   "source": [
    "np.r_[[a],[b],[c]] #np.r_[a,b,c] : 이렇게 하면 그냥 한줄안에 다 쌓아버림"
   ]
  },
  {
   "cell_type": "code",
   "execution_count": 28,
   "id": "af57ecc3",
   "metadata": {},
   "outputs": [
    {
     "data": {
      "text/plain": [
       "array([[ 0, 12, 24],\n",
       "       [ 1, 13, 25],\n",
       "       [ 2, 14, 26],\n",
       "       [ 3, 15, 27],\n",
       "       [ 4, 16, 28],\n",
       "       [ 5, 17, 29],\n",
       "       [ 6, 18, 30],\n",
       "       [ 7, 19, 31],\n",
       "       [ 8, 20, 32],\n",
       "       [ 9, 21, 33],\n",
       "       [10, 22, 34],\n",
       "       [11, 23, 35]])"
      ]
     },
     "execution_count": 28,
     "metadata": {},
     "output_type": "execute_result"
    }
   ],
   "source": [
    "np.c_[a,b,c]"
   ]
  },
  {
   "cell_type": "code",
   "execution_count": 1,
   "id": "6b53afc7",
   "metadata": {},
   "outputs": [
    {
     "data": {
      "text/plain": [
       "array([[ 0,  1,  2,  3],\n",
       "       [ 4,  5,  6,  7],\n",
       "       [ 8,  9, 10, 11]])"
      ]
     },
     "execution_count": 1,
     "metadata": {},
     "output_type": "execute_result"
    }
   ],
   "source": [
    "a = np.arange(12).reshape(3,4)\n",
    "a"
   ]
  },
  {
   "cell_type": "markdown",
   "id": "00a12a39",
   "metadata": {},
   "source": [
    "## 3.3 배열 분리하기\n",
    "\n",
    "**vsplit(array, 분할기준 인덱스 or 분할갯수): 첫번째 축(2차원의 경우 가로축)을 따라 분할**\n",
    "\n",
    "**hsplit(array, 분할기준 인덱스 or 분할갯수): 두번째 축(2차원의 경우 세로축)을 따라 분할**\n",
    "\n",
    "**dsplit(array, 분할기준 인덱스 or 분할갯수): 3번째 축(3차원의 경우 면)을 따라 분할**\n",
    "\n",
    "    <p>분할기준 인덱스 : 리스트 값으로 입력. [3,6] -> 0~3, 3~6, 6~ 번째 데이터들로 분리.</p>\n",
    "    <p>분할 갯수로 분리: 정수값 n 을 입력받음 -> n개의 섹션으로 나눔</p>\n",
    "    \n",
    "**split(array, 분할기준 인덱스 or 분할갯수, axis=?): axis=0이면 vsplit, axis=1이면 hsplit, axis=2이면 dsplit**\n",
    "\n",
    "**array_split(array, 분할기준 인덱스 or 분할갯수, axis=?): split과 동일하지만, section 수가 정확히 동일하게 갯수가 분할 되지 않아도 섹션 수로 split 가능** "
   ]
  },
  {
   "cell_type": "code",
   "execution_count": 32,
   "id": "666277e7",
   "metadata": {},
   "outputs": [
    {
     "data": {
      "text/plain": [
       "array([[ 0,  1,  2,  3],\n",
       "       [ 4,  5,  6,  7],\n",
       "       [ 8,  9, 10, 11]])"
      ]
     },
     "execution_count": 32,
     "metadata": {},
     "output_type": "execute_result"
    }
   ],
   "source": [
    "a = np.arange(12).reshape(3,4)\n",
    "a"
   ]
  },
  {
   "cell_type": "code",
   "execution_count": 33,
   "id": "7a033dd3",
   "metadata": {},
   "outputs": [
    {
     "data": {
      "text/plain": [
       "[array([[0, 1, 2, 3]]), array([[4, 5, 6, 7]]), array([[ 8,  9, 10, 11]])]"
      ]
     },
     "execution_count": 33,
     "metadata": {},
     "output_type": "execute_result"
    }
   ],
   "source": [
    "a_vsplit = np.split(a,3) # 세로 축을 따라 3개의 array으로 분리 \n",
    "a_vsplit # 첫번째 축을 분할한다 (3차원일 경우 = 면을 기준으로 분리)"
   ]
  },
  {
   "cell_type": "code",
   "execution_count": 34,
   "id": "fd1d65cc",
   "metadata": {},
   "outputs": [
    {
     "data": {
      "text/plain": [
       "[array([[0, 1, 2, 3],\n",
       "        [4, 5, 6, 7]]),\n",
       " array([[ 8,  9, 10, 11]])]"
      ]
     },
     "execution_count": 34,
     "metadata": {},
     "output_type": "execute_result"
    }
   ],
   "source": [
    "np.vsplit(a,[2]) ## 2번째 리스트"
   ]
  },
  {
   "cell_type": "code",
   "execution_count": 4,
   "id": "9fa403c3",
   "metadata": {},
   "outputs": [
    {
     "data": {
      "text/plain": [
       "[array([[0, 1, 2, 3]]), array([[4, 5, 6, 7]]), array([[ 8,  9, 10, 11]])]"
      ]
     },
     "execution_count": 4,
     "metadata": {},
     "output_type": "execute_result"
    }
   ],
   "source": [
    "np.vsplit(a,[1,2]) # 1,2번 인덱스 기준으로 3개 배열로 분할 "
   ]
  },
  {
   "cell_type": "code",
   "execution_count": 35,
   "id": "3b0556dd",
   "metadata": {},
   "outputs": [
    {
     "data": {
      "text/plain": [
       "[array([[0, 1],\n",
       "        [4, 5],\n",
       "        [8, 9]]),\n",
       " array([[ 2,  3],\n",
       "        [ 6,  7],\n",
       "        [10, 11]])]"
      ]
     },
     "execution_count": 35,
     "metadata": {},
     "output_type": "execute_result"
    }
   ],
   "source": [
    "np.hsplit(a,2) # 세로로 2개로 나눔"
   ]
  },
  {
   "cell_type": "code",
   "execution_count": 36,
   "id": "7906f9ef",
   "metadata": {},
   "outputs": [
    {
     "data": {
      "text/plain": [
       "array([[[ 0,  1,  2,  3],\n",
       "        [ 4,  5,  6,  7],\n",
       "        [ 8,  9, 10, 11]],\n",
       "\n",
       "       [[12, 13, 14, 15],\n",
       "        [16, 17, 18, 19],\n",
       "        [20, 21, 22, 23]]])"
      ]
     },
     "execution_count": 36,
     "metadata": {},
     "output_type": "execute_result"
    }
   ],
   "source": [
    "b = np.arange(24).reshape(2,3,4)\n",
    "b"
   ]
  },
  {
   "cell_type": "code",
   "execution_count": 37,
   "id": "1aff0e8d",
   "metadata": {},
   "outputs": [
    {
     "data": {
      "text/plain": [
       "[array([[[ 0,  1,  2,  3],\n",
       "         [ 4,  5,  6,  7],\n",
       "         [ 8,  9, 10, 11]]]),\n",
       " array([[[12, 13, 14, 15],\n",
       "         [16, 17, 18, 19],\n",
       "         [20, 21, 22, 23]]])]"
      ]
     },
     "execution_count": 37,
     "metadata": {},
     "output_type": "execute_result"
    }
   ],
   "source": [
    "np.vsplit(b,2) # 첫번째 축을 분할 "
   ]
  },
  {
   "cell_type": "code",
   "execution_count": 38,
   "id": "c2160fc2",
   "metadata": {},
   "outputs": [
    {
     "data": {
      "text/plain": [
       "[array([[[ 0,  1,  2,  3]],\n",
       " \n",
       "        [[12, 13, 14, 15]]]),\n",
       " array([[[ 4,  5,  6,  7]],\n",
       " \n",
       "        [[16, 17, 18, 19]]]),\n",
       " array([[[ 8,  9, 10, 11]],\n",
       " \n",
       "        [[20, 21, 22, 23]]])]"
      ]
     },
     "execution_count": 38,
     "metadata": {},
     "output_type": "execute_result"
    }
   ],
   "source": [
    "np.hsplit(b,3) "
   ]
  },
  {
   "cell_type": "code",
   "execution_count": 39,
   "id": "735a4f68",
   "metadata": {},
   "outputs": [
    {
     "data": {
      "text/plain": [
       "(2, 1, 4)"
      ]
     },
     "execution_count": 39,
     "metadata": {},
     "output_type": "execute_result"
    }
   ],
   "source": [
    "np.hsplit(b,3)[0].shape"
   ]
  },
  {
   "cell_type": "code",
   "execution_count": 40,
   "id": "7d802844",
   "metadata": {},
   "outputs": [
    {
     "data": {
      "text/plain": [
       "[array([[[ 0,  1],\n",
       "         [ 4,  5],\n",
       "         [ 8,  9]],\n",
       " \n",
       "        [[12, 13],\n",
       "         [16, 17],\n",
       "         [20, 21]]]),\n",
       " array([[[ 2,  3],\n",
       "         [ 6,  7],\n",
       "         [10, 11]],\n",
       " \n",
       "        [[14, 15],\n",
       "         [18, 19],\n",
       "         [22, 23]]])]"
      ]
     },
     "execution_count": 40,
     "metadata": {},
     "output_type": "execute_result"
    }
   ],
   "source": [
    "np.dsplit(b,2) ## 3번째 축(열) 기준으로 2개 섹션으로 나눔"
   ]
  },
  {
   "cell_type": "code",
   "execution_count": 41,
   "id": "368bf7e1",
   "metadata": {},
   "outputs": [
    {
     "data": {
      "text/plain": [
       "array([[ 0,  1,  2,  3,  4,  5,  6,  7,  8,  9],\n",
       "       [10, 11, 12, 13, 14, 15, 16, 17, 18, 19]])"
      ]
     },
     "execution_count": 41,
     "metadata": {},
     "output_type": "execute_result"
    }
   ],
   "source": [
    "a = np.arange(20).reshape(2,10)\n",
    "a"
   ]
  },
  {
   "cell_type": "code",
   "execution_count": 42,
   "id": "df37f367",
   "metadata": {},
   "outputs": [
    {
     "data": {
      "text/plain": [
       "[array([[0, 1, 2, 3, 4, 5, 6, 7, 8, 9]]),\n",
       " array([[10, 11, 12, 13, 14, 15, 16, 17, 18, 19]])]"
      ]
     },
     "execution_count": 42,
     "metadata": {},
     "output_type": "execute_result"
    }
   ],
   "source": [
    "np.split(a,2,axis=0) # np.vsplit()과 동일"
   ]
  },
  {
   "cell_type": "code",
   "execution_count": 43,
   "id": "b5e3b6de",
   "metadata": {},
   "outputs": [
    {
     "data": {
      "text/plain": [
       "[array([[ 0,  1,  2,  3,  4],\n",
       "        [10, 11, 12, 13, 14]]),\n",
       " array([[ 5,  6,  7,  8,  9],\n",
       "        [15, 16, 17, 18, 19]])]"
      ]
     },
     "execution_count": 43,
     "metadata": {},
     "output_type": "execute_result"
    }
   ],
   "source": [
    "np.split(a,2,axis=1) # np.hsplit()과 동일"
   ]
  },
  {
   "cell_type": "code",
   "execution_count": 44,
   "id": "43f0c48f",
   "metadata": {},
   "outputs": [
    {
     "data": {
      "text/plain": [
       "[array([[ 0,  1,  2,  3],\n",
       "        [10, 11, 12, 13]]),\n",
       " array([[ 4,  5,  6],\n",
       "        [14, 15, 16]]),\n",
       " array([[ 7,  8,  9],\n",
       "        [17, 18, 19]])]"
      ]
     },
     "execution_count": 44,
     "metadata": {},
     "output_type": "execute_result"
    }
   ],
   "source": [
    "np.array_split(a,3,axis=1) # 딱 맞아 떨어지지 않는 정수로도 섹션 갯수로 분할 가능"
   ]
  },
  {
   "cell_type": "code",
   "execution_count": null,
   "id": "1303f2a2",
   "metadata": {},
   "outputs": [],
   "source": []
  }
 ],
 "metadata": {
  "kernelspec": {
   "display_name": "Python 3",
   "language": "python",
   "name": "python3"
  },
  "language_info": {
   "codemirror_mode": {
    "name": "ipython",
    "version": 3
   },
   "file_extension": ".py",
   "mimetype": "text/x-python",
   "name": "python",
   "nbconvert_exporter": "python",
   "pygments_lexer": "ipython3",
   "version": "3.8.8"
  },
  "toc": {
   "base_numbering": 1,
   "nav_menu": {},
   "number_sections": false,
   "sideBar": true,
   "skip_h1_title": false,
   "title_cell": "Table of Contents",
   "title_sidebar": "Contents",
   "toc_cell": false,
   "toc_position": {},
   "toc_section_display": true,
   "toc_window_display": true
  },
  "varInspector": {
   "cols": {
    "lenName": 16,
    "lenType": 16,
    "lenVar": 40
   },
   "kernels_config": {
    "python": {
     "delete_cmd_postfix": "",
     "delete_cmd_prefix": "del ",
     "library": "var_list.py",
     "varRefreshCmd": "print(var_dic_list())"
    },
    "r": {
     "delete_cmd_postfix": ") ",
     "delete_cmd_prefix": "rm(",
     "library": "var_list.r",
     "varRefreshCmd": "cat(var_dic_list()) "
    }
   },
   "types_to_exclude": [
    "module",
    "function",
    "builtin_function_or_method",
    "instance",
    "_Feature"
   ],
   "window_display": false
  }
 },
 "nbformat": 4,
 "nbformat_minor": 5
}
