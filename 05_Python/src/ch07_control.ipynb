{
 "cells": [
  {
   "cell_type": "markdown",
   "id": "5f0fa7fa",
   "metadata": {},
   "source": [
    "<b><font size=6 color='green'>ch06. 제어문</font>"
   ]
  },
  {
   "cell_type": "markdown",
   "id": "c9ef49cf",
   "metadata": {},
   "source": [
    "* if문, for-in문, while문, 중첩가능, 중첩루프 아예 탈출하기"
   ]
  },
  {
   "cell_type": "markdown",
   "id": "b7c2bdc8",
   "metadata": {},
   "source": [
    "## 1절. 조건문 (if)"
   ]
  },
  {
   "cell_type": "code",
   "execution_count": 5,
   "id": "35a1f05c",
   "metadata": {},
   "outputs": [
    {
     "name": "stdout",
     "output_type": "stream",
     "text": [
      "Enter your score >95\n",
      "입력하신 점수는 95점이고, A등급\n"
     ]
    }
   ],
   "source": [
    "# 점수를 입력 받아 학점을 출력 (A,B,C,D,F, 유효하지 않는 점수)\n",
    "\n",
    "score = int(input('Enter your score >'))\n",
    "\n",
    "## 파이썬에서는 논리연산자가 비교연산자보다 우선순위가 높으므로 꼭 ()로 비교연산자를 감싸줄것  \n",
    "if (score >=90) & (score<=100):\n",
    "    grade='A'\n",
    "elif 80 <= score < 90:\n",
    "    grade='B'\n",
    "elif 70<= score <80:\n",
    "    grade='C'\n",
    "elif 60<= score <70:\n",
    "    grade='D'\n",
    "elif 0<= score <60:\n",
    "    grade='F'\n",
    "else: \n",
    "    grade='유효하지 않은 점수'\n",
    "    \n",
    "print('입력하신 점수는 {}점이고, {}등급'.format(score,grade))"
   ]
  },
  {
   "cell_type": "code",
   "execution_count": 4,
   "id": "e099ea8f",
   "metadata": {},
   "outputs": [
    {
     "name": "stdout",
     "output_type": "stream",
     "text": [
      "분발하시오\n"
     ]
    }
   ],
   "source": [
    "if score >= 90:\n",
    "     print('참 잘했어요')\n",
    "else: \n",
    "    print('분발하시오')"
   ]
  },
  {
   "cell_type": "markdown",
   "id": "f62bae67",
   "metadata": {},
   "source": [
    "## 2절. 반복문"
   ]
  },
  {
   "cell_type": "markdown",
   "id": "46efc458",
   "metadata": {},
   "source": [
    "### 2.1 for문 \n",
    "```\n",
    "for 변수 in 나열 가능한 자료:\n",
    "    반복할 문장1\n",
    "    반복할 문장2\n",
    "else:\n",
    "    변수에 값이 할당되지 않은 경우 한번 실행할 문장(else 구문은 선택사항) \n",
    "```"
   ]
  },
  {
   "cell_type": "code",
   "execution_count": 6,
   "id": "7d5c3178",
   "metadata": {},
   "outputs": [
    {
     "name": "stdout",
     "output_type": "stream",
     "text": [
      "1\t3\t5\t7\t9\t\tDONE\n"
     ]
    }
   ],
   "source": [
    "for i in range(1,10,2):\n",
    "    print(i, end='\\t')\n",
    "else:\n",
    "    print('\\tDONE')"
   ]
  },
  {
   "cell_type": "markdown",
   "id": "f402a87a",
   "metadata": {},
   "source": [
    "### 2.2 while문\n",
    "\n",
    "``` \n",
    "while 조건: \n",
    "    반복할 문장1\n",
    "    반복할 문장2\n",
    "else:\n",
    "    조건이 거짓일 경우 한번 실행할 문장\n",
    "```"
   ]
  },
  {
   "cell_type": "code",
   "execution_count": 8,
   "id": "731da1dc",
   "metadata": {},
   "outputs": [
    {
     "name": "stdout",
     "output_type": "stream",
     "text": [
      "짝수들의 총합은:  2550\n"
     ]
    }
   ],
   "source": [
    "## 1 부터 100까지 짝수의 합을 계산하고 출력하기 \n",
    "\n",
    "i = 1 \n",
    "sum = 0\n",
    "\n",
    "while i <=100:\n",
    "    if i%2 ==0:\n",
    "        sum +=i\n",
    "    i +=1\n",
    "else:\n",
    "    pass # 아무 것도 하지 않고 그냥 넘어가기 \n",
    "\n",
    "print('짝수들의 총합은: ',sum)"
   ]
  },
  {
   "cell_type": "markdown",
   "id": "959883ec",
   "metadata": {},
   "source": [
    "### 2.3 break, continue "
   ]
  },
  {
   "cell_type": "code",
   "execution_count": 12,
   "id": "70c4595d",
   "metadata": {},
   "outputs": [
    {
     "name": "stdout",
     "output_type": "stream",
     "text": [
      "3 10 "
     ]
    }
   ],
   "source": [
    "num =0 \n",
    "\n",
    "while num < 10:\n",
    "    num +=1\n",
    "    if num==3:\n",
    "        break;\n",
    "\n",
    "print(num, end=' ')\n",
    "\n",
    "while num < 10:\n",
    "    num +=1\n",
    "    if num==3:\n",
    "        continue;\n",
    "\n",
    "print(num, end=' ')"
   ]
  },
  {
   "cell_type": "code",
   "execution_count": 16,
   "id": "b8cb648e",
   "metadata": {},
   "outputs": [
    {
     "name": "stdout",
     "output_type": "stream",
     "text": [
      "임의의 정수를 입력하세요: 12\n",
      "UP\n",
      "임의의 정수를 입력하세요: 13\n",
      "UP\n",
      "임의의 정수를 입력하세요: 20\n",
      "UP\n",
      "임의의 정수를 입력하세요: 40\n",
      "DOWN\n",
      "임의의 정수를 입력하세요: 30\n",
      "DOWN\n",
      "임의의 정수를 입력하세요: 25\n",
      "DOWN\n",
      "임의의 정수를 입력하세요: 22\n",
      "정답을 맞추었습니다\n"
     ]
    }
   ],
   "source": [
    "# 숫자 찾기 게임 \n",
    "'''\n",
    "1 ~100 사이의 정수를 맞추는 프로그램을 구현하시오 \n",
    "(프로그램 안에서 임의의 숫자가 만들어지고, 그 숫자를 맞추도록 합니다)\n",
    "\n",
    "방법1. 숫자가 틀리면 UP, DOWN을 알려주고 숫자를 맞추면 프로그램 종료합니다 \n",
    "방법2. 숫자가 틀리면 min~max 사이의 수라고 알려주고 숫자를 맞추면 종료합니다 \n",
    "'''\n",
    "\n",
    "import random\n",
    "\n",
    "random.seed(21)\n",
    "answer = random.randint(1,100)\n",
    "input_num=-1\n",
    "while answer != input_num:\n",
    "    input_num = int(input('임의의 정수를 입력하세요: '))\n",
    "    if answer > input_num:\n",
    "        print('UP')\n",
    "        continue\n",
    "    elif answer < input_num:\n",
    "        print('DOWN')\n",
    "        continue\n",
    "\n",
    "print('정답을 맞추었습니다')"
   ]
  },
  {
   "cell_type": "code",
   "execution_count": 28,
   "id": "0980c911",
   "metadata": {},
   "outputs": [
    {
     "name": "stdout",
     "output_type": "stream",
     "text": [
      "22\n",
      "1 ~ 100의 임의의 정수를 입력하세요: 14\n",
      "15 ~ 100의 임의의 정수를 입력하세요: 20\n",
      "21 ~ 100의 임의의 정수를 입력하세요: 23\n",
      "21 ~ 22의 임의의 정수를 입력하세요: 21\n",
      "22 ~ 22의 임의의 정수를 입력하세요: 22\n",
      "정답을 맞추었습니다\n"
     ]
    }
   ],
   "source": [
    "random.seed(21)\n",
    "answer = random.randint(1,100)\n",
    "input_num=-1\n",
    "min_num = 1\n",
    "max_num = 100\n",
    "print(answer)\n",
    "while answer != input_num:\n",
    "    \n",
    "    input_num = int(input('{} ~ {}의 임의의 정수를 입력하세요: '.format(min_num,max_num)))\n",
    "    if input_num < answer:\n",
    "        min_num = input_num+1\n",
    "        continue\n",
    "    elif input_num > answer:\n",
    "        max_num = input_num-1\n",
    "        continue\n",
    "\n",
    "print('정답을 맞추었습니다')"
   ]
  },
  {
   "cell_type": "markdown",
   "id": "09bc80f2",
   "metadata": {},
   "source": [
    "### 2.4 중첩루프: 반복문안에 반복문"
   ]
  },
  {
   "cell_type": "code",
   "execution_count": 29,
   "id": "db5b6acc",
   "metadata": {
    "scrolled": true
   },
   "outputs": [
    {
     "name": "stdout",
     "output_type": "stream",
     "text": [
      "0 1\n",
      "0 2\n",
      "2 1\n"
     ]
    }
   ],
   "source": [
    "#  이 예제에서의 break는 안 쪽 반복문만 빠져나옴 \n",
    "\n",
    "for a in range(3):  #a -> 0,1,2\n",
    "    for b in range(1,3): #b -> 1,2 \n",
    "        if a==b:\n",
    "            break \n",
    "        print(a,b)"
   ]
  },
  {
   "cell_type": "code",
   "execution_count": 30,
   "id": "7f1c7fad",
   "metadata": {},
   "outputs": [
    {
     "name": "stdout",
     "output_type": "stream",
     "text": [
      "0 1\n",
      "0 2\n"
     ]
    }
   ],
   "source": [
    "# break를 만나면 바깥쪽 반복문을 탈출: 방법1. 플래그 변수이용, \n",
    "\n",
    "break_out_flag = False\n",
    "\n",
    "for a in range(3):  #a -> 0,1,2\n",
    "    for b in range(1,3): #b -> 1,2 \n",
    "        if a==b:\n",
    "            break_out_flag = True\n",
    "            break \n",
    "        print(a,b)\n",
    "    if break_out_flag:\n",
    "        break"
   ]
  },
  {
   "cell_type": "code",
   "execution_count": 31,
   "id": "5b754766",
   "metadata": {},
   "outputs": [],
   "source": [
    "# break를 만나면 바깥쪽 반복문을 탈출: 방법2. 예외 처리 이용(Exception),\n",
    "\n",
    "class BreakOutLoop(Exception):        ## Exception 클래스를 상속받음 (Exception)\n",
    "    pass ## 아무것도 추가하지 않을 때 공백이 아니라 pass 적음"
   ]
  },
  {
   "cell_type": "code",
   "execution_count": 37,
   "id": "ac27c143",
   "metadata": {},
   "outputs": [
    {
     "name": "stdout",
     "output_type": "stream",
     "text": [
      "0 1\n",
      "0 2\n",
      "a와b가 같아지면 예외를 발생하고 이 메세지 뿌리고 끝\n"
     ]
    }
   ],
   "source": [
    "try:\n",
    "    for a in range(3):\n",
    "        for b in range(1,3):\n",
    "            if a==b:\n",
    "                raise BreakOutLoop\n",
    "            print(a,b)\n",
    "except BreakOutLoop:\n",
    "        print('a와b가 같아지면 예외를 발생하고 이 메세지 뿌리고 끝')"
   ]
  }
 ],
 "metadata": {
  "kernelspec": {
   "display_name": "Python 3",
   "language": "python",
   "name": "python3"
  },
  "language_info": {
   "codemirror_mode": {
    "name": "ipython",
    "version": 3
   },
   "file_extension": ".py",
   "mimetype": "text/x-python",
   "name": "python",
   "nbconvert_exporter": "python",
   "pygments_lexer": "ipython3",
   "version": "3.8.8"
  },
  "toc": {
   "base_numbering": 1,
   "nav_menu": {},
   "number_sections": false,
   "sideBar": true,
   "skip_h1_title": false,
   "title_cell": "Table of Contents",
   "title_sidebar": "Contents",
   "toc_cell": false,
   "toc_position": {
    "height": "calc(100% - 180px)",
    "left": "10px",
    "top": "150px",
    "width": "383.976px"
   },
   "toc_section_display": true,
   "toc_window_display": true
  },
  "varInspector": {
   "cols": {
    "lenName": 16,
    "lenType": 16,
    "lenVar": 40
   },
   "kernels_config": {
    "python": {
     "delete_cmd_postfix": "",
     "delete_cmd_prefix": "del ",
     "library": "var_list.py",
     "varRefreshCmd": "print(var_dic_list())"
    },
    "r": {
     "delete_cmd_postfix": ") ",
     "delete_cmd_prefix": "rm(",
     "library": "var_list.r",
     "varRefreshCmd": "cat(var_dic_list()) "
    }
   },
   "types_to_exclude": [
    "module",
    "function",
    "builtin_function_or_method",
    "instance",
    "_Feature"
   ],
   "window_display": false
  }
 },
 "nbformat": 4,
 "nbformat_minor": 5
}
