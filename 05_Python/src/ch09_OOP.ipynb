{
 "cells": [
  {
   "cell_type": "markdown",
   "id": "016f47ee",
   "metadata": {},
   "source": [
    "# ch09. 객체지향 프로그래밍"
   ]
  },
  {
   "cell_type": "markdown",
   "id": "ff9a2fec",
   "metadata": {},
   "source": [
    "## 1. 객체와 클래스"
   ]
  },
  {
   "cell_type": "code",
   "execution_count": 5,
   "id": "13d0ce76",
   "metadata": {},
   "outputs": [],
   "source": [
    "## static 변수 및 static 메소드 정의\n",
    "\n",
    "class Person:\n",
    "    name = '홍길동' ## 생성자가 아닌 이 부분에 변수를 선언하면, 클래스 이름으로 접근 하는 static 변수를 선언 하게 되는 것과 동일\n",
    "    gender='남자'\n",
    "    \n",
    "    def print_info(): ## 마찬가지로, self 인자 없이 정의한 함수는 static 메소드로서 기능을 함. 객체로 접근 불가\n",
    "        print('{}은 {}이다'.format(Person.name,Person.gender))"
   ]
  },
  {
   "cell_type": "code",
   "execution_count": 6,
   "id": "d4f05cf0",
   "metadata": {},
   "outputs": [
    {
     "ename": "TypeError",
     "evalue": "print_info() takes 0 positional arguments but 1 was given",
     "output_type": "error",
     "traceback": [
      "\u001b[1;31m---------------------------------------------------------------------------\u001b[0m",
      "\u001b[1;31mTypeError\u001b[0m                                 Traceback (most recent call last)",
      "\u001b[1;32m<ipython-input-6-15fdf393df17>\u001b[0m in \u001b[0;36m<module>\u001b[1;34m\u001b[0m\n\u001b[0;32m      1\u001b[0m \u001b[0mp1\u001b[0m \u001b[1;33m=\u001b[0m \u001b[0mPerson\u001b[0m\u001b[1;33m(\u001b[0m\u001b[1;33m)\u001b[0m\u001b[1;33m\u001b[0m\u001b[1;33m\u001b[0m\u001b[0m\n\u001b[1;32m----> 2\u001b[1;33m \u001b[0mp1\u001b[0m\u001b[1;33m.\u001b[0m\u001b[0mprint_info\u001b[0m\u001b[1;33m(\u001b[0m\u001b[1;33m)\u001b[0m\u001b[1;33m\u001b[0m\u001b[1;33m\u001b[0m\u001b[0m\n\u001b[0m",
      "\u001b[1;31mTypeError\u001b[0m: print_info() takes 0 positional arguments but 1 was given"
     ]
    }
   ],
   "source": [
    "p1 = Person()\n",
    "p1.print_info()"
   ]
  },
  {
   "cell_type": "code",
   "execution_count": 8,
   "id": "1d1ce317",
   "metadata": {},
   "outputs": [
    {
     "name": "stdout",
     "output_type": "stream",
     "text": [
      "홍길동은 남자이다\n"
     ]
    }
   ],
   "source": [
    "Person.print_info() # static 함수이므로, 객체명이 아니라 클래스 명으로 접근을 하면 됨. "
   ]
  },
  {
   "cell_type": "code",
   "execution_count": 10,
   "id": "5c8a7fa4",
   "metadata": {},
   "outputs": [
    {
     "name": "stdout",
     "output_type": "stream",
     "text": [
      "홍길동\n",
      "남자\n"
     ]
    }
   ],
   "source": [
    "## static 메소드는 불가하지만, static 변수는 객체명을 통해서 접근이 가능함 \n",
    "print(p1.name)\n",
    "print(p1.gender)"
   ]
  },
  {
   "cell_type": "code",
   "execution_count": 15,
   "id": "cf21a85b",
   "metadata": {},
   "outputs": [],
   "source": [
    "class Person:\n",
    "    name = '홍길동'\n",
    "    gender = '남자'\n",
    "## 1. 인스턴스 메소드 : 인자값에 객체가 들어가게 되는 self 인자를 넣어준다.      \n",
    "    def print_info(self):\n",
    "        return '인스턴스 변수: {}은 {}이다'.format(self.name, self.gender)\n",
    "\n",
    "## 2. 클래스 메소드 : 인자값에 cls를 꼭 넣어준다. \n",
    "##    * do_ : 보통 예약어와 겹치는 이름의 변수를 선언 할 때 변수뒤에 _를 붙여준다\n",
    "    @classmethod\n",
    "    def do_(cls):\n",
    "        cls.name= '신사임당'\n",
    "        cls.gender = '여자'\n",
    "        return '클래스 변수: {}은 {}이다'.format(cls.name,cls.gender)\n",
    "## 3. static 메소드 \n",
    "    @staticmethod\n",
    "    def that_():\n",
    "        return 'static 변수: {}은 {}이다'.format(Person.name,Person.gender)"
   ]
  },
  {
   "cell_type": "code",
   "execution_count": 17,
   "id": "5791e842",
   "metadata": {},
   "outputs": [
    {
     "name": "stdout",
     "output_type": "stream",
     "text": [
      "인스턴스 변수: 신사임당은 여자이다\n",
      "클래스 변수: 신사임당은 여자이다\n",
      "static 변수: 신사임당은 여자이다\n"
     ]
    }
   ],
   "source": [
    "p = Person()\n",
    "\n",
    "print(p.print_info())\n",
    "print(Person.do_())\n",
    "print(Person.that_())"
   ]
  },
  {
   "cell_type": "markdown",
   "id": "0285dc11",
   "metadata": {},
   "source": [
    "## 2. 생성자와 소멸자"
   ]
  },
  {
   "cell_type": "code",
   "execution_count": 1,
   "id": "677b48f5",
   "metadata": {},
   "outputs": [],
   "source": [
    "class Person:\n",
    "    \n",
    "    def __init__(self,name,gender):\n",
    "        self.name = name\n",
    "        self.gender = gender\n",
    "    def __str__(self):  ## 자바에서의 toString() 메소드를 오버라이드 하는 것과 동일하다\n",
    "        return '클래스 변수: {}은 {}이다'.format(self.name,self.gender)\n",
    "    def __del__(self):\n",
    "         print('Person 객체가 소멸됨')"
   ]
  },
  {
   "cell_type": "code",
   "execution_count": 2,
   "id": "bf251578",
   "metadata": {},
   "outputs": [
    {
     "name": "stdout",
     "output_type": "stream",
     "text": [
      "클래스 변수: 홍길동은 남자이다\n"
     ]
    }
   ],
   "source": [
    "p1 = Person('홍길동','남자')\n",
    "\n",
    "print(p1)"
   ]
  },
  {
   "cell_type": "code",
   "execution_count": 3,
   "id": "af393309",
   "metadata": {},
   "outputs": [
    {
     "name": "stdout",
     "output_type": "stream",
     "text": [
      "Person 객체가 소멸됨\n"
     ]
    }
   ],
   "source": [
    "del p1"
   ]
  },
  {
   "cell_type": "markdown",
   "id": "b7666907",
   "metadata": {},
   "source": [
    "## 3. 상속과 재정의"
   ]
  },
  {
   "cell_type": "code",
   "execution_count": 2,
   "id": "b70db2bd",
   "metadata": {},
   "outputs": [],
   "source": [
    "class Person:\n",
    "    \n",
    "    def __init__(self, name, gender):\n",
    "        self.name = name \n",
    "        self.gender = gender\n",
    "        \n",
    "    def __str__(self):\n",
    "        return '%s는 %s이다'%(self.name,self.gender)\n",
    "    def __del__(self):\n",
    "        print('Person 객체가 소멸함')"
   ]
  },
  {
   "cell_type": "code",
   "execution_count": 10,
   "id": "0e9b12e7",
   "metadata": {},
   "outputs": [],
   "source": [
    "## 부모 클래스를 상속 받고, 부모 클래스의 메소드들 오버라이드 하기 \n",
    "class Student(Person):\n",
    "    \n",
    "    def __init__(self,name,gender,major): ## 상속 받을시에, 생성자에서 부모클래스의 인자값인 name,gender도 같이 인자값으로 넣어줘야한다\n",
    "        super().__init__(name, gender) ## super() 함수를 사용시에는 __init__()에 self 를 넣어주지 않아도 됨.\n",
    "        self.major = major \n",
    "    def __str__(self):\n",
    "        return '%s는 %s이고, 전공은 %s이다'%(self.name,self.gender,self.gender)\n",
    "    def __del__(self):\n",
    "         print('Student 객체가 소멸함')"
   ]
  },
  {
   "cell_type": "code",
   "execution_count": 11,
   "id": "3fdc28db",
   "metadata": {},
   "outputs": [
    {
     "name": "stdout",
     "output_type": "stream",
     "text": [
      "홍길동는 남성이고, 전공은 남성이다\n"
     ]
    }
   ],
   "source": [
    "s = Student('홍길동','남성','통계학')\n",
    "\n",
    "print(s)"
   ]
  },
  {
   "cell_type": "code",
   "execution_count": 12,
   "id": "8cb03509",
   "metadata": {},
   "outputs": [
    {
     "name": "stdout",
     "output_type": "stream",
     "text": [
      "Student 객체가 소멸함\n"
     ]
    }
   ],
   "source": [
    "del s"
   ]
  },
  {
   "cell_type": "markdown",
   "id": "41315405",
   "metadata": {},
   "source": [
    "## 4. static 변수 정의"
   ]
  },
  {
   "cell_type": "code",
   "execution_count": 3,
   "id": "5ff00fac",
   "metadata": {},
   "outputs": [],
   "source": [
    "class Student(Person):\n",
    "    \n",
    "    __count =0 ## static 변수명 앞에는 __를 붙인다\n",
    "    \n",
    "    def __init__(self, name, gender, school):\n",
    "        super().__init__(name, gender)\n",
    "        self.school = school \n",
    "        Student._Student__count += 1 ## static 변수를 접근 할 때는 이와 같은 구문을 이용한다.\n",
    "    def __str__(self):\n",
    "        return super().__str__()+' 학교는 %s이다'%self.school\n",
    "    def __del__(self):\n",
    "        Student._Student__count -= 1\n",
    "        print('Student 객체가 소멸함')\n",
    "    \n",
    "    @staticmethod\n",
    "    def get_count():\n",
    "        return Student._Student__count"
   ]
  },
  {
   "cell_type": "code",
   "execution_count": 4,
   "id": "64d39fc0",
   "metadata": {},
   "outputs": [
    {
     "data": {
      "text/plain": [
       "4"
      ]
     },
     "execution_count": 4,
     "metadata": {},
     "output_type": "execute_result"
    }
   ],
   "source": [
    "s1 = Student('홍길동','남성','한국대학교')\n",
    "s2 = Student('김길동','남성','한국대학교')\n",
    "s3 = Student('홍길순','여성','한국대학교')\n",
    "s4 = Student('김길자','여성','한국대학교')\n",
    "\n",
    "Student.get_count()"
   ]
  },
  {
   "cell_type": "code",
   "execution_count": 5,
   "id": "82a34c10",
   "metadata": {},
   "outputs": [
    {
     "name": "stdout",
     "output_type": "stream",
     "text": [
      "Student 객체가 소멸함\n",
      "Student 객체가 소멸함\n"
     ]
    }
   ],
   "source": [
    "del s1, s2"
   ]
  },
  {
   "cell_type": "code",
   "execution_count": 6,
   "id": "e87970e6",
   "metadata": {},
   "outputs": [
    {
     "data": {
      "text/plain": [
       "2"
      ]
     },
     "execution_count": 6,
     "metadata": {},
     "output_type": "execute_result"
    }
   ],
   "source": [
    "Student.get_count()"
   ]
  },
  {
   "cell_type": "code",
   "execution_count": 8,
   "id": "6afd528e",
   "metadata": {},
   "outputs": [
    {
     "data": {
      "text/plain": [
       "{'name': '홍길순', 'gender': '여성', 'school': '한국대학교'}"
      ]
     },
     "execution_count": 8,
     "metadata": {},
     "output_type": "execute_result"
    }
   ],
   "source": [
    "s3.__dict__ ## __dict__는 객체내 저장된 변수명과 변수의 값을 담는다"
   ]
  }
 ],
 "metadata": {
  "kernelspec": {
   "display_name": "Python 3",
   "language": "python",
   "name": "python3"
  },
  "language_info": {
   "codemirror_mode": {
    "name": "ipython",
    "version": 3
   },
   "file_extension": ".py",
   "mimetype": "text/x-python",
   "name": "python",
   "nbconvert_exporter": "python",
   "pygments_lexer": "ipython3",
   "version": "3.8.8"
  },
  "toc": {
   "base_numbering": 1,
   "nav_menu": {},
   "number_sections": false,
   "sideBar": true,
   "skip_h1_title": false,
   "title_cell": "Table of Contents",
   "title_sidebar": "Contents",
   "toc_cell": false,
   "toc_position": {
    "height": "calc(100% - 180px)",
    "left": "10px",
    "top": "150px",
    "width": "248.872px"
   },
   "toc_section_display": true,
   "toc_window_display": true
  },
  "varInspector": {
   "cols": {
    "lenName": 16,
    "lenType": 16,
    "lenVar": 40
   },
   "kernels_config": {
    "python": {
     "delete_cmd_postfix": "",
     "delete_cmd_prefix": "del ",
     "library": "var_list.py",
     "varRefreshCmd": "print(var_dic_list())"
    },
    "r": {
     "delete_cmd_postfix": ") ",
     "delete_cmd_prefix": "rm(",
     "library": "var_list.r",
     "varRefreshCmd": "cat(var_dic_list()) "
    }
   },
   "types_to_exclude": [
    "module",
    "function",
    "builtin_function_or_method",
    "instance",
    "_Feature"
   ],
   "window_display": false
  }
 },
 "nbformat": 4,
 "nbformat_minor": 5
}
