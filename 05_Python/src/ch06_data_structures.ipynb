{
 "cells": [
  {
   "cell_type": "markdown",
   "id": "d81d68f1",
   "metadata": {},
   "source": [
    "<b><font size=6 color='green'>ch06. 데이터 구조</font>"
   ]
  },
  {
   "cell_type": "markdown",
   "id": "52b1588a",
   "metadata": {},
   "source": [
    "* 리스트 []  list \n",
    "* 튜플 ()  tuple\n",
    "* 딕셔너리 dictionary\n",
    "* 셋 set"
   ]
  },
  {
   "cell_type": "markdown",
   "id": "fdecc017",
   "metadata": {},
   "source": [
    "## 1.1 리스트 만들기 \n",
    "\n",
    "* []를 이용해 만들며, 여러 개 값을 하나의 변수에 저장/관리할 수 있음. list() 함수 이용도 가능\n",
    "* 인덱스 : 각 요소의 위치. 인덱스는 0부터 시작. 맨 마지막의 인덱스는 -1. \n",
    "* 슬라이싱 ([from:to:by]) : 부분 데이터 셋을 뽑아 내는것. 인덱스를 이용하여 쓰기와 읽기 지원 "
   ]
  },
  {
   "cell_type": "code",
   "execution_count": 1,
   "id": "55cb131a",
   "metadata": {},
   "outputs": [
    {
     "data": {
      "text/plain": [
       "list"
      ]
     },
     "execution_count": 1,
     "metadata": {},
     "output_type": "execute_result"
    }
   ],
   "source": [
    "fruits = ['banana','apple','orange','grape']\n",
    "type(fruits)"
   ]
  },
  {
   "cell_type": "code",
   "execution_count": 2,
   "id": "e69806fb",
   "metadata": {
    "scrolled": true
   },
   "outputs": [
    {
     "name": "stdout",
     "output_type": "stream",
     "text": [
      "['banana', 'apple', 'orange', 'grape']\n"
     ]
    }
   ],
   "source": [
    "print(fruits)"
   ]
  },
  {
   "cell_type": "code",
   "execution_count": 10,
   "id": "06e663e3",
   "metadata": {},
   "outputs": [
    {
     "name": "stdout",
     "output_type": "stream",
     "text": [
      "[0, 1, 2, 3, 4, 5]\n",
      "[0, 1, 2, 3, 4, 5, 6, 7, 8, 9]\n",
      "[10, 9, 8, 7, 6, 5, 4, 3, 2]\n"
     ]
    }
   ],
   "source": [
    "# range(from, to, by): from 부터 to-1 까지 by씩 증가 \n",
    "# from 이 생략되면 0부터, by가 생략 됐을 경우 1로 계산\n",
    "\n",
    "range(0,10)\n",
    "range(6) # 0 부터 5까지\n",
    "\n",
    "print(list(range(6)))\n",
    "print(list(range(0,10)))\n",
    "print(list(range(10,1,-1)))"
   ]
  },
  {
   "cell_type": "code",
   "execution_count": 5,
   "id": "51e080bf",
   "metadata": {},
   "outputs": [
    {
     "name": "stdout",
     "output_type": "stream",
     "text": [
      "banana\tapple\torange\tgrape\t"
     ]
    }
   ],
   "source": [
    "for f in fruits:\n",
    "    print(f, end='\\t')"
   ]
  },
  {
   "cell_type": "code",
   "execution_count": 6,
   "id": "a5c1bbd1",
   "metadata": {},
   "outputs": [
    {
     "name": "stdout",
     "output_type": "stream",
     "text": [
      "1\t2\t3\t4\t"
     ]
    }
   ],
   "source": [
    "for i in [1,2,3,4]:\n",
    "    print(i,end='\\t')"
   ]
  },
  {
   "cell_type": "code",
   "execution_count": 7,
   "id": "ef416b05",
   "metadata": {},
   "outputs": [
    {
     "name": "stdout",
     "output_type": "stream",
     "text": [
      "0 번째 과일은 banana\n",
      "1 번째 과일은 apple\n",
      "2 번째 과일은 orange\n",
      "3 번째 과일은 grape\n"
     ]
    }
   ],
   "source": [
    "for i in list(range(len(fruits))):\n",
    "    print(i,'번째 과일은',fruits[i])"
   ]
  },
  {
   "cell_type": "code",
   "execution_count": 8,
   "id": "596f4518",
   "metadata": {},
   "outputs": [
    {
     "data": {
      "text/plain": [
       "[1, 2, '3', True]"
      ]
     },
     "execution_count": 8,
     "metadata": {},
     "output_type": "execute_result"
    }
   ],
   "source": [
    "numbers =[1,2,'3',True] ## 다른 자료형이 들어가도 됀찮음\n",
    "numbers"
   ]
  },
  {
   "cell_type": "code",
   "execution_count": 9,
   "id": "09c2b418",
   "metadata": {},
   "outputs": [
    {
     "data": {
      "text/plain": [
       "[[1, 2, 3, 4, 5], [6, 7, 8, 9, 10], [1, 3, 5, 7, 9]]"
      ]
     },
     "execution_count": 9,
     "metadata": {},
     "output_type": "execute_result"
    }
   ],
   "source": [
    "# 2차원 리스트 \n",
    "\n",
    "numbers2D = [[1,2,3,4,5],\n",
    "             [6,7,8,9,10],\n",
    "             [1,3,5,7,9]]\n",
    "numbers2D"
   ]
  },
  {
   "cell_type": "code",
   "execution_count": 10,
   "id": "a312d426",
   "metadata": {},
   "outputs": [
    {
     "data": {
      "text/plain": [
       "2"
      ]
     },
     "execution_count": 10,
     "metadata": {},
     "output_type": "execute_result"
    }
   ],
   "source": [
    "numbers2D[0][1]"
   ]
  },
  {
   "cell_type": "code",
   "execution_count": 25,
   "id": "6b6af92d",
   "metadata": {},
   "outputs": [
    {
     "data": {
      "text/plain": [
       "(3, 5)"
      ]
     },
     "execution_count": 25,
     "metadata": {},
     "output_type": "execute_result"
    }
   ],
   "source": [
    "len(numbers2D),\\\n",
    "len(numbers2D[0])"
   ]
  },
  {
   "cell_type": "code",
   "execution_count": 27,
   "id": "b9dd07f1",
   "metadata": {},
   "outputs": [
    {
     "data": {
      "text/plain": [
       "8"
      ]
     },
     "execution_count": 27,
     "metadata": {},
     "output_type": "execute_result"
    }
   ],
   "source": [
    "numbers2D[1][2] ## 리스트 안의 리스트 원소 접근 "
   ]
  },
  {
   "cell_type": "code",
   "execution_count": 32,
   "id": "85f150e2",
   "metadata": {},
   "outputs": [
    {
     "name": "stdout",
     "output_type": "stream",
     "text": [
      "\n",
      "\n",
      "1 2 3 4 5 \n",
      "\n",
      "6 7 8 9 10 \n",
      "\n",
      "1 3 5 7 9 "
     ]
    }
   ],
   "source": [
    "for row in numbers2D:\n",
    "    print('\\n')\n",
    "    for element in row:\n",
    "        print(element,end=' ')  ## 리스트 내의 각 원소 출력하기 "
   ]
  },
  {
   "cell_type": "code",
   "execution_count": 34,
   "id": "5fc21ac0",
   "metadata": {},
   "outputs": [
    {
     "name": "stdout",
     "output_type": "stream",
     "text": [
      "\n",
      "\n",
      "0 행 0 열:  1\t0 행 1 열:  2\t0 행 2 열:  3\t0 행 3 열:  4\t0 행 4 열:  5\t\n",
      "\n",
      "1 행 0 열:  6\t1 행 1 열:  7\t1 행 2 열:  8\t1 행 3 열:  9\t1 행 4 열:  10\t\n",
      "\n",
      "2 행 0 열:  1\t2 행 1 열:  3\t2 행 2 열:  5\t2 행 3 열:  7\t2 행 4 열:  9\t"
     ]
    }
   ],
   "source": [
    "for idx1 in range(len(numbers2D)):\n",
    "    print('\\n')\n",
    "    for idx2 in range(len(numbers2D[idx1])):\n",
    "        print(idx1,'행',idx2,'열: ',numbers2D[idx1][idx2],end='\\t')"
   ]
  },
  {
   "cell_type": "markdown",
   "id": "06c4bde5",
   "metadata": {},
   "source": [
    "## 1.2 기본 정보 조회"
   ]
  },
  {
   "cell_type": "code",
   "execution_count": 35,
   "id": "f09df655",
   "metadata": {},
   "outputs": [],
   "source": [
    "numbers = [1,2,3,4,5]\n",
    "numbers2D = [[100,0,0,0,0],[90,90,90,90,90]]"
   ]
  },
  {
   "cell_type": "code",
   "execution_count": 36,
   "id": "3cb9dc87",
   "metadata": {},
   "outputs": [
    {
     "name": "stdout",
     "output_type": "stream",
     "text": [
      "5\n",
      "2\n"
     ]
    }
   ],
   "source": [
    "# 요소의 수 \n",
    "\n",
    "print(len(numbers))\n",
    "print(len(numbers2D))"
   ]
  },
  {
   "cell_type": "code",
   "execution_count": 40,
   "id": "ce9259bc",
   "metadata": {},
   "outputs": [
    {
     "name": "stdout",
     "output_type": "stream",
     "text": [
      "1차원 배열의 최댓값:  5\n",
      "2차원 배열의 최댓값:  [100, 0, 0, 0, 0]\n"
     ]
    }
   ],
   "source": [
    "# 최소값 min, 최대값 max\n",
    "\n",
    "print('1차원 배열의 최댓값: ',max(numbers))\n",
    "print('2차원 배열의 최댓값: ',max(numbers2D)) ## 각 배열의 첫번째 요소가 가장 큰 값을 리턴"
   ]
  },
  {
   "cell_type": "markdown",
   "id": "35192a50",
   "metadata": {},
   "source": [
    "## 1.3 요소 추가"
   ]
  },
  {
   "cell_type": "code",
   "execution_count": 1,
   "id": "32e216a9",
   "metadata": {},
   "outputs": [
    {
     "name": "stdout",
     "output_type": "stream",
     "text": [
      "[1, 2, 3, 4, 5, 1, 2, 3, 4, 5]\n"
     ]
    }
   ],
   "source": [
    "# + 두 리스트 연결 \n",
    "# * 리스트*n = 리스트를 n 번만큼 반복 \n",
    "# append() 요소 맨뒤에 요소 추가 \n",
    "# extend(): 리스트를 요소별로 맨 뒤에 추가 \n",
    "# insert(idx,값):  idx번째 인덱스 값에 추가 \n",
    "\n",
    "numbers = [1,2,3,4,5]\n",
    "numbers = numbers +numbers\n",
    "print(numbers)"
   ]
  },
  {
   "cell_type": "code",
   "execution_count": 45,
   "id": "fadc807a",
   "metadata": {},
   "outputs": [
    {
     "name": "stdout",
     "output_type": "stream",
     "text": [
      "리스트 곱:  [1, 2, 3, 4, 5, 1, 2, 3, 4, 5, 1, 2, 3, 4, 5]\n",
      "append 함수:  None\n"
     ]
    }
   ],
   "source": [
    "numbers = [1,2,3,4,5]\n",
    "print('리스트 곱: ',numbers*3)\n",
    "print('append 함수: ',numbers.append(4))"
   ]
  },
  {
   "cell_type": "code",
   "execution_count": 47,
   "id": "081cba60",
   "metadata": {},
   "outputs": [
    {
     "name": "stdout",
     "output_type": "stream",
     "text": [
      "append 함수:  [1, 2, 3, 4, 5, 4, 4, 4]\n"
     ]
    }
   ],
   "source": [
    "numbers.append(4)\n",
    "print('append 함수: ',numbers)"
   ]
  },
  {
   "cell_type": "code",
   "execution_count": 48,
   "id": "3d9fab5e",
   "metadata": {},
   "outputs": [
    {
     "name": "stdout",
     "output_type": "stream",
     "text": [
      "배열내 배열 요소들 추가:  [1, 2, 3, 4, 5, 4, 4, 4, 7, 8, 9]\n"
     ]
    }
   ],
   "source": [
    "num = [7,8,9]\n",
    "numbers.extend(num)\n",
    "print('배열내 배열 요소들 추가: ',numbers)"
   ]
  },
  {
   "cell_type": "code",
   "execution_count": 49,
   "id": "35624d55",
   "metadata": {},
   "outputs": [
    {
     "name": "stdout",
     "output_type": "stream",
     "text": [
      "[1, 2, 3, 4, 5, 4, 4, 4, 7, 8, 9, 'Hello']\n"
     ]
    }
   ],
   "source": [
    "numbers.append('Hello')\n",
    "print(numbers)"
   ]
  },
  {
   "cell_type": "code",
   "execution_count": 50,
   "id": "20d5e1f3",
   "metadata": {},
   "outputs": [
    {
     "name": "stdout",
     "output_type": "stream",
     "text": [
      "[1, 2, 3, 4, 5, 4, 4, 4, 7, 8, 9, 'Hello', 'H', 'e', 'l', 'l', 'o']\n"
     ]
    }
   ],
   "source": [
    "numbers.extend('Hello')\n",
    "print(numbers)"
   ]
  },
  {
   "cell_type": "code",
   "execution_count": 51,
   "id": "8899e9c6",
   "metadata": {},
   "outputs": [
    {
     "name": "stdout",
     "output_type": "stream",
     "text": [
      "[1, 'xx', 2, 3, 4, 5]\n"
     ]
    }
   ],
   "source": [
    "numbers = [1,2,3,4,5]\n",
    "\n",
    "numbers.insert(1,'xx')\n",
    "\n",
    "print(numbers)"
   ]
  },
  {
   "cell_type": "markdown",
   "id": "59f70b1c",
   "metadata": {},
   "source": [
    "## 1.4 인덱싱"
   ]
  },
  {
   "cell_type": "markdown",
   "id": "bb8fbe43",
   "metadata": {},
   "source": [
    "* [index] :인덱스를 이용한 접근 \n",
    "* index() : 해당 요소의 위치 반환\n",
    "* count() : 리스트에서 특정 데이터의 갯수 반환 "
   ]
  },
  {
   "cell_type": "code",
   "execution_count": 9,
   "id": "a93a3fb9",
   "metadata": {},
   "outputs": [
    {
     "name": "stdout",
     "output_type": "stream",
     "text": [
      "2\n",
      "0\n",
      "2\n"
     ]
    }
   ],
   "source": [
    "numbers = [1,2,3,[1,2,3],1,2,3]\n",
    "numbers2D = [[1,2,3],[1,2,3]]\n",
    "\n",
    "print(numbers.count(2)) \n",
    "print(numbers2D.count(2))\n",
    "print(numbers2D.count([1,2,3]))"
   ]
  },
  {
   "cell_type": "code",
   "execution_count": 10,
   "id": "147bd006",
   "metadata": {},
   "outputs": [
    {
     "name": "stdout",
     "output_type": "stream",
     "text": [
      "True\n",
      "False\n"
     ]
    }
   ],
   "source": [
    "print(2 in numbers)\n",
    "print(2 in numbers2D)"
   ]
  },
  {
   "cell_type": "code",
   "execution_count": 11,
   "id": "4266deac",
   "metadata": {},
   "outputs": [
    {
     "data": {
      "text/plain": [
       "1"
      ]
     },
     "execution_count": 11,
     "metadata": {},
     "output_type": "execute_result"
    }
   ],
   "source": [
    "numbers.index(2) ## 2가 있는 곳의 인덱스 (왼쪽부터)"
   ]
  },
  {
   "cell_type": "code",
   "execution_count": 12,
   "id": "f31682a6",
   "metadata": {},
   "outputs": [
    {
     "data": {
      "text/plain": [
       "5"
      ]
     },
     "execution_count": 12,
     "metadata": {},
     "output_type": "execute_result"
    }
   ],
   "source": [
    "numbers.index(2,3) ## 3번 인덱스 부터 시작해서 2를 찾아서 인덱스 반환"
   ]
  },
  {
   "cell_type": "code",
   "execution_count": 64,
   "id": "d79d42c1",
   "metadata": {},
   "outputs": [
    {
     "name": "stdout",
     "output_type": "stream",
     "text": [
      "0\n"
     ]
    },
    {
     "ename": "ValueError",
     "evalue": "9 is not in list",
     "output_type": "error",
     "traceback": [
      "\u001b[1;31m---------------------------------------------------------------------------\u001b[0m",
      "\u001b[1;31mValueError\u001b[0m                                Traceback (most recent call last)",
      "\u001b[1;32m<ipython-input-64-c8eaeb1e137e>\u001b[0m in \u001b[0;36m<module>\u001b[1;34m\u001b[0m\n\u001b[0;32m      1\u001b[0m \u001b[0mprint\u001b[0m\u001b[1;33m(\u001b[0m\u001b[0mnumbers\u001b[0m\u001b[1;33m.\u001b[0m\u001b[0mcount\u001b[0m\u001b[1;33m(\u001b[0m\u001b[1;36m9\u001b[0m\u001b[1;33m)\u001b[0m\u001b[1;33m)\u001b[0m\u001b[1;33m\u001b[0m\u001b[1;33m\u001b[0m\u001b[0m\n\u001b[1;32m----> 2\u001b[1;33m \u001b[0mprint\u001b[0m\u001b[1;33m(\u001b[0m\u001b[0mnumbers\u001b[0m\u001b[1;33m.\u001b[0m\u001b[0mindex\u001b[0m\u001b[1;33m(\u001b[0m\u001b[1;36m9\u001b[0m\u001b[1;33m)\u001b[0m\u001b[1;33m)\u001b[0m \u001b[1;31m# count 함수와는 달리 9가 리스트 내에 없는 원소이면 오류가남\u001b[0m\u001b[1;33m\u001b[0m\u001b[1;33m\u001b[0m\u001b[0m\n\u001b[0m",
      "\u001b[1;31mValueError\u001b[0m: 9 is not in list"
     ]
    }
   ],
   "source": [
    "print(numbers.count(9))\n",
    "print(numbers.index(9)) # count 함수와는 달리 9가 리스트 내에 없는 원소이면 오류가남"
   ]
  },
  {
   "cell_type": "code",
   "execution_count": 66,
   "id": "afa629a7",
   "metadata": {},
   "outputs": [
    {
     "ename": "IndexError",
     "evalue": "list index out of range",
     "output_type": "error",
     "traceback": [
      "\u001b[1;31m---------------------------------------------------------------------------\u001b[0m",
      "\u001b[1;31mIndexError\u001b[0m                                Traceback (most recent call last)",
      "\u001b[1;32m<ipython-input-66-9ef942e8a779>\u001b[0m in \u001b[0;36m<module>\u001b[1;34m\u001b[0m\n\u001b[1;32m----> 1\u001b[1;33m \u001b[0mnumbers\u001b[0m\u001b[1;33m[\u001b[0m\u001b[1;36m20\u001b[0m\u001b[1;33m]\u001b[0m \u001b[1;31m# 인덱스의 범위를 벗어나도 에러가남\u001b[0m\u001b[1;33m\u001b[0m\u001b[1;33m\u001b[0m\u001b[0m\n\u001b[0m",
      "\u001b[1;31mIndexError\u001b[0m: list index out of range"
     ]
    }
   ],
   "source": [
    "numbers[20] # 인덱스의 범위를 벗어나도 에러가남 "
   ]
  },
  {
   "cell_type": "markdown",
   "id": "f0a91134",
   "metadata": {},
   "source": [
    "## 1.5 원하는 리스트 내용만 추출 ; 리스트 슬라이싱\n",
    "\n",
    "* 인덱스 보다 많은 값을 써도 에러나지 않음 \n",
    "* [from:to:by]\n",
    "* 인덱스는 음수 가능"
   ]
  },
  {
   "cell_type": "code",
   "execution_count": 68,
   "id": "f6c8a4c8",
   "metadata": {},
   "outputs": [
    {
     "data": {
      "text/plain": [
       "[9, 7, 5, 3, 1]"
      ]
     },
     "execution_count": 68,
     "metadata": {},
     "output_type": "execute_result"
    }
   ],
   "source": [
    "numbers = [1,3,5,7,9]\n",
    "\n",
    "numbers[::-1]"
   ]
  },
  {
   "cell_type": "markdown",
   "id": "b77fbed8",
   "metadata": {},
   "source": [
    "## 1.6 리스트 컴프리헨션을 이용해서 list의 원하는 데이터 엑세스"
   ]
  },
  {
   "cell_type": "code",
   "execution_count": 70,
   "id": "931a7c52",
   "metadata": {},
   "outputs": [
    {
     "name": "stdout",
     "output_type": "stream",
     "text": [
      "1 3 5 7 9 10 13 18 19 20 "
     ]
    }
   ],
   "source": [
    "numbers = [1,3,5,7,9,10,13,18,19,20]\n",
    "\n",
    "# 모든 데이터를 다 가져오기 \n",
    "\n",
    "for data in numbers:\n",
    "    print(data,end=' ')"
   ]
  },
  {
   "cell_type": "code",
   "execution_count": 72,
   "id": "6707f746",
   "metadata": {},
   "outputs": [
    {
     "data": {
      "text/plain": [
       "[1, 3, 5, 7, 9, 10, 13, 18, 19, 20]"
      ]
     },
     "execution_count": 72,
     "metadata": {},
     "output_type": "execute_result"
    }
   ],
   "source": [
    "[data for data in numbers ]"
   ]
  },
  {
   "cell_type": "code",
   "execution_count": 73,
   "id": "b221cb1f",
   "metadata": {},
   "outputs": [
    {
     "data": {
      "text/plain": [
       "[10, 18, 20]"
      ]
     },
     "execution_count": 73,
     "metadata": {},
     "output_type": "execute_result"
    }
   ],
   "source": [
    "# 짝수 데이터만 가져오기 \n",
    "[data for data in numbers if data%2==0]"
   ]
  },
  {
   "cell_type": "code",
   "execution_count": 75,
   "id": "1a3249ec",
   "metadata": {},
   "outputs": [
    {
     "data": {
      "text/plain": [
       "[10, 13, 18, 19, 20]"
      ]
     },
     "execution_count": 75,
     "metadata": {},
     "output_type": "execute_result"
    }
   ],
   "source": [
    "# 10이상의 데이터만 가져오기 \n",
    "[x for x in numbers if x>=10]"
   ]
  },
  {
   "cell_type": "code",
   "execution_count": 79,
   "id": "5cd94804",
   "metadata": {},
   "outputs": [
    {
     "data": {
      "text/plain": [
       "['orange', 'apple', 'mango']"
      ]
     },
     "execution_count": 79,
     "metadata": {},
     "output_type": "execute_result"
    }
   ],
   "source": [
    "# 과일의 글씨가 5글자 이상인 것만 과일을 추출\n",
    "\n",
    "fruits = ['orange','apple','mango','kiwi']\n",
    "\n",
    "[f for f in fruits if len(f)>=5]"
   ]
  },
  {
   "cell_type": "code",
   "execution_count": 80,
   "id": "210f294e",
   "metadata": {},
   "outputs": [
    {
     "data": {
      "text/plain": [
       "[6, 5, 5, 4]"
      ]
     },
     "execution_count": 80,
     "metadata": {},
     "output_type": "execute_result"
    }
   ],
   "source": [
    "# 과일의 글자수를 추출하시오 \n",
    "\n",
    "[len(l) for l in fruits]"
   ]
  },
  {
   "cell_type": "code",
   "execution_count": 81,
   "id": "8547c1b2",
   "metadata": {},
   "outputs": [
    {
     "data": {
      "text/plain": [
       "[1, 4, 9, 16, 25]"
      ]
     },
     "execution_count": 81,
     "metadata": {},
     "output_type": "execute_result"
    }
   ],
   "source": [
    "# 리스트 값의 제곱을 추출 \n",
    "\n",
    "l = [1,2,3,4,5]\n",
    "\n",
    "[v**2 for v in l]"
   ]
  },
  {
   "cell_type": "markdown",
   "id": "218afde5",
   "metadata": {},
   "source": [
    "## 1.7 요소 수정하기 "
   ]
  },
  {
   "cell_type": "code",
   "execution_count": 83,
   "id": "4646f066",
   "metadata": {},
   "outputs": [
    {
     "data": {
      "text/plain": [
       "[0, 1, 2222, 3, 4, 5, 6, 7, 8, 9]"
      ]
     },
     "execution_count": 83,
     "metadata": {},
     "output_type": "execute_result"
    }
   ],
   "source": [
    "numbers = [0,1,2,3,4,5,6,7,8,9]\n",
    "numbers[2] =2222\n",
    "numbers"
   ]
  },
  {
   "cell_type": "code",
   "execution_count": 84,
   "id": "2b40006e",
   "metadata": {},
   "outputs": [
    {
     "data": {
      "text/plain": [
       "[1111, 1111, 1111, 1111, 1111, 1111, 2222, 3, 4, 5, 6, 7, 8, 9]"
      ]
     },
     "execution_count": 84,
     "metadata": {},
     "output_type": "execute_result"
    }
   ],
   "source": [
    "# 부분 리스트를 통째로 바꿈()\n",
    "\n",
    "numbers[0:2] = [1111,1111,1111,1111,1111,1111]\n",
    "numbers"
   ]
  },
  {
   "cell_type": "code",
   "execution_count": 87,
   "id": "b7364543",
   "metadata": {},
   "outputs": [
    {
     "name": "stdout",
     "output_type": "stream",
     "text": [
      "수정 전:  [0, 0, 0, 0, 0, 0, 0, 0, 0, 0]\n"
     ]
    },
    {
     "ename": "ValueError",
     "evalue": "attempt to assign sequence of size 6 to extended slice of size 5",
     "output_type": "error",
     "traceback": [
      "\u001b[1;31m---------------------------------------------------------------------------\u001b[0m",
      "\u001b[1;31mValueError\u001b[0m                                Traceback (most recent call last)",
      "\u001b[1;32m<ipython-input-87-042ff832b739>\u001b[0m in \u001b[0;36m<module>\u001b[1;34m\u001b[0m\n\u001b[0;32m      3\u001b[0m \u001b[0mnumbers\u001b[0m \u001b[1;33m=\u001b[0m \u001b[1;33m[\u001b[0m\u001b[1;36m0\u001b[0m\u001b[1;33m]\u001b[0m\u001b[1;33m*\u001b[0m\u001b[1;36m10\u001b[0m\u001b[1;33m\u001b[0m\u001b[1;33m\u001b[0m\u001b[0m\n\u001b[0;32m      4\u001b[0m \u001b[0mprint\u001b[0m\u001b[1;33m(\u001b[0m\u001b[1;34m'수정 전: '\u001b[0m\u001b[1;33m,\u001b[0m\u001b[0mnumbers\u001b[0m\u001b[1;33m)\u001b[0m\u001b[1;33m\u001b[0m\u001b[1;33m\u001b[0m\u001b[0m\n\u001b[1;32m----> 5\u001b[1;33m \u001b[0mnumbers\u001b[0m\u001b[1;33m[\u001b[0m\u001b[1;33m:\u001b[0m\u001b[1;33m:\u001b[0m\u001b[1;36m2\u001b[0m\u001b[1;33m]\u001b[0m \u001b[1;33m=\u001b[0m \u001b[1;33m[\u001b[0m\u001b[1;36m11\u001b[0m\u001b[1;33m,\u001b[0m\u001b[1;36m11\u001b[0m\u001b[1;33m,\u001b[0m\u001b[1;36m11\u001b[0m\u001b[1;33m,\u001b[0m\u001b[1;36m11\u001b[0m\u001b[1;33m,\u001b[0m\u001b[1;36m11\u001b[0m\u001b[1;33m,\u001b[0m\u001b[1;36m11\u001b[0m\u001b[1;33m]\u001b[0m\u001b[1;33m\u001b[0m\u001b[1;33m\u001b[0m\u001b[0m\n\u001b[0m",
      "\u001b[1;31mValueError\u001b[0m: attempt to assign sequence of size 6 to extended slice of size 5"
     ]
    }
   ],
   "source": [
    "# 슬라이싱에서 by가 포함된 경우 \n",
    "\n",
    "numbers = [0]*10 \n",
    "print('수정 전: ',numbers)\n",
    "numbers[::2] = [11,11,11,11,11,11] # 선택한 인덱스들의 갯수와 넣을 입력값의 갯수가 맞지 않으면 에러남 "
   ]
  },
  {
   "cell_type": "markdown",
   "id": "8ea301ba",
   "metadata": {},
   "source": [
    "## 1.8 삭제하기 \n",
    "\n",
    "* pop() 가장 마지막 인덱스의 요소가 반환되고 삭제 \n",
    "* pop(n) n번째 인덱스의 요소가 반환되고, 그 인덱스 요소가 삭제 \n",
    "* remove(data): 해당 데이터가 삭제됨 \n",
    "* del 리스트변수[n] : n번째 인덱스의 데이터 삭제 "
   ]
  },
  {
   "cell_type": "code",
   "execution_count": 89,
   "id": "b2ae2088",
   "metadata": {},
   "outputs": [
    {
     "name": "stdout",
     "output_type": "stream",
     "text": [
      "[0, 1, 2, 3, 4, 5]\n",
      "5\n",
      "[0, 1, 2, 3, 4]\n"
     ]
    }
   ],
   "source": [
    "numbers = [0,1,2,3,4,5]\n",
    "\n",
    "print(numbers)\n",
    "print(numbers.pop())\n",
    "print(numbers)"
   ]
  },
  {
   "cell_type": "code",
   "execution_count": 91,
   "id": "77035874",
   "metadata": {},
   "outputs": [
    {
     "name": "stdout",
     "output_type": "stream",
     "text": [
      "1\n",
      "[0, 2, 3]\n"
     ]
    }
   ],
   "source": [
    "print(numbers.pop(1))\n",
    "print(numbers)"
   ]
  },
  {
   "cell_type": "code",
   "execution_count": 94,
   "id": "4271b2e8",
   "metadata": {},
   "outputs": [
    {
     "name": "stdout",
     "output_type": "stream",
     "text": [
      "[0, 2]\n"
     ]
    }
   ],
   "source": [
    "print(numbers.remove(3))   # 반환값은 pop과 달리 없음\n",
    "print(numbers)"
   ]
  },
  {
   "cell_type": "code",
   "execution_count": 95,
   "id": "2ab52f5d",
   "metadata": {},
   "outputs": [],
   "source": [
    "del numbers[1]"
   ]
  },
  {
   "cell_type": "code",
   "execution_count": 96,
   "id": "b50be028",
   "metadata": {},
   "outputs": [
    {
     "name": "stdout",
     "output_type": "stream",
     "text": [
      "[0]\n"
     ]
    }
   ],
   "source": [
    "print(numbers)"
   ]
  },
  {
   "cell_type": "markdown",
   "id": "f42856b3",
   "metadata": {},
   "source": [
    "## 1.9 정렬하기 "
   ]
  },
  {
   "cell_type": "code",
   "execution_count": 97,
   "id": "2a81924e",
   "metadata": {},
   "outputs": [
    {
     "name": "stdout",
     "output_type": "stream",
     "text": [
      "[0, 2, 5, 6, 9]\n"
     ]
    }
   ],
   "source": [
    "numbers = [9,5,2,6,0]\n",
    "\n",
    "numbers.sort() ## 기본 정렬은 오름차순 정렬 \n",
    "\n",
    "print(numbers)"
   ]
  },
  {
   "cell_type": "code",
   "execution_count": 98,
   "id": "906c3fb9",
   "metadata": {},
   "outputs": [
    {
     "name": "stdout",
     "output_type": "stream",
     "text": [
      "[9, 6, 5, 2, 0]\n"
     ]
    }
   ],
   "source": [
    "numbers.sort(reverse=True) ## 내림차순으로 정렬하기 \n",
    "print(numbers)"
   ]
  },
  {
   "cell_type": "code",
   "execution_count": 99,
   "id": "cfbf366a",
   "metadata": {},
   "outputs": [
    {
     "name": "stdout",
     "output_type": "stream",
     "text": [
      "[0, 2, 5, 6, 9]\n"
     ]
    }
   ],
   "source": [
    "numbers.reverse() \n",
    "print(numbers) # 내림차순으로 정렬한 것을 다시 오름차순으로 뒤집음"
   ]
  },
  {
   "cell_type": "markdown",
   "id": "6da1e146",
   "metadata": {},
   "source": [
    "## 2.0 리스트 복제 \n"
   ]
  },
  {
   "cell_type": "code",
   "execution_count": 100,
   "id": "2886b21d",
   "metadata": {},
   "outputs": [
    {
     "name": "stdout",
     "output_type": "stream",
     "text": [
      "[2, 4, 6, 7, 10]\n"
     ]
    }
   ],
   "source": [
    "numbers = [6,2,7,4,10]\n",
    "\n",
    "new_numbers = numbers ## numbers 변수에 리스트의 주소가 담겨있으므로 new_numbers도 결국은 numbers와 같은 객체가 되버림\n",
    "\n",
    "new_numbers.sort()\n",
    "\n",
    "print(numbers) # new_numbers 뿐만 아니라 numbers 리스트 까지 sort가 되버림"
   ]
  },
  {
   "cell_type": "code",
   "execution_count": 103,
   "id": "98f1e8b1",
   "metadata": {},
   "outputs": [
    {
     "name": "stdout",
     "output_type": "stream",
     "text": [
      "2411428164800\n",
      "2411428164800\n"
     ]
    }
   ],
   "source": [
    "print(id(new_numbers))\n",
    "print(id(numbers))   ## 두 리스트가 메모리 주소가 같으므로 같은 객체 "
   ]
  },
  {
   "cell_type": "code",
   "execution_count": 104,
   "id": "ebcbb509",
   "metadata": {},
   "outputs": [
    {
     "name": "stdout",
     "output_type": "stream",
     "text": [
      "[6, 2, 7, 4, 10]\n"
     ]
    }
   ],
   "source": [
    "## 복제\n",
    "\n",
    "numbers = [6,2,7,4,10]\n",
    "\n",
    "new_numbers = numbers.copy()  # numbers를 복제 \n",
    "\n",
    "new_numbers.sort()\n",
    "\n",
    "print(numbers) # new_numbers 뿐만 아니라 numbers 리스트 까지 sort가 되버림"
   ]
  },
  {
   "cell_type": "code",
   "execution_count": 105,
   "id": "fff07e27",
   "metadata": {},
   "outputs": [
    {
     "name": "stdout",
     "output_type": "stream",
     "text": [
      "원데이터:  서울 부산 대구 인천\n",
      "정렬한 데이터:  대구 부산 서울 인천\n"
     ]
    }
   ],
   "source": [
    "city = ['서울','부산','대구','인천']\n",
    "\n",
    "temp = city.copy()\n",
    "\n",
    "city.sort()\n",
    "\n",
    "print('원데이터: ',' '.join(temp))\n",
    "print('정렬한 데이터: ' ,' '.join(city)) "
   ]
  },
  {
   "cell_type": "markdown",
   "id": "ee4cd674",
   "metadata": {},
   "source": [
    "## 2절. 튜블 (tuple)\n",
    "\n",
    "- 리스트와 유사하지만 읽기전용. 수정이 필요없는 데이터 타입에서 사용\n",
    "- 수정이 불가하므로 튜플에 데이터 추가, 수정, 삭제 불가\n",
    "- () 이용해서 생성"
   ]
  },
  {
   "cell_type": "code",
   "execution_count": 114,
   "id": "79d9e812",
   "metadata": {},
   "outputs": [
    {
     "data": {
      "text/plain": [
       "tuple"
      ]
     },
     "execution_count": 114,
     "metadata": {},
     "output_type": "execute_result"
    }
   ],
   "source": [
    "city = ('서울','부산','인천','대구') \n",
    "type(city)"
   ]
  },
  {
   "cell_type": "code",
   "execution_count": 115,
   "id": "2c1c291d",
   "metadata": {},
   "outputs": [
    {
     "data": {
      "text/plain": [
       "'서울-부산-인천-대구'"
      ]
     },
     "execution_count": 115,
     "metadata": {},
     "output_type": "execute_result"
    }
   ],
   "source": [
    "'-'.join(city)"
   ]
  },
  {
   "cell_type": "code",
   "execution_count": 116,
   "id": "3208eaab",
   "metadata": {},
   "outputs": [
    {
     "name": "stdout",
     "output_type": "stream",
     "text": [
      "<class 'list'>\n",
      "['서울']\n"
     ]
    }
   ],
   "source": [
    "I = ['서울']\n",
    "print(type(I))\n",
    "print(I)"
   ]
  },
  {
   "cell_type": "code",
   "execution_count": 117,
   "id": "3fe6fa72",
   "metadata": {},
   "outputs": [
    {
     "name": "stdout",
     "output_type": "stream",
     "text": [
      "<class 'str'>\n",
      "서울\n"
     ]
    }
   ],
   "source": [
    "city = ('서울') # 요소가 하나있는 튜플은 튜플이 생성안됨. \n",
    "print(type(city))\n",
    "print(city)"
   ]
  },
  {
   "cell_type": "code",
   "execution_count": 118,
   "id": "90871a18",
   "metadata": {},
   "outputs": [
    {
     "name": "stdout",
     "output_type": "stream",
     "text": [
      "<class 'tuple'>\n",
      "('서울',)\n"
     ]
    }
   ],
   "source": [
    "city = ('서울',)  # 요소가 하나라면 뒤에다 , 를 붙여줌 \n",
    "print(type(city))\n",
    "print(city)"
   ]
  },
  {
   "cell_type": "code",
   "execution_count": 122,
   "id": "51a60ff9",
   "metadata": {},
   "outputs": [
    {
     "name": "stdout",
     "output_type": "stream",
     "text": [
      "<class 'tuple'>\n",
      "(1, 2, 3)\n"
     ]
    }
   ],
   "source": [
    "number = 1,2,3  #여러개 값을 나열하면 자동적으로 튜플로 정의됨\n",
    "\n",
    "print(type(number))\n",
    "print(number)"
   ]
  },
  {
   "cell_type": "code",
   "execution_count": 120,
   "id": "939b0213",
   "metadata": {},
   "outputs": [],
   "source": [
    "a,b = 10,20 \n",
    "(a,b) = (10,20) # 위와 아래가 동일한 식 "
   ]
  },
  {
   "cell_type": "code",
   "execution_count": 125,
   "id": "bc730172",
   "metadata": {},
   "outputs": [
    {
     "ename": "AttributeError",
     "evalue": "'tuple' object has no attribute 'remove'",
     "output_type": "error",
     "traceback": [
      "\u001b[1;31m---------------------------------------------------------------------------\u001b[0m",
      "\u001b[1;31mAttributeError\u001b[0m                            Traceback (most recent call last)",
      "\u001b[1;32m<ipython-input-125-8ba0723be081>\u001b[0m in \u001b[0;36m<module>\u001b[1;34m\u001b[0m\n\u001b[1;32m----> 1\u001b[1;33m \u001b[0mnumber\u001b[0m\u001b[1;33m.\u001b[0m\u001b[0mremove\u001b[0m\u001b[1;33m(\u001b[0m\u001b[1;36m4\u001b[0m\u001b[1;33m)\u001b[0m\u001b[1;33m\u001b[0m\u001b[1;33m\u001b[0m\u001b[0m\n\u001b[0m",
      "\u001b[1;31mAttributeError\u001b[0m: 'tuple' object has no attribute 'remove'"
     ]
    }
   ],
   "source": [
    "number.remove(4) # 튜플에는 수정하는 함수 적용이 불가 "
   ]
  },
  {
   "cell_type": "code",
   "execution_count": 126,
   "id": "c7e18319",
   "metadata": {},
   "outputs": [
    {
     "data": {
      "text/plain": [
       "(2, 3, 4)"
      ]
     },
     "execution_count": 126,
     "metadata": {},
     "output_type": "execute_result"
    }
   ],
   "source": [
    "data = (0,1,2,3,4,(5,6))\n",
    "data[2:5]"
   ]
  },
  {
   "cell_type": "code",
   "execution_count": 127,
   "id": "eefa4663",
   "metadata": {},
   "outputs": [
    {
     "data": {
      "text/plain": [
       "2"
      ]
     },
     "execution_count": 127,
     "metadata": {},
     "output_type": "execute_result"
    }
   ],
   "source": [
    "data.index(2)"
   ]
  },
  {
   "cell_type": "code",
   "execution_count": 128,
   "id": "07fa604f",
   "metadata": {},
   "outputs": [
    {
     "data": {
      "text/plain": [
       "(0, 1, 2, 3, 4, (5, 6), 0, 1, 2, 3, 4, (5, 6), 0, 1, 2, 3, 4, (5, 6))"
      ]
     },
     "execution_count": 128,
     "metadata": {},
     "output_type": "execute_result"
    }
   ],
   "source": [
    "data * 3"
   ]
  },
  {
   "cell_type": "markdown",
   "id": "85df85bb",
   "metadata": {},
   "source": [
    "## 3절. 딕셔너리 \n",
    "cf. 자바에서의 hashmap 과 동일\n",
    "\n",
    "* 중괄호 {}를 이용해서 생성. 키(key)-값(value)의 쌍으로 구성된 자료구조 \n",
    "* 키는 유일한 값 (중복 허용하지 않음). 키에 리스트는 사용불가 키에 튜플은 사용가능 \n",
    "* 값은 중복가능, 모든 데이터 타입이 가능함 \n",
    "* 없는 키의 값을 참조하면 에러발생 \n",
    "* 인덱스를 이용한 참조는 지원안함 "
   ]
  },
  {
   "cell_type": "code",
   "execution_count": 129,
   "id": "d61748d3",
   "metadata": {},
   "outputs": [
    {
     "name": "stdout",
     "output_type": "stream",
     "text": [
      "<class 'dict'>\n",
      "{'key1': 'value1', 'key2': 'value2'}\n"
     ]
    }
   ],
   "source": [
    "dic = {'key1':'value1','key2':'value2'}\n",
    "print(type(dic))\n",
    "print(dic)"
   ]
  },
  {
   "cell_type": "code",
   "execution_count": 130,
   "id": "112288be",
   "metadata": {},
   "outputs": [
    {
     "data": {
      "text/plain": [
       "2"
      ]
     },
     "execution_count": 130,
     "metadata": {},
     "output_type": "execute_result"
    }
   ],
   "source": [
    "len(dic)"
   ]
  },
  {
   "cell_type": "code",
   "execution_count": 132,
   "id": "d0858e51",
   "metadata": {},
   "outputs": [
    {
     "data": {
      "text/plain": [
       "'golf'"
      ]
     },
     "execution_count": 132,
     "metadata": {},
     "output_type": "execute_result"
    }
   ],
   "source": [
    "my_favorite = {'fruit':'apple','number':12,'sport':'golf'}\n",
    "\n",
    "my_favorite['sport']"
   ]
  },
  {
   "cell_type": "code",
   "execution_count": 133,
   "id": "a213932b",
   "metadata": {},
   "outputs": [
    {
     "data": {
      "text/plain": [
       "'golf'"
      ]
     },
     "execution_count": 133,
     "metadata": {},
     "output_type": "execute_result"
    }
   ],
   "source": [
    "my_favorite.get('sport')"
   ]
  },
  {
   "cell_type": "code",
   "execution_count": 134,
   "id": "73b99a06",
   "metadata": {},
   "outputs": [
    {
     "ename": "KeyError",
     "evalue": "'people'",
     "output_type": "error",
     "traceback": [
      "\u001b[1;31m---------------------------------------------------------------------------\u001b[0m",
      "\u001b[1;31mKeyError\u001b[0m                                  Traceback (most recent call last)",
      "\u001b[1;32m<ipython-input-134-1222b5b86545>\u001b[0m in \u001b[0;36m<module>\u001b[1;34m\u001b[0m\n\u001b[1;32m----> 1\u001b[1;33m \u001b[0mmy_favorite\u001b[0m\u001b[1;33m[\u001b[0m\u001b[1;34m'people'\u001b[0m\u001b[1;33m]\u001b[0m \u001b[1;31m## 키 목록에 없는 데이터를 인덱스로 참조하면 에러발생\u001b[0m\u001b[1;33m\u001b[0m\u001b[1;33m\u001b[0m\u001b[0m\n\u001b[0m",
      "\u001b[1;31mKeyError\u001b[0m: 'people'"
     ]
    }
   ],
   "source": [
    "my_favorite['people'] ## 키 목록에 없는 데이터를 인덱스로 참조하면 에러발생"
   ]
  },
  {
   "cell_type": "code",
   "execution_count": 136,
   "id": "97d5665e",
   "metadata": {},
   "outputs": [
    {
     "name": "stdout",
     "output_type": "stream",
     "text": [
      "None\n"
     ]
    }
   ],
   "source": [
    "print(my_favorite.get('people')) ## 없는 키로 참조시 None 리턴 "
   ]
  },
  {
   "cell_type": "code",
   "execution_count": 1,
   "id": "6b7f1467",
   "metadata": {},
   "outputs": [
    {
     "name": "stdout",
     "output_type": "stream",
     "text": [
      "수정후 {'fruit': 'banana', 'number': 12, 'people': 'KIM'}\n"
     ]
    }
   ],
   "source": [
    "# 수정 \n",
    "\n",
    "my_favorite = {'fruit':'apple','number':12, 'sport':'golf'}\n",
    "\n",
    "my_favorite['fruit'] = 'banana'\n",
    "my_favorite['people'] = 'KIM' # 새로운 키값과 인자값 추가 \n",
    "\n",
    "my_favorite.pop('sport') # 삭제하기 \n",
    "\n",
    "print('수정후',my_favorite)"
   ]
  },
  {
   "cell_type": "code",
   "execution_count": 139,
   "id": "590d6674",
   "metadata": {},
   "outputs": [],
   "source": [
    "# 삭제 \n",
    "\n",
    "del my_favorite"
   ]
  },
  {
   "cell_type": "code",
   "execution_count": 149,
   "id": "5be3a3ac",
   "metadata": {},
   "outputs": [
    {
     "name": "stdout",
     "output_type": "stream",
     "text": [
      "dict_keys(['name', 'age', 'tel'])\n",
      "dict_values(['홍길동', 25, '010-9999-9999'])\n",
      "dict_items([('name', '홍길동'), ('age', 25), ('tel', '010-9999-9999')])\n"
     ]
    }
   ],
   "source": [
    "print(my_dic.keys()) # 딕셔너리의 키값을 리스트로 뿌려줌\n",
    "print(my_dic.values()) # 딕셔너리의 value 값을 리스트로 뿌려줌\n",
    "print(my_dic.items()) # 튜플 형태로 (키,값)을 뿌려줌 "
   ]
  },
  {
   "cell_type": "code",
   "execution_count": 151,
   "id": "9986ba25",
   "metadata": {},
   "outputs": [
    {
     "name": "stdout",
     "output_type": "stream",
     "text": [
      "name 는(은) 홍길동\n",
      "age 는(은) 25\n",
      "tel 는(은) 010-9999-9999\n"
     ]
    }
   ],
   "source": [
    "# for를 이용한 dictionary 출력 \n",
    "\n",
    "my_dic = {'name':'홍길동','age':25, 'tel':'010-9999-9999'}\n",
    "\n",
    "for key, value in zip(my_dic.keys(),my_dic.values()):\n",
    "    print(key,'는(은)',value)"
   ]
  },
  {
   "cell_type": "code",
   "execution_count": 152,
   "id": "ef4cf8bd",
   "metadata": {
    "scrolled": true
   },
   "outputs": [
    {
     "name": "stdout",
     "output_type": "stream",
     "text": [
      "name 는(은) 홍길동\n",
      "age 는(은) 25\n",
      "tel 는(은) 010-9999-9999\n"
     ]
    }
   ],
   "source": [
    "for key, value in my_dic.items():\n",
    "    print(key,'는(은)',value)"
   ]
  },
  {
   "cell_type": "markdown",
   "id": "57e5661c",
   "metadata": {},
   "source": [
    "## 4절. in 연산자"
   ]
  },
  {
   "cell_type": "code",
   "execution_count": 4,
   "id": "895c488e",
   "metadata": {},
   "outputs": [
    {
     "name": "stdout",
     "output_type": "stream",
     "text": [
      "True\n",
      "True\n",
      "False\n"
     ]
    }
   ],
   "source": [
    "L = [1,2,3]\n",
    "K = (1,2,3)\n",
    "my_dic = {'name':'홍길동','age':25, 'tel':'010-9999-9999'}\n",
    "\n",
    "\n",
    "print(3 in L)\n",
    "print(3 in K)\n",
    "print('홍길동' in my_dic) ## 딕셔너리의 경우 in 연산자 안됨"
   ]
  },
  {
   "cell_type": "code",
   "execution_count": 5,
   "id": "e0cfb5b0",
   "metadata": {},
   "outputs": [
    {
     "data": {
      "text/plain": [
       "True"
      ]
     },
     "execution_count": 5,
     "metadata": {},
     "output_type": "execute_result"
    }
   ],
   "source": [
    "'name' in my_dic ## 딕셔너리에서는 리스트와 튜플과 달리 요소가 아니라 키값으로 in 연산자를 사용하여야 함.  "
   ]
  },
  {
   "cell_type": "code",
   "execution_count": 7,
   "id": "9ce66c6d",
   "metadata": {},
   "outputs": [
    {
     "name": "stdout",
     "output_type": "stream",
     "text": [
      "{'fruit': 'apple', 'number': 1}\n",
      "{'fruit': 'apple', 'number': 1}\n"
     ]
    }
   ],
   "source": [
    "my_favorite = {'fruit':'apple','number':1}\n",
    "\n",
    "new_my_favorite = my_favorite\n",
    "\n",
    "print(my_favorite)\n",
    "print(new_my_favorite)"
   ]
  },
  {
   "cell_type": "code",
   "execution_count": 8,
   "id": "6a5e947f",
   "metadata": {},
   "outputs": [],
   "source": [
    "my_favorite['fruit'] = '과일은 다 좋아'"
   ]
  },
  {
   "cell_type": "code",
   "execution_count": 9,
   "id": "2877c25a",
   "metadata": {},
   "outputs": [
    {
     "name": "stdout",
     "output_type": "stream",
     "text": [
      "{'fruit': '과일은 다 좋아', 'number': 1}\n",
      "{'fruit': '과일은 다 좋아', 'number': 1}\n"
     ]
    }
   ],
   "source": [
    "print(my_favorite)\n",
    "print(new_my_favorite) \n",
    "\n",
    "## 둘다 바뀌어 버림 "
   ]
  },
  {
   "cell_type": "code",
   "execution_count": 12,
   "id": "b8288a8f",
   "metadata": {},
   "outputs": [
    {
     "name": "stdout",
     "output_type": "stream",
     "text": [
      "my_favorite {'fruit': '과일은 다 좋아', 'number': 1}\n",
      "new_my_favorite {'fruit': 'apple', 'number': 1}\n"
     ]
    }
   ],
   "source": [
    "my_favorite = {'fruit':'apple','number':1}\n",
    "\n",
    "new_my_favorite =  my_favorite.copy() \n",
    "\n",
    "my_favorite['fruit'] = '과일은 다 좋아'\n",
    "\n",
    "print('my_favorite',my_favorite)\n",
    "print('new_my_favorite',new_my_favorite) "
   ]
  },
  {
   "cell_type": "markdown",
   "id": "1934fc4e",
   "metadata": {},
   "source": [
    "## 5절. 셋 (set)\n",
    "\n",
    "* 중복을 허용하지 않는 집합 (순서가 없음) \n",
    "* 중괄호 { } 이용하여 만듬. 또는 set(리스트, 딕셔너리, 튜플 등등...) 함수 이용하여 만듬\n",
    "* 집합연산자가 가능함. 교집합 합집합, 차집합 "
   ]
  },
  {
   "cell_type": "code",
   "execution_count": 14,
   "id": "15b209cc",
   "metadata": {},
   "outputs": [
    {
     "data": {
      "text/plain": [
       "{'apple', 'banana', 'orange'}"
      ]
     },
     "execution_count": 14,
     "metadata": {},
     "output_type": "execute_result"
    }
   ],
   "source": [
    "fruits = {'apple','orange','banana','banana'}\n",
    "fruits"
   ]
  },
  {
   "cell_type": "code",
   "execution_count": 17,
   "id": "7e603b8b",
   "metadata": {},
   "outputs": [
    {
     "name": "stdout",
     "output_type": "stream",
     "text": [
      "list:  {1, 2, 3}\n",
      "set:  {1, 2, 3}\n",
      "dictionary:  {'age', 'name'}\n"
     ]
    }
   ],
   "source": [
    "s1 = set([1,2,3,1,1])\n",
    "s2 = set((1,2,3,))\n",
    "s3 = set({'name':'홍길동','age':30})\n",
    "\n",
    "\n",
    "print('list: ',s1)\n",
    "print('set: ',s2)\n",
    "print('dictionary: ',s3) # 키 값만 출력이 됨 "
   ]
  },
  {
   "cell_type": "code",
   "execution_count": 24,
   "id": "01b41993",
   "metadata": {},
   "outputs": [
    {
     "data": {
      "text/plain": [
       "{(5, 6, 7), 1, 2, 3, 4, False}"
      ]
     },
     "execution_count": 24,
     "metadata": {},
     "output_type": "execute_result"
    }
   ],
   "source": [
    "s2.add(4) ## 여러번 실행해도 1번만 추가됨. 모든 기본 자료형 가능하며, 튜플 또한 가능함\n",
    "s2.add(False)\n",
    "s2"
   ]
  },
  {
   "cell_type": "code",
   "execution_count": 25,
   "id": "950eea6c",
   "metadata": {},
   "outputs": [
    {
     "data": {
      "text/plain": [
       "{(5, 6, 7), 1, 2, 3, 4, False}"
      ]
     },
     "execution_count": 25,
     "metadata": {},
     "output_type": "execute_result"
    }
   ],
   "source": [
    "s2.add(0) # False 값을 0으로 간주하기 때문에 중복되어서 안 들어감 \n",
    "s2"
   ]
  },
  {
   "cell_type": "code",
   "execution_count": 22,
   "id": "6447372d",
   "metadata": {},
   "outputs": [
    {
     "data": {
      "text/plain": [
       "{(5, 6, 7), 1, 2, 3, 4}"
      ]
     },
     "execution_count": 22,
     "metadata": {},
     "output_type": "execute_result"
    }
   ],
   "source": [
    "s2.add((5,6,7))\n",
    "s2"
   ]
  },
  {
   "cell_type": "code",
   "execution_count": 23,
   "id": "28c04a45",
   "metadata": {},
   "outputs": [
    {
     "ename": "TypeError",
     "evalue": "unhashable type: 'list'",
     "output_type": "error",
     "traceback": [
      "\u001b[1;31m---------------------------------------------------------------------------\u001b[0m",
      "\u001b[1;31mTypeError\u001b[0m                                 Traceback (most recent call last)",
      "\u001b[1;32m<ipython-input-23-3b30798db986>\u001b[0m in \u001b[0;36m<module>\u001b[1;34m\u001b[0m\n\u001b[1;32m----> 1\u001b[1;33m \u001b[0ms2\u001b[0m\u001b[1;33m.\u001b[0m\u001b[0madd\u001b[0m\u001b[1;33m(\u001b[0m\u001b[1;33m[\u001b[0m\u001b[1;36m5\u001b[0m\u001b[1;33m,\u001b[0m\u001b[1;36m6\u001b[0m\u001b[1;33m,\u001b[0m\u001b[1;36m7\u001b[0m\u001b[1;33m]\u001b[0m\u001b[1;33m)\u001b[0m \u001b[1;31m# add 함수로는 list 추가 불가\u001b[0m\u001b[1;33m\u001b[0m\u001b[1;33m\u001b[0m\u001b[0m\n\u001b[0m",
      "\u001b[1;31mTypeError\u001b[0m: unhashable type: 'list'"
     ]
    }
   ],
   "source": [
    "s2.add([5,6,7]) # add 함수로는 list 추가 불가 -> update() 이용"
   ]
  },
  {
   "cell_type": "code",
   "execution_count": 26,
   "id": "b920d734",
   "metadata": {},
   "outputs": [
    {
     "ename": "TypeError",
     "evalue": "unhashable type: 'dict'",
     "output_type": "error",
     "traceback": [
      "\u001b[1;31m---------------------------------------------------------------------------\u001b[0m",
      "\u001b[1;31mTypeError\u001b[0m                                 Traceback (most recent call last)",
      "\u001b[1;32m<ipython-input-26-c3522f4ebfe3>\u001b[0m in \u001b[0;36m<module>\u001b[1;34m\u001b[0m\n\u001b[1;32m----> 1\u001b[1;33m \u001b[0ms2\u001b[0m\u001b[1;33m.\u001b[0m\u001b[0madd\u001b[0m\u001b[1;33m(\u001b[0m\u001b[1;33m{\u001b[0m\u001b[1;34m'name'\u001b[0m\u001b[1;33m:\u001b[0m\u001b[1;34m'kim'\u001b[0m\u001b[1;33m,\u001b[0m\u001b[1;34m'age'\u001b[0m\u001b[1;33m:\u001b[0m\u001b[1;36m23\u001b[0m\u001b[1;33m}\u001b[0m\u001b[1;33m)\u001b[0m\u001b[1;33m\u001b[0m\u001b[1;33m\u001b[0m\u001b[0m\n\u001b[0m",
      "\u001b[1;31mTypeError\u001b[0m: unhashable type: 'dict'"
     ]
    }
   ],
   "source": [
    "s2.add({'name':'kim','age':23}) # add 함수로는 list 추가 불가 -> update() 이용"
   ]
  },
  {
   "cell_type": "code",
   "execution_count": 27,
   "id": "8c6653a1",
   "metadata": {},
   "outputs": [
    {
     "data": {
      "text/plain": [
       "{1, 2, 3, 4, 5, 6}"
      ]
     },
     "execution_count": 27,
     "metadata": {},
     "output_type": "execute_result"
    }
   ],
   "source": [
    "s1 = {1,2,3}\n",
    "s1.update([4,5,6,1])\n",
    "s1"
   ]
  },
  {
   "cell_type": "code",
   "execution_count": 32,
   "id": "69f92807",
   "metadata": {},
   "outputs": [
    {
     "data": {
      "text/plain": [
       "{1, 2, 3, 4, 5, 6, 'age', 'name'}"
      ]
     },
     "execution_count": 32,
     "metadata": {},
     "output_type": "execute_result"
    }
   ],
   "source": [
    "s1.update({'name':'kim','age':23}) # key 값만 입력이 됨 \n",
    "s1"
   ]
  },
  {
   "cell_type": "code",
   "execution_count": 33,
   "id": "07e064d5",
   "metadata": {},
   "outputs": [
    {
     "data": {
      "text/plain": [
       "{1, 2, 3, 4, 5, 6, 'age'}"
      ]
     },
     "execution_count": 33,
     "metadata": {},
     "output_type": "execute_result"
    }
   ],
   "source": [
    "s1.remove('name')\n",
    "s1"
   ]
  },
  {
   "cell_type": "code",
   "execution_count": 34,
   "id": "3cf3ceee",
   "metadata": {},
   "outputs": [
    {
     "ename": "KeyError",
     "evalue": "'kim'",
     "output_type": "error",
     "traceback": [
      "\u001b[1;31m---------------------------------------------------------------------------\u001b[0m",
      "\u001b[1;31mKeyError\u001b[0m                                  Traceback (most recent call last)",
      "\u001b[1;32m<ipython-input-34-d16cb479a924>\u001b[0m in \u001b[0;36m<module>\u001b[1;34m\u001b[0m\n\u001b[1;32m----> 1\u001b[1;33m \u001b[0ms1\u001b[0m\u001b[1;33m.\u001b[0m\u001b[0mremove\u001b[0m\u001b[1;33m(\u001b[0m\u001b[1;34m'kim'\u001b[0m\u001b[1;33m)\u001b[0m\u001b[1;33m\u001b[0m\u001b[1;33m\u001b[0m\u001b[0m\n\u001b[0m\u001b[0;32m      2\u001b[0m \u001b[0ms1\u001b[0m\u001b[1;33m\u001b[0m\u001b[1;33m\u001b[0m\u001b[0m\n",
      "\u001b[1;31mKeyError\u001b[0m: 'kim'"
     ]
    }
   ],
   "source": [
    "s1.remove('kim') # 없는 데이터를 지우려 하면 에러남 \n",
    "s1"
   ]
  },
  {
   "cell_type": "code",
   "execution_count": 35,
   "id": "1a8a3346",
   "metadata": {},
   "outputs": [
    {
     "name": "stdout",
     "output_type": "stream",
     "text": [
      "s1 =  {1, 2, 3, 4, 5, 6}\n",
      "s2 =  {4, 5, 6, 7, 8, 9}\n",
      "교집합  {4, 5, 6}\n",
      "합집합  {1, 2, 3, 4, 5, 6, 7, 8, 9}\n",
      "차집합  {1, 2, 3}\n"
     ]
    }
   ],
   "source": [
    "s1 = {1,2,3,4,5,6}\n",
    "s2 = {4,5,6,7,8,9}\n",
    "\n",
    "print('s1 = ',s1)\n",
    "print('s2 = ',s2)\n",
    "print('교집합 ',s1&s2) # & : 교집합, and 논리연산자, 비트연산자\n",
    "print('합집합 ',s1|s2)\n",
    "print('차집합 ',s1-s2)"
   ]
  },
  {
   "cell_type": "code",
   "execution_count": 36,
   "id": "ebcfde8e",
   "metadata": {},
   "outputs": [
    {
     "name": "stdout",
     "output_type": "stream",
     "text": [
      "{'sunja', 'kilja', 'kildong'}\n"
     ]
    }
   ],
   "source": [
    "name = {'kildong','kilja','sunja'} # 인덱스로는 접근이 불가 (데이터가 순서가 없음 set은) -> enumerate() 이용 \n",
    "print(name)"
   ]
  },
  {
   "cell_type": "code",
   "execution_count": 39,
   "id": "c066ffce",
   "metadata": {},
   "outputs": [
    {
     "name": "stdout",
     "output_type": "stream",
     "text": [
      "sunja  kilja  kildong  "
     ]
    }
   ],
   "source": [
    "for n in name:\n",
    "    print(n, end='  ')"
   ]
  },
  {
   "cell_type": "markdown",
   "id": "beae3842",
   "metadata": {},
   "source": [
    "## 6절. enumerate\n",
    "\n",
    "* 반복자 또는 순서 객체로 반복문을 처리할 때 인덱스 처리를 해결하는 함수  "
   ]
  },
  {
   "cell_type": "code",
   "execution_count": 40,
   "id": "0ae5105d",
   "metadata": {},
   "outputs": [
    {
     "data": {
      "text/plain": [
       "[(0, 'sunja'), (1, 'kilja'), (2, 'kildong')]"
      ]
     },
     "execution_count": 40,
     "metadata": {},
     "output_type": "execute_result"
    }
   ],
   "source": [
    "list(enumerate(name))"
   ]
  },
  {
   "cell_type": "code",
   "execution_count": 41,
   "id": "8aae6a12",
   "metadata": {},
   "outputs": [
    {
     "name": "stdout",
     "output_type": "stream",
     "text": [
      "0 번째 : sunja\n",
      "1 번째 : kilja\n",
      "2 번째 : kildong\n"
     ]
    }
   ],
   "source": [
    "for index, value in enumerate(name):\n",
    "    print('{} 번째 : {}'.format(index, value))"
   ]
  },
  {
   "cell_type": "code",
   "execution_count": 43,
   "id": "e3beab13",
   "metadata": {},
   "outputs": [
    {
     "name": "stdout",
     "output_type": "stream",
     "text": [
      "0번째, 이름은 길자\n",
      "1번째, 이름은 순자\n",
      "2번째, 이름은 길동\n"
     ]
    }
   ],
   "source": [
    "L = ['길자','순자','길동']\n",
    "\n",
    "for idx, name in enumerate(L):\n",
    "    print('{}번째, 이름은 {}'.format(idx,name))"
   ]
  },
  {
   "cell_type": "code",
   "execution_count": 47,
   "id": "9d0b1860",
   "metadata": {},
   "outputs": [
    {
     "name": "stdout",
     "output_type": "stream",
     "text": [
      "name : 홍길동\n",
      "age : 35\n",
      "address : 마포구\n"
     ]
    }
   ],
   "source": [
    "dic = {'name':'홍길동','age':35,'address':'마포구'}\n",
    "\n",
    "for key, value in dic.items():\n",
    "    print('{} : {}'.format(key,value))"
   ]
  },
  {
   "cell_type": "code",
   "execution_count": 49,
   "id": "574e6976",
   "metadata": {},
   "outputs": [
    {
     "data": {
      "text/plain": [
       "[(0, 'name'), (1, 'age'), (2, 'address')]"
      ]
     },
     "execution_count": 49,
     "metadata": {},
     "output_type": "execute_result"
    }
   ],
   "source": [
    "list(enumerate(dic))"
   ]
  },
  {
   "cell_type": "code",
   "execution_count": 50,
   "id": "b7c886dc",
   "metadata": {},
   "outputs": [
    {
     "data": {
      "text/plain": [
       "[(0, ('name', '홍길동')), (1, ('age', 35)), (2, ('address', '마포구'))]"
      ]
     },
     "execution_count": 50,
     "metadata": {},
     "output_type": "execute_result"
    }
   ],
   "source": [
    "list(enumerate(dic.items()))"
   ]
  },
  {
   "cell_type": "code",
   "execution_count": 52,
   "id": "666701dc",
   "metadata": {},
   "outputs": [
    {
     "name": "stdout",
     "output_type": "stream",
     "text": [
      "인덱스: 0, 키값: name, 인자값: 홍길동\n",
      "인덱스: 1, 키값: age, 인자값: 35\n",
      "인덱스: 2, 키값: address, 인자값: 마포구\n"
     ]
    }
   ],
   "source": [
    "for idx , (key,value) in enumerate(dic.items()):\n",
    "    print('인덱스: {}, 키값: {}, 인자값: {}'.format(idx,key,value))"
   ]
  }
 ],
 "metadata": {
  "kernelspec": {
   "display_name": "Python 3",
   "language": "python",
   "name": "python3"
  },
  "language_info": {
   "codemirror_mode": {
    "name": "ipython",
    "version": 3
   },
   "file_extension": ".py",
   "mimetype": "text/x-python",
   "name": "python",
   "nbconvert_exporter": "python",
   "pygments_lexer": "ipython3",
   "version": "3.8.8"
  },
  "toc": {
   "base_numbering": 1,
   "nav_menu": {},
   "number_sections": false,
   "sideBar": true,
   "skip_h1_title": false,
   "title_cell": "Table of Contents",
   "title_sidebar": "Contents",
   "toc_cell": false,
   "toc_position": {
    "height": "calc(100% - 180px)",
    "left": "10px",
    "top": "150px",
    "width": "357.83px"
   },
   "toc_section_display": true,
   "toc_window_display": true
  },
  "varInspector": {
   "cols": {
    "lenName": 16,
    "lenType": 16,
    "lenVar": 40
   },
   "kernels_config": {
    "python": {
     "delete_cmd_postfix": "",
     "delete_cmd_prefix": "del ",
     "library": "var_list.py",
     "varRefreshCmd": "print(var_dic_list())"
    },
    "r": {
     "delete_cmd_postfix": ") ",
     "delete_cmd_prefix": "rm(",
     "library": "var_list.r",
     "varRefreshCmd": "cat(var_dic_list()) "
    }
   },
   "position": {
    "height": "463.212px",
    "left": "1659.76px",
    "right": "20px",
    "top": "18.9792px",
    "width": "350px"
   },
   "types_to_exclude": [
    "module",
    "function",
    "builtin_function_or_method",
    "instance",
    "_Feature"
   ],
   "window_display": true
  }
 },
 "nbformat": 4,
 "nbformat_minor": 5
}
