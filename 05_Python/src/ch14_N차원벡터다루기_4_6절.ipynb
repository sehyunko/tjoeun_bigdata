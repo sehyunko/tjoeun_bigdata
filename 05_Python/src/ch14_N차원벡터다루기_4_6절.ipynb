{
 "cells": [
  {
   "cell_type": "markdown",
   "id": "9b4a7664",
   "metadata": {},
   "source": [
    "<b><font size=6 color='green'>ch14. N차원 배열 다루기</font>"
   ]
  },
  {
   "cell_type": "markdown",
   "id": "3cd83ca1",
   "metadata": {},
   "source": [
    "# 4절. 복사와 뷰"
   ]
  },
  {
   "cell_type": "markdown",
   "id": "eb9a5e39",
   "metadata": {},
   "source": [
    "## 4.1 할당시 복사 안 함 (스칼라 변수 제외)"
   ]
  },
  {
   "cell_type": "code",
   "execution_count": 1,
   "id": "11fe58fa",
   "metadata": {
    "ExecuteTime": {
     "end_time": "2021-07-30T03:51:11.917923Z",
     "start_time": "2021-07-30T03:51:11.904978Z"
    }
   },
   "outputs": [],
   "source": [
    "# 스칼라 변수\n",
    "a = 10\n",
    "b = 'Hello'\n",
    "c = 1.2"
   ]
  },
  {
   "cell_type": "code",
   "execution_count": 4,
   "id": "ea56eb92",
   "metadata": {
    "ExecuteTime": {
     "end_time": "2021-07-30T03:54:54.639088Z",
     "start_time": "2021-07-30T03:54:54.629093Z"
    }
   },
   "outputs": [
    {
     "name": "stdout",
     "output_type": "stream",
     "text": [
      "수정전\n",
      "a= 90 이고 a1= 90\n",
      "수정후\n",
      "a= 90 이고 a1= 90\n"
     ]
    }
   ],
   "source": [
    "a1 = a \n",
    "print('수정전')\n",
    "print('a=',a,'이고 a1=',a1)\n",
    "a=90\n",
    "print('수정후')\n",
    "print('a=',a,'이고 a1=',a1)"
   ]
  },
  {
   "cell_type": "code",
   "execution_count": 5,
   "id": "6c8cbb5f",
   "metadata": {
    "ExecuteTime": {
     "end_time": "2021-07-30T03:55:57.541811Z",
     "start_time": "2021-07-30T03:55:57.530840Z"
    }
   },
   "outputs": [
    {
     "data": {
      "text/plain": [
       "array([ 0,  1,  2,  3,  4,  5,  6,  7,  8,  9, 10, 11])"
      ]
     },
     "execution_count": 5,
     "metadata": {},
     "output_type": "execute_result"
    }
   ],
   "source": [
    "#  배열일 경우 \n",
    "\n",
    "a = np.arange(12)\n",
    "a"
   ]
  },
  {
   "cell_type": "code",
   "execution_count": 9,
   "id": "928e1fd7",
   "metadata": {
    "ExecuteTime": {
     "end_time": "2021-07-30T03:57:31.636868Z",
     "start_time": "2021-07-30T03:57:31.619913Z"
    }
   },
   "outputs": [
    {
     "name": "stdout",
     "output_type": "stream",
     "text": [
      "(12,)\n",
      "<class 'numpy.ndarray'>\n",
      "1\n"
     ]
    }
   ],
   "source": [
    "print(a.shape)\n",
    "print(type(a))\n",
    "print(a.ndim)"
   ]
  },
  {
   "cell_type": "code",
   "execution_count": 10,
   "id": "c19b3c7f",
   "metadata": {
    "ExecuteTime": {
     "end_time": "2021-07-30T03:57:41.609827Z",
     "start_time": "2021-07-30T03:57:41.602845Z"
    }
   },
   "outputs": [
    {
     "data": {
      "text/plain": [
       "True"
      ]
     },
     "execution_count": 10,
     "metadata": {},
     "output_type": "execute_result"
    }
   ],
   "source": [
    "b = a\n",
    "b is a ## b==a 이건 b와 a의 값이 같은지를 비교. b is a 는 두 변수가 같은 객체인지 비교"
   ]
  },
  {
   "cell_type": "code",
   "execution_count": 11,
   "id": "9bd0ad30",
   "metadata": {
    "ExecuteTime": {
     "end_time": "2021-07-30T03:58:34.562983Z",
     "start_time": "2021-07-30T03:58:34.547027Z"
    }
   },
   "outputs": [
    {
     "data": {
      "text/plain": [
       "True"
      ]
     },
     "execution_count": 11,
     "metadata": {},
     "output_type": "execute_result"
    }
   ],
   "source": [
    "np.all(b==a) ## 모든 요소가 True 인지 반환 "
   ]
  },
  {
   "cell_type": "markdown",
   "id": "d96a24a3",
   "metadata": {
    "ExecuteTime": {
     "end_time": "2021-07-30T03:59:35.493727Z",
     "start_time": "2021-07-30T03:59:35.474778Z"
    }
   },
   "source": [
    "## 4.2 얕은 복사: 뷰(view) "
   ]
  },
  {
   "cell_type": "code",
   "execution_count": 18,
   "id": "1610fc49",
   "metadata": {
    "ExecuteTime": {
     "end_time": "2021-07-30T04:11:28.824257Z",
     "start_time": "2021-07-30T04:11:28.819299Z"
    }
   },
   "outputs": [],
   "source": [
    "a = a.reshape(3,4)"
   ]
  },
  {
   "cell_type": "code",
   "execution_count": 19,
   "id": "39563963",
   "metadata": {
    "ExecuteTime": {
     "end_time": "2021-07-30T04:11:32.058226Z",
     "start_time": "2021-07-30T04:11:32.043267Z"
    }
   },
   "outputs": [
    {
     "data": {
      "text/plain": [
       "False"
      ]
     },
     "execution_count": 19,
     "metadata": {},
     "output_type": "execute_result"
    }
   ],
   "source": [
    "c = a.view()\n",
    "c is a "
   ]
  },
  {
   "cell_type": "code",
   "execution_count": 20,
   "id": "cf26ec16",
   "metadata": {
    "ExecuteTime": {
     "end_time": "2021-07-30T04:11:33.700359Z",
     "start_time": "2021-07-30T04:11:33.690364Z"
    }
   },
   "outputs": [
    {
     "data": {
      "text/plain": [
       "True"
      ]
     },
     "execution_count": 20,
     "metadata": {},
     "output_type": "execute_result"
    }
   ],
   "source": [
    "np.all(c==a) # c가 a의 요소들을 모두 복사함. 다만, a처럼 c는 메모리를 독자적으로 소유하지 않음. "
   ]
  },
  {
   "cell_type": "code",
   "execution_count": 21,
   "id": "b9179784",
   "metadata": {
    "ExecuteTime": {
     "end_time": "2021-07-30T04:11:33.869953Z",
     "start_time": "2021-07-30T04:11:33.858958Z"
    }
   },
   "outputs": [
    {
     "data": {
      "text/plain": [
       "array([[ 0,  1,  2,  3],\n",
       "       [ 4,  5,  6,  7],\n",
       "       [ 8,  9, 10, 11]])"
      ]
     },
     "execution_count": 21,
     "metadata": {},
     "output_type": "execute_result"
    }
   ],
   "source": [
    "c"
   ]
  },
  {
   "cell_type": "code",
   "execution_count": 22,
   "id": "76c9cb3c",
   "metadata": {
    "ExecuteTime": {
     "end_time": "2021-07-30T04:11:42.420273Z",
     "start_time": "2021-07-30T04:11:42.411275Z"
    }
   },
   "outputs": [
    {
     "data": {
      "text/plain": [
       "array([[  0,   1, 999,   3],\n",
       "       [  4,   5, 999,   7],\n",
       "       [  8,   9, 999,  11]])"
      ]
     },
     "execution_count": 22,
     "metadata": {},
     "output_type": "execute_result"
    }
   ],
   "source": [
    "c[:,2] = 999\n",
    "c"
   ]
  },
  {
   "cell_type": "code",
   "execution_count": 23,
   "id": "7b331eb6",
   "metadata": {
    "ExecuteTime": {
     "end_time": "2021-07-30T04:11:44.717921Z",
     "start_time": "2021-07-30T04:11:44.698945Z"
    }
   },
   "outputs": [
    {
     "data": {
      "text/plain": [
       "array([[  0,   1, 999,   3],\n",
       "       [  4,   5, 999,   7],\n",
       "       [  8,   9, 999,  11]])"
      ]
     },
     "execution_count": 23,
     "metadata": {},
     "output_type": "execute_result"
    }
   ],
   "source": [
    "a # c가 메모리를 독자적으로 사용하지 않으므로, c를 바꾸면 원본인 a의 내용도 바뀜"
   ]
  },
  {
   "cell_type": "code",
   "execution_count": 24,
   "id": "3e857d90",
   "metadata": {
    "ExecuteTime": {
     "end_time": "2021-07-30T04:15:49.283413Z",
     "start_time": "2021-07-30T04:15:49.267426Z"
    }
   },
   "outputs": [
    {
     "name": "stdout",
     "output_type": "stream",
     "text": [
      "[[ 2  1  9 50]\n",
      " [ 7  5  7 80]\n",
      " [17  6  7 90]]\n",
      "[[ 2  1  9]\n",
      " [ 7  5  7]\n",
      " [17  6  7]]\n"
     ]
    }
   ],
   "source": [
    "# 슬라이싱이 될 떄 뷰가 반환됨 -> 슬라이싱을 통한 split은 얕은 복사\n",
    "\n",
    "a = np.array([[2,1,9,50],\n",
    "              [7,5,7,80],\n",
    "              [17,6,7,90]])\n",
    "\n",
    "x = a[:,:-1] \n",
    "print(a)\n",
    "print(x)"
   ]
  },
  {
   "cell_type": "code",
   "execution_count": 25,
   "id": "79a12f69",
   "metadata": {
    "ExecuteTime": {
     "end_time": "2021-07-30T04:17:21.621334Z",
     "start_time": "2021-07-30T04:17:21.611361Z"
    }
   },
   "outputs": [
    {
     "data": {
      "text/plain": [
       "array([[99,  1,  9, 50],\n",
       "       [99,  5,  7, 80],\n",
       "       [99,  6,  7, 90]])"
      ]
     },
     "execution_count": 25,
     "metadata": {},
     "output_type": "execute_result"
    }
   ],
   "source": [
    "x[:,0] = 99\n",
    "a"
   ]
  },
  {
   "cell_type": "markdown",
   "id": "a0641e73",
   "metadata": {},
   "source": [
    "## 4.3 깊은 복사 : copy()"
   ]
  },
  {
   "cell_type": "code",
   "execution_count": 27,
   "id": "6e4c9f55",
   "metadata": {
    "ExecuteTime": {
     "end_time": "2021-07-30T05:37:38.826743Z",
     "start_time": "2021-07-30T05:37:38.820731Z"
    }
   },
   "outputs": [],
   "source": [
    "a = np.arange(12).reshape(3,4)\n",
    "d = a.copy()\n"
   ]
  },
  {
   "cell_type": "code",
   "execution_count": 28,
   "id": "dd7e8197",
   "metadata": {
    "ExecuteTime": {
     "end_time": "2021-07-30T05:39:07.319045Z",
     "start_time": "2021-07-30T05:39:07.309072Z"
    }
   },
   "outputs": [
    {
     "data": {
      "text/plain": [
       "array([[99,  1,  2,  3],\n",
       "       [99,  5,  6,  7],\n",
       "       [99,  9, 10, 11]])"
      ]
     },
     "execution_count": 28,
     "metadata": {},
     "output_type": "execute_result"
    }
   ],
   "source": [
    "a[:,0] = 99 \n",
    "a"
   ]
  },
  {
   "cell_type": "code",
   "execution_count": 29,
   "id": "a5c19b68",
   "metadata": {
    "ExecuteTime": {
     "end_time": "2021-07-30T05:39:08.463575Z",
     "start_time": "2021-07-30T05:39:08.444599Z"
    }
   },
   "outputs": [
    {
     "data": {
      "text/plain": [
       "array([[ 0,  1,  2,  3],\n",
       "       [ 4,  5,  6,  7],\n",
       "       [ 8,  9, 10, 11]])"
      ]
     },
     "execution_count": 29,
     "metadata": {},
     "output_type": "execute_result"
    }
   ],
   "source": [
    "d"
   ]
  },
  {
   "cell_type": "code",
   "execution_count": 31,
   "id": "aed58c1b",
   "metadata": {
    "ExecuteTime": {
     "end_time": "2021-07-30T05:40:13.436635Z",
     "start_time": "2021-07-30T05:40:13.420864Z"
    }
   },
   "outputs": [
    {
     "name": "stdout",
     "output_type": "stream",
     "text": [
      "[[ 2  1  9 50]\n",
      " [ 7  5  7 80]\n",
      " [17  6  7 90]]\n",
      "\n",
      "[[ 2  1  9]\n",
      " [ 7  5  7]\n",
      " [17  6  7]]\n"
     ]
    }
   ],
   "source": [
    "# 슬라이싱이 될 때 뷰가 반환 되므로 copy()를 통해 깊은 복사를 함 \n",
    "a = np.array([[2,1,9,50],\n",
    "              [7,5,7,80],\n",
    "              [17,6,7,90]])\n",
    "\n",
    "x = a[:,:-1].copy()\n",
    "print(a,end='\\n\\n')\n",
    "print(x) # 바뀌지 않음 "
   ]
  },
  {
   "cell_type": "code",
   "execution_count": 32,
   "id": "1e8a6e62",
   "metadata": {
    "ExecuteTime": {
     "end_time": "2021-07-30T05:41:35.495935Z",
     "start_time": "2021-07-30T05:41:35.476959Z"
    }
   },
   "outputs": [
    {
     "name": "stdout",
     "output_type": "stream",
     "text": [
      "[[999 999 999]\n",
      " [  7   5   7]\n",
      " [ 17   6   7]]\n",
      "\n",
      "[[ 2  1  9 50]\n",
      " [ 7  5  7 80]\n",
      " [17  6  7 90]]\n"
     ]
    }
   ],
   "source": [
    "x[0] = [999,999,999]\n",
    "print(x, end='\\n\\n')\n",
    "print(a) # 바뀌지 않음 "
   ]
  },
  {
   "cell_type": "markdown",
   "id": "cfef7f8e",
   "metadata": {},
   "source": [
    "# 5절. 고급인덱싱 "
   ]
  },
  {
   "cell_type": "markdown",
   "id": "dd943b21",
   "metadata": {},
   "source": [
    "## 5.1 인덱스 배열로 인덱싱"
   ]
  },
  {
   "cell_type": "code",
   "execution_count": 34,
   "id": "acd678c8",
   "metadata": {
    "ExecuteTime": {
     "end_time": "2021-07-30T05:43:01.687101Z",
     "start_time": "2021-07-30T05:43:01.677106Z"
    }
   },
   "outputs": [
    {
     "data": {
      "text/plain": [
       "array([ 0,  2,  4,  6,  8, 10, 12, 14, 16, 18, 20, 22])"
      ]
     },
     "execution_count": 34,
     "metadata": {},
     "output_type": "execute_result"
    }
   ],
   "source": [
    "a = np.arange(12)*2\n",
    "a"
   ]
  },
  {
   "cell_type": "code",
   "execution_count": 35,
   "id": "b3a92b95",
   "metadata": {
    "ExecuteTime": {
     "end_time": "2021-07-30T05:43:54.444683Z",
     "start_time": "2021-07-30T05:43:54.429698Z"
    }
   },
   "outputs": [],
   "source": [
    "i = np.array([1,1,3,8,5])"
   ]
  },
  {
   "cell_type": "code",
   "execution_count": 36,
   "id": "196ceb3b",
   "metadata": {
    "ExecuteTime": {
     "end_time": "2021-07-30T05:44:00.532053Z",
     "start_time": "2021-07-30T05:44:00.525073Z"
    }
   },
   "outputs": [
    {
     "data": {
      "text/plain": [
       "array([ 2,  2,  6, 16, 10])"
      ]
     },
     "execution_count": 36,
     "metadata": {},
     "output_type": "execute_result"
    }
   ],
   "source": [
    "a[i]"
   ]
  },
  {
   "cell_type": "code",
   "execution_count": 37,
   "id": "98d087f4",
   "metadata": {
    "ExecuteTime": {
     "end_time": "2021-07-30T05:46:31.851763Z",
     "start_time": "2021-07-30T05:46:31.837829Z"
    }
   },
   "outputs": [],
   "source": [
    "j = np.array([[3,4],\n",
    "              [9,7]])"
   ]
  },
  {
   "cell_type": "code",
   "execution_count": 38,
   "id": "14d091fd",
   "metadata": {
    "ExecuteTime": {
     "end_time": "2021-07-30T05:47:01.979419Z",
     "start_time": "2021-07-30T05:47:01.965435Z"
    }
   },
   "outputs": [
    {
     "data": {
      "text/plain": [
       "array([[ 6,  8],\n",
       "       [18, 14]])"
      ]
     },
     "execution_count": 38,
     "metadata": {},
     "output_type": "execute_result"
    }
   ],
   "source": [
    "a[j]"
   ]
  },
  {
   "cell_type": "code",
   "execution_count": 41,
   "id": "cc7329e5",
   "metadata": {
    "ExecuteTime": {
     "end_time": "2021-07-30T06:00:19.374610Z",
     "start_time": "2021-07-30T06:00:19.357651Z"
    }
   },
   "outputs": [
    {
     "data": {
      "text/plain": [
       "array([[  0,   0,   0],\n",
       "       [255,   0,   0],\n",
       "       [  0, 255,   0],\n",
       "       [  0,   0, 255],\n",
       "       [255, 255, 255]])"
      ]
     },
     "execution_count": 41,
     "metadata": {},
     "output_type": "execute_result"
    }
   ],
   "source": [
    "                    # r,g,b\n",
    "palette = np.array([[0,0,0], # black\n",
    "                    [255,0,0], #red\n",
    "                    [0,255,0], # green\n",
    "                    [0,0,255], # blue\n",
    "                    [255,255,255]]) # white\n",
    "palette"
   ]
  },
  {
   "cell_type": "code",
   "execution_count": 47,
   "id": "5e6247d4",
   "metadata": {
    "ExecuteTime": {
     "end_time": "2021-07-30T06:06:18.692041Z",
     "start_time": "2021-07-30T06:06:18.670123Z"
    }
   },
   "outputs": [
    {
     "data": {
      "text/plain": [
       "array([[[255, 255, 255],\n",
       "        [255, 255, 255],\n",
       "        [255, 255, 255],\n",
       "        [  0,   0,   0],\n",
       "        [  0,   0,   0],\n",
       "        [  0,   0,   0],\n",
       "        [  0,   0,   0],\n",
       "        [255, 255, 255],\n",
       "        [255, 255, 255],\n",
       "        [255, 255, 255]],\n",
       "\n",
       "       [[255, 255, 255],\n",
       "        [  0,   0,   0],\n",
       "        [  0,   0,   0],\n",
       "        [255, 255, 255],\n",
       "        [255, 255, 255],\n",
       "        [255, 255, 255],\n",
       "        [255, 255, 255],\n",
       "        [  0,   0,   0],\n",
       "        [  0,   0,   0],\n",
       "        [255, 255, 255]],\n",
       "\n",
       "       [[  0,   0,   0],\n",
       "        [  0,   0,   0],\n",
       "        [255, 255, 255],\n",
       "        [255, 255, 255],\n",
       "        [255, 255, 255],\n",
       "        [255, 255, 255],\n",
       "        [255, 255, 255],\n",
       "        [255, 255, 255],\n",
       "        [  0,   0,   0],\n",
       "        [  0,   0,   0]],\n",
       "\n",
       "       [[  0,   0,   0],\n",
       "        [255, 255, 255],\n",
       "        [255, 255, 255],\n",
       "        [255,   0,   0],\n",
       "        [255, 255, 255],\n",
       "        [255, 255, 255],\n",
       "        [  0,   0, 255],\n",
       "        [255, 255, 255],\n",
       "        [255, 255, 255],\n",
       "        [  0,   0,   0]],\n",
       "\n",
       "       [[  0,   0,   0],\n",
       "        [255, 255, 255],\n",
       "        [255, 255, 255],\n",
       "        [255,   0,   0],\n",
       "        [255, 255, 255],\n",
       "        [255, 255, 255],\n",
       "        [  0,   0, 255],\n",
       "        [255, 255, 255],\n",
       "        [255, 255, 255],\n",
       "        [  0,   0,   0]],\n",
       "\n",
       "       [[  0,   0,   0],\n",
       "        [255, 255, 255],\n",
       "        [255, 255, 255],\n",
       "        [255, 255, 255],\n",
       "        [255, 255, 255],\n",
       "        [255, 255, 255],\n",
       "        [255, 255, 255],\n",
       "        [255, 255, 255],\n",
       "        [255, 255, 255],\n",
       "        [  0,   0,   0]],\n",
       "\n",
       "       [[  0,   0,   0],\n",
       "        [255, 255, 255],\n",
       "        [255, 255, 255],\n",
       "        [  0, 255,   0],\n",
       "        [255, 255, 255],\n",
       "        [255, 255, 255],\n",
       "        [  0, 255,   0],\n",
       "        [255, 255, 255],\n",
       "        [255, 255, 255],\n",
       "        [  0,   0,   0]],\n",
       "\n",
       "       [[255, 255, 255],\n",
       "        [  0,   0,   0],\n",
       "        [255, 255, 255],\n",
       "        [255, 255, 255],\n",
       "        [  0, 255,   0],\n",
       "        [  0, 255,   0],\n",
       "        [255, 255, 255],\n",
       "        [255, 255, 255],\n",
       "        [  0,   0,   0],\n",
       "        [255, 255, 255]],\n",
       "\n",
       "       [[255, 255, 255],\n",
       "        [255, 255, 255],\n",
       "        [  0,   0,   0],\n",
       "        [255, 255, 255],\n",
       "        [255, 255, 255],\n",
       "        [255, 255, 255],\n",
       "        [255, 255, 255],\n",
       "        [  0,   0,   0],\n",
       "        [255, 255, 255],\n",
       "        [255, 255, 255]],\n",
       "\n",
       "       [[255, 255, 255],\n",
       "        [255, 255, 255],\n",
       "        [255, 255, 255],\n",
       "        [  0,   0,   0],\n",
       "        [  0,   0,   0],\n",
       "        [  0,   0,   0],\n",
       "        [  0,   0,   0],\n",
       "        [255, 255, 255],\n",
       "        [255, 255, 255],\n",
       "        [255, 255, 255]]])"
      ]
     },
     "execution_count": 47,
     "metadata": {},
     "output_type": "execute_result"
    }
   ],
   "source": [
    "image_index = np.array([[4,4,4,0,0,0,0,4,4,4],\n",
    "                        [4,0,0,4,4,4,4,0,0,4],\n",
    "                        [0,0,4,4,4,4,4,4,0,0],\n",
    "                        [0,4,4,1,4,4,3,4,4,0],\n",
    "                        [0,4,4,1,4,4,3,4,4,0],\n",
    "                        [0,4,4,4,4,4,4,4,4,0],\n",
    "                        [0,4,4,2,4,4,2,4,4,0],\n",
    "                        [4,0,4,4,2,2,4,4,0,4],\n",
    "                        [4,4,0,4,4,4,4,0,4,4],\n",
    "                        [4,4,4,0,0,0,0,4,4,4]])\n",
    "\n",
    "image_data = palette[image_index]\n",
    "image_data"
   ]
  },
  {
   "cell_type": "code",
   "execution_count": 48,
   "id": "5058ab08",
   "metadata": {
    "ExecuteTime": {
     "end_time": "2021-07-30T06:06:19.608997Z",
     "start_time": "2021-07-30T06:06:19.590048Z"
    }
   },
   "outputs": [
    {
     "data": {
      "text/plain": [
       "(10, 10, 3)"
      ]
     },
     "execution_count": 48,
     "metadata": {},
     "output_type": "execute_result"
    }
   ],
   "source": [
    "image_data.shape"
   ]
  },
  {
   "cell_type": "code",
   "execution_count": 51,
   "id": "5e3b1dcb",
   "metadata": {
    "ExecuteTime": {
     "end_time": "2021-07-30T06:07:07.262501Z",
     "start_time": "2021-07-30T06:07:07.133726Z"
    }
   },
   "outputs": [
    {
     "data": {
      "image/png": "[encoded data removed]",
      "text/plain": [
       "<Figure size 432x288 with 1 Axes>"
      ]
     },
     "metadata": {
      "needs_background": "light"
     },
     "output_type": "display_data"
    }
   ],
   "source": [
    "import matplotlib.pyplot as plt \n",
    "\n",
    "plt.imshow(image_data)\n",
    "plt.show()"
   ]
  },
  {
   "cell_type": "code",
   "execution_count": 55,
   "id": "9bac00ff",
   "metadata": {
    "ExecuteTime": {
     "end_time": "2021-07-30T06:33:33.878074Z",
     "start_time": "2021-07-30T06:33:33.870089Z"
    }
   },
   "outputs": [],
   "source": [
    "import tensorflow as tf"
   ]
  },
  {
   "cell_type": "code",
   "execution_count": 56,
   "id": "7f9cfa4d",
   "metadata": {
    "ExecuteTime": {
     "end_time": "2021-07-30T06:33:55.437487Z",
     "start_time": "2021-07-30T06:33:55.430508Z"
    }
   },
   "outputs": [
    {
     "data": {
      "text/plain": [
       "'2.5.0'"
      ]
     },
     "execution_count": 56,
     "metadata": {},
     "output_type": "execute_result"
    }
   ],
   "source": [
    "tf.__version__"
   ]
  },
  {
   "cell_type": "code",
   "execution_count": 59,
   "id": "80609926",
   "metadata": {
    "ExecuteTime": {
     "end_time": "2021-07-30T06:35:51.989326Z",
     "start_time": "2021-07-30T06:35:50.174120Z"
    }
   },
   "outputs": [
    {
     "name": "stdout",
     "output_type": "stream",
     "text": [
      "Downloading data from https://storage.googleapis.com/tensorflow/tf-keras-datasets/mnist.npz\n",
      "11493376/11490434 [==============================] - 1s 0us/step\n"
     ]
    }
   ],
   "source": [
    "from tensorflow.keras.datasets import mnist\n",
    "\n",
    "mnist = mnist.load_data()"
   ]
  },
  {
   "cell_type": "code",
   "execution_count": 62,
   "id": "68a3212f",
   "metadata": {
    "ExecuteTime": {
     "end_time": "2021-07-30T06:40:00.730174Z",
     "start_time": "2021-07-30T06:40:00.712219Z"
    }
   },
   "outputs": [
    {
     "data": {
      "text/plain": [
       "array([5, 0, 4, ..., 5, 6, 8], dtype=uint8)"
      ]
     },
     "execution_count": 62,
     "metadata": {},
     "output_type": "execute_result"
    }
   ],
   "source": [
    "mnist[0][1].shape\n",
    "mnist[0][1]"
   ]
  },
  {
   "cell_type": "code",
   "execution_count": 64,
   "id": "979ec035",
   "metadata": {
    "ExecuteTime": {
     "end_time": "2021-07-30T06:41:49.862342Z",
     "start_time": "2021-07-30T06:41:49.854337Z"
    }
   },
   "outputs": [
    {
     "data": {
      "text/plain": [
       "(10000, 28, 28)"
      ]
     },
     "execution_count": 64,
     "metadata": {},
     "output_type": "execute_result"
    }
   ],
   "source": [
    "mnist[1][0].shape # 독립변수 (테스트 데이터세트)"
   ]
  },
  {
   "cell_type": "code",
   "execution_count": 66,
   "id": "19ea79d6",
   "metadata": {
    "ExecuteTime": {
     "end_time": "2021-07-30T06:43:35.453018Z",
     "start_time": "2021-07-30T06:43:35.442050Z"
    }
   },
   "outputs": [
    {
     "data": {
      "text/plain": [
       "array([7, 2, 1, ..., 4, 5, 6], dtype=uint8)"
      ]
     },
     "execution_count": 66,
     "metadata": {},
     "output_type": "execute_result"
    }
   ],
   "source": [
    "mnist[1][1] # 종속 변수 (테스트셋)"
   ]
  },
  {
   "cell_type": "code",
   "execution_count": 73,
   "id": "49261fd8",
   "metadata": {
    "ExecuteTime": {
     "end_time": "2021-07-30T06:47:02.052223Z",
     "start_time": "2021-07-30T06:47:01.910404Z"
    }
   },
   "outputs": [
    {
     "data": {
      "image/png": "[encoded data removed]",
      "text/plain": [
       "<Figure size 432x288 with 1 Axes>"
      ]
     },
     "metadata": {
      "needs_background": "light"
     },
     "output_type": "display_data"
    }
   ],
   "source": [
    "X = mnist[0][0]\n",
    "y = mnist[0][1]\n",
    "\n",
    "import matplotlib.pyplot as plt \n",
    "\n",
    "plt.imshow(X[1])\n",
    "plt.show()"
   ]
  },
  {
   "cell_type": "code",
   "execution_count": 72,
   "id": "85a1daee",
   "metadata": {
    "ExecuteTime": {
     "end_time": "2021-07-30T06:46:54.939358Z",
     "start_time": "2021-07-30T06:46:54.926389Z"
    }
   },
   "outputs": [
    {
     "data": {
      "text/plain": [
       "0"
      ]
     },
     "execution_count": 72,
     "metadata": {},
     "output_type": "execute_result"
    }
   ],
   "source": [
    "y[1]"
   ]
  },
  {
   "cell_type": "code",
   "execution_count": 74,
   "id": "76abc711",
   "metadata": {
    "ExecuteTime": {
     "end_time": "2021-07-30T06:47:22.310388Z",
     "start_time": "2021-07-30T06:47:22.302409Z"
    }
   },
   "outputs": [
    {
     "data": {
      "text/plain": [
       "(28, 28)"
      ]
     },
     "execution_count": 74,
     "metadata": {},
     "output_type": "execute_result"
    }
   ],
   "source": [
    "X[1].shape"
   ]
  },
  {
   "cell_type": "code",
   "execution_count": 75,
   "id": "eca726d7",
   "metadata": {
    "ExecuteTime": {
     "end_time": "2021-07-30T06:47:38.240784Z",
     "start_time": "2021-07-30T06:47:38.214832Z"
    }
   },
   "outputs": [
    {
     "data": {
      "text/plain": [
       "[0,\n",
       " 0,\n",
       " 0,\n",
       " 0,\n",
       " 0,\n",
       " 0,\n",
       " 0,\n",
       " 0,\n",
       " 0,\n",
       " 0,\n",
       " 0,\n",
       " 0,\n",
       " 0,\n",
       " 0,\n",
       " 0,\n",
       " 0,\n",
       " 0,\n",
       " 0,\n",
       " 0,\n",
       " 0,\n",
       " 0,\n",
       " 0,\n",
       " 0,\n",
       " 0,\n",
       " 0,\n",
       " 0,\n",
       " 0,\n",
       " 0,\n",
       " 0,\n",
       " 0,\n",
       " 0,\n",
       " 0,\n",
       " 0,\n",
       " 0,\n",
       " 0,\n",
       " 0,\n",
       " 0,\n",
       " 0,\n",
       " 0,\n",
       " 0,\n",
       " 0,\n",
       " 0,\n",
       " 0,\n",
       " 0,\n",
       " 0,\n",
       " 0,\n",
       " 0,\n",
       " 0,\n",
       " 0,\n",
       " 0,\n",
       " 0,\n",
       " 0,\n",
       " 0,\n",
       " 0,\n",
       " 0,\n",
       " 0,\n",
       " 0,\n",
       " 0,\n",
       " 0,\n",
       " 0,\n",
       " 0,\n",
       " 0,\n",
       " 0,\n",
       " 0,\n",
       " 0,\n",
       " 0,\n",
       " 0,\n",
       " 0,\n",
       " 0,\n",
       " 0,\n",
       " 0,\n",
       " 0,\n",
       " 0,\n",
       " 0,\n",
       " 0,\n",
       " 0,\n",
       " 0,\n",
       " 0,\n",
       " 0,\n",
       " 0,\n",
       " 0,\n",
       " 0,\n",
       " 0,\n",
       " 0,\n",
       " 0,\n",
       " 0,\n",
       " 0,\n",
       " 0,\n",
       " 0,\n",
       " 0,\n",
       " 0,\n",
       " 0,\n",
       " 0,\n",
       " 0,\n",
       " 0,\n",
       " 0,\n",
       " 0,\n",
       " 0,\n",
       " 0,\n",
       " 0,\n",
       " 0,\n",
       " 0,\n",
       " 0,\n",
       " 0,\n",
       " 0,\n",
       " 0,\n",
       " 0,\n",
       " 0,\n",
       " 0,\n",
       " 0,\n",
       " 0,\n",
       " 0,\n",
       " 0,\n",
       " 0,\n",
       " 0,\n",
       " 0,\n",
       " 0,\n",
       " 0,\n",
       " 0,\n",
       " 0,\n",
       " 0,\n",
       " 0,\n",
       " 0,\n",
       " 0,\n",
       " 0,\n",
       " 0,\n",
       " 0,\n",
       " 51,\n",
       " 159,\n",
       " 253,\n",
       " 159,\n",
       " 50,\n",
       " 0,\n",
       " 0,\n",
       " 0,\n",
       " 0,\n",
       " 0,\n",
       " 0,\n",
       " 0,\n",
       " 0,\n",
       " 0,\n",
       " 0,\n",
       " 0,\n",
       " 0,\n",
       " 0,\n",
       " 0,\n",
       " 0,\n",
       " 0,\n",
       " 0,\n",
       " 0,\n",
       " 0,\n",
       " 0,\n",
       " 0,\n",
       " 0,\n",
       " 48,\n",
       " 238,\n",
       " 252,\n",
       " 252,\n",
       " 252,\n",
       " 237,\n",
       " 0,\n",
       " 0,\n",
       " 0,\n",
       " 0,\n",
       " 0,\n",
       " 0,\n",
       " 0,\n",
       " 0,\n",
       " 0,\n",
       " 0,\n",
       " 0,\n",
       " 0,\n",
       " 0,\n",
       " 0,\n",
       " 0,\n",
       " 0,\n",
       " 0,\n",
       " 0,\n",
       " 0,\n",
       " 0,\n",
       " 0,\n",
       " 54,\n",
       " 227,\n",
       " 253,\n",
       " 252,\n",
       " 239,\n",
       " 233,\n",
       " 252,\n",
       " 57,\n",
       " 6,\n",
       " 0,\n",
       " 0,\n",
       " 0,\n",
       " 0,\n",
       " 0,\n",
       " 0,\n",
       " 0,\n",
       " 0,\n",
       " 0,\n",
       " 0,\n",
       " 0,\n",
       " 0,\n",
       " 0,\n",
       " 0,\n",
       " 0,\n",
       " 0,\n",
       " 0,\n",
       " 10,\n",
       " 60,\n",
       " 224,\n",
       " 252,\n",
       " 253,\n",
       " 252,\n",
       " 202,\n",
       " 84,\n",
       " 252,\n",
       " 253,\n",
       " 122,\n",
       " 0,\n",
       " 0,\n",
       " 0,\n",
       " 0,\n",
       " 0,\n",
       " 0,\n",
       " 0,\n",
       " 0,\n",
       " 0,\n",
       " 0,\n",
       " 0,\n",
       " 0,\n",
       " 0,\n",
       " 0,\n",
       " 0,\n",
       " 0,\n",
       " 0,\n",
       " 163,\n",
       " 252,\n",
       " 252,\n",
       " 252,\n",
       " 253,\n",
       " 252,\n",
       " 252,\n",
       " 96,\n",
       " 189,\n",
       " 253,\n",
       " 167,\n",
       " 0,\n",
       " 0,\n",
       " 0,\n",
       " 0,\n",
       " 0,\n",
       " 0,\n",
       " 0,\n",
       " 0,\n",
       " 0,\n",
       " 0,\n",
       " 0,\n",
       " 0,\n",
       " 0,\n",
       " 0,\n",
       " 0,\n",
       " 0,\n",
       " 51,\n",
       " 238,\n",
       " 253,\n",
       " 253,\n",
       " 190,\n",
       " 114,\n",
       " 253,\n",
       " 228,\n",
       " 47,\n",
       " 79,\n",
       " 255,\n",
       " 168,\n",
       " 0,\n",
       " 0,\n",
       " 0,\n",
       " 0,\n",
       " 0,\n",
       " 0,\n",
       " 0,\n",
       " 0,\n",
       " 0,\n",
       " 0,\n",
       " 0,\n",
       " 0,\n",
       " 0,\n",
       " 0,\n",
       " 0,\n",
       " 48,\n",
       " 238,\n",
       " 252,\n",
       " 252,\n",
       " 179,\n",
       " 12,\n",
       " 75,\n",
       " 121,\n",
       " 21,\n",
       " 0,\n",
       " 0,\n",
       " 253,\n",
       " 243,\n",
       " 50,\n",
       " 0,\n",
       " 0,\n",
       " 0,\n",
       " 0,\n",
       " 0,\n",
       " 0,\n",
       " 0,\n",
       " 0,\n",
       " 0,\n",
       " 0,\n",
       " 0,\n",
       " 0,\n",
       " 0,\n",
       " 38,\n",
       " 165,\n",
       " 253,\n",
       " 233,\n",
       " 208,\n",
       " 84,\n",
       " 0,\n",
       " 0,\n",
       " 0,\n",
       " 0,\n",
       " 0,\n",
       " 0,\n",
       " 253,\n",
       " 252,\n",
       " 165,\n",
       " 0,\n",
       " 0,\n",
       " 0,\n",
       " 0,\n",
       " 0,\n",
       " 0,\n",
       " 0,\n",
       " 0,\n",
       " 0,\n",
       " 0,\n",
       " 0,\n",
       " 0,\n",
       " 7,\n",
       " 178,\n",
       " 252,\n",
       " 240,\n",
       " 71,\n",
       " 19,\n",
       " 28,\n",
       " 0,\n",
       " 0,\n",
       " 0,\n",
       " 0,\n",
       " 0,\n",
       " 0,\n",
       " 253,\n",
       " 252,\n",
       " 195,\n",
       " 0,\n",
       " 0,\n",
       " 0,\n",
       " 0,\n",
       " 0,\n",
       " 0,\n",
       " 0,\n",
       " 0,\n",
       " 0,\n",
       " 0,\n",
       " 0,\n",
       " 0,\n",
       " 57,\n",
       " 252,\n",
       " 252,\n",
       " 63,\n",
       " 0,\n",
       " 0,\n",
       " 0,\n",
       " 0,\n",
       " 0,\n",
       " 0,\n",
       " 0,\n",
       " 0,\n",
       " 0,\n",
       " 253,\n",
       " 252,\n",
       " 195,\n",
       " 0,\n",
       " 0,\n",
       " 0,\n",
       " 0,\n",
       " 0,\n",
       " 0,\n",
       " 0,\n",
       " 0,\n",
       " 0,\n",
       " 0,\n",
       " 0,\n",
       " 0,\n",
       " 198,\n",
       " 253,\n",
       " 190,\n",
       " 0,\n",
       " 0,\n",
       " 0,\n",
       " 0,\n",
       " 0,\n",
       " 0,\n",
       " 0,\n",
       " 0,\n",
       " 0,\n",
       " 0,\n",
       " 255,\n",
       " 253,\n",
       " 196,\n",
       " 0,\n",
       " 0,\n",
       " 0,\n",
       " 0,\n",
       " 0,\n",
       " 0,\n",
       " 0,\n",
       " 0,\n",
       " 0,\n",
       " 0,\n",
       " 0,\n",
       " 76,\n",
       " 246,\n",
       " 252,\n",
       " 112,\n",
       " 0,\n",
       " 0,\n",
       " 0,\n",
       " 0,\n",
       " 0,\n",
       " 0,\n",
       " 0,\n",
       " 0,\n",
       " 0,\n",
       " 0,\n",
       " 253,\n",
       " 252,\n",
       " 148,\n",
       " 0,\n",
       " 0,\n",
       " 0,\n",
       " 0,\n",
       " 0,\n",
       " 0,\n",
       " 0,\n",
       " 0,\n",
       " 0,\n",
       " 0,\n",
       " 0,\n",
       " 85,\n",
       " 252,\n",
       " 230,\n",
       " 25,\n",
       " 0,\n",
       " 0,\n",
       " 0,\n",
       " 0,\n",
       " 0,\n",
       " 0,\n",
       " 0,\n",
       " 0,\n",
       " 7,\n",
       " 135,\n",
       " 253,\n",
       " 186,\n",
       " 12,\n",
       " 0,\n",
       " 0,\n",
       " 0,\n",
       " 0,\n",
       " 0,\n",
       " 0,\n",
       " 0,\n",
       " 0,\n",
       " 0,\n",
       " 0,\n",
       " 0,\n",
       " 85,\n",
       " 252,\n",
       " 223,\n",
       " 0,\n",
       " 0,\n",
       " 0,\n",
       " 0,\n",
       " 0,\n",
       " 0,\n",
       " 0,\n",
       " 0,\n",
       " 7,\n",
       " 131,\n",
       " 252,\n",
       " 225,\n",
       " 71,\n",
       " 0,\n",
       " 0,\n",
       " 0,\n",
       " 0,\n",
       " 0,\n",
       " 0,\n",
       " 0,\n",
       " 0,\n",
       " 0,\n",
       " 0,\n",
       " 0,\n",
       " 0,\n",
       " 85,\n",
       " 252,\n",
       " 145,\n",
       " 0,\n",
       " 0,\n",
       " 0,\n",
       " 0,\n",
       " 0,\n",
       " 0,\n",
       " 0,\n",
       " 48,\n",
       " 165,\n",
       " 252,\n",
       " 173,\n",
       " 0,\n",
       " 0,\n",
       " 0,\n",
       " 0,\n",
       " 0,\n",
       " 0,\n",
       " 0,\n",
       " 0,\n",
       " 0,\n",
       " 0,\n",
       " 0,\n",
       " 0,\n",
       " 0,\n",
       " 0,\n",
       " 86,\n",
       " 253,\n",
       " 225,\n",
       " 0,\n",
       " 0,\n",
       " 0,\n",
       " 0,\n",
       " 0,\n",
       " 0,\n",
       " 114,\n",
       " 238,\n",
       " 253,\n",
       " 162,\n",
       " 0,\n",
       " 0,\n",
       " 0,\n",
       " 0,\n",
       " 0,\n",
       " 0,\n",
       " 0,\n",
       " 0,\n",
       " 0,\n",
       " 0,\n",
       " 0,\n",
       " 0,\n",
       " 0,\n",
       " 0,\n",
       " 0,\n",
       " 85,\n",
       " 252,\n",
       " 249,\n",
       " 146,\n",
       " 48,\n",
       " 29,\n",
       " 85,\n",
       " 178,\n",
       " 225,\n",
       " 253,\n",
       " 223,\n",
       " 167,\n",
       " 56,\n",
       " 0,\n",
       " 0,\n",
       " 0,\n",
       " 0,\n",
       " 0,\n",
       " 0,\n",
       " 0,\n",
       " 0,\n",
       " 0,\n",
       " 0,\n",
       " 0,\n",
       " 0,\n",
       " 0,\n",
       " 0,\n",
       " 0,\n",
       " 85,\n",
       " 252,\n",
       " 252,\n",
       " 252,\n",
       " 229,\n",
       " 215,\n",
       " 252,\n",
       " 252,\n",
       " 252,\n",
       " 196,\n",
       " 130,\n",
       " 0,\n",
       " 0,\n",
       " 0,\n",
       " 0,\n",
       " 0,\n",
       " 0,\n",
       " 0,\n",
       " 0,\n",
       " 0,\n",
       " 0,\n",
       " 0,\n",
       " 0,\n",
       " 0,\n",
       " 0,\n",
       " 0,\n",
       " 0,\n",
       " 0,\n",
       " 28,\n",
       " 199,\n",
       " 252,\n",
       " 252,\n",
       " 253,\n",
       " 252,\n",
       " 252,\n",
       " 233,\n",
       " 145,\n",
       " 0,\n",
       " 0,\n",
       " 0,\n",
       " 0,\n",
       " 0,\n",
       " 0,\n",
       " 0,\n",
       " 0,\n",
       " 0,\n",
       " 0,\n",
       " 0,\n",
       " 0,\n",
       " 0,\n",
       " 0,\n",
       " 0,\n",
       " 0,\n",
       " 0,\n",
       " 0,\n",
       " 0,\n",
       " 0,\n",
       " 25,\n",
       " 128,\n",
       " 252,\n",
       " 253,\n",
       " 252,\n",
       " 141,\n",
       " 37,\n",
       " 0,\n",
       " 0,\n",
       " 0,\n",
       " 0,\n",
       " 0,\n",
       " 0,\n",
       " 0,\n",
       " 0,\n",
       " 0,\n",
       " 0,\n",
       " 0,\n",
       " 0,\n",
       " 0,\n",
       " 0,\n",
       " 0,\n",
       " 0,\n",
       " 0,\n",
       " 0,\n",
       " 0,\n",
       " 0,\n",
       " 0,\n",
       " 0,\n",
       " 0,\n",
       " 0,\n",
       " 0,\n",
       " 0,\n",
       " 0,\n",
       " 0,\n",
       " 0,\n",
       " 0,\n",
       " 0,\n",
       " 0,\n",
       " 0,\n",
       " 0,\n",
       " 0,\n",
       " 0,\n",
       " 0,\n",
       " 0,\n",
       " 0,\n",
       " 0,\n",
       " 0,\n",
       " 0,\n",
       " 0,\n",
       " 0,\n",
       " 0,\n",
       " 0,\n",
       " 0,\n",
       " 0,\n",
       " 0,\n",
       " 0,\n",
       " 0,\n",
       " 0,\n",
       " 0,\n",
       " 0,\n",
       " 0,\n",
       " 0,\n",
       " 0,\n",
       " 0,\n",
       " 0,\n",
       " 0,\n",
       " 0,\n",
       " 0,\n",
       " 0,\n",
       " 0,\n",
       " 0,\n",
       " 0,\n",
       " 0,\n",
       " 0,\n",
       " 0,\n",
       " 0,\n",
       " 0,\n",
       " 0,\n",
       " 0,\n",
       " 0,\n",
       " 0,\n",
       " 0,\n",
       " 0,\n",
       " 0,\n",
       " 0,\n",
       " 0,\n",
       " 0,\n",
       " 0,\n",
       " 0,\n",
       " 0,\n",
       " 0,\n",
       " 0,\n",
       " 0,\n",
       " 0,\n",
       " 0,\n",
       " 0,\n",
       " 0,\n",
       " 0,\n",
       " 0,\n",
       " 0,\n",
       " 0,\n",
       " 0,\n",
       " 0,\n",
       " 0,\n",
       " 0,\n",
       " 0,\n",
       " 0,\n",
       " 0,\n",
       " 0,\n",
       " 0,\n",
       " 0,\n",
       " 0,\n",
       " 0,\n",
       " 0,\n",
       " 0,\n",
       " 0,\n",
       " 0,\n",
       " 0,\n",
       " 0,\n",
       " 0,\n",
       " 0,\n",
       " 0,\n",
       " 0,\n",
       " 0,\n",
       " 0,\n",
       " 0,\n",
       " 0,\n",
       " 0,\n",
       " 0,\n",
       " 0,\n",
       " 0,\n",
       " 0]"
      ]
     },
     "execution_count": 75,
     "metadata": {},
     "output_type": "execute_result"
    }
   ],
   "source": [
    "list(X[1].flat)"
   ]
  },
  {
   "cell_type": "markdown",
   "id": "091030fc",
   "metadata": {},
   "source": [
    "## 5.2 다차원 인덱싱"
   ]
  },
  {
   "cell_type": "code",
   "execution_count": 76,
   "id": "ebee26dc",
   "metadata": {
    "ExecuteTime": {
     "end_time": "2021-07-30T06:50:35.119681Z",
     "start_time": "2021-07-30T06:50:35.111711Z"
    }
   },
   "outputs": [
    {
     "data": {
      "text/plain": [
       "array([[ 0,  1,  2,  3],\n",
       "       [ 4,  5,  6,  7],\n",
       "       [ 8,  9, 10, 11]])"
      ]
     },
     "execution_count": 76,
     "metadata": {},
     "output_type": "execute_result"
    }
   ],
   "source": [
    "a = np.arange(12).reshape(3,4)\n",
    "a"
   ]
  },
  {
   "cell_type": "code",
   "execution_count": 77,
   "id": "c9d01869",
   "metadata": {
    "ExecuteTime": {
     "end_time": "2021-07-30T06:52:36.002491Z",
     "start_time": "2021-07-30T06:52:35.986533Z"
    }
   },
   "outputs": [
    {
     "data": {
      "text/plain": [
       "array([[ 2,  5],\n",
       "       [ 7, 11]])"
      ]
     },
     "execution_count": 77,
     "metadata": {},
     "output_type": "execute_result"
    }
   ],
   "source": [
    "i = np.array([[0,1],\n",
    "              [1,2]])\n",
    "j = np.array([[2,1],\n",
    "              [3,3]])\n",
    "\n",
    "a[i,j] ## 각각 (0,2), (1,1), (1,3), ... 순으로 인덱스 값을 뽑아서 뿌림"
   ]
  },
  {
   "cell_type": "code",
   "execution_count": 78,
   "id": "ab166db4",
   "metadata": {
    "ExecuteTime": {
     "end_time": "2021-07-30T06:53:49.990817Z",
     "start_time": "2021-07-30T06:53:49.975829Z"
    }
   },
   "outputs": [
    {
     "data": {
      "text/plain": [
       "array([2, 7])"
      ]
     },
     "execution_count": 78,
     "metadata": {},
     "output_type": "execute_result"
    }
   ],
   "source": [
    "i = np.array([0,1])\n",
    "j = np.array([2,3])\n",
    "a[i,j]"
   ]
  },
  {
   "cell_type": "markdown",
   "id": "a6556ce1",
   "metadata": {},
   "source": [
    "## 5.3 argmax: 최댓값의 인덱스"
   ]
  },
  {
   "cell_type": "code",
   "execution_count": 79,
   "id": "71d3d10b",
   "metadata": {
    "ExecuteTime": {
     "end_time": "2021-07-30T06:56:41.703967Z",
     "start_time": "2021-07-30T06:56:41.688005Z"
    }
   },
   "outputs": [
    {
     "data": {
      "text/plain": [
       "[0.001, 99.954, 0.01, 1e-20]"
      ]
     },
     "execution_count": 79,
     "metadata": {},
     "output_type": "execute_result"
    }
   ],
   "source": [
    "[0.001,99.954,0.01,0.1e-19]"
   ]
  },
  {
   "cell_type": "code",
   "execution_count": 2,
   "id": "ce7438c2",
   "metadata": {
    "ExecuteTime": {
     "end_time": "2021-07-30T06:58:37.843831Z",
     "start_time": "2021-07-30T06:58:37.823856Z"
    }
   },
   "outputs": [
    {
     "data": {
      "text/plain": [
       "array([[ 0.        ,  0.84147098,  0.90929743,  0.14112001],\n",
       "       [-0.7568025 , -0.95892427, -0.2794155 ,  0.6569866 ],\n",
       "       [ 0.98935825,  0.41211849, -0.54402111, -0.99999021],\n",
       "       [-0.53657292,  0.42016704,  0.99060736,  0.65028784],\n",
       "       [-0.28790332, -0.96139749, -0.75098725,  0.14987721]])"
      ]
     },
     "execution_count": 2,
     "metadata": {},
     "output_type": "execute_result"
    }
   ],
   "source": [
    "data = np.sin(np.arange(20).reshape(5,4))\n",
    "data"
   ]
  },
  {
   "cell_type": "code",
   "execution_count": 3,
   "id": "46a78eb5",
   "metadata": {
    "ExecuteTime": {
     "end_time": "2021-07-30T07:00:04.884447Z",
     "start_time": "2021-07-30T07:00:04.847496Z"
    }
   },
   "outputs": [],
   "source": [
    "idx = data.argmax(axis=0) ## 각 열별 최댓값의 인덱스 반환"
   ]
  },
  {
   "cell_type": "code",
   "execution_count": 4,
   "id": "6aa83da1",
   "metadata": {
    "ExecuteTime": {
     "end_time": "2021-07-30T07:00:07.226071Z",
     "start_time": "2021-07-30T07:00:07.207095Z"
    }
   },
   "outputs": [
    {
     "data": {
      "text/plain": [
       "array([2, 0, 3, 1], dtype=int64)"
      ]
     },
     "execution_count": 4,
     "metadata": {},
     "output_type": "execute_result"
    }
   ],
   "source": [
    "idx"
   ]
  },
  {
   "cell_type": "code",
   "execution_count": 85,
   "id": "85b5e870",
   "metadata": {
    "ExecuteTime": {
     "end_time": "2021-07-30T07:02:47.094146Z",
     "start_time": "2021-07-30T07:02:47.087165Z"
    }
   },
   "outputs": [
    {
     "data": {
      "text/plain": [
       "0.9893582466233818"
      ]
     },
     "execution_count": 85,
     "metadata": {},
     "output_type": "execute_result"
    }
   ],
   "source": [
    "# 0열에서 최댓값 \n",
    "\n",
    "data[idx[0],0]"
   ]
  },
  {
   "cell_type": "code",
   "execution_count": 86,
   "id": "c3f189a4",
   "metadata": {
    "ExecuteTime": {
     "end_time": "2021-07-30T07:03:07.352477Z",
     "start_time": "2021-07-30T07:03:07.344469Z"
    }
   },
   "outputs": [
    {
     "data": {
      "text/plain": [
       "0.8414709848078965"
      ]
     },
     "execution_count": 86,
     "metadata": {},
     "output_type": "execute_result"
    }
   ],
   "source": [
    "# 1열에서 최댓값 \n",
    "\n",
    "data[idx[1],1]"
   ]
  },
  {
   "cell_type": "code",
   "execution_count": 88,
   "id": "513e42ae",
   "metadata": {
    "ExecuteTime": {
     "end_time": "2021-07-30T07:05:34.954995Z",
     "start_time": "2021-07-30T07:05:34.935051Z"
    }
   },
   "outputs": [
    {
     "data": {
      "text/plain": [
       "array([0.98935825, 0.84147098, 0.99060736, 0.6569866 ])"
      ]
     },
     "execution_count": 88,
     "metadata": {},
     "output_type": "execute_result"
    }
   ],
   "source": [
    "data_col_max = data[idx, range(data.shape[1])]\n",
    "data_col_max"
   ]
  },
  {
   "cell_type": "code",
   "execution_count": 90,
   "id": "75b09a51",
   "metadata": {
    "ExecuteTime": {
     "end_time": "2021-07-30T07:07:07.704972Z",
     "start_time": "2021-07-30T07:07:07.687019Z"
    }
   },
   "outputs": [
    {
     "name": "stdout",
     "output_type": "stream",
     "text": [
      "0열의 최댓값은: 0.99\n",
      "1열의 최댓값은: 0.84\n",
      "2열의 최댓값은: 0.99\n",
      "3열의 최댓값은: 0.66\n"
     ]
    }
   ],
   "source": [
    "for i, item in enumerate(data_col_max):\n",
    "    print('%d열의 최댓값은: %.2f'%(i,item))"
   ]
  },
  {
   "cell_type": "code",
   "execution_count": 1,
   "id": "797b72c5",
   "metadata": {
    "ExecuteTime": {
     "end_time": "2021-07-30T07:11:41.552528Z",
     "start_time": "2021-07-30T07:11:41.535563Z"
    }
   },
   "outputs": [
    {
     "ename": "NameError",
     "evalue": "name 'data' is not defined",
     "output_type": "error",
     "traceback": [
      "\u001b[1;31m---------------------------------------------------------------------------\u001b[0m",
      "\u001b[1;31mNameError\u001b[0m                                 Traceback (most recent call last)",
      "\u001b[1;32m<ipython-input-1-fa96940ec4f3>\u001b[0m in \u001b[0;36m<module>\u001b[1;34m\u001b[0m\n\u001b[0;32m      1\u001b[0m \u001b[1;31m# 행별 최댓값을 출력하기 (argmax 함수이용)\u001b[0m\u001b[1;33m\u001b[0m\u001b[1;33m\u001b[0m\u001b[1;33m\u001b[0m\u001b[0m\n\u001b[0;32m      2\u001b[0m \u001b[1;33m\u001b[0m\u001b[0m\n\u001b[1;32m----> 3\u001b[1;33m \u001b[0midx\u001b[0m \u001b[1;33m=\u001b[0m \u001b[0mdata\u001b[0m\u001b[1;33m.\u001b[0m\u001b[0margmax\u001b[0m\u001b[1;33m(\u001b[0m\u001b[0maxis\u001b[0m\u001b[1;33m=\u001b[0m\u001b[1;36m1\u001b[0m\u001b[1;33m)\u001b[0m\u001b[1;33m\u001b[0m\u001b[1;33m\u001b[0m\u001b[0m\n\u001b[0m",
      "\u001b[1;31mNameError\u001b[0m: name 'data' is not defined"
     ]
    }
   ],
   "source": [
    "# 행별 최댓값을 출력하기 (argmax 함수이용)\n",
    "\n",
    "idx = data.argmax(axis=1)"
   ]
  },
  {
   "cell_type": "code",
   "execution_count": 108,
   "id": "6487c857",
   "metadata": {
    "ExecuteTime": {
     "end_time": "2021-07-30T07:15:33.397763Z",
     "start_time": "2021-07-30T07:15:33.391745Z"
    }
   },
   "outputs": [],
   "source": [
    "data_row_max = data[range(data.shape[0]),idx]"
   ]
  },
  {
   "cell_type": "markdown",
   "id": "bf5f1678",
   "metadata": {},
   "source": [
    "## 5.3 인덱싱을 이용한 값 변경"
   ]
  },
  {
   "cell_type": "code",
   "execution_count": 109,
   "id": "bd4fdda6",
   "metadata": {
    "ExecuteTime": {
     "end_time": "2021-07-30T07:17:43.875468Z",
     "start_time": "2021-07-30T07:17:43.857511Z"
    }
   },
   "outputs": [
    {
     "data": {
      "text/plain": [
       "array([0, 1, 2, 3, 4])"
      ]
     },
     "execution_count": 109,
     "metadata": {},
     "output_type": "execute_result"
    }
   ],
   "source": [
    "a = np.arange(5)\n",
    "a"
   ]
  },
  {
   "cell_type": "code",
   "execution_count": 110,
   "id": "ba22a9b7",
   "metadata": {
    "ExecuteTime": {
     "end_time": "2021-07-30T07:17:50.119965Z",
     "start_time": "2021-07-30T07:17:50.111965Z"
    }
   },
   "outputs": [
    {
     "data": {
      "text/plain": [
       "array([9, 1, 9, 3, 9])"
      ]
     },
     "execution_count": 110,
     "metadata": {},
     "output_type": "execute_result"
    }
   ],
   "source": [
    "a[::2] = 9 \n",
    "a"
   ]
  },
  {
   "cell_type": "markdown",
   "id": "05df976e",
   "metadata": {},
   "source": [
    "## 5.4 논리 배열을 이용한 인덱싱"
   ]
  },
  {
   "cell_type": "code",
   "execution_count": 5,
   "id": "52dc0ee8",
   "metadata": {
    "ExecuteTime": {
     "end_time": "2021-07-30T07:18:53.273026Z",
     "start_time": "2021-07-30T07:18:53.256072Z"
    }
   },
   "outputs": [
    {
     "data": {
      "text/plain": [
       "array([[ 0,  1,  2,  3,  4,  5,  6,  7,  8,  9],\n",
       "       [10, 11, 12, 13, 14, 15, 16, 17, 18, 19]])"
      ]
     },
     "execution_count": 5,
     "metadata": {},
     "output_type": "execute_result"
    }
   ],
   "source": [
    "a = np.arange(20).reshape(2,10)\n",
    "a"
   ]
  },
  {
   "cell_type": "code",
   "execution_count": 6,
   "id": "7f419146",
   "metadata": {
    "ExecuteTime": {
     "end_time": "2021-07-30T07:19:06.296991Z",
     "start_time": "2021-07-30T07:19:06.279772Z"
    }
   },
   "outputs": [],
   "source": [
    "b = a%2==0"
   ]
  },
  {
   "cell_type": "code",
   "execution_count": 7,
   "id": "c6efb826",
   "metadata": {
    "ExecuteTime": {
     "end_time": "2021-07-30T07:19:08.292598Z",
     "start_time": "2021-07-30T07:19:08.279606Z"
    }
   },
   "outputs": [
    {
     "data": {
      "text/plain": [
       "array([[ True, False,  True, False,  True, False,  True, False,  True,\n",
       "        False],\n",
       "       [ True, False,  True, False,  True, False,  True, False,  True,\n",
       "        False]])"
      ]
     },
     "execution_count": 7,
     "metadata": {},
     "output_type": "execute_result"
    }
   ],
   "source": [
    "b"
   ]
  },
  {
   "cell_type": "code",
   "execution_count": 8,
   "id": "97d36cd8",
   "metadata": {
    "ExecuteTime": {
     "end_time": "2021-07-30T07:19:45.950507Z",
     "start_time": "2021-07-30T07:19:45.943530Z"
    }
   },
   "outputs": [
    {
     "data": {
      "text/plain": [
       "array([ 0,  2,  4,  6,  8, 10, 12, 14, 16, 18])"
      ]
     },
     "execution_count": 8,
     "metadata": {},
     "output_type": "execute_result"
    }
   ],
   "source": [
    "a[b] ## True인 인덱스만 나옴 "
   ]
  },
  {
   "cell_type": "code",
   "execution_count": 9,
   "id": "845a8a97",
   "metadata": {
    "ExecuteTime": {
     "end_time": "2021-07-30T07:20:08.431549Z",
     "start_time": "2021-07-30T07:20:08.423543Z"
    }
   },
   "outputs": [
    {
     "data": {
      "text/plain": [
       "array([ 0,  3,  6,  9, 12, 15, 18])"
      ]
     },
     "execution_count": 9,
     "metadata": {},
     "output_type": "execute_result"
    }
   ],
   "source": [
    "a[a%3==0]"
   ]
  },
  {
   "cell_type": "markdown",
   "id": "e4027066",
   "metadata": {},
   "source": [
    "# 6. 선형대수 \n",
    "\n",
    "* 2차원 넘파이 배열을 행렬 \n",
    "    * 행렬곱 : @ 또는 np.dot()\n",
    "    * 역행렬 :  np.linalg.inv(x)\n",
    "    * 전치행렬 : x.T, x.transpose()\n",
    "    * 단위행렬: np.eye(n): n행n열 단위행렬 생성 \n",
    "    * 연립방정식 해 풀기 : np.linalg(x,y) (x가 정방행렬일 경우에만 가능)"
   ]
  },
  {
   "cell_type": "markdown",
   "id": "ef0e6f76",
   "metadata": {},
   "source": [
    "## 6.1 선형 연립 방정식 풀기 (회귀 도출) : 독립변수2개, 데이터 2개 "
   ]
  },
  {
   "cell_type": "code",
   "execution_count": 116,
   "id": "ab4e2088",
   "metadata": {
    "ExecuteTime": {
     "end_time": "2021-07-30T07:46:05.298988Z",
     "start_time": "2021-07-30T07:46:05.281036Z"
    }
   },
   "outputs": [
    {
     "data": {
      "text/plain": [
       "array([[1, 2],\n",
       "       [3, 4]])"
      ]
     },
     "execution_count": 116,
     "metadata": {},
     "output_type": "execute_result"
    }
   ],
   "source": [
    "#\n",
    "\n",
    "a = np.array([[1,2],[3,4]])\n",
    "a"
   ]
  },
  {
   "cell_type": "code",
   "execution_count": 117,
   "id": "3f85a1e6",
   "metadata": {
    "ExecuteTime": {
     "end_time": "2021-07-30T07:46:19.326463Z",
     "start_time": "2021-07-30T07:46:19.248669Z"
    }
   },
   "outputs": [
    {
     "data": {
      "text/plain": [
       "array([[-2. ,  1. ],\n",
       "       [ 1.5, -0.5]])"
      ]
     },
     "execution_count": 117,
     "metadata": {},
     "output_type": "execute_result"
    }
   ],
   "source": [
    "np.linalg.inv(a) # a의 역행렬"
   ]
  },
  {
   "cell_type": "code",
   "execution_count": 119,
   "id": "166d5bfb",
   "metadata": {
    "ExecuteTime": {
     "end_time": "2021-07-30T07:48:26.432186Z",
     "start_time": "2021-07-30T07:48:26.416231Z"
    }
   },
   "outputs": [
    {
     "data": {
      "text/plain": [
       "False"
      ]
     },
     "execution_count": 119,
     "metadata": {},
     "output_type": "execute_result"
    }
   ],
   "source": [
    "np.all(np.eye(2)==np.linalg.inv(a)@a) # np.eye(2) : 2x2 단위 행렬 생성"
   ]
  },
  {
   "cell_type": "code",
   "execution_count": 120,
   "id": "9acb2826",
   "metadata": {
    "ExecuteTime": {
     "end_time": "2021-07-30T07:49:35.784403Z",
     "start_time": "2021-07-30T07:49:35.776424Z"
    }
   },
   "outputs": [
    {
     "data": {
      "text/plain": [
       "array([[1, 3],\n",
       "       [2, 4]])"
      ]
     },
     "execution_count": 120,
     "metadata": {},
     "output_type": "execute_result"
    }
   ],
   "source": [
    "a.T"
   ]
  },
  {
   "cell_type": "code",
   "execution_count": 122,
   "id": "dc127885",
   "metadata": {
    "ExecuteTime": {
     "end_time": "2021-07-30T07:50:26.871252Z",
     "start_time": "2021-07-30T07:50:26.856294Z"
    }
   },
   "outputs": [
    {
     "data": {
      "text/plain": [
       "array([[2, 2, 2],\n",
       "       [3, 3, 3]])"
      ]
     },
     "execution_count": 122,
     "metadata": {},
     "output_type": "execute_result"
    }
   ],
   "source": [
    "a = np.array([[2,2,2],[3,3,3]])\n",
    "a"
   ]
  },
  {
   "cell_type": "code",
   "execution_count": 123,
   "id": "836d24fe",
   "metadata": {
    "ExecuteTime": {
     "end_time": "2021-07-30T07:50:36.263775Z",
     "start_time": "2021-07-30T07:50:36.184985Z"
    }
   },
   "outputs": [
    {
     "ename": "LinAlgError",
     "evalue": "Last 2 dimensions of the array must be square",
     "output_type": "error",
     "traceback": [
      "\u001b[1;31m---------------------------------------------------------------------------\u001b[0m",
      "\u001b[1;31mLinAlgError\u001b[0m                               Traceback (most recent call last)",
      "\u001b[1;32m<ipython-input-123-b24b020fe220>\u001b[0m in \u001b[0;36m<module>\u001b[1;34m\u001b[0m\n\u001b[1;32m----> 1\u001b[1;33m \u001b[0mnp\u001b[0m\u001b[1;33m.\u001b[0m\u001b[0mlinalg\u001b[0m\u001b[1;33m.\u001b[0m\u001b[0minv\u001b[0m\u001b[1;33m(\u001b[0m\u001b[0ma\u001b[0m\u001b[1;33m)\u001b[0m\u001b[1;33m\u001b[0m\u001b[1;33m\u001b[0m\u001b[0m\n\u001b[0m",
      "\u001b[1;32m<__array_function__ internals>\u001b[0m in \u001b[0;36minv\u001b[1;34m(*args, **kwargs)\u001b[0m\n",
      "\u001b[1;32m~\\anaconda3\\lib\\site-packages\\numpy\\linalg\\linalg.py\u001b[0m in \u001b[0;36minv\u001b[1;34m(a)\u001b[0m\n\u001b[0;32m    539\u001b[0m     \u001b[0ma\u001b[0m\u001b[1;33m,\u001b[0m \u001b[0mwrap\u001b[0m \u001b[1;33m=\u001b[0m \u001b[0m_makearray\u001b[0m\u001b[1;33m(\u001b[0m\u001b[0ma\u001b[0m\u001b[1;33m)\u001b[0m\u001b[1;33m\u001b[0m\u001b[1;33m\u001b[0m\u001b[0m\n\u001b[0;32m    540\u001b[0m     \u001b[0m_assert_stacked_2d\u001b[0m\u001b[1;33m(\u001b[0m\u001b[0ma\u001b[0m\u001b[1;33m)\u001b[0m\u001b[1;33m\u001b[0m\u001b[1;33m\u001b[0m\u001b[0m\n\u001b[1;32m--> 541\u001b[1;33m     \u001b[0m_assert_stacked_square\u001b[0m\u001b[1;33m(\u001b[0m\u001b[0ma\u001b[0m\u001b[1;33m)\u001b[0m\u001b[1;33m\u001b[0m\u001b[1;33m\u001b[0m\u001b[0m\n\u001b[0m\u001b[0;32m    542\u001b[0m     \u001b[0mt\u001b[0m\u001b[1;33m,\u001b[0m \u001b[0mresult_t\u001b[0m \u001b[1;33m=\u001b[0m \u001b[0m_commonType\u001b[0m\u001b[1;33m(\u001b[0m\u001b[0ma\u001b[0m\u001b[1;33m)\u001b[0m\u001b[1;33m\u001b[0m\u001b[1;33m\u001b[0m\u001b[0m\n\u001b[0;32m    543\u001b[0m \u001b[1;33m\u001b[0m\u001b[0m\n",
      "\u001b[1;32m~\\anaconda3\\lib\\site-packages\\numpy\\linalg\\linalg.py\u001b[0m in \u001b[0;36m_assert_stacked_square\u001b[1;34m(*arrays)\u001b[0m\n\u001b[0;32m    202\u001b[0m         \u001b[0mm\u001b[0m\u001b[1;33m,\u001b[0m \u001b[0mn\u001b[0m \u001b[1;33m=\u001b[0m \u001b[0ma\u001b[0m\u001b[1;33m.\u001b[0m\u001b[0mshape\u001b[0m\u001b[1;33m[\u001b[0m\u001b[1;33m-\u001b[0m\u001b[1;36m2\u001b[0m\u001b[1;33m:\u001b[0m\u001b[1;33m]\u001b[0m\u001b[1;33m\u001b[0m\u001b[1;33m\u001b[0m\u001b[0m\n\u001b[0;32m    203\u001b[0m         \u001b[1;32mif\u001b[0m \u001b[0mm\u001b[0m \u001b[1;33m!=\u001b[0m \u001b[0mn\u001b[0m\u001b[1;33m:\u001b[0m\u001b[1;33m\u001b[0m\u001b[1;33m\u001b[0m\u001b[0m\n\u001b[1;32m--> 204\u001b[1;33m             \u001b[1;32mraise\u001b[0m \u001b[0mLinAlgError\u001b[0m\u001b[1;33m(\u001b[0m\u001b[1;34m'Last 2 dimensions of the array must be square'\u001b[0m\u001b[1;33m)\u001b[0m\u001b[1;33m\u001b[0m\u001b[1;33m\u001b[0m\u001b[0m\n\u001b[0m\u001b[0;32m    205\u001b[0m \u001b[1;33m\u001b[0m\u001b[0m\n\u001b[0;32m    206\u001b[0m \u001b[1;32mdef\u001b[0m \u001b[0m_assert_finite\u001b[0m\u001b[1;33m(\u001b[0m\u001b[1;33m*\u001b[0m\u001b[0marrays\u001b[0m\u001b[1;33m)\u001b[0m\u001b[1;33m:\u001b[0m\u001b[1;33m\u001b[0m\u001b[1;33m\u001b[0m\u001b[0m\n",
      "\u001b[1;31mLinAlgError\u001b[0m: Last 2 dimensions of the array must be square"
     ]
    }
   ],
   "source": [
    "np.linalg.inv(a) ## 정방행렬이 아니라 역행렬을 구하는것이 불가함 "
   ]
  },
  {
   "cell_type": "code",
   "execution_count": null,
   "id": "191a6cc2",
   "metadata": {},
   "outputs": [],
   "source": [
    "a.T @ a # 정방행렬을 만들고자 할 때 전지 행렬을 양변에 곱해줌"
   ]
  },
  {
   "cell_type": "markdown",
   "id": "e580a990",
   "metadata": {},
   "source": [
    "**독립변수2개, 데이터2개**"
   ]
  },
  {
   "cell_type": "code",
   "execution_count": 124,
   "id": "1f944748",
   "metadata": {
    "ExecuteTime": {
     "end_time": "2021-07-30T07:55:22.883913Z",
     "start_time": "2021-07-30T07:55:22.865931Z"
    }
   },
   "outputs": [],
   "source": [
    "x = np.array([[1,2],[3,4]])\n",
    "y = np.array([[5],[7]])"
   ]
  },
  {
   "cell_type": "markdown",
   "id": "3d8c97df",
   "metadata": {},
   "source": [
    "<b>\n",
    "x @ W = y<br>\n",
    "x의 역행렬을 양변에 곱해서 정방행렬을 만들어줌<br> \n",
    "W = x의 역행렬@ y<br>\n",
    "<b/>"
   ]
  },
  {
   "cell_type": "code",
   "execution_count": 125,
   "id": "d14a246f",
   "metadata": {
    "ExecuteTime": {
     "end_time": "2021-07-30T07:59:29.450997Z",
     "start_time": "2021-07-30T07:59:29.441021Z"
    }
   },
   "outputs": [
    {
     "data": {
      "text/plain": [
       "array([[-3.],\n",
       "       [ 4.]])"
      ]
     },
     "execution_count": 125,
     "metadata": {},
     "output_type": "execute_result"
    }
   ],
   "source": [
    "W = np.linalg.inv(x)@y\n",
    "W"
   ]
  },
  {
   "cell_type": "code",
   "execution_count": 126,
   "id": "75e00dec",
   "metadata": {
    "ExecuteTime": {
     "end_time": "2021-07-30T08:00:04.427749Z",
     "start_time": "2021-07-30T08:00:04.416782Z"
    }
   },
   "outputs": [
    {
     "data": {
      "text/plain": [
       "array([6.])"
      ]
     },
     "execution_count": 126,
     "metadata": {},
     "output_type": "execute_result"
    }
   ],
   "source": [
    "# 독립변수 2,3일 경우 종속 변수는?\n",
    "\n",
    "2 *W[0] + 3*W[1]"
   ]
  },
  {
   "cell_type": "markdown",
   "id": "bf89aa81",
   "metadata": {},
   "source": [
    "## 6.2 선형 연립방정식 (회귀식 도출)과 그래프 : 독립변수 1개"
   ]
  },
  {
   "cell_type": "markdown",
   "id": "91d975ca",
   "metadata": {
    "ExecuteTime": {
     "end_time": "2021-07-30T08:02:19.616256Z",
     "start_time": "2021-07-30T08:02:19.600300Z"
    }
   },
   "source": [
    "**정방행렬을 위해 데이터2개 생성**"
   ]
  },
  {
   "cell_type": "code",
   "execution_count": 137,
   "id": "26c8aae4",
   "metadata": {
    "ExecuteTime": {
     "end_time": "2021-07-30T08:13:02.658659Z",
     "start_time": "2021-07-30T08:13:02.649708Z"
    }
   },
   "outputs": [],
   "source": [
    "x = [2,3]\n",
    "y = [6.8,7.3]"
   ]
  },
  {
   "cell_type": "code",
   "execution_count": 138,
   "id": "eba1bfa8",
   "metadata": {
    "ExecuteTime": {
     "end_time": "2021-07-30T08:13:02.815532Z",
     "start_time": "2021-07-30T08:13:02.808552Z"
    }
   },
   "outputs": [],
   "source": [
    "# 2 1\n",
    "# 3 1\n",
    "\n",
    "X = np.column_stack((x, np.ones(len(x))))"
   ]
  },
  {
   "cell_type": "code",
   "execution_count": 139,
   "id": "527add8b",
   "metadata": {
    "ExecuteTime": {
     "end_time": "2021-07-30T08:13:02.971544Z",
     "start_time": "2021-07-30T08:13:02.953585Z"
    }
   },
   "outputs": [],
   "source": [
    "Y = np.array(y).reshape(2,1)"
   ]
  },
  {
   "cell_type": "markdown",
   "id": "726149b4",
   "metadata": {},
   "source": [
    "**X @ W = Y**\n",
    "\n",
    "**X의 역행렬 @ W = X의 역행렬 @ Y** \n",
    "\n",
    "**W = X의 역행렬 @ Y**"
   ]
  },
  {
   "cell_type": "code",
   "execution_count": 140,
   "id": "b45c738b",
   "metadata": {
    "ExecuteTime": {
     "end_time": "2021-07-30T08:13:03.301701Z",
     "start_time": "2021-07-30T08:13:03.290702Z"
    }
   },
   "outputs": [
    {
     "data": {
      "text/plain": [
       "array([[0.5],\n",
       "       [5.8]])"
      ]
     },
     "execution_count": 140,
     "metadata": {},
     "output_type": "execute_result"
    }
   ],
   "source": [
    "W = np.linalg.inv(X)@Y\n",
    "W"
   ]
  },
  {
   "cell_type": "code",
   "execution_count": 141,
   "id": "afe774b4",
   "metadata": {
    "ExecuteTime": {
     "end_time": "2021-07-30T08:13:03.472892Z",
     "start_time": "2021-07-30T08:13:03.456936Z"
    }
   },
   "outputs": [
    {
     "data": {
      "text/plain": [
       "array([6.8, 7.3])"
      ]
     },
     "execution_count": 141,
     "metadata": {},
     "output_type": "execute_result"
    }
   ],
   "source": [
    "f = X[:,0]*W[0] + X[:,1]*W[1]\n",
    "f"
   ]
  },
  {
   "cell_type": "code",
   "execution_count": 143,
   "id": "1b883a68",
   "metadata": {
    "ExecuteTime": {
     "end_time": "2021-07-30T08:15:08.043775Z",
     "start_time": "2021-07-30T08:15:07.897214Z"
    }
   },
   "outputs": [
    {
     "data": {
      "image/png": "[encoded data removed]",
      "text/plain": [
       "<Figure size 432x288 with 1 Axes>"
      ]
     },
     "metadata": {
      "needs_background": "light"
     },
     "output_type": "display_data"
    }
   ],
   "source": [
    "plt.scatter(x,y)\n",
    "plt.plot(x,f,'-')\n",
    "plt.show()"
   ]
  },
  {
   "cell_type": "markdown",
   "id": "66c34cb6",
   "metadata": {},
   "source": [
    "**데이터를 n개**"
   ]
  },
  {
   "cell_type": "code",
   "execution_count": 146,
   "id": "c2dd72a4",
   "metadata": {
    "ExecuteTime": {
     "end_time": "2021-07-30T08:44:52.434271Z",
     "start_time": "2021-07-30T08:44:52.419277Z"
    }
   },
   "outputs": [
    {
     "name": "stdout",
     "output_type": "stream",
     "text": [
      "[[ 32.    1. ]\n",
      " [ 67.    1. ]\n",
      " [ 96.    1. ]\n",
      " [118.    1. ]\n",
      " [126.    1. ]\n",
      " [144.    1. ]\n",
      " [152.5   1. ]\n",
      " [158.    1. ]]\n",
      "\n",
      "[[ 18. ]\n",
      " [ 24. ]\n",
      " [ 61.5]\n",
      " [ 49. ]\n",
      " [ 52. ]\n",
      " [105. ]\n",
      " [130.3]\n",
      " [125. ]]\n"
     ]
    }
   ],
   "source": [
    "x = [32,67,96,118,126,144,152.5,158] # 독립변수 \n",
    "y =  [18,24,61.5,49,52,105,130.3,125]\n",
    "\n",
    "X = np.column_stack((x,np.ones(len(x))))\n",
    "print(X,end='\\n\\n')\n",
    "Y = np.array(y).reshape(len(y),1)\n",
    "print(Y)"
   ]
  },
  {
   "cell_type": "code",
   "execution_count": 149,
   "id": "44d400e1",
   "metadata": {
    "ExecuteTime": {
     "end_time": "2021-07-30T08:47:10.547172Z",
     "start_time": "2021-07-30T08:47:10.497236Z"
    }
   },
   "outputs": [],
   "source": [
    "# X.T @ X @ W = X.T@Y \n",
    "\n",
    "W = np.linalg.inv(X.T@X)@X.T@Y"
   ]
  },
  {
   "cell_type": "code",
   "execution_count": 158,
   "id": "35b125db",
   "metadata": {
    "ExecuteTime": {
     "end_time": "2021-07-30T08:53:30.897316Z",
     "start_time": "2021-07-30T08:53:30.881358Z"
    }
   },
   "outputs": [],
   "source": [
    "f = X[:,0]*W[0]+W[1]"
   ]
  },
  {
   "cell_type": "code",
   "execution_count": 159,
   "id": "706a8917",
   "metadata": {
    "ExecuteTime": {
     "end_time": "2021-07-30T08:53:31.069138Z",
     "start_time": "2021-07-30T08:53:31.050214Z"
    }
   },
   "outputs": [
    {
     "data": {
      "text/plain": [
       "array([[  0.88235732],\n",
       "       [-27.94828293]])"
      ]
     },
     "execution_count": 159,
     "metadata": {},
     "output_type": "execute_result"
    }
   ],
   "source": [
    "W"
   ]
  },
  {
   "cell_type": "code",
   "execution_count": 161,
   "id": "18c95d32",
   "metadata": {
    "ExecuteTime": {
     "end_time": "2021-07-30T08:53:57.212609Z",
     "start_time": "2021-07-30T08:53:57.049662Z"
    }
   },
   "outputs": [
    {
     "data": {
      "image/png": "[encoded data removed]",
      "text/plain": [
       "<Figure size 432x288 with 1 Axes>"
      ]
     },
     "metadata": {
      "needs_background": "light"
     },
     "output_type": "display_data"
    }
   ],
   "source": [
    "plt.scatter(x,y)\n",
    "plt.plot(X[:,0],f,'-')\n",
    "plt.show()"
   ]
  },
  {
   "cell_type": "markdown",
   "id": "480f20f8",
   "metadata": {},
   "source": [
    "# 7절. 연습문제 "
   ]
  },
  {
   "cell_type": "markdown",
   "id": "a1e5210e",
   "metadata": {},
   "source": [
    "## 7.1 실습형"
   ]
  },
  {
   "cell_type": "code",
   "execution_count": 172,
   "id": "f4f30aeb",
   "metadata": {
    "ExecuteTime": {
     "end_time": "2021-07-30T09:08:21.774282Z",
     "start_time": "2021-07-30T09:08:21.754334Z"
    }
   },
   "outputs": [
    {
     "name": "stdout",
     "output_type": "stream",
     "text": [
      "독립변수:\n",
      "[[5.1 3.5 1.4 0.2]\n",
      " [4.9 3.  1.4 0.2]\n",
      " [4.7 3.2 1.3 0.2]\n",
      " [4.6 3.1 1.5 0.2]\n",
      " [5.  3.6 1.4 0.2]]\n",
      "\n",
      "종속변수:\n",
      "[0 0 0 0 0 0 0 0 0 0 0 0 0 0 0 0 0 0 0 0 0 0 0 0 0 0 0 0 0 0 0 0 0 0 0 0 0\n",
      " 0 0 0 0 0 0 0 0 0 0 0 0 0 1 1 1 1 1 1 1 1 1 1 1 1 1 1 1 1 1 1 1 1 1 1 1 1\n",
      " 1 1 1 1 1 1 1 1 1 1 1 1 1 1 1 1 1 1 1 1 1 1 1 1 1 1]\n"
     ]
    }
   ],
   "source": [
    "import numpy as np\n",
    "from sklearn import datasets \n",
    "iris = datasets.load_iris() \n",
    "iris_data = iris.data\n",
    "\n",
    "# iris_data 안에 독립, 종속 변수 배열이 각각 딕셔너리 형태로 담겨있음\n",
    "print('독립변수:')\n",
    "print(iris['data'][:5],end='\\n\\n') # 독립변수\n",
    "print('종속변수:')\n",
    "print(iris['target'][:100]) # 종속변수\n",
    "\n",
    "X = iris['data']\n",
    "y = iris['target']"
   ]
  },
  {
   "cell_type": "code",
   "execution_count": 174,
   "id": "c3e06af7",
   "metadata": {
    "ExecuteTime": {
     "end_time": "2021-07-30T09:08:46.572317Z",
     "start_time": "2021-07-30T09:08:46.562344Z"
    }
   },
   "outputs": [
    {
     "data": {
      "text/plain": [
       "array([5.84333333, 3.05733333, 3.758     , 1.19933333])"
      ]
     },
     "execution_count": 174,
     "metadata": {},
     "output_type": "execute_result"
    }
   ],
   "source": [
    "## 1번. \n",
    "X.mean(axis=0)"
   ]
  },
  {
   "cell_type": "code",
   "execution_count": 180,
   "id": "c54ae64c",
   "metadata": {
    "ExecuteTime": {
     "end_time": "2021-07-30T09:11:19.970372Z",
     "start_time": "2021-07-30T09:11:19.962393Z"
    }
   },
   "outputs": [
    {
     "data": {
      "text/plain": [
       "array([[5.1, 3.5, 1.4, 0.2],\n",
       "       [4.9, 3. , 1.4, 0.2],\n",
       "       [4.7, 3.2, 1.3, 0.2],\n",
       "       [4.6, 3.1, 1.5, 0.2],\n",
       "       [5. , 3.6, 1.4, 0.2]])"
      ]
     },
     "execution_count": 180,
     "metadata": {},
     "output_type": "execute_result"
    }
   ],
   "source": [
    "## 2번\n",
    "iris['data'][:5]"
   ]
  },
  {
   "cell_type": "code",
   "execution_count": 177,
   "id": "2557024d",
   "metadata": {
    "ExecuteTime": {
     "end_time": "2021-07-30T09:10:14.673431Z",
     "start_time": "2021-07-30T09:10:14.666443Z"
    }
   },
   "outputs": [
    {
     "data": {
      "text/plain": [
       "array([[5.1, 3.5, 1.4],\n",
       "       [4.9, 3. , 1.4],\n",
       "       [4.7, 3.2, 1.3],\n",
       "       [4.6, 3.1, 1.5],\n",
       "       [5. , 3.6, 1.4]])"
      ]
     },
     "execution_count": 177,
     "metadata": {},
     "output_type": "execute_result"
    }
   ],
   "source": [
    "## 3번\n",
    "iris['data'][:5,:-1]"
   ]
  },
  {
   "cell_type": "code",
   "execution_count": 182,
   "id": "bf703c08",
   "metadata": {
    "ExecuteTime": {
     "end_time": "2021-07-30T09:11:32.240992Z",
     "start_time": "2021-07-30T09:11:32.234985Z"
    }
   },
   "outputs": [
    {
     "data": {
      "text/plain": [
       "array([0.2, 0.2, 0.2, 0.2, 0.2])"
      ]
     },
     "execution_count": 182,
     "metadata": {},
     "output_type": "execute_result"
    }
   ],
   "source": [
    "## 4번\n",
    "iris['data'][:5,-1]"
   ]
  },
  {
   "cell_type": "code",
   "execution_count": 184,
   "id": "e2e8e0b8",
   "metadata": {
    "ExecuteTime": {
     "end_time": "2021-07-30T09:12:58.498418Z",
     "start_time": "2021-07-30T09:12:58.482441Z"
    }
   },
   "outputs": [
    {
     "data": {
      "text/plain": [
       "array([[5.1, 3.5, 1.4, 0.2],\n",
       "       [4.9, 3. , 1.4, 0.2],\n",
       "       [4.7, 3.2, 1.3, 0.2],\n",
       "       [4.6, 3.1, 1.5, 0.2],\n",
       "       [5. , 3.6, 1.4, 0.2]])"
      ]
     },
     "execution_count": 184,
     "metadata": {},
     "output_type": "execute_result"
    }
   ],
   "source": [
    "## 5번. \n",
    "array3 = iris['data'][:5,:-1]\n",
    "array4 = iris['data'][:5,-1]\n",
    "\n",
    "np.hstack((array3,array4[:,np.newaxis]))"
   ]
  },
  {
   "cell_type": "code",
   "execution_count": 189,
   "id": "b09571b3",
   "metadata": {
    "ExecuteTime": {
     "end_time": "2021-07-30T09:18:06.007284Z",
     "start_time": "2021-07-30T09:18:05.980380Z"
    }
   },
   "outputs": [
    {
     "ename": "TypeError",
     "evalue": "only integer scalar arrays can be converted to a scalar index",
     "output_type": "error",
     "traceback": [
      "\u001b[1;31m---------------------------------------------------------------------------\u001b[0m",
      "\u001b[1;31mTypeError\u001b[0m                                 Traceback (most recent call last)",
      "\u001b[1;32m<ipython-input-189-2f8e79734aa5>\u001b[0m in \u001b[0;36m<module>\u001b[1;34m\u001b[0m\n\u001b[0;32m      3\u001b[0m \u001b[0mindex\u001b[0m \u001b[1;33m=\u001b[0m \u001b[0miris\u001b[0m\u001b[1;33m[\u001b[0m\u001b[1;34m'data'\u001b[0m\u001b[1;33m]\u001b[0m\u001b[1;33m[\u001b[0m\u001b[1;33m:\u001b[0m\u001b[1;36m5\u001b[0m\u001b[1;33m]\u001b[0m \u001b[1;33m>\u001b[0m \u001b[0miris\u001b[0m\u001b[1;33m[\u001b[0m\u001b[1;34m'data'\u001b[0m\u001b[1;33m]\u001b[0m\u001b[1;33m[\u001b[0m\u001b[1;33m:\u001b[0m\u001b[1;36m5\u001b[0m\u001b[1;33m]\u001b[0m\u001b[1;33m.\u001b[0m\u001b[0mmean\u001b[0m\u001b[1;33m(\u001b[0m\u001b[0maxis\u001b[0m\u001b[1;33m=\u001b[0m\u001b[1;36m0\u001b[0m\u001b[1;33m)\u001b[0m\u001b[1;33m\u001b[0m\u001b[1;33m\u001b[0m\u001b[0m\n\u001b[0;32m      4\u001b[0m \u001b[1;33m\u001b[0m\u001b[0m\n\u001b[1;32m----> 5\u001b[1;33m \u001b[0miris\u001b[0m\u001b[1;33m[\u001b[0m\u001b[1;34m'data'\u001b[0m\u001b[1;33m]\u001b[0m\u001b[1;33m[\u001b[0m\u001b[1;36m5\u001b[0m\u001b[1;33m]\u001b[0m\u001b[1;33m[\u001b[0m\u001b[1;33m:\u001b[0m\u001b[0miris\u001b[0m\u001b[1;33m[\u001b[0m\u001b[1;34m'data'\u001b[0m\u001b[1;33m]\u001b[0m\u001b[1;33m[\u001b[0m\u001b[1;33m:\u001b[0m\u001b[1;36m5\u001b[0m\u001b[1;33m]\u001b[0m \u001b[1;33m>\u001b[0m\u001b[0miris\u001b[0m\u001b[1;33m[\u001b[0m\u001b[1;34m'data'\u001b[0m\u001b[1;33m]\u001b[0m\u001b[1;33m[\u001b[0m\u001b[1;33m:\u001b[0m\u001b[1;36m5\u001b[0m\u001b[1;33m]\u001b[0m\u001b[1;33m.\u001b[0m\u001b[0mmean\u001b[0m\u001b[1;33m(\u001b[0m\u001b[0maxis\u001b[0m\u001b[1;33m=\u001b[0m\u001b[1;36m0\u001b[0m\u001b[1;33m)\u001b[0m\u001b[1;33m]\u001b[0m\u001b[1;33m\u001b[0m\u001b[1;33m\u001b[0m\u001b[0m\n\u001b[0m",
      "\u001b[1;31mTypeError\u001b[0m: only integer scalar arrays can be converted to a scalar index"
     ]
    }
   ],
   "source": [
    "## 6번.\n",
    "iris['data'][:5].mean(axis=0)\n",
    "index = iris['data'][:5] > iris['data'][:5].mean(axis=0)\n",
    "\n",
    "iris['data'][5][:]\n"
   ]
  },
  {
   "cell_type": "code",
   "execution_count": 190,
   "id": "e2bc2983",
   "metadata": {
    "ExecuteTime": {
     "end_time": "2021-07-30T09:18:20.534515Z",
     "start_time": "2021-07-30T09:18:20.522548Z"
    }
   },
   "outputs": [
    {
     "data": {
      "text/plain": [
       "array([[ True,  True, False, False],\n",
       "       [ True, False, False, False],\n",
       "       [False, False, False, False],\n",
       "       [False, False,  True, False],\n",
       "       [ True,  True, False, False]])"
      ]
     },
     "execution_count": 190,
     "metadata": {},
     "output_type": "execute_result"
    }
   ],
   "source": [
    "iris['data'][:5] >iris['data'][:5].mean(axis=0)"
   ]
  },
  {
   "cell_type": "code",
   "execution_count": 188,
   "id": "500f9b93",
   "metadata": {
    "ExecuteTime": {
     "end_time": "2021-07-30T09:15:32.400196Z",
     "start_time": "2021-07-30T09:15:32.387196Z"
    }
   },
   "outputs": [
    {
     "data": {
      "text/plain": [
       "array([4.86, 3.28, 1.4 , 0.2 ])"
      ]
     },
     "execution_count": 188,
     "metadata": {},
     "output_type": "execute_result"
    }
   ],
   "source": [
    "iris['data'][:5].mean(axis=0)"
   ]
  },
  {
   "cell_type": "markdown",
   "id": "87a8bb83",
   "metadata": {},
   "source": [
    "### 7.2 문제 풀이형"
   ]
  },
  {
   "cell_type": "code",
   "execution_count": null,
   "id": "b1c0dc8f",
   "metadata": {},
   "outputs": [],
   "source": []
  }
 ],
 "metadata": {
  "kernelspec": {
   "display_name": "Python 3",
   "language": "python",
   "name": "python3"
  },
  "language_info": {
   "codemirror_mode": {
    "name": "ipython",
    "version": 3
   },
   "file_extension": ".py",
   "mimetype": "text/x-python",
   "name": "python",
   "nbconvert_exporter": "python",
   "pygments_lexer": "ipython3",
   "version": "3.8.8"
  },
  "toc": {
   "base_numbering": 1,
   "nav_menu": {},
   "number_sections": false,
   "sideBar": true,
   "skip_h1_title": false,
   "title_cell": "Table of Contents",
   "title_sidebar": "Contents",
   "toc_cell": false,
   "toc_position": {},
   "toc_section_display": true,
   "toc_window_display": false
  },
  "varInspector": {
   "cols": {
    "lenName": 16,
    "lenType": 16,
    "lenVar": 40
   },
   "kernels_config": {
    "python": {
     "delete_cmd_postfix": "",
     "delete_cmd_prefix": "del ",
     "library": "var_list.py",
     "varRefreshCmd": "print(var_dic_list())"
    },
    "r": {
     "delete_cmd_postfix": ") ",
     "delete_cmd_prefix": "rm(",
     "library": "var_list.r",
     "varRefreshCmd": "cat(var_dic_list()) "
    }
   },
   "types_to_exclude": [
    "module",
    "function",
    "builtin_function_or_method",
    "instance",
    "_Feature"
   ],
   "window_display": false
  }
 },
 "nbformat": 4,
 "nbformat_minor": 5
}
