{
 "cells": [
  {
   "cell_type": "markdown",
   "id": "7bc0d866",
   "metadata": {},
   "source": [
    "## 3절. 연습문제 - Oracle DB연동"
   ]
  },
  {
   "cell_type": "code",
   "execution_count": 45,
   "id": "43e1bc66",
   "metadata": {},
   "outputs": [],
   "source": [
    "## Oracle DB 연결\n",
    "\n",
    "import cx_Oracle\n",
    "import pandas as pd\n",
    "import csv\n",
    "\n",
    "oracle_dsn = cx_Oracle.makedsn(host='localhost',port=1521,sid='xe')\n",
    "conn = cx_Oracle.connect('scott','tiger',dsn=oracle_dsn)\n",
    "cursor = conn.cursor()"
   ]
  },
  {
   "cell_type": "code",
   "execution_count": 46,
   "id": "2f91ae0c",
   "metadata": {},
   "outputs": [],
   "source": [
    "# 1. 입력\n",
    "\n",
    "def insert_member():\n",
    "    global conn\n",
    "    cursor = conn.cursor()\n",
    "    # 사용자로부터 이름, 전화, 이메일, 나이,등급(1~5), 기타특징 입력받아 DB에 추가한다\n",
    "    name = input('이름:')\n",
    "    phone = input('전화 번호:')\n",
    "    email = input('이메일 주소:')\n",
    "    age = int(input('나이:'))\n",
    "    grade = int(input('등급:'))\n",
    "    etc = input('기타사항:')\n",
    "    \n",
    "    cursor.execute(\"insert into member values (:name, :phone, :email, :age, :grade, :etc)\",\n",
    "                   {'name':name,'phone':phone, 'email':email,'age':age, 'grade':grade,'etc':etc})\n",
    "    conn.commit()\n",
    "    \n",
    "    print('-----------------------------------')\n",
    "    print('입력 완료')\n",
    "    print('---------------------------------')"
   ]
  },
  {
   "cell_type": "code",
   "execution_count": 47,
   "id": "d8351622",
   "metadata": {},
   "outputs": [
    {
     "name": "stdout",
     "output_type": "stream",
     "text": [
      "이름:김세세\n",
      "전화 번호:010-2231-1132\n",
      "이메일 주소:sese@naver.com\n",
      "나이:28\n",
      "등급:4\n",
      "기타사항:없음\n",
      "-----------------------------------\n",
      "입력 완료\n",
      "---------------------------------\n"
     ]
    }
   ],
   "source": [
    "# 위의 메소드 test\n",
    "insert_member()"
   ]
  },
  {
   "cell_type": "code",
   "execution_count": 48,
   "id": "a7a615b8",
   "metadata": {},
   "outputs": [],
   "source": [
    "# 2. 전체조회 \n",
    "\n",
    "def select_all():\n",
    "    # SELECT * FROM MEMBER의 결과를 출력 (DataFrame 또는 list 형태 출력)\n",
    "    cursor.execute('select * from member')\n",
    "    result = cursor.fetchall()\n",
    "    df = pd.DataFrame(result)\n",
    "    colnames = [col[0]  for col in cursor.description]\n",
    "    df.columns = colnames\n",
    "    print(df)"
   ]
  },
  {
   "cell_type": "code",
   "execution_count": 49,
   "id": "18f7d8a4",
   "metadata": {},
   "outputs": [
    {
     "name": "stdout",
     "output_type": "stream",
     "text": [
      "  NAME          PHONE           EMAIL  AGE  GRADE ETC\n",
      "0  홍길동  010-2222-1111   HONG@HONG.COM   23      5  없음\n",
      "1  김세세  010-2231-1132  sese@naver.com   28      4  없음\n",
      "2  김기동  010-2222-1111    KIM@HONG.COM   33      5  없음\n",
      "3    d              3               f    3      3   3\n"
     ]
    }
   ],
   "source": [
    "# 위의 메소드 test\n",
    "select_all()"
   ]
  },
  {
   "cell_type": "code",
   "execution_count": 50,
   "id": "186c4162",
   "metadata": {},
   "outputs": [],
   "source": [
    "# 3. 이름 찾기 \n",
    "\n",
    "def select_name():\n",
    "    # 사용자로부터 검색하고자 하는 이름을 받아 결과 출력 \n",
    "    name = input('검색하고자 하는 이름?')\n",
    "    cursor.execute('select * from member where name=:name',{'name':name})\n",
    "    result = cursor.fetchall()\n",
    "    df = pd.DataFrame(result)\n",
    "    if len(result) ==0:\n",
    "        print('---------------------------------')\n",
    "        print('검색한 사람의 정보가 없습니다')\n",
    "        print('---------------------------------')\n",
    "    else:\n",
    "        colnames = [op[0] for op in cursor.description]\n",
    "        df.columns = colnames\n",
    "    print(df)"
   ]
  },
  {
   "cell_type": "code",
   "execution_count": 51,
   "id": "5c04d0a4",
   "metadata": {},
   "outputs": [
    {
     "name": "stdout",
     "output_type": "stream",
     "text": [
      "검색하고자 하는 이름?김세세\n",
      "  NAME          PHONE           EMAIL  AGE  GRADE ETC\n",
      "0  김세세  010-2231-1132  sese@naver.com   28      4  없음\n"
     ]
    }
   ],
   "source": [
    "# 위의 메소드 test\n",
    "\n",
    "select_name()"
   ]
  },
  {
   "cell_type": "code",
   "execution_count": 52,
   "id": "734c4143",
   "metadata": {},
   "outputs": [
    {
     "name": "stdout",
     "output_type": "stream",
     "text": [
      "검색하고자 하는 이름?마마마\n",
      "---------------------------------\n",
      "검색한 사람의 정보가 없습니다\n",
      "---------------------------------\n",
      "Empty DataFrame\n",
      "Columns: []\n",
      "Index: []\n"
     ]
    }
   ],
   "source": [
    "# 위의 메소드 test\n",
    "\n",
    "select_name()"
   ]
  },
  {
   "cell_type": "code",
   "execution_count": 53,
   "id": "a05b03ff",
   "metadata": {},
   "outputs": [],
   "source": [
    "# 4.메일 삭제 \n",
    "\n",
    "def delete_email():\n",
    "    # 사용자로부터 삭제할 메일을 입력받아 해당 메일이 있는지 확인하고 \n",
    "    # 해당 메일이 없다면 없다고 출력, 있으면 삭제 하고 삭제했다고 출력 \n",
    "    global conn\n",
    "    email = input('삭제할 자료의 이메일:')\n",
    "    cursor.execute('select * from member where email=:email',{'email':email})\n",
    "    result = cursor.fetchall()\n",
    "    if len(result) == 0:\n",
    "        print('---------------------------------')\n",
    "        print('검색한 이메일이 존재하지 않습니다')\n",
    "        print('---------------------------------')\n",
    "    else:\n",
    "        cursor.execute('delete from member where email=:email',{'email':email})\n",
    "        print('---------------------------------')\n",
    "        print('삭제완료')\n",
    "        print('---------------------------------')\n",
    "        conn.commit()"
   ]
  },
  {
   "cell_type": "code",
   "execution_count": 54,
   "id": "d295ec71",
   "metadata": {
    "scrolled": true
   },
   "outputs": [
    {
     "name": "stdout",
     "output_type": "stream",
     "text": [
      "삭제할 자료의 이메일:sese@naver.com\n",
      "---------------------------------\n",
      "삭제완료\n",
      "---------------------------------\n"
     ]
    }
   ],
   "source": [
    "# 위의 메소드 test\n",
    "\n",
    "delete_email()"
   ]
  },
  {
   "cell_type": "code",
   "execution_count": 55,
   "id": "fd2f475a",
   "metadata": {},
   "outputs": [
    {
     "name": "stdout",
     "output_type": "stream",
     "text": [
      "삭제할 자료의 이메일:sese@naver.com\n",
      "---------------------------------\n",
      "검색한 이메일이 존재하지 않습니다\n",
      "---------------------------------\n"
     ]
    }
   ],
   "source": [
    "# 위의 메소드 test\n",
    "\n",
    "delete_email()"
   ]
  },
  {
   "cell_type": "code",
   "execution_count": 56,
   "id": "0671eda8",
   "metadata": {},
   "outputs": [],
   "source": [
    "# 5.CSV로 내보내기\n",
    "\n",
    "def save_csv():\n",
    "    #SELECT * FROM MEMBER의 결과를 CSV로 내보내기 (HEADER 포함)\n",
    "    path = input('저장할 파일이름:')\n",
    "    cursor.execute('select * from member')\n",
    "    result = cursor.fetchall()\n",
    "    result.insert(0,('name','phone','email','age','grade','etc')) \n",
    "    \n",
    "    try:\n",
    "        with open('data/%s'%path,'w',newline='') as f:\n",
    "            writer = csv.writer(f)\n",
    "            writer.writerows(result)\n",
    "            print('--------------------------------')\n",
    "            print('파일 저장 완료')\n",
    "            print('---------------------------------')\n",
    "    except FileNotFoundError:\n",
    "        print('-------------------------------')\n",
    "        print('해당 경로가 존재하지 않습니다')\n",
    "        print('-------------------------------')\n"
   ]
  },
  {
   "cell_type": "code",
   "execution_count": 57,
   "id": "e6367fb6",
   "metadata": {},
   "outputs": [
    {
     "name": "stdout",
     "output_type": "stream",
     "text": [
      "저장할 파일이름:test.csv\n",
      "--------------------------------\n",
      "파일 저장 완료\n",
      "---------------------------------\n"
     ]
    }
   ],
   "source": [
    "# 위의 메소드 test\n",
    "\n",
    "save_csv()"
   ]
  },
  {
   "cell_type": "code",
   "execution_count": 58,
   "id": "7d65d6b2",
   "metadata": {},
   "outputs": [],
   "source": [
    "# 0.종료 -> main 함수에서 추가 \n",
    "def close_sql():\n",
    "    global conn\n",
    "    conn.close()\n",
    "    print('-------------------------------')\n",
    "    print('종료합니다')\n",
    "    print('---------------------------------')"
   ]
  },
  {
   "cell_type": "code",
   "execution_count": 59,
   "id": "ab027036",
   "metadata": {},
   "outputs": [],
   "source": [
    "def main():\n",
    "    print('-------------------------------------------------------------------------')\n",
    "    print('1:입력|2:전체 조회|3:이름 찾기|4:메일 삭제|5:csv파일 출력|0:종료',end=' ')\n",
    "    print('\\n-------------------------------------------------------------------------')\n",
    "    enter = int(input('메뉴 선택:'))\n",
    "    print('-------------------------------------------------------------------------')\n",
    "    \n",
    "    if enter ==1:\n",
    "        try:\n",
    "            insert_member()\n",
    "        except ValueError:\n",
    "            print('나이 또는 등급은 정수값을 입력하세요')\n",
    "    elif enter==2:\n",
    "        select_all()\n",
    "    elif enter==3:\n",
    "        select_name()\n",
    "    elif enter ==4:\n",
    "        delete_email()\n",
    "    elif enter ==5:\n",
    "        save_csv()\n",
    "    elif enter ==0:\n",
    "        close_sql()"
   ]
  },
  {
   "cell_type": "code",
   "execution_count": 61,
   "id": "daf15897",
   "metadata": {},
   "outputs": [
    {
     "name": "stdout",
     "output_type": "stream",
     "text": [
      "-------------------------------------------------------------------------\n",
      "1:입력|2:전체 조회|3:이름 찾기|4:메일 삭제|5:csv파일 출력|0:종료 \n",
      "-------------------------------------------------------------------------\n",
      "메뉴 선택:1\n",
      "-------------------------------------------------------------------------\n",
      "이름:김시훈\n",
      "전화 번호:010-3333-1111\n",
      "이메일 주소:sihun@naver.com\n",
      "나이:28\n",
      "등급:4\n",
      "기타사항:남자\n",
      "-----------------------------------\n",
      "입력 완료\n",
      "---------------------------------\n"
     ]
    }
   ],
   "source": [
    "# 1번:입력 메뉴 테스트 \n",
    "\n",
    "main()"
   ]
  },
  {
   "cell_type": "code",
   "execution_count": 62,
   "id": "cd324206",
   "metadata": {},
   "outputs": [
    {
     "name": "stdout",
     "output_type": "stream",
     "text": [
      "-------------------------------------------------------------------------\n",
      "1:입력|2:전체 조회|3:이름 찾기|4:메일 삭제|5:csv파일 출력|0:종료 \n",
      "-------------------------------------------------------------------------\n",
      "메뉴 선택:2\n",
      "-------------------------------------------------------------------------\n",
      "  NAME          PHONE            EMAIL  AGE  GRADE ETC\n",
      "0  홍길동  010-2222-1111    HONG@HONG.COM   23      5  없음\n",
      "1  김시훈  010-3333-1111  sihun@naver.com   28      4  남자\n",
      "2  김기동  010-2222-1111     KIM@HONG.COM   33      5  없음\n",
      "3    d              3                f    3      3   3\n"
     ]
    }
   ],
   "source": [
    "# 2번:전체 조회 메뉴 테스트 \n",
    "\n",
    "main()"
   ]
  },
  {
   "cell_type": "code",
   "execution_count": 64,
   "id": "28b31226",
   "metadata": {},
   "outputs": [
    {
     "name": "stdout",
     "output_type": "stream",
     "text": [
      "-------------------------------------------------------------------------\n",
      "1:입력|2:전체 조회|3:이름 찾기|4:메일 삭제|5:csv파일 출력|0:종료 \n",
      "-------------------------------------------------------------------------\n",
      "메뉴 선택:3\n",
      "-------------------------------------------------------------------------\n",
      "검색하고자 하는 이름?김시훈\n",
      "  NAME          PHONE            EMAIL  AGE  GRADE ETC\n",
      "0  김시훈  010-3333-1111  sihun@naver.com   28      4  남자\n"
     ]
    }
   ],
   "source": [
    "# 3번:이름 찾기 메뉴 테스트 \n",
    "\n",
    "main()"
   ]
  },
  {
   "cell_type": "code",
   "execution_count": 65,
   "id": "18ff552d",
   "metadata": {},
   "outputs": [
    {
     "name": "stdout",
     "output_type": "stream",
     "text": [
      "-------------------------------------------------------------------------\n",
      "1:입력|2:전체 조회|3:이름 찾기|4:메일 삭제|5:csv파일 출력|0:종료 \n",
      "-------------------------------------------------------------------------\n",
      "메뉴 선택:4\n",
      "-------------------------------------------------------------------------\n",
      "삭제할 자료의 이메일:sihun@naver.com\n",
      "---------------------------------\n",
      "삭제완료\n",
      "---------------------------------\n"
     ]
    }
   ],
   "source": [
    "# 4번: 메일 삭제 메뉴 테스트 \n",
    "\n",
    "main()"
   ]
  },
  {
   "cell_type": "code",
   "execution_count": 67,
   "id": "aaf6ecb8",
   "metadata": {},
   "outputs": [
    {
     "name": "stdout",
     "output_type": "stream",
     "text": [
      "-------------------------------------------------------------------------\n",
      "1:입력|2:전체 조회|3:이름 찾기|4:메일 삭제|5:csv파일 출력|0:종료 \n",
      "-------------------------------------------------------------------------\n",
      "메뉴 선택:5\n",
      "-------------------------------------------------------------------------\n",
      "저장할 파일이름:고세현_Oracle.csv\n",
      "--------------------------------\n",
      "파일 저장 완료\n",
      "---------------------------------\n"
     ]
    }
   ],
   "source": [
    "# 5번:csv 보내기 메뉴 테스트 \n",
    "\n",
    "main()"
   ]
  },
  {
   "cell_type": "code",
   "execution_count": 68,
   "id": "8c900391",
   "metadata": {},
   "outputs": [
    {
     "name": "stdout",
     "output_type": "stream",
     "text": [
      "-------------------------------------------------------------------------\n",
      "1:입력|2:전체 조회|3:이름 찾기|4:메일 삭제|5:csv파일 출력|0:종료 \n",
      "-------------------------------------------------------------------------\n",
      "메뉴 선택:0\n",
      "-------------------------------------------------------------------------\n",
      "-------------------------------\n",
      "종료합니다\n",
      "---------------------------------\n"
     ]
    }
   ],
   "source": [
    "# 0번:종료하기 테스트\n",
    "\n",
    "main()"
   ]
  },
  {
   "cell_type": "code",
   "execution_count": null,
   "id": "53e7cffb",
   "metadata": {},
   "outputs": [],
   "source": []
  }
 ],
 "metadata": {
  "kernelspec": {
   "display_name": "Python 3",
   "language": "python",
   "name": "python3"
  },
  "language_info": {
   "codemirror_mode": {
    "name": "ipython",
    "version": 3
   },
   "file_extension": ".py",
   "mimetype": "text/x-python",
   "name": "python",
   "nbconvert_exporter": "python",
   "pygments_lexer": "ipython3",
   "version": "3.8.8"
  },
  "toc": {
   "base_numbering": 1,
   "nav_menu": {},
   "number_sections": false,
   "sideBar": true,
   "skip_h1_title": false,
   "title_cell": "Table of Contents",
   "title_sidebar": "Contents",
   "toc_cell": false,
   "toc_position": {},
   "toc_section_display": true,
   "toc_window_display": true
  },
  "varInspector": {
   "cols": {
    "lenName": 16,
    "lenType": 16,
    "lenVar": 40
   },
   "kernels_config": {
    "python": {
     "delete_cmd_postfix": "",
     "delete_cmd_prefix": "del ",
     "library": "var_list.py",
     "varRefreshCmd": "print(var_dic_list())"
    },
    "r": {
     "delete_cmd_postfix": ") ",
     "delete_cmd_prefix": "rm(",
     "library": "var_list.r",
     "varRefreshCmd": "cat(var_dic_list()) "
    }
   },
   "types_to_exclude": [
    "module",
    "function",
    "builtin_function_or_method",
    "instance",
    "_Feature"
   ],
   "window_display": false
  }
 },
 "nbformat": 4,
 "nbformat_minor": 5
}
