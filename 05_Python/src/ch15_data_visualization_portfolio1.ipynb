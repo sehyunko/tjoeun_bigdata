{
 "cells": [
  {
   "cell_type": "markdown",
   "id": "b1ed02ce",
   "metadata": {},
   "source": [
    "<b><font size=6 color='black'>포트폴리오 - 1</font>"
   ]
  },
  {
   "cell_type": "markdown",
   "id": "7bd8e3dc",
   "metadata": {},
   "source": [
    "## 1. 기본 설정 & 패키지 임포트"
   ]
  },
  {
   "cell_type": "code",
   "execution_count": 322,
   "id": "ba85645b",
   "metadata": {},
   "outputs": [],
   "source": [
    "import pandas as pd \n",
    "import numpy as np \n",
    "import matplotlib.pyplot as plt\n",
    "import seaborn as sns\n",
    "import warnings\n",
    "from datetime import datetime\n",
    "import re\n",
    "\n",
    "warnings.filterwarnings(action='ignore')\n",
    "plt.rc('font',family='Malgun Gothic')  \n",
    "plt.rc('axes',unicode_minus=False)\n",
    "\n",
    "pd.set_option('display.max_rows', 500)"
   ]
  },
  {
   "cell_type": "markdown",
   "id": "fdb30d41",
   "metadata": {},
   "source": [
    "## 2. 부동산 데이터 불러오기 &"
   ]
  },
  {
   "cell_type": "code",
   "execution_count": 421,
   "id": "174f0b7e",
   "metadata": {},
   "outputs": [],
   "source": [
    "df_first = pd.read_csv('data/전국 평균 평당 분양가격(2013년 9월부터 2015년 8월까지).csv',encoding='cp949')\n",
    "df_last = pd.read_csv('data/주택도시보증공사_전국 신규 민간아파트 분양가격 동향_20210531.csv',encoding='cp949')"
   ]
  },
  {
   "cell_type": "code",
   "execution_count": null,
   "id": "b3c232af",
   "metadata": {},
   "outputs": [],
   "source": []
  },
  {
   "cell_type": "code",
   "execution_count": 423,
   "id": "f0018d72",
   "metadata": {
    "scrolled": true
   },
   "outputs": [
    {
     "data": {
      "text/html": [
       "<div>\n",
       "<style scoped>\n",
       "    .dataframe tbody tr th:only-of-type {\n",
       "        vertical-align: middle;\n",
       "    }\n",
       "\n",
       "    .dataframe tbody tr th {\n",
       "        vertical-align: top;\n",
       "    }\n",
       "\n",
       "    .dataframe thead th {\n",
       "        text-align: right;\n",
       "    }\n",
       "</style>\n",
       "<table border=\"1\" class=\"dataframe\">\n",
       "  <thead>\n",
       "    <tr style=\"text-align: right;\">\n",
       "      <th></th>\n",
       "      <th>지역</th>\n",
       "      <th>2013년12월</th>\n",
       "      <th>2014년1월</th>\n",
       "      <th>2014년2월</th>\n",
       "      <th>2014년3월</th>\n",
       "      <th>2014년4월</th>\n",
       "      <th>2014년5월</th>\n",
       "      <th>2014년6월</th>\n",
       "      <th>2014년7월</th>\n",
       "      <th>2014년8월</th>\n",
       "      <th>...</th>\n",
       "      <th>2014년11월</th>\n",
       "      <th>2014년12월</th>\n",
       "      <th>2015년1월</th>\n",
       "      <th>2015년2월</th>\n",
       "      <th>2015년3월</th>\n",
       "      <th>2015년4월</th>\n",
       "      <th>2015년5월</th>\n",
       "      <th>2015년6월</th>\n",
       "      <th>2015년7월</th>\n",
       "      <th>2015년8월</th>\n",
       "    </tr>\n",
       "  </thead>\n",
       "  <tbody>\n",
       "    <tr>\n",
       "      <th>0</th>\n",
       "      <td>서울</td>\n",
       "      <td>18189</td>\n",
       "      <td>17925</td>\n",
       "      <td>17925</td>\n",
       "      <td>18016</td>\n",
       "      <td>18098</td>\n",
       "      <td>19446</td>\n",
       "      <td>18867</td>\n",
       "      <td>18742</td>\n",
       "      <td>19274</td>\n",
       "      <td>...</td>\n",
       "      <td>20242</td>\n",
       "      <td>20269</td>\n",
       "      <td>20670</td>\n",
       "      <td>20670</td>\n",
       "      <td>19415</td>\n",
       "      <td>18842</td>\n",
       "      <td>18367</td>\n",
       "      <td>18374</td>\n",
       "      <td>18152</td>\n",
       "      <td>18443</td>\n",
       "    </tr>\n",
       "    <tr>\n",
       "      <th>1</th>\n",
       "      <td>부산</td>\n",
       "      <td>8111</td>\n",
       "      <td>8111</td>\n",
       "      <td>9078</td>\n",
       "      <td>8965</td>\n",
       "      <td>9402</td>\n",
       "      <td>9501</td>\n",
       "      <td>9453</td>\n",
       "      <td>9457</td>\n",
       "      <td>9411</td>\n",
       "      <td>...</td>\n",
       "      <td>9208</td>\n",
       "      <td>9208</td>\n",
       "      <td>9204</td>\n",
       "      <td>9235</td>\n",
       "      <td>9279</td>\n",
       "      <td>9327</td>\n",
       "      <td>9345</td>\n",
       "      <td>9515</td>\n",
       "      <td>9559</td>\n",
       "      <td>9581</td>\n",
       "    </tr>\n",
       "    <tr>\n",
       "      <th>2</th>\n",
       "      <td>대구</td>\n",
       "      <td>8080</td>\n",
       "      <td>8080</td>\n",
       "      <td>8077</td>\n",
       "      <td>8101</td>\n",
       "      <td>8267</td>\n",
       "      <td>8274</td>\n",
       "      <td>8360</td>\n",
       "      <td>8360</td>\n",
       "      <td>8370</td>\n",
       "      <td>...</td>\n",
       "      <td>8439</td>\n",
       "      <td>8253</td>\n",
       "      <td>8327</td>\n",
       "      <td>8416</td>\n",
       "      <td>8441</td>\n",
       "      <td>8446</td>\n",
       "      <td>8568</td>\n",
       "      <td>8542</td>\n",
       "      <td>8542</td>\n",
       "      <td>8795</td>\n",
       "    </tr>\n",
       "    <tr>\n",
       "      <th>3</th>\n",
       "      <td>인천</td>\n",
       "      <td>10204</td>\n",
       "      <td>10204</td>\n",
       "      <td>10408</td>\n",
       "      <td>10408</td>\n",
       "      <td>10000</td>\n",
       "      <td>9844</td>\n",
       "      <td>10058</td>\n",
       "      <td>9974</td>\n",
       "      <td>9973</td>\n",
       "      <td>...</td>\n",
       "      <td>10020</td>\n",
       "      <td>10020</td>\n",
       "      <td>10017</td>\n",
       "      <td>9876</td>\n",
       "      <td>9876</td>\n",
       "      <td>9938</td>\n",
       "      <td>10551</td>\n",
       "      <td>10443</td>\n",
       "      <td>10443</td>\n",
       "      <td>10449</td>\n",
       "    </tr>\n",
       "    <tr>\n",
       "      <th>4</th>\n",
       "      <td>광주</td>\n",
       "      <td>6098</td>\n",
       "      <td>7326</td>\n",
       "      <td>7611</td>\n",
       "      <td>7346</td>\n",
       "      <td>7346</td>\n",
       "      <td>7523</td>\n",
       "      <td>7659</td>\n",
       "      <td>7612</td>\n",
       "      <td>7622</td>\n",
       "      <td>...</td>\n",
       "      <td>7752</td>\n",
       "      <td>7748</td>\n",
       "      <td>7752</td>\n",
       "      <td>7756</td>\n",
       "      <td>7861</td>\n",
       "      <td>7914</td>\n",
       "      <td>7877</td>\n",
       "      <td>7881</td>\n",
       "      <td>8089</td>\n",
       "      <td>8231</td>\n",
       "    </tr>\n",
       "    <tr>\n",
       "      <th>5</th>\n",
       "      <td>대전</td>\n",
       "      <td>8321</td>\n",
       "      <td>8321</td>\n",
       "      <td>8321</td>\n",
       "      <td>8341</td>\n",
       "      <td>8341</td>\n",
       "      <td>8341</td>\n",
       "      <td>8333</td>\n",
       "      <td>8333</td>\n",
       "      <td>8333</td>\n",
       "      <td>...</td>\n",
       "      <td>8067</td>\n",
       "      <td>8067</td>\n",
       "      <td>8067</td>\n",
       "      <td>8067</td>\n",
       "      <td>8067</td>\n",
       "      <td>8145</td>\n",
       "      <td>8272</td>\n",
       "      <td>8079</td>\n",
       "      <td>8079</td>\n",
       "      <td>8079</td>\n",
       "    </tr>\n",
       "    <tr>\n",
       "      <th>6</th>\n",
       "      <td>울산</td>\n",
       "      <td>8090</td>\n",
       "      <td>8090</td>\n",
       "      <td>8090</td>\n",
       "      <td>8153</td>\n",
       "      <td>8153</td>\n",
       "      <td>8153</td>\n",
       "      <td>8153</td>\n",
       "      <td>8153</td>\n",
       "      <td>8493</td>\n",
       "      <td>...</td>\n",
       "      <td>8891</td>\n",
       "      <td>8891</td>\n",
       "      <td>8526</td>\n",
       "      <td>8526</td>\n",
       "      <td>8629</td>\n",
       "      <td>9380</td>\n",
       "      <td>9192</td>\n",
       "      <td>9190</td>\n",
       "      <td>9190</td>\n",
       "      <td>9215</td>\n",
       "    </tr>\n",
       "    <tr>\n",
       "      <th>7</th>\n",
       "      <td>경기</td>\n",
       "      <td>10855</td>\n",
       "      <td>10855</td>\n",
       "      <td>10791</td>\n",
       "      <td>10784</td>\n",
       "      <td>10876</td>\n",
       "      <td>10646</td>\n",
       "      <td>10266</td>\n",
       "      <td>10124</td>\n",
       "      <td>10134</td>\n",
       "      <td>...</td>\n",
       "      <td>10356</td>\n",
       "      <td>10379</td>\n",
       "      <td>10391</td>\n",
       "      <td>10355</td>\n",
       "      <td>10469</td>\n",
       "      <td>10684</td>\n",
       "      <td>10685</td>\n",
       "      <td>10573</td>\n",
       "      <td>10518</td>\n",
       "      <td>10573</td>\n",
       "    </tr>\n",
       "    <tr>\n",
       "      <th>8</th>\n",
       "      <td>세종</td>\n",
       "      <td>7601</td>\n",
       "      <td>7600</td>\n",
       "      <td>7532</td>\n",
       "      <td>7814</td>\n",
       "      <td>7908</td>\n",
       "      <td>7934</td>\n",
       "      <td>8067</td>\n",
       "      <td>8067</td>\n",
       "      <td>8141</td>\n",
       "      <td>...</td>\n",
       "      <td>8592</td>\n",
       "      <td>8560</td>\n",
       "      <td>8560</td>\n",
       "      <td>8560</td>\n",
       "      <td>8555</td>\n",
       "      <td>8546</td>\n",
       "      <td>8546</td>\n",
       "      <td>8671</td>\n",
       "      <td>8669</td>\n",
       "      <td>8695</td>\n",
       "    </tr>\n",
       "    <tr>\n",
       "      <th>9</th>\n",
       "      <td>강원</td>\n",
       "      <td>6230</td>\n",
       "      <td>6230</td>\n",
       "      <td>6230</td>\n",
       "      <td>6141</td>\n",
       "      <td>6373</td>\n",
       "      <td>6350</td>\n",
       "      <td>6350</td>\n",
       "      <td>6268</td>\n",
       "      <td>6268</td>\n",
       "      <td>...</td>\n",
       "      <td>6365</td>\n",
       "      <td>6365</td>\n",
       "      <td>6348</td>\n",
       "      <td>6350</td>\n",
       "      <td>6182</td>\n",
       "      <td>6924</td>\n",
       "      <td>6846</td>\n",
       "      <td>6986</td>\n",
       "      <td>7019</td>\n",
       "      <td>7008</td>\n",
       "    </tr>\n",
       "    <tr>\n",
       "      <th>10</th>\n",
       "      <td>충북</td>\n",
       "      <td>6589</td>\n",
       "      <td>6589</td>\n",
       "      <td>6611</td>\n",
       "      <td>6625</td>\n",
       "      <td>6678</td>\n",
       "      <td>6598</td>\n",
       "      <td>6587</td>\n",
       "      <td>6586</td>\n",
       "      <td>6586</td>\n",
       "      <td>...</td>\n",
       "      <td>6724</td>\n",
       "      <td>6743</td>\n",
       "      <td>6749</td>\n",
       "      <td>6747</td>\n",
       "      <td>6783</td>\n",
       "      <td>6790</td>\n",
       "      <td>6805</td>\n",
       "      <td>6682</td>\n",
       "      <td>6601</td>\n",
       "      <td>6603</td>\n",
       "    </tr>\n",
       "    <tr>\n",
       "      <th>11</th>\n",
       "      <td>충남</td>\n",
       "      <td>6365</td>\n",
       "      <td>6365</td>\n",
       "      <td>6379</td>\n",
       "      <td>6287</td>\n",
       "      <td>6552</td>\n",
       "      <td>6591</td>\n",
       "      <td>6644</td>\n",
       "      <td>6805</td>\n",
       "      <td>6914</td>\n",
       "      <td>...</td>\n",
       "      <td>6940</td>\n",
       "      <td>6989</td>\n",
       "      <td>6976</td>\n",
       "      <td>6980</td>\n",
       "      <td>7161</td>\n",
       "      <td>7017</td>\n",
       "      <td>6975</td>\n",
       "      <td>6939</td>\n",
       "      <td>6935</td>\n",
       "      <td>6942</td>\n",
       "    </tr>\n",
       "    <tr>\n",
       "      <th>12</th>\n",
       "      <td>전북</td>\n",
       "      <td>6282</td>\n",
       "      <td>6281</td>\n",
       "      <td>5946</td>\n",
       "      <td>5966</td>\n",
       "      <td>6277</td>\n",
       "      <td>6306</td>\n",
       "      <td>6351</td>\n",
       "      <td>6319</td>\n",
       "      <td>6436</td>\n",
       "      <td>...</td>\n",
       "      <td>6583</td>\n",
       "      <td>6583</td>\n",
       "      <td>6583</td>\n",
       "      <td>6583</td>\n",
       "      <td>6542</td>\n",
       "      <td>6551</td>\n",
       "      <td>6556</td>\n",
       "      <td>6601</td>\n",
       "      <td>6750</td>\n",
       "      <td>6580</td>\n",
       "    </tr>\n",
       "    <tr>\n",
       "      <th>13</th>\n",
       "      <td>전남</td>\n",
       "      <td>5678</td>\n",
       "      <td>5678</td>\n",
       "      <td>5678</td>\n",
       "      <td>5696</td>\n",
       "      <td>5736</td>\n",
       "      <td>5656</td>\n",
       "      <td>5609</td>\n",
       "      <td>5780</td>\n",
       "      <td>5685</td>\n",
       "      <td>...</td>\n",
       "      <td>5768</td>\n",
       "      <td>5784</td>\n",
       "      <td>5784</td>\n",
       "      <td>5833</td>\n",
       "      <td>5825</td>\n",
       "      <td>5940</td>\n",
       "      <td>6050</td>\n",
       "      <td>6243</td>\n",
       "      <td>6286</td>\n",
       "      <td>6289</td>\n",
       "    </tr>\n",
       "    <tr>\n",
       "      <th>14</th>\n",
       "      <td>경북</td>\n",
       "      <td>6168</td>\n",
       "      <td>6168</td>\n",
       "      <td>6234</td>\n",
       "      <td>6317</td>\n",
       "      <td>6412</td>\n",
       "      <td>6409</td>\n",
       "      <td>6554</td>\n",
       "      <td>6556</td>\n",
       "      <td>6563</td>\n",
       "      <td>...</td>\n",
       "      <td>6881</td>\n",
       "      <td>6989</td>\n",
       "      <td>6992</td>\n",
       "      <td>6953</td>\n",
       "      <td>6997</td>\n",
       "      <td>7006</td>\n",
       "      <td>6966</td>\n",
       "      <td>6887</td>\n",
       "      <td>7035</td>\n",
       "      <td>7037</td>\n",
       "    </tr>\n",
       "    <tr>\n",
       "      <th>15</th>\n",
       "      <td>경남</td>\n",
       "      <td>6473</td>\n",
       "      <td>6485</td>\n",
       "      <td>6502</td>\n",
       "      <td>6610</td>\n",
       "      <td>6599</td>\n",
       "      <td>6610</td>\n",
       "      <td>6615</td>\n",
       "      <td>6613</td>\n",
       "      <td>6606</td>\n",
       "      <td>...</td>\n",
       "      <td>7125</td>\n",
       "      <td>7332</td>\n",
       "      <td>7592</td>\n",
       "      <td>7588</td>\n",
       "      <td>7668</td>\n",
       "      <td>7683</td>\n",
       "      <td>7717</td>\n",
       "      <td>7715</td>\n",
       "      <td>7723</td>\n",
       "      <td>7665</td>\n",
       "    </tr>\n",
       "    <tr>\n",
       "      <th>16</th>\n",
       "      <td>제주</td>\n",
       "      <td>7674</td>\n",
       "      <td>7900</td>\n",
       "      <td>7900</td>\n",
       "      <td>7900</td>\n",
       "      <td>7900</td>\n",
       "      <td>7900</td>\n",
       "      <td>7914</td>\n",
       "      <td>7914</td>\n",
       "      <td>7914</td>\n",
       "      <td>...</td>\n",
       "      <td>7724</td>\n",
       "      <td>7739</td>\n",
       "      <td>7739</td>\n",
       "      <td>7739</td>\n",
       "      <td>7826</td>\n",
       "      <td>7285</td>\n",
       "      <td>7285</td>\n",
       "      <td>7343</td>\n",
       "      <td>7343</td>\n",
       "      <td>7343</td>\n",
       "    </tr>\n",
       "  </tbody>\n",
       "</table>\n",
       "<p>17 rows × 22 columns</p>\n",
       "</div>"
      ],
      "text/plain": [
       "    지역  2013년12월  2014년1월  2014년2월  2014년3월  2014년4월  2014년5월  2014년6월  \\\n",
       "0   서울     18189    17925    17925    18016    18098    19446    18867   \n",
       "1   부산      8111     8111     9078     8965     9402     9501     9453   \n",
       "2   대구      8080     8080     8077     8101     8267     8274     8360   \n",
       "3   인천     10204    10204    10408    10408    10000     9844    10058   \n",
       "4   광주      6098     7326     7611     7346     7346     7523     7659   \n",
       "5   대전      8321     8321     8321     8341     8341     8341     8333   \n",
       "6   울산      8090     8090     8090     8153     8153     8153     8153   \n",
       "7   경기     10855    10855    10791    10784    10876    10646    10266   \n",
       "8   세종      7601     7600     7532     7814     7908     7934     8067   \n",
       "9   강원      6230     6230     6230     6141     6373     6350     6350   \n",
       "10  충북      6589     6589     6611     6625     6678     6598     6587   \n",
       "11  충남      6365     6365     6379     6287     6552     6591     6644   \n",
       "12  전북      6282     6281     5946     5966     6277     6306     6351   \n",
       "13  전남      5678     5678     5678     5696     5736     5656     5609   \n",
       "14  경북      6168     6168     6234     6317     6412     6409     6554   \n",
       "15  경남      6473     6485     6502     6610     6599     6610     6615   \n",
       "16  제주      7674     7900     7900     7900     7900     7900     7914   \n",
       "\n",
       "    2014년7월  2014년8월  ...  2014년11월  2014년12월  2015년1월  2015년2월  2015년3월  \\\n",
       "0     18742    19274  ...     20242     20269    20670    20670    19415   \n",
       "1      9457     9411  ...      9208      9208     9204     9235     9279   \n",
       "2      8360     8370  ...      8439      8253     8327     8416     8441   \n",
       "3      9974     9973  ...     10020     10020    10017     9876     9876   \n",
       "4      7612     7622  ...      7752      7748     7752     7756     7861   \n",
       "5      8333     8333  ...      8067      8067     8067     8067     8067   \n",
       "6      8153     8493  ...      8891      8891     8526     8526     8629   \n",
       "7     10124    10134  ...     10356     10379    10391    10355    10469   \n",
       "8      8067     8141  ...      8592      8560     8560     8560     8555   \n",
       "9      6268     6268  ...      6365      6365     6348     6350     6182   \n",
       "10     6586     6586  ...      6724      6743     6749     6747     6783   \n",
       "11     6805     6914  ...      6940      6989     6976     6980     7161   \n",
       "12     6319     6436  ...      6583      6583     6583     6583     6542   \n",
       "13     5780     5685  ...      5768      5784     5784     5833     5825   \n",
       "14     6556     6563  ...      6881      6989     6992     6953     6997   \n",
       "15     6613     6606  ...      7125      7332     7592     7588     7668   \n",
       "16     7914     7914  ...      7724      7739     7739     7739     7826   \n",
       "\n",
       "    2015년4월  2015년5월  2015년6월  2015년7월  2015년8월  \n",
       "0     18842    18367    18374    18152    18443  \n",
       "1      9327     9345     9515     9559     9581  \n",
       "2      8446     8568     8542     8542     8795  \n",
       "3      9938    10551    10443    10443    10449  \n",
       "4      7914     7877     7881     8089     8231  \n",
       "5      8145     8272     8079     8079     8079  \n",
       "6      9380     9192     9190     9190     9215  \n",
       "7     10684    10685    10573    10518    10573  \n",
       "8      8546     8546     8671     8669     8695  \n",
       "9      6924     6846     6986     7019     7008  \n",
       "10     6790     6805     6682     6601     6603  \n",
       "11     7017     6975     6939     6935     6942  \n",
       "12     6551     6556     6601     6750     6580  \n",
       "13     5940     6050     6243     6286     6289  \n",
       "14     7006     6966     6887     7035     7037  \n",
       "15     7683     7717     7715     7723     7665  \n",
       "16     7285     7285     7343     7343     7343  \n",
       "\n",
       "[17 rows x 22 columns]"
      ]
     },
     "execution_count": 423,
     "metadata": {},
     "output_type": "execute_result"
    }
   ],
   "source": [
    "df_first"
   ]
  },
  {
   "cell_type": "code",
   "execution_count": 325,
   "id": "e91a21fa",
   "metadata": {
    "scrolled": true
   },
   "outputs": [
    {
     "name": "stdout",
     "output_type": "stream",
     "text": [
      "<class 'pandas.core.frame.DataFrame'>\n",
      "RangeIndex: 5780 entries, 0 to 5779\n",
      "Data columns (total 5 columns):\n",
      " #   Column   Non-Null Count  Dtype \n",
      "---  ------   --------------  ----- \n",
      " 0   지역명      5780 non-null   object\n",
      " 1   규모구분     5780 non-null   object\n",
      " 2   연도       5780 non-null   int64 \n",
      " 3   월        5780 non-null   int64 \n",
      " 4   분양가격(㎡)  5331 non-null   object\n",
      "dtypes: int64(2), object(3)\n",
      "memory usage: 225.9+ KB\n"
     ]
    }
   ],
   "source": [
    "real_estate.info()"
   ]
  },
  {
   "cell_type": "markdown",
   "id": "a11845fc",
   "metadata": {},
   "source": [
    "분양가격(㎡) 변수에 결측치가 다수존재 함. 이외 변수에는 결측치 없음. \n",
    "\n",
    "또한 분양가격이 데이터 타입이 문자형으로 되어있기 때문에 이후 수치형으로 변환이 필요"
   ]
  },
  {
   "cell_type": "code",
   "execution_count": 326,
   "id": "1bd9f345",
   "metadata": {},
   "outputs": [
    {
     "data": {
      "text/plain": [
       "array([2015, 2016, 2017, 2018, 2019, 2020, 2021], dtype=int64)"
      ]
     },
     "execution_count": 326,
     "metadata": {},
     "output_type": "execute_result"
    }
   ],
   "source": [
    "np.unique(real_estate['연도'])"
   ]
  },
  {
   "cell_type": "code",
   "execution_count": 327,
   "id": "8cf08630",
   "metadata": {},
   "outputs": [
    {
     "data": {
      "text/plain": [
       "array([ 1,  2,  3,  4,  5,  6,  7,  8,  9, 10, 11, 12], dtype=int64)"
      ]
     },
     "execution_count": 327,
     "metadata": {},
     "output_type": "execute_result"
    }
   ],
   "source": [
    "np.unique(real_estate['월'])"
   ]
  },
  {
   "cell_type": "markdown",
   "id": "aaa8bc11",
   "metadata": {},
   "source": [
    "해당 데이터는 2015년 부터 2021년 까지 매월 규모구분에 따른 분양가격이 정리되어있다"
   ]
  },
  {
   "cell_type": "markdown",
   "id": "26c23d28",
   "metadata": {},
   "source": [
    "## 3. 부동산 데이터 전처리"
   ]
  },
  {
   "cell_type": "markdown",
   "id": "c21b9fd6",
   "metadata": {},
   "source": [
    "### (0) 컬럼명 변경"
   ]
  },
  {
   "cell_type": "code",
   "execution_count": 328,
   "id": "9f477575",
   "metadata": {},
   "outputs": [],
   "source": [
    "real_estate.columns = ['region','scale','year','month','price_per_meter']"
   ]
  },
  {
   "cell_type": "markdown",
   "id": "614c3163",
   "metadata": {},
   "source": [
    "### (1) 결측치 처리"
   ]
  },
  {
   "cell_type": "code",
   "execution_count": 329,
   "id": "92dd8c30",
   "metadata": {},
   "outputs": [
    {
     "data": {
      "text/plain": [
       "449"
      ]
     },
     "execution_count": 329,
     "metadata": {},
     "output_type": "execute_result"
    }
   ],
   "source": [
    "real_estate['price_per_meter'].isna().sum()"
   ]
  },
  {
   "cell_type": "code",
   "execution_count": 330,
   "id": "09acbbba",
   "metadata": {},
   "outputs": [
    {
     "data": {
      "text/plain": [
       "5780"
      ]
     },
     "execution_count": 330,
     "metadata": {},
     "output_type": "execute_result"
    }
   ],
   "source": [
    "len(real_estate)"
   ]
  },
  {
   "cell_type": "code",
   "execution_count": 331,
   "id": "fff1d8d9",
   "metadata": {},
   "outputs": [],
   "source": [
    "real_estate.dropna(inplace=True)"
   ]
  },
  {
   "cell_type": "code",
   "execution_count": 332,
   "id": "17531462",
   "metadata": {},
   "outputs": [
    {
     "data": {
      "text/plain": [
       "0"
      ]
     },
     "execution_count": 332,
     "metadata": {},
     "output_type": "execute_result"
    }
   ],
   "source": [
    "real_estate['price_per_meter'].isna().sum()"
   ]
  },
  {
   "cell_type": "markdown",
   "id": "cedc5d2a",
   "metadata": {},
   "source": [
    "전체 데이터 수에 비해 결측치의 수가 상당히 많은 것이 아니므로 과감히 분양가격이 결측치인 행은 삭제"
   ]
  },
  {
   "cell_type": "code",
   "execution_count": 333,
   "id": "f76ea787",
   "metadata": {},
   "outputs": [
    {
     "data": {
      "text/plain": [
       "16"
      ]
     },
     "execution_count": 333,
     "metadata": {},
     "output_type": "execute_result"
    }
   ],
   "source": [
    "real_estate['price_per_meter'].str.contains(' ').sum()"
   ]
  },
  {
   "cell_type": "code",
   "execution_count": 334,
   "id": "08dc897a",
   "metadata": {},
   "outputs": [],
   "source": [
    "real_estate = real_estate[real_estate.price_per_meter.str.contains(' ')==False]"
   ]
  },
  {
   "cell_type": "markdown",
   "id": "0042fb0b",
   "metadata": {},
   "source": [
    "분양가격 데이터에 ' ' 그냥 이런 식으로 공백이 들어간 데이터가 16개 존재한다. 결측치로 간주하고 행 삭제"
   ]
  },
  {
   "cell_type": "code",
   "execution_count": 335,
   "id": "c9a716b7",
   "metadata": {},
   "outputs": [
    {
     "data": {
      "text/plain": [
       "76"
      ]
     },
     "execution_count": 335,
     "metadata": {},
     "output_type": "execute_result"
    }
   ],
   "source": [
    "real_estate['price_per_meter'].str.contains(',').sum()"
   ]
  },
  {
   "cell_type": "code",
   "execution_count": 336,
   "id": "69f856df",
   "metadata": {},
   "outputs": [],
   "source": [
    "real_estate.price_per_meter = real_estate.price_per_meter.str.replace(',','')"
   ]
  },
  {
   "cell_type": "markdown",
   "id": "34714adc",
   "metadata": {},
   "source": [
    "분양 가격 수치값에 , 콤마가 들어간 데이터가 존재해서 해당 데이터의 콤마는 삭제해준다"
   ]
  },
  {
   "cell_type": "markdown",
   "id": "92754ce5",
   "metadata": {},
   "source": [
    "### (2) 데이터 타입 변경 "
   ]
  },
  {
   "cell_type": "code",
   "execution_count": 338,
   "id": "2acac74d",
   "metadata": {},
   "outputs": [],
   "source": [
    "real_estate.price_per_meter = real_estate.price_per_meter.astype('float64')"
   ]
  },
  {
   "cell_type": "markdown",
   "id": "24c735e9",
   "metadata": {},
   "source": [
    "분양 가격 변수가 문자열로 되어있으므로 수치형 데이터 타입으로 변경해준다"
   ]
  },
  {
   "cell_type": "markdown",
   "id": "5dbab9bc",
   "metadata": {},
   "source": [
    "### (3) 규모구분 변수 데이터 간략화"
   ]
  },
  {
   "cell_type": "markdown",
   "id": "8a4a2db4",
   "metadata": {},
   "source": [
    "먼저 규모구분의 데이터가 너무 긴 문자열이라 메모리 낭비가 심할 수 있으므로 간략화한다"
   ]
  },
  {
   "cell_type": "code",
   "execution_count": 339,
   "id": "b9551407",
   "metadata": {},
   "outputs": [
    {
     "data": {
      "text/plain": [
       "array(['모든면적', '전용면적 102㎡초과', '전용면적 60㎡이하', '전용면적 60㎡초과 85㎡이하',\n",
       "       '전용면적 85㎡초과 102㎡이하'], dtype=object)"
      ]
     },
     "execution_count": 339,
     "metadata": {},
     "output_type": "execute_result"
    }
   ],
   "source": [
    "np.unique(real_estate['scale'])"
   ]
  },
  {
   "cell_type": "code",
   "execution_count": 340,
   "id": "35661ac0",
   "metadata": {},
   "outputs": [],
   "source": [
    "real_estate.loc[real_estate.scale == '모든면적','scale'] = 'total'\n",
    "real_estate.loc[real_estate.scale == '전용면적 102㎡초과','scale'] = '>120'\n",
    "real_estate.loc[real_estate.scale == '전용면적 60㎡이하','scale'] = '<60'\n",
    "real_estate.loc[real_estate.scale == '전용면적 60㎡초과 85㎡이하','scale'] = '60-85'\n",
    "real_estate.loc[real_estate.scale == '전용면적 85㎡초과 102㎡이하','scale'] = '85-102'"
   ]
  },
  {
   "cell_type": "markdown",
   "id": "93e6ca85",
   "metadata": {},
   "source": [
    "### (4)  미터당 분양 가격으로 부터 평당 분양가격 파생변수 추가"
   ]
  },
  {
   "cell_type": "code",
   "execution_count": 346,
   "id": "e0c8a1c3",
   "metadata": {},
   "outputs": [],
   "source": [
    "real_estate['price_per_pyung'] = real_estate.price_per_meter*0.3025"
   ]
  },
  {
   "cell_type": "markdown",
   "id": "71c7089c",
   "metadata": {},
   "source": [
    "## 4. 부동산 데이터를 df_first와 df_last로 분리"
   ]
  },
  {
   "cell_type": "code",
   "execution_count": 348,
   "id": "f7fb69b6",
   "metadata": {},
   "outputs": [
    {
     "name": "stdout",
     "output_type": "stream",
     "text": [
      "<class 'pandas.core.frame.DataFrame'>\n",
      "Int64Index: 5315 entries, 0 to 5779\n",
      "Data columns (total 6 columns):\n",
      " #   Column           Non-Null Count  Dtype  \n",
      "---  ------           --------------  -----  \n",
      " 0   region           5315 non-null   object \n",
      " 1   scale            5315 non-null   object \n",
      " 2   year             5315 non-null   int64  \n",
      " 3   month            5315 non-null   int64  \n",
      " 4   price_per_meter  5315 non-null   float64\n",
      " 5   price_per_pyung  5315 non-null   float64\n",
      "dtypes: float64(2), int64(2), object(2)\n",
      "memory usage: 290.7+ KB\n"
     ]
    }
   ],
   "source": [
    "real_estate.info()"
   ]
  },
  {
   "cell_type": "code",
   "execution_count": 405,
   "id": "93fd4e3f",
   "metadata": {},
   "outputs": [],
   "source": [
    "real_estate['date'] = real_estate['year'].astype('string').str.cat(real_estate['month'].astype('string'),sep=\"/\")\n",
    "\n",
    "real_estate.date = real_estate.date.apply(lambda x: datetime.strptime(x, '%Y/%m'))\n",
    "\n",
    "df_first = real_estate.loc[(real_estate.date >='2015-09-01') & (real_estate.date<='2017-08-01')]\n",
    "\n",
    "df_first = df_first.iloc[:,:-1]"
   ]
  },
  {
   "cell_type": "markdown",
   "id": "c603e525",
   "metadata": {},
   "source": [
    "2015년 9월 부터 2017년 8월 까지의 데이터를 df_first데이터 프레임에 담았다. (원본 데이터에 2015년 10월 부터 있어서 2015년 9월은 안나옴)"
   ]
  },
  {
   "cell_type": "code",
   "execution_count": 406,
   "id": "0fda1645",
   "metadata": {},
   "outputs": [],
   "source": [
    "df_last = real_estate.loc[(real_estate.date >='2017-09-01') ]\n",
    "\n",
    "df_last = df_last.iloc[:,:-1]"
   ]
  },
  {
   "cell_type": "markdown",
   "id": "9fe02ae2",
   "metadata": {},
   "source": [
    "2017년 9월 이후 데이터는 df_last 데이터 프레임에 담았다"
   ]
  },
  {
   "cell_type": "markdown",
   "id": "b8f08c2d",
   "metadata": {},
   "source": [
    "## 5. df_first 데이터프레임 EDA"
   ]
  },
  {
   "cell_type": "markdown",
   "id": "dc78dfe8",
   "metadata": {},
   "source": [
    "### (1) 지역별 데이터 수"
   ]
  },
  {
   "cell_type": "code",
   "execution_count": 351,
   "id": "d5e88844",
   "metadata": {},
   "outputs": [
    {
     "data": {
      "text/html": [
       "<div>\n",
       "<style scoped>\n",
       "    .dataframe tbody tr th:only-of-type {\n",
       "        vertical-align: middle;\n",
       "    }\n",
       "\n",
       "    .dataframe tbody tr th {\n",
       "        vertical-align: top;\n",
       "    }\n",
       "\n",
       "    .dataframe thead th {\n",
       "        text-align: right;\n",
       "    }\n",
       "</style>\n",
       "<table border=\"1\" class=\"dataframe\">\n",
       "  <thead>\n",
       "    <tr style=\"text-align: right;\">\n",
       "      <th></th>\n",
       "      <th>scale</th>\n",
       "      <th>year</th>\n",
       "      <th>month</th>\n",
       "      <th>price_per_meter</th>\n",
       "      <th>price_per_pyung</th>\n",
       "    </tr>\n",
       "    <tr>\n",
       "      <th>region</th>\n",
       "      <th></th>\n",
       "      <th></th>\n",
       "      <th></th>\n",
       "      <th></th>\n",
       "      <th></th>\n",
       "    </tr>\n",
       "  </thead>\n",
       "  <tbody>\n",
       "    <tr>\n",
       "      <th>서울</th>\n",
       "      <td>115</td>\n",
       "      <td>115</td>\n",
       "      <td>115</td>\n",
       "      <td>115</td>\n",
       "      <td>115</td>\n",
       "    </tr>\n",
       "    <tr>\n",
       "      <th>경기</th>\n",
       "      <td>115</td>\n",
       "      <td>115</td>\n",
       "      <td>115</td>\n",
       "      <td>115</td>\n",
       "      <td>115</td>\n",
       "    </tr>\n",
       "    <tr>\n",
       "      <th>충남</th>\n",
       "      <td>115</td>\n",
       "      <td>115</td>\n",
       "      <td>115</td>\n",
       "      <td>115</td>\n",
       "      <td>115</td>\n",
       "    </tr>\n",
       "    <tr>\n",
       "      <th>전북</th>\n",
       "      <td>115</td>\n",
       "      <td>115</td>\n",
       "      <td>115</td>\n",
       "      <td>115</td>\n",
       "      <td>115</td>\n",
       "    </tr>\n",
       "    <tr>\n",
       "      <th>전남</th>\n",
       "      <td>115</td>\n",
       "      <td>115</td>\n",
       "      <td>115</td>\n",
       "      <td>115</td>\n",
       "      <td>115</td>\n",
       "    </tr>\n",
       "    <tr>\n",
       "      <th>인천</th>\n",
       "      <td>115</td>\n",
       "      <td>115</td>\n",
       "      <td>115</td>\n",
       "      <td>115</td>\n",
       "      <td>115</td>\n",
       "    </tr>\n",
       "    <tr>\n",
       "      <th>세종</th>\n",
       "      <td>115</td>\n",
       "      <td>115</td>\n",
       "      <td>115</td>\n",
       "      <td>115</td>\n",
       "      <td>115</td>\n",
       "    </tr>\n",
       "    <tr>\n",
       "      <th>충북</th>\n",
       "      <td>115</td>\n",
       "      <td>115</td>\n",
       "      <td>115</td>\n",
       "      <td>115</td>\n",
       "      <td>115</td>\n",
       "    </tr>\n",
       "    <tr>\n",
       "      <th>부산</th>\n",
       "      <td>115</td>\n",
       "      <td>115</td>\n",
       "      <td>115</td>\n",
       "      <td>115</td>\n",
       "      <td>115</td>\n",
       "    </tr>\n",
       "    <tr>\n",
       "      <th>경북</th>\n",
       "      <td>115</td>\n",
       "      <td>115</td>\n",
       "      <td>115</td>\n",
       "      <td>115</td>\n",
       "      <td>115</td>\n",
       "    </tr>\n",
       "    <tr>\n",
       "      <th>경남</th>\n",
       "      <td>115</td>\n",
       "      <td>115</td>\n",
       "      <td>115</td>\n",
       "      <td>115</td>\n",
       "      <td>115</td>\n",
       "    </tr>\n",
       "    <tr>\n",
       "      <th>대구</th>\n",
       "      <td>113</td>\n",
       "      <td>113</td>\n",
       "      <td>113</td>\n",
       "      <td>113</td>\n",
       "      <td>113</td>\n",
       "    </tr>\n",
       "    <tr>\n",
       "      <th>제주</th>\n",
       "      <td>107</td>\n",
       "      <td>107</td>\n",
       "      <td>107</td>\n",
       "      <td>107</td>\n",
       "      <td>107</td>\n",
       "    </tr>\n",
       "    <tr>\n",
       "      <th>강원</th>\n",
       "      <td>107</td>\n",
       "      <td>107</td>\n",
       "      <td>107</td>\n",
       "      <td>107</td>\n",
       "      <td>107</td>\n",
       "    </tr>\n",
       "    <tr>\n",
       "      <th>울산</th>\n",
       "      <td>105</td>\n",
       "      <td>105</td>\n",
       "      <td>105</td>\n",
       "      <td>105</td>\n",
       "      <td>105</td>\n",
       "    </tr>\n",
       "    <tr>\n",
       "      <th>광주</th>\n",
       "      <td>99</td>\n",
       "      <td>99</td>\n",
       "      <td>99</td>\n",
       "      <td>99</td>\n",
       "      <td>99</td>\n",
       "    </tr>\n",
       "    <tr>\n",
       "      <th>대전</th>\n",
       "      <td>97</td>\n",
       "      <td>97</td>\n",
       "      <td>97</td>\n",
       "      <td>97</td>\n",
       "      <td>97</td>\n",
       "    </tr>\n",
       "  </tbody>\n",
       "</table>\n",
       "</div>"
      ],
      "text/plain": [
       "        scale  year  month  price_per_meter  price_per_pyung\n",
       "region                                                      \n",
       "서울        115   115    115              115              115\n",
       "경기        115   115    115              115              115\n",
       "충남        115   115    115              115              115\n",
       "전북        115   115    115              115              115\n",
       "전남        115   115    115              115              115\n",
       "인천        115   115    115              115              115\n",
       "세종        115   115    115              115              115\n",
       "충북        115   115    115              115              115\n",
       "부산        115   115    115              115              115\n",
       "경북        115   115    115              115              115\n",
       "경남        115   115    115              115              115\n",
       "대구        113   113    113              113              113\n",
       "제주        107   107    107              107              107\n",
       "강원        107   107    107              107              107\n",
       "울산        105   105    105              105              105\n",
       "광주         99    99     99               99               99\n",
       "대전         97    97     97               97               97"
      ]
     },
     "execution_count": 351,
     "metadata": {},
     "output_type": "execute_result"
    }
   ],
   "source": [
    "df_first.groupby('region').count().sort_values(ascending=False,by='scale')"
   ]
  },
  {
   "cell_type": "markdown",
   "id": "cef1dc4a",
   "metadata": {},
   "source": [
    "### (2) 지역별 평당 분양 가격"
   ]
  },
  {
   "cell_type": "code",
   "execution_count": 354,
   "id": "1ffb1be9",
   "metadata": {},
   "outputs": [
    {
     "data": {
      "text/html": [
       "<div>\n",
       "<style scoped>\n",
       "    .dataframe tbody tr th:only-of-type {\n",
       "        vertical-align: middle;\n",
       "    }\n",
       "\n",
       "    .dataframe tbody tr th {\n",
       "        vertical-align: top;\n",
       "    }\n",
       "\n",
       "    .dataframe thead th {\n",
       "        text-align: right;\n",
       "    }\n",
       "</style>\n",
       "<table border=\"1\" class=\"dataframe\">\n",
       "  <thead>\n",
       "    <tr style=\"text-align: right;\">\n",
       "      <th></th>\n",
       "      <th>price_per_pyung</th>\n",
       "    </tr>\n",
       "    <tr>\n",
       "      <th>region</th>\n",
       "      <th></th>\n",
       "    </tr>\n",
       "  </thead>\n",
       "  <tbody>\n",
       "    <tr>\n",
       "      <th>서울</th>\n",
       "      <td>1974.906761</td>\n",
       "    </tr>\n",
       "    <tr>\n",
       "      <th>경기</th>\n",
       "      <td>1081.926761</td>\n",
       "    </tr>\n",
       "    <tr>\n",
       "      <th>인천</th>\n",
       "      <td>1027.905522</td>\n",
       "    </tr>\n",
       "    <tr>\n",
       "      <th>부산</th>\n",
       "      <td>1000.872543</td>\n",
       "    </tr>\n",
       "    <tr>\n",
       "      <th>대구</th>\n",
       "      <td>986.141969</td>\n",
       "    </tr>\n",
       "    <tr>\n",
       "      <th>제주</th>\n",
       "      <td>960.700421</td>\n",
       "    </tr>\n",
       "    <tr>\n",
       "      <th>울산</th>\n",
       "      <td>906.874833</td>\n",
       "    </tr>\n",
       "    <tr>\n",
       "      <th>대전</th>\n",
       "      <td>851.206933</td>\n",
       "    </tr>\n",
       "    <tr>\n",
       "      <th>광주</th>\n",
       "      <td>846.459167</td>\n",
       "    </tr>\n",
       "    <tr>\n",
       "      <th>세종</th>\n",
       "      <td>815.495283</td>\n",
       "    </tr>\n",
       "    <tr>\n",
       "      <th>경남</th>\n",
       "      <td>782.138739</td>\n",
       "    </tr>\n",
       "    <tr>\n",
       "      <th>충남</th>\n",
       "      <td>734.619935</td>\n",
       "    </tr>\n",
       "    <tr>\n",
       "      <th>경북</th>\n",
       "      <td>721.133696</td>\n",
       "    </tr>\n",
       "    <tr>\n",
       "      <th>충북</th>\n",
       "      <td>661.509630</td>\n",
       "    </tr>\n",
       "    <tr>\n",
       "      <th>강원</th>\n",
       "      <td>657.646308</td>\n",
       "    </tr>\n",
       "    <tr>\n",
       "      <th>전북</th>\n",
       "      <td>651.692848</td>\n",
       "    </tr>\n",
       "    <tr>\n",
       "      <th>전남</th>\n",
       "      <td>645.111500</td>\n",
       "    </tr>\n",
       "  </tbody>\n",
       "</table>\n",
       "</div>"
      ],
      "text/plain": [
       "        price_per_pyung\n",
       "region                 \n",
       "서울          1974.906761\n",
       "경기          1081.926761\n",
       "인천          1027.905522\n",
       "부산          1000.872543\n",
       "대구           986.141969\n",
       "제주           960.700421\n",
       "울산           906.874833\n",
       "대전           851.206933\n",
       "광주           846.459167\n",
       "세종           815.495283\n",
       "경남           782.138739\n",
       "충남           734.619935\n",
       "경북           721.133696\n",
       "충북           661.509630\n",
       "강원           657.646308\n",
       "전북           651.692848\n",
       "전남           645.111500"
      ]
     },
     "execution_count": 354,
     "metadata": {},
     "output_type": "execute_result"
    }
   ],
   "source": [
    "df_first.pivot_table(index='region',values=['price_per_pyung']).sort_values(ascending=False,by='price_per_pyung')"
   ]
  },
  {
   "cell_type": "markdown",
   "id": "f957b695",
   "metadata": {},
   "source": [
    "서울이 평당 평균 분양가가 압도적으로 높다. 이후 경기,인천,부산,대구가 비슷하게 높은 수준을 보였다."
   ]
  },
  {
   "cell_type": "markdown",
   "id": "8b58218f",
   "metadata": {},
   "source": [
    "### (3) 전용면적별 평당 분양가격"
   ]
  },
  {
   "cell_type": "code",
   "execution_count": 355,
   "id": "54e3687a",
   "metadata": {},
   "outputs": [
    {
     "data": {
      "text/html": [
       "<div>\n",
       "<style scoped>\n",
       "    .dataframe tbody tr th:only-of-type {\n",
       "        vertical-align: middle;\n",
       "    }\n",
       "\n",
       "    .dataframe tbody tr th {\n",
       "        vertical-align: top;\n",
       "    }\n",
       "\n",
       "    .dataframe thead th {\n",
       "        text-align: right;\n",
       "    }\n",
       "</style>\n",
       "<table border=\"1\" class=\"dataframe\">\n",
       "  <thead>\n",
       "    <tr style=\"text-align: right;\">\n",
       "      <th></th>\n",
       "      <th>price_per_pyung</th>\n",
       "    </tr>\n",
       "    <tr>\n",
       "      <th>scale</th>\n",
       "      <th></th>\n",
       "    </tr>\n",
       "  </thead>\n",
       "  <tbody>\n",
       "    <tr>\n",
       "      <th>&gt;120</th>\n",
       "      <td>980.484630</td>\n",
       "    </tr>\n",
       "    <tr>\n",
       "      <th>85-102</th>\n",
       "      <td>930.135112</td>\n",
       "    </tr>\n",
       "    <tr>\n",
       "      <th>&lt;60</th>\n",
       "      <td>879.176155</td>\n",
       "    </tr>\n",
       "    <tr>\n",
       "      <th>total</th>\n",
       "      <td>863.263050</td>\n",
       "    </tr>\n",
       "    <tr>\n",
       "      <th>60-85</th>\n",
       "      <td>862.265806</td>\n",
       "    </tr>\n",
       "  </tbody>\n",
       "</table>\n",
       "</div>"
      ],
      "text/plain": [
       "        price_per_pyung\n",
       "scale                  \n",
       ">120         980.484630\n",
       "85-102       930.135112\n",
       "<60          879.176155\n",
       "total        863.263050\n",
       "60-85        862.265806"
      ]
     },
     "execution_count": 355,
     "metadata": {},
     "output_type": "execute_result"
    }
   ],
   "source": [
    "df_first.pivot_table(index='scale',values=['price_per_pyung']).sort_values(ascending=False,by='price_per_pyung')"
   ]
  },
  {
   "cell_type": "markdown",
   "id": "e58272ef",
   "metadata": {},
   "source": [
    "### (4) 지역별, 전용면적별 평당 분양가격"
   ]
  },
  {
   "cell_type": "code",
   "execution_count": 356,
   "id": "6606d03c",
   "metadata": {},
   "outputs": [],
   "source": [
    "by_scale_region_table = df_first.pivot_table(index=['scale','region'],values=['price_per_pyung']).sort_values(ascending=False,by='price_per_pyung').reset_index()"
   ]
  },
  {
   "cell_type": "code",
   "execution_count": 357,
   "id": "a9986b60",
   "metadata": {},
   "outputs": [
    {
     "data": {
      "text/html": [
       "<div>\n",
       "<style scoped>\n",
       "    .dataframe tbody tr th:only-of-type {\n",
       "        vertical-align: middle;\n",
       "    }\n",
       "\n",
       "    .dataframe tbody tr th {\n",
       "        vertical-align: top;\n",
       "    }\n",
       "\n",
       "    .dataframe thead tr th {\n",
       "        text-align: left;\n",
       "    }\n",
       "\n",
       "    .dataframe thead tr:last-of-type th {\n",
       "        text-align: right;\n",
       "    }\n",
       "</style>\n",
       "<table border=\"1\" class=\"dataframe\">\n",
       "  <thead>\n",
       "    <tr>\n",
       "      <th></th>\n",
       "      <th colspan=\"5\" halign=\"left\">price_per_pyung</th>\n",
       "    </tr>\n",
       "    <tr>\n",
       "      <th>scale</th>\n",
       "      <th>60-85</th>\n",
       "      <th>85-102</th>\n",
       "      <th>&lt;60</th>\n",
       "      <th>&gt;120</th>\n",
       "      <th>total</th>\n",
       "    </tr>\n",
       "    <tr>\n",
       "      <th>region</th>\n",
       "      <th></th>\n",
       "      <th></th>\n",
       "      <th></th>\n",
       "      <th></th>\n",
       "      <th></th>\n",
       "    </tr>\n",
       "  </thead>\n",
       "  <tbody>\n",
       "    <tr>\n",
       "      <th>강원</th>\n",
       "      <td>648.678370</td>\n",
       "      <td>651.665667</td>\n",
       "      <td>650.348696</td>\n",
       "      <td>691.738587</td>\n",
       "      <td>643.720000</td>\n",
       "    </tr>\n",
       "    <tr>\n",
       "      <th>경기</th>\n",
       "      <td>1039.547826</td>\n",
       "      <td>1041.060326</td>\n",
       "      <td>1077.347174</td>\n",
       "      <td>1214.445435</td>\n",
       "      <td>1037.233043</td>\n",
       "    </tr>\n",
       "    <tr>\n",
       "      <th>경남</th>\n",
       "      <td>721.120543</td>\n",
       "      <td>897.478043</td>\n",
       "      <td>738.073696</td>\n",
       "      <td>832.519457</td>\n",
       "      <td>721.501957</td>\n",
       "    </tr>\n",
       "    <tr>\n",
       "      <th>경북</th>\n",
       "      <td>686.030543</td>\n",
       "      <td>799.034022</td>\n",
       "      <td>682.571522</td>\n",
       "      <td>753.040870</td>\n",
       "      <td>684.991522</td>\n",
       "    </tr>\n",
       "    <tr>\n",
       "      <th>광주</th>\n",
       "      <td>823.089348</td>\n",
       "      <td>849.900441</td>\n",
       "      <td>752.874737</td>\n",
       "      <td>1012.823382</td>\n",
       "      <td>821.629457</td>\n",
       "    </tr>\n",
       "    <tr>\n",
       "      <th>대구</th>\n",
       "      <td>962.555000</td>\n",
       "      <td>864.746667</td>\n",
       "      <td>1016.373696</td>\n",
       "      <td>1118.592391</td>\n",
       "      <td>957.885978</td>\n",
       "    </tr>\n",
       "    <tr>\n",
       "      <th>대전</th>\n",
       "      <td>781.502174</td>\n",
       "      <td>779.987353</td>\n",
       "      <td>815.303261</td>\n",
       "      <td>1309.220000</td>\n",
       "      <td>790.406196</td>\n",
       "    </tr>\n",
       "    <tr>\n",
       "      <th>부산</th>\n",
       "      <td>972.590109</td>\n",
       "      <td>968.223587</td>\n",
       "      <td>924.768804</td>\n",
       "      <td>1155.905109</td>\n",
       "      <td>982.875109</td>\n",
       "    </tr>\n",
       "    <tr>\n",
       "      <th>서울</th>\n",
       "      <td>1899.792065</td>\n",
       "      <td>2117.578913</td>\n",
       "      <td>1969.748478</td>\n",
       "      <td>1986.478043</td>\n",
       "      <td>1900.936304</td>\n",
       "    </tr>\n",
       "    <tr>\n",
       "      <th>세종</th>\n",
       "      <td>816.315978</td>\n",
       "      <td>814.316848</td>\n",
       "      <td>818.196739</td>\n",
       "      <td>813.895978</td>\n",
       "      <td>814.750870</td>\n",
       "    </tr>\n",
       "    <tr>\n",
       "      <th>울산</th>\n",
       "      <td>975.286304</td>\n",
       "      <td>812.259038</td>\n",
       "      <td>816.842065</td>\n",
       "      <td>916.259348</td>\n",
       "      <td>972.590109</td>\n",
       "    </tr>\n",
       "    <tr>\n",
       "      <th>인천</th>\n",
       "      <td>964.580435</td>\n",
       "      <td>1033.642500</td>\n",
       "      <td>973.300326</td>\n",
       "      <td>1198.689130</td>\n",
       "      <td>969.315217</td>\n",
       "    </tr>\n",
       "    <tr>\n",
       "      <th>전남</th>\n",
       "      <td>609.879457</td>\n",
       "      <td>708.862717</td>\n",
       "      <td>619.927717</td>\n",
       "      <td>676.916087</td>\n",
       "      <td>609.971522</td>\n",
       "    </tr>\n",
       "    <tr>\n",
       "      <th>전북</th>\n",
       "      <td>609.971522</td>\n",
       "      <td>704.417283</td>\n",
       "      <td>635.157935</td>\n",
       "      <td>699.564130</td>\n",
       "      <td>609.353370</td>\n",
       "    </tr>\n",
       "    <tr>\n",
       "      <th>제주</th>\n",
       "      <td>850.919348</td>\n",
       "      <td>984.830000</td>\n",
       "      <td>1192.027941</td>\n",
       "      <td>969.320000</td>\n",
       "      <td>868.175000</td>\n",
       "    </tr>\n",
       "    <tr>\n",
       "      <th>충남</th>\n",
       "      <td>671.589457</td>\n",
       "      <td>830.336196</td>\n",
       "      <td>704.667174</td>\n",
       "      <td>794.667500</td>\n",
       "      <td>671.839348</td>\n",
       "    </tr>\n",
       "    <tr>\n",
       "      <th>충북</th>\n",
       "      <td>625.070217</td>\n",
       "      <td>742.440217</td>\n",
       "      <td>618.112717</td>\n",
       "      <td>703.628152</td>\n",
       "      <td>618.296848</td>\n",
       "    </tr>\n",
       "  </tbody>\n",
       "</table>\n",
       "</div>"
      ],
      "text/plain": [
       "       price_per_pyung                                                    \n",
       "scale            60-85       85-102          <60         >120        total\n",
       "region                                                                    \n",
       "강원          648.678370   651.665667   650.348696   691.738587   643.720000\n",
       "경기         1039.547826  1041.060326  1077.347174  1214.445435  1037.233043\n",
       "경남          721.120543   897.478043   738.073696   832.519457   721.501957\n",
       "경북          686.030543   799.034022   682.571522   753.040870   684.991522\n",
       "광주          823.089348   849.900441   752.874737  1012.823382   821.629457\n",
       "대구          962.555000   864.746667  1016.373696  1118.592391   957.885978\n",
       "대전          781.502174   779.987353   815.303261  1309.220000   790.406196\n",
       "부산          972.590109   968.223587   924.768804  1155.905109   982.875109\n",
       "서울         1899.792065  2117.578913  1969.748478  1986.478043  1900.936304\n",
       "세종          816.315978   814.316848   818.196739   813.895978   814.750870\n",
       "울산          975.286304   812.259038   816.842065   916.259348   972.590109\n",
       "인천          964.580435  1033.642500   973.300326  1198.689130   969.315217\n",
       "전남          609.879457   708.862717   619.927717   676.916087   609.971522\n",
       "전북          609.971522   704.417283   635.157935   699.564130   609.353370\n",
       "제주          850.919348   984.830000  1192.027941   969.320000   868.175000\n",
       "충남          671.589457   830.336196   704.667174   794.667500   671.839348\n",
       "충북          625.070217   742.440217   618.112717   703.628152   618.296848"
      ]
     },
     "execution_count": 357,
     "metadata": {},
     "output_type": "execute_result"
    }
   ],
   "source": [
    "by_scale_region_table.pivot_table(index=['region'],columns=['scale'],values=['price_per_pyung'])"
   ]
  },
  {
   "cell_type": "markdown",
   "id": "4fd3335d",
   "metadata": {},
   "source": [
    "### (5) 연도, 지역별 평당 평균 분양 가격 "
   ]
  },
  {
   "cell_type": "code",
   "execution_count": 358,
   "id": "95a5a771",
   "metadata": {},
   "outputs": [],
   "source": [
    "by_time_region_table =df_first.pivot_table(index=['year','region'],values=['price_per_pyung']).sort_values(ascending=False,by='price_per_pyung').reset_index()"
   ]
  },
  {
   "cell_type": "code",
   "execution_count": 359,
   "id": "a50c4738",
   "metadata": {},
   "outputs": [
    {
     "data": {
      "text/html": [
       "<div>\n",
       "<style scoped>\n",
       "    .dataframe tbody tr th:only-of-type {\n",
       "        vertical-align: middle;\n",
       "    }\n",
       "\n",
       "    .dataframe tbody tr th {\n",
       "        vertical-align: top;\n",
       "    }\n",
       "\n",
       "    .dataframe thead tr th {\n",
       "        text-align: left;\n",
       "    }\n",
       "\n",
       "    .dataframe thead tr:last-of-type th {\n",
       "        text-align: right;\n",
       "    }\n",
       "</style>\n",
       "<table border=\"1\" class=\"dataframe\">\n",
       "  <thead>\n",
       "    <tr>\n",
       "      <th></th>\n",
       "      <th colspan=\"3\" halign=\"left\">price_per_pyung</th>\n",
       "    </tr>\n",
       "    <tr>\n",
       "      <th>year</th>\n",
       "      <th>2015</th>\n",
       "      <th>2016</th>\n",
       "      <th>2017</th>\n",
       "    </tr>\n",
       "    <tr>\n",
       "      <th>region</th>\n",
       "      <th></th>\n",
       "      <th></th>\n",
       "      <th></th>\n",
       "    </tr>\n",
       "  </thead>\n",
       "  <tbody>\n",
       "    <tr>\n",
       "      <th>강원</th>\n",
       "      <td>658.905500</td>\n",
       "      <td>656.599519</td>\n",
       "      <td>658.534938</td>\n",
       "    </tr>\n",
       "    <tr>\n",
       "      <th>경기</th>\n",
       "      <td>1013.919500</td>\n",
       "      <td>1071.122250</td>\n",
       "      <td>1123.636250</td>\n",
       "    </tr>\n",
       "    <tr>\n",
       "      <th>경남</th>\n",
       "      <td>775.428500</td>\n",
       "      <td>778.866917</td>\n",
       "      <td>789.562812</td>\n",
       "    </tr>\n",
       "    <tr>\n",
       "      <th>경북</th>\n",
       "      <td>684.214667</td>\n",
       "      <td>710.728792</td>\n",
       "      <td>750.585687</td>\n",
       "    </tr>\n",
       "    <tr>\n",
       "      <th>광주</th>\n",
       "      <td>725.697500</td>\n",
       "      <td>842.479306</td>\n",
       "      <td>882.619375</td>\n",
       "    </tr>\n",
       "    <tr>\n",
       "      <th>대구</th>\n",
       "      <td>826.732500</td>\n",
       "      <td>942.519417</td>\n",
       "      <td>1117.944474</td>\n",
       "    </tr>\n",
       "    <tr>\n",
       "      <th>대전</th>\n",
       "      <td>750.805000</td>\n",
       "      <td>816.817222</td>\n",
       "      <td>920.015938</td>\n",
       "    </tr>\n",
       "    <tr>\n",
       "      <th>부산</th>\n",
       "      <td>951.261667</td>\n",
       "      <td>984.824042</td>\n",
       "      <td>1043.549375</td>\n",
       "    </tr>\n",
       "    <tr>\n",
       "      <th>서울</th>\n",
       "      <td>1862.270667</td>\n",
       "      <td>1994.064875</td>\n",
       "      <td>1988.408125</td>\n",
       "    </tr>\n",
       "    <tr>\n",
       "      <th>세종</th>\n",
       "      <td>803.460167</td>\n",
       "      <td>811.965458</td>\n",
       "      <td>825.303187</td>\n",
       "    </tr>\n",
       "    <tr>\n",
       "      <th>울산</th>\n",
       "      <td>858.696667</td>\n",
       "      <td>878.402629</td>\n",
       "      <td>981.064219</td>\n",
       "    </tr>\n",
       "    <tr>\n",
       "      <th>인천</th>\n",
       "      <td>1006.135167</td>\n",
       "      <td>1017.413375</td>\n",
       "      <td>1051.807625</td>\n",
       "    </tr>\n",
       "    <tr>\n",
       "      <th>전남</th>\n",
       "      <td>623.230667</td>\n",
       "      <td>635.855000</td>\n",
       "      <td>667.201562</td>\n",
       "    </tr>\n",
       "    <tr>\n",
       "      <th>전북</th>\n",
       "      <td>651.786667</td>\n",
       "      <td>633.107292</td>\n",
       "      <td>679.536000</td>\n",
       "    </tr>\n",
       "    <tr>\n",
       "      <th>제주</th>\n",
       "      <td>728.848542</td>\n",
       "      <td>877.019000</td>\n",
       "      <td>1145.317938</td>\n",
       "    </tr>\n",
       "    <tr>\n",
       "      <th>충남</th>\n",
       "      <td>704.905667</td>\n",
       "      <td>729.503958</td>\n",
       "      <td>753.436750</td>\n",
       "    </tr>\n",
       "    <tr>\n",
       "      <th>충북</th>\n",
       "      <td>625.973333</td>\n",
       "      <td>653.889042</td>\n",
       "      <td>686.266625</td>\n",
       "    </tr>\n",
       "  </tbody>\n",
       "</table>\n",
       "</div>"
      ],
      "text/plain": [
       "       price_per_pyung                          \n",
       "year              2015         2016         2017\n",
       "region                                          \n",
       "강원          658.905500   656.599519   658.534938\n",
       "경기         1013.919500  1071.122250  1123.636250\n",
       "경남          775.428500   778.866917   789.562812\n",
       "경북          684.214667   710.728792   750.585687\n",
       "광주          725.697500   842.479306   882.619375\n",
       "대구          826.732500   942.519417  1117.944474\n",
       "대전          750.805000   816.817222   920.015938\n",
       "부산          951.261667   984.824042  1043.549375\n",
       "서울         1862.270667  1994.064875  1988.408125\n",
       "세종          803.460167   811.965458   825.303187\n",
       "울산          858.696667   878.402629   981.064219\n",
       "인천         1006.135167  1017.413375  1051.807625\n",
       "전남          623.230667   635.855000   667.201562\n",
       "전북          651.786667   633.107292   679.536000\n",
       "제주          728.848542   877.019000  1145.317938\n",
       "충남          704.905667   729.503958   753.436750\n",
       "충북          625.973333   653.889042   686.266625"
      ]
     },
     "execution_count": 359,
     "metadata": {},
     "output_type": "execute_result"
    }
   ],
   "source": [
    "by_time_region_table.pivot_table(index=['region'],columns=['year'],values=['price_per_pyung'])"
   ]
  },
  {
   "cell_type": "markdown",
   "id": "b031990a",
   "metadata": {},
   "source": [
    "## 6. 데이터 시각화"
   ]
  },
  {
   "cell_type": "markdown",
   "id": "b886cdab",
   "metadata": {},
   "source": [
    "### (1) 지역 vs 평당 분양가격 그래프 - 라인 그래프"
   ]
  },
  {
   "cell_type": "code",
   "execution_count": 390,
   "id": "e4b38987",
   "metadata": {},
   "outputs": [
    {
     "data": {
      "image/png": "[encoded data removed]",
      "text/plain": [
       "<Figure size 720x504 with 1 Axes>"
      ]
     },
     "metadata": {
      "needs_background": "light"
     },
     "output_type": "display_data"
    }
   ],
   "source": [
    "mean_price_groupby_region = real_estate.groupby('region').mean().reset_index()\n",
    "\n",
    "\n",
    "plt.figure(figsize=(10,7))\n",
    "sns.lineplot(data=mean_price_groupby_region,x='region',y='price_per_pyung')\n",
    "plt.xticks(rotation=45)\n",
    "plt.title('지역에 따른 평균 분양 가격의 추이')\n",
    "plt.show()"
   ]
  },
  {
   "cell_type": "markdown",
   "id": "74d1f9cf",
   "metadata": {},
   "source": [
    "### (2) 지역 vs 평당 분양가격 그래프 - 바 차트"
   ]
  },
  {
   "cell_type": "code",
   "execution_count": 391,
   "id": "9232ac3e",
   "metadata": {},
   "outputs": [
    {
     "data": {
      "image/png": "[encoded data removed]",
      "text/plain": [
       "<Figure size 720x504 with 1 Axes>"
      ]
     },
     "metadata": {
      "needs_background": "light"
     },
     "output_type": "display_data"
    }
   ],
   "source": [
    "mean_price_groupby_region = real_estate.groupby('region').mean().sort_values(by='price_per_pyung',ascending=False).reset_index()\n",
    "\n",
    "plt.figure(figsize=(10,7))\n",
    "sns.barplot(data=mean_price_groupby_region,x='region',y='price_per_pyung', ci=False)\n",
    "plt.xticks(rotation=45)\n",
    "plt.title('평균 분양가격 지역별 순위')\n",
    "plt.show()"
   ]
  },
  {
   "cell_type": "markdown",
   "id": "2d9151fe",
   "metadata": {},
   "source": [
    "### (3) 전용 면적 단위 별 평균 분양 가격의 차이 그래프"
   ]
  },
  {
   "cell_type": "code",
   "execution_count": 362,
   "id": "a4ee1148",
   "metadata": {},
   "outputs": [
    {
     "data": {
      "image/png": "[encoded data removed]",
      "text/plain": [
       "<Figure size 720x504 with 1 Axes>"
      ]
     },
     "metadata": {
      "needs_background": "light"
     },
     "output_type": "display_data"
    }
   ],
   "source": [
    "mean_price_groupby_scale = df_first.groupby('scale').mean().sort_values(by='price_per_pyung',ascending=False).reset_index()\n",
    "\n",
    "plt.figure(figsize=(10,7))\n",
    "sns.barplot(data=mean_price_groupby_scale,x='scale',y='price_per_pyung', ci=False)\n",
    "plt.xticks(rotation=45)\n",
    "plt.title('전용 면적별 평균 분양가격의 차이')\n",
    "plt.show()"
   ]
  },
  {
   "cell_type": "markdown",
   "id": "d4ff3f43",
   "metadata": {},
   "source": [
    "### (4) 연도에 따른 평당 분양가 변화 추이 - 라인 그래프"
   ]
  },
  {
   "cell_type": "code",
   "execution_count": 389,
   "id": "ccbf95ab",
   "metadata": {},
   "outputs": [
    {
     "data": {
      "image/png": "[encoded data removed]",
      "text/plain": [
       "<Figure size 720x504 with 1 Axes>"
      ]
     },
     "metadata": {
      "needs_background": "light"
     },
     "output_type": "display_data"
    }
   ],
   "source": [
    "mean_price_groupby_year = real_estate.groupby('year').mean().reset_index()\n",
    "\n",
    "\n",
    "plt.figure(figsize=(10,7))\n",
    "sns.lineplot(data=mean_price_groupby_year,x='year',y='price_per_pyung')\n",
    "plt.xticks(rotation=45)\n",
    "plt.title('연도에 따른 평당 분양가 변화 추이')\n",
    "plt.show()"
   ]
  },
  {
   "cell_type": "markdown",
   "id": "bd9de941",
   "metadata": {},
   "source": [
    "### (4) 연도에 따른 평당 분양가 변화 추이 - 바 차트"
   ]
  },
  {
   "cell_type": "code",
   "execution_count": 400,
   "id": "3f4455b6",
   "metadata": {},
   "outputs": [
    {
     "data": {
      "image/png": "[encoded data removed]",
      "text/plain": [
       "<Figure size 720x504 with 1 Axes>"
      ]
     },
     "metadata": {
      "needs_background": "light"
     },
     "output_type": "display_data"
    }
   ],
   "source": [
    "mean_price_groupby_year = real_estate.groupby('year').mean().sort_values(by='price_per_pyung',ascending=False).reset_index()\n",
    "\n",
    "plt.figure(figsize=(10,7))\n",
    "sns.barplot(data=mean_price_groupby_year,x='year',y='price_per_pyung', ci=False)\n",
    "plt.xticks(rotation=45)\n",
    "plt.title('전용 면적별 평균 분양가격의 차이')\n",
    "plt.show()"
   ]
  },
  {
   "cell_type": "markdown",
   "id": "ebc3644c",
   "metadata": {},
   "source": [
    "### (5) 연도별  평당 분양가의 변화"
   ]
  },
  {
   "cell_type": "code",
   "execution_count": 396,
   "id": "431edb5a",
   "metadata": {},
   "outputs": [
    {
     "data": {
      "image/png": "[encoded data removed]",
      "text/plain": [
       "<Figure size 720x504 with 1 Axes>"
      ]
     },
     "metadata": {
      "needs_background": "light"
     },
     "output_type": "display_data"
    }
   ],
   "source": [
    "plt.figure(figsize=(10,7))\n",
    "sns.boxplot(data=real_estate,x='year',y='price_per_pyung')\n",
    "plt.xticks(rotation=45)\n",
    "plt.title('연도에 따른 평당 분양가 변화 추이')\n",
    "plt.show()"
   ]
  },
  {
   "cell_type": "markdown",
   "id": "243a33bf",
   "metadata": {},
   "source": [
    "### (6) 전용면적별 평당 분양가의 변화"
   ]
  },
  {
   "cell_type": "code",
   "execution_count": 398,
   "id": "df5a9256",
   "metadata": {},
   "outputs": [
    {
     "data": {
      "image/png": "[encoded data removed]",
      "text/plain": [
       "<Figure size 720x504 with 1 Axes>"
      ]
     },
     "metadata": {
      "needs_background": "light"
     },
     "output_type": "display_data"
    }
   ],
   "source": [
    "plt.figure(figsize=(10,7))\n",
    "sns.boxplot(data=real_estate,x='scale',y='price_per_pyung')\n",
    "plt.xticks(rotation=45)\n",
    "plt.title('전용 면적에 따른 평당 분양가 변화 추이')\n",
    "plt.show()"
   ]
  },
  {
   "cell_type": "markdown",
   "id": "c1350637",
   "metadata": {},
   "source": [
    "## 7. df_first 와 df_last를 합쳐 하나의 데이터 프레임으로 만들고, 분석"
   ]
  },
  {
   "cell_type": "code",
   "execution_count": 407,
   "id": "cb78486d",
   "metadata": {},
   "outputs": [],
   "source": [
    "combined = pd.concat([df_first, df_last],axis=0)"
   ]
  },
  {
   "cell_type": "code",
   "execution_count": 409,
   "id": "2120d3a0",
   "metadata": {},
   "outputs": [
    {
     "name": "stdout",
     "output_type": "stream",
     "text": [
      "<class 'pandas.core.frame.DataFrame'>\n",
      "Int64Index: 5315 entries, 0 to 5779\n",
      "Data columns (total 6 columns):\n",
      " #   Column           Non-Null Count  Dtype  \n",
      "---  ------           --------------  -----  \n",
      " 0   region           5315 non-null   object \n",
      " 1   scale            5315 non-null   object \n",
      " 2   year             5315 non-null   int64  \n",
      " 3   month            5315 non-null   int64  \n",
      " 4   price_per_meter  5315 non-null   float64\n",
      " 5   price_per_pyung  5315 non-null   float64\n",
      "dtypes: float64(2), int64(2), object(2)\n",
      "memory usage: 290.7+ KB\n"
     ]
    }
   ],
   "source": [
    "combined.info()"
   ]
  },
  {
   "cell_type": "markdown",
   "id": "45cfcc3a",
   "metadata": {},
   "source": [
    "결측치 처리는 이미 분리하기 전 원본 데이터에서 처리 하였으므로 이상이 없다"
   ]
  },
  {
   "cell_type": "markdown",
   "id": "889aeca9",
   "metadata": {},
   "source": [
    "### (1) 연도별 평당 분양 가격"
   ]
  },
  {
   "cell_type": "code",
   "execution_count": 417,
   "id": "05e21bb2",
   "metadata": {},
   "outputs": [
    {
     "data": {
      "text/html": [
       "<div>\n",
       "<style scoped>\n",
       "    .dataframe tbody tr th:only-of-type {\n",
       "        vertical-align: middle;\n",
       "    }\n",
       "\n",
       "    .dataframe tbody tr th {\n",
       "        vertical-align: top;\n",
       "    }\n",
       "\n",
       "    .dataframe thead th {\n",
       "        text-align: right;\n",
       "    }\n",
       "</style>\n",
       "<table border=\"1\" class=\"dataframe\">\n",
       "  <thead>\n",
       "    <tr style=\"text-align: right;\">\n",
       "      <th></th>\n",
       "      <th>price_per_pyung</th>\n",
       "    </tr>\n",
       "    <tr>\n",
       "      <th>year</th>\n",
       "      <th></th>\n",
       "    </tr>\n",
       "  </thead>\n",
       "  <tbody>\n",
       "    <tr>\n",
       "      <th>2015</th>\n",
       "      <td>843.584115</td>\n",
       "    </tr>\n",
       "    <tr>\n",
       "      <th>2016</th>\n",
       "      <td>887.610625</td>\n",
       "    </tr>\n",
       "    <tr>\n",
       "      <th>2017</th>\n",
       "      <td>950.851818</td>\n",
       "    </tr>\n",
       "    <tr>\n",
       "      <th>2018</th>\n",
       "      <td>1006.402688</td>\n",
       "    </tr>\n",
       "    <tr>\n",
       "      <th>2019</th>\n",
       "      <td>1117.260200</td>\n",
       "    </tr>\n",
       "    <tr>\n",
       "      <th>2020</th>\n",
       "      <td>1195.280391</td>\n",
       "    </tr>\n",
       "    <tr>\n",
       "      <th>2021</th>\n",
       "      <td>1238.999919</td>\n",
       "    </tr>\n",
       "  </tbody>\n",
       "</table>\n",
       "</div>"
      ],
      "text/plain": [
       "      price_per_pyung\n",
       "year                 \n",
       "2015       843.584115\n",
       "2016       887.610625\n",
       "2017       950.851818\n",
       "2018      1006.402688\n",
       "2019      1117.260200\n",
       "2020      1195.280391\n",
       "2021      1238.999919"
      ]
     },
     "execution_count": 417,
     "metadata": {},
     "output_type": "execute_result"
    }
   ],
   "source": [
    "combined.pivot_table(index=['year'],values=['price_per_pyung'])"
   ]
  },
  {
   "cell_type": "markdown",
   "id": "c3dd7677",
   "metadata": {},
   "source": [
    "### (2) 지역별 평당 분양 가격"
   ]
  },
  {
   "cell_type": "code",
   "execution_count": 419,
   "id": "001df346",
   "metadata": {},
   "outputs": [
    {
     "data": {
      "text/html": [
       "<div>\n",
       "<style scoped>\n",
       "    .dataframe tbody tr th:only-of-type {\n",
       "        vertical-align: middle;\n",
       "    }\n",
       "\n",
       "    .dataframe tbody tr th {\n",
       "        vertical-align: top;\n",
       "    }\n",
       "\n",
       "    .dataframe thead th {\n",
       "        text-align: right;\n",
       "    }\n",
       "</style>\n",
       "<table border=\"1\" class=\"dataframe\">\n",
       "  <thead>\n",
       "    <tr style=\"text-align: right;\">\n",
       "      <th></th>\n",
       "      <th>price_per_pyung</th>\n",
       "    </tr>\n",
       "    <tr>\n",
       "      <th>region</th>\n",
       "      <th></th>\n",
       "    </tr>\n",
       "  </thead>\n",
       "  <tbody>\n",
       "    <tr>\n",
       "      <th>서울</th>\n",
       "      <td>2296.735699</td>\n",
       "    </tr>\n",
       "    <tr>\n",
       "      <th>경기</th>\n",
       "      <td>1260.182081</td>\n",
       "    </tr>\n",
       "    <tr>\n",
       "      <th>대구</th>\n",
       "      <td>1178.876314</td>\n",
       "    </tr>\n",
       "    <tr>\n",
       "      <th>인천</th>\n",
       "      <td>1171.193571</td>\n",
       "    </tr>\n",
       "    <tr>\n",
       "      <th>부산</th>\n",
       "      <td>1140.033529</td>\n",
       "    </tr>\n",
       "    <tr>\n",
       "      <th>제주</th>\n",
       "      <td>1123.664541</td>\n",
       "    </tr>\n",
       "    <tr>\n",
       "      <th>울산</th>\n",
       "      <td>1007.712144</td>\n",
       "    </tr>\n",
       "    <tr>\n",
       "      <th>광주</th>\n",
       "      <td>1002.801298</td>\n",
       "    </tr>\n",
       "    <tr>\n",
       "      <th>대전</th>\n",
       "      <td>957.246422</td>\n",
       "    </tr>\n",
       "    <tr>\n",
       "      <th>세종</th>\n",
       "      <td>929.316088</td>\n",
       "    </tr>\n",
       "    <tr>\n",
       "      <th>경남</th>\n",
       "      <td>887.970929</td>\n",
       "    </tr>\n",
       "    <tr>\n",
       "      <th>경북</th>\n",
       "      <td>810.297618</td>\n",
       "    </tr>\n",
       "    <tr>\n",
       "      <th>강원</th>\n",
       "      <td>779.465953</td>\n",
       "    </tr>\n",
       "    <tr>\n",
       "      <th>충남</th>\n",
       "      <td>776.755919</td>\n",
       "    </tr>\n",
       "    <tr>\n",
       "      <th>전남</th>\n",
       "      <td>740.182178</td>\n",
       "    </tr>\n",
       "    <tr>\n",
       "      <th>전북</th>\n",
       "      <td>726.616669</td>\n",
       "    </tr>\n",
       "    <tr>\n",
       "      <th>충북</th>\n",
       "      <td>718.792803</td>\n",
       "    </tr>\n",
       "  </tbody>\n",
       "</table>\n",
       "</div>"
      ],
      "text/plain": [
       "        price_per_pyung\n",
       "region                 \n",
       "서울          2296.735699\n",
       "경기          1260.182081\n",
       "대구          1178.876314\n",
       "인천          1171.193571\n",
       "부산          1140.033529\n",
       "제주          1123.664541\n",
       "울산          1007.712144\n",
       "광주          1002.801298\n",
       "대전           957.246422\n",
       "세종           929.316088\n",
       "경남           887.970929\n",
       "경북           810.297618\n",
       "강원           779.465953\n",
       "충남           776.755919\n",
       "전남           740.182178\n",
       "전북           726.616669\n",
       "충북           718.792803"
      ]
     },
     "execution_count": 419,
     "metadata": {},
     "output_type": "execute_result"
    }
   ],
   "source": [
    "combined.pivot_table(index=['region'],values=['price_per_pyung']).sort_values(by='price_per_pyung' ,ascending=False)"
   ]
  }
 ],
 "metadata": {
  "kernelspec": {
   "display_name": "Python 3",
   "language": "python",
   "name": "python3"
  },
  "language_info": {
   "codemirror_mode": {
    "name": "ipython",
    "version": 3
   },
   "file_extension": ".py",
   "mimetype": "text/x-python",
   "name": "python",
   "nbconvert_exporter": "python",
   "pygments_lexer": "ipython3",
   "version": "3.8.8"
  },
  "toc": {
   "base_numbering": 1,
   "nav_menu": {},
   "number_sections": false,
   "sideBar": true,
   "skip_h1_title": false,
   "title_cell": "Table of Contents",
   "title_sidebar": "Contents",
   "toc_cell": false,
   "toc_position": {
    "height": "calc(100% - 180px)",
    "left": "10px",
    "top": "150px",
    "width": "288.797px"
   },
   "toc_section_display": true,
   "toc_window_display": true
  },
  "varInspector": {
   "cols": {
    "lenName": 16,
    "lenType": 16,
    "lenVar": 40
   },
   "kernels_config": {
    "python": {
     "delete_cmd_postfix": "",
     "delete_cmd_prefix": "del ",
     "library": "var_list.py",
     "varRefreshCmd": "print(var_dic_list())"
    },
    "r": {
     "delete_cmd_postfix": ") ",
     "delete_cmd_prefix": "rm(",
     "library": "var_list.r",
     "varRefreshCmd": "cat(var_dic_list()) "
    }
   },
   "types_to_exclude": [
    "module",
    "function",
    "builtin_function_or_method",
    "instance",
    "_Feature"
   ],
   "window_display": false
  }
 },
 "nbformat": 4,
 "nbformat_minor": 5
}
