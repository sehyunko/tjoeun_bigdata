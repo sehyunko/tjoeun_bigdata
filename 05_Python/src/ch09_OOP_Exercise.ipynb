{
 "cells": [
  {
   "cell_type": "markdown",
   "id": "8cdb8beb",
   "metadata": {},
   "source": [
    "# ch09. 객체지향 프로그래밍 연습문제"
   ]
  },
  {
   "cell_type": "code",
   "execution_count": 1,
   "id": "d34188b6",
   "metadata": {},
   "outputs": [],
   "source": [
    "# 다음 조건을 만족하는 클래스를 작성하세요\n",
    "\n",
    "#  도형(Shape)클래스와 삼각형(Triangle) 클래스를 만들어야 합니다.\n",
    "\n",
    "#  도형(Shape)클래스\n",
    "# • 생성자를 통해 x, y좌표를 초기화할 수 있습니다. x, y좌표의 기본값은 0. 0입니다.\n",
    "# • x, y좌표를 이동시킬 수 있는 move 함수가 있습니다.\n",
    "# • x, y좌표값 정보를 문자열로 리턴하는 __str__ 함수가 있습니다\n",
    "# • 도형의 면적을 구하는 함수(calc_area)가 있습니다. 다만 도형 클래스의 calc_area()는\n",
    "# 구현되어 있지 않아 호출하면 오류가 발생합니다(파이썬은 추상메소드가 없음. 추상메소\n",
    "# 드 역할을 구현)\n",
    "\n",
    "# • 정적메소드(staticmethod)를 하나 이상 구현합니다.\n",
    "#  ‘삼각형(Triangle)클래스는 도형(Shape)클래스이다’관계가 성립해야 합니다\n",
    "#  생성자를 통해, width, height, x, y좌표를 초기화하고 x, y 좌표의 기본값은 0, 0입니다\n",
    "#  삼각형의 면적을 구하는 메소드 calc_area를 재정의합니다\n",
    "#  삼각형의 정보를 문자열로 반환하는 __str__() 함수가 있습니다.\n",
    "#  삼각형 객체가 몇 개가 만들어져 있는지 정보를 저장하는 클래스 변수를 추가하고 생성\n",
    "# 자에서 객체를 만들 때마다 증가시키고 소멸자에서 객체를 소멸시킬 때마다 감소합니다"
   ]
  },
  {
   "cell_type": "code",
   "execution_count": 11,
   "id": "ce738b81",
   "metadata": {},
   "outputs": [],
   "source": [
    "class Shape:\n",
    "    \n",
    "    def __init__(self,x=0,y=0):\n",
    "        self.x = x\n",
    "        self.y = y\n",
    "        \n",
    "    def move(self,move_x,move_y):\n",
    "        self.x += self.move_x\n",
    "        self.y += self.move_y\n",
    "        return '(%d,%d)'%(self.x, self.y)\n",
    "    \n",
    "    def __str__(self):\n",
    "        return '(%d,%d)'%(self.x,self.y)\n",
    "    \n",
    "    def calc_area(self):\n",
    "        raise NotImplementedError"
   ]
  },
  {
   "cell_type": "code",
   "execution_count": 12,
   "id": "a1807f79",
   "metadata": {},
   "outputs": [],
   "source": [
    "class Triangle(Shape):\n",
    "    \n",
    "    __count = 0 \n",
    "    \n",
    "    def __init__(self,width,height,x=0,y=0):\n",
    "        super().__init__(x,y)\n",
    "        self.width = width\n",
    "        self.height = height\n",
    "        Triangle._Triangle__count += 1\n",
    "    \n",
    "    def calc_area(self):\n",
    "        self.area = self.width*self.height*0.5\n",
    "        return round(self.area,2)\n",
    "    \n",
    "    def __str__(self):\n",
    "        return '높이: %d, 너비: %d, 넓이:%.2f'%(self.height, self.width, self.calc_area())\n",
    "    \n",
    "    def __del__(self):\n",
    "        print('Triangle 객체가 소멸함')\n",
    "        Triangle._Triangle__count -= 1\n",
    "    \n",
    "    @staticmethod \n",
    "    def get_count():\n",
    "        print('현재 생성된 객체 수는: %d'%Triangle._Triangle__count)"
   ]
  },
  {
   "cell_type": "code",
   "execution_count": 15,
   "id": "aeb197c7",
   "metadata": {},
   "outputs": [
    {
     "name": "stdout",
     "output_type": "stream",
     "text": [
      "Triangle 객체가 소멸함\n",
      "높이: 15, 너비: 10, 넓이:75.00\n",
      "현재 생성된 객체 수는: 1\n"
     ]
    }
   ],
   "source": [
    "t = Triangle(10,15)\n",
    "\n",
    "t.calc_area()\n",
    "\n",
    "print(t)\n",
    "Triangle.get_count()"
   ]
  },
  {
   "cell_type": "code",
   "execution_count": null,
   "id": "c73389ac",
   "metadata": {},
   "outputs": [],
   "source": []
  }
 ],
 "metadata": {
  "kernelspec": {
   "display_name": "Python 3",
   "language": "python",
   "name": "python3"
  },
  "language_info": {
   "codemirror_mode": {
    "name": "ipython",
    "version": 3
   },
   "file_extension": ".py",
   "mimetype": "text/x-python",
   "name": "python",
   "nbconvert_exporter": "python",
   "pygments_lexer": "ipython3",
   "version": "3.8.8"
  },
  "toc": {
   "base_numbering": 1,
   "nav_menu": {},
   "number_sections": false,
   "sideBar": true,
   "skip_h1_title": false,
   "title_cell": "Table of Contents",
   "title_sidebar": "Contents",
   "toc_cell": false,
   "toc_position": {},
   "toc_section_display": true,
   "toc_window_display": true
  },
  "varInspector": {
   "cols": {
    "lenName": 16,
    "lenType": 16,
    "lenVar": 40
   },
   "kernels_config": {
    "python": {
     "delete_cmd_postfix": "",
     "delete_cmd_prefix": "del ",
     "library": "var_list.py",
     "varRefreshCmd": "print(var_dic_list())"
    },
    "r": {
     "delete_cmd_postfix": ") ",
     "delete_cmd_prefix": "rm(",
     "library": "var_list.r",
     "varRefreshCmd": "cat(var_dic_list()) "
    }
   },
   "types_to_exclude": [
    "module",
    "function",
    "builtin_function_or_method",
    "instance",
    "_Feature"
   ],
   "window_display": false
  }
 },
 "nbformat": 4,
 "nbformat_minor": 5
}
