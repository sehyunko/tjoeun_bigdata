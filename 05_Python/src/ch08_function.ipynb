{
 "cells": [
  {
   "cell_type": "markdown",
   "id": "80020bd2",
   "metadata": {},
   "source": [
    "## ch08. 연습문제"
   ]
  },
  {
   "cell_type": "code",
   "execution_count": 7,
   "id": "8d20842a",
   "metadata": {},
   "outputs": [],
   "source": [
    "## 함수의 인자로 리스트를 받은 후 리스트 내 정수의 최대 최소값을 리턴하는 함수 정의 \n",
    "\n",
    "def get_min_max(list_):\n",
    "    min_val = min(list_)\n",
    "    max_val = max(list_)\n",
    "    return min_val, max_val"
   ]
  },
  {
   "cell_type": "code",
   "execution_count": 8,
   "id": "7c09d213",
   "metadata": {},
   "outputs": [
    {
     "data": {
      "text/plain": [
       "(12, 60)"
      ]
     },
     "execution_count": 8,
     "metadata": {},
     "output_type": "execute_result"
    }
   ],
   "source": [
    "list_ = [60,40,22,33,12,14,35]\n",
    "\n",
    "get_min_max(list_)"
   ]
  },
  {
   "cell_type": "code",
   "execution_count": 11,
   "id": "1f7641b3",
   "metadata": {},
   "outputs": [],
   "source": [
    "## 체질량 지수 (BMI) 에 따라 마른체형, 표준, 비만, 고도비만 중 하나를 출력하는 함수 정의 \n",
    "\n",
    "def cal_bmi(weight, height):\n",
    "    bmi = weight/(height**2)\n",
    "    if bmi <18.5:\n",
    "        return '마른체형'\n",
    "    elif 18.5<= bmi <25.0:\n",
    "        return '표준'\n",
    "    elif 25.0 <= bmi <30.0:\n",
    "        return '비만'\n",
    "    elif bmi >= 30.0:\n",
    "        return '고도 비만'"
   ]
  },
  {
   "cell_type": "code",
   "execution_count": 13,
   "id": "3ed46f11",
   "metadata": {},
   "outputs": [
    {
     "data": {
      "text/plain": [
       "'비만'"
      ]
     },
     "execution_count": 13,
     "metadata": {},
     "output_type": "execute_result"
    }
   ],
   "source": [
    "cal_bmi(80,1.73)"
   ]
  },
  {
   "cell_type": "code",
   "execution_count": 18,
   "id": "0c3972a6",
   "metadata": {},
   "outputs": [],
   "source": [
    "## 직각 삼각형의 밑변과 높이를 입력 받은 후 삼각형의 면적과 둘레를 계산 하는 함수를 정의\n",
    "import math\n",
    "def get_triangle(width, height):\n",
    "    perimeter = width+height+math.sqrt(width**2+height**2)\n",
    "    area = 0.5*width*height\n",
    "    return round(perimeter,2), area"
   ]
  },
  {
   "cell_type": "code",
   "execution_count": 19,
   "id": "fa3923ed",
   "metadata": {},
   "outputs": [
    {
     "data": {
      "text/plain": [
       "(52.36, 100.0)"
      ]
     },
     "execution_count": 19,
     "metadata": {},
     "output_type": "execute_result"
    }
   ],
   "source": [
    "get_triangle(10,20)"
   ]
  },
  {
   "cell_type": "code",
   "execution_count": 20,
   "id": "cc9d6407",
   "metadata": {},
   "outputs": [],
   "source": [
    "## 함수의 인자로 두 정수를 받고 두 인자 포함 사이 값을 모두 더한 값을 리턴 하는 함수 정의 \n",
    "\n",
    "def mysum(frm, end):\n",
    "    temp =0\n",
    "    for i in range(frm, end+1):\n",
    "        temp += i\n",
    "    return temp "
   ]
  },
  {
   "cell_type": "code",
   "execution_count": 21,
   "id": "b29e83b2",
   "metadata": {},
   "outputs": [
    {
     "data": {
      "text/plain": [
       "55"
      ]
     },
     "execution_count": 21,
     "metadata": {},
     "output_type": "execute_result"
    }
   ],
   "source": [
    "mysum(1,10)"
   ]
  },
  {
   "cell_type": "code",
   "execution_count": 22,
   "id": "ffe79e6e",
   "metadata": {},
   "outputs": [],
   "source": [
    "## 문자열 리스트를 받고, 각 문자열의 처음 세글자만 추출한 것으로 리스트 반환\n",
    "\n",
    "def get_abbrs(list_):\n",
    "    return [x[:3] for x in list_]\n"
   ]
  },
  {
   "cell_type": "code",
   "execution_count": 23,
   "id": "f9fdafc0",
   "metadata": {},
   "outputs": [
    {
     "data": {
      "text/plain": [
       "['Seo', 'Jej', 'Kwa', 'Dae']"
      ]
     },
     "execution_count": 23,
     "metadata": {},
     "output_type": "execute_result"
    }
   ],
   "source": [
    "list_ = ['Seoul','Jeju','Kwangju','Daegu']\n",
    "\n",
    "get_abbrs(list_)"
   ]
  },
  {
   "cell_type": "code",
   "execution_count": 30,
   "id": "bbecb19b",
   "metadata": {},
   "outputs": [
    {
     "data": {
      "text/plain": [
       "<function __main__.<lambda>(x, y)>"
      ]
     },
     "execution_count": 30,
     "metadata": {},
     "output_type": "execute_result"
    }
   ],
   "source": [
    "## 다음 코드를 람다 함수 형태로 변환하시오 \n",
    "\n",
    "def f(x,y):\n",
    "    return x**y\n",
    "\n",
    "lambda x,y:x**y"
   ]
  },
  {
   "cell_type": "code",
   "execution_count": 32,
   "id": "d21d3faa",
   "metadata": {},
   "outputs": [
    {
     "data": {
      "text/plain": [
       "[1, 4, 9, 16, 25]"
      ]
     },
     "execution_count": 32,
     "metadata": {},
     "output_type": "execute_result"
    }
   ],
   "source": [
    "## ex =[1,2,3,4,5]를 [1,4,9,16,25]로 변환되도록 람다함수를 구현 \n",
    "\n",
    "ex = [1,2,3,4,5]\n",
    "\n",
    "list(map(lambda x:x**2, ex))"
   ]
  },
  {
   "cell_type": "code",
   "execution_count": 33,
   "id": "9ce388d4",
   "metadata": {},
   "outputs": [
    {
     "data": {
      "text/plain": [
       "<function __main__.<lambda>(x, y)>"
      ]
     },
     "execution_count": 33,
     "metadata": {},
     "output_type": "execute_result"
    }
   ],
   "source": [
    "#  다음 코드를 람다 함수 형태로 수정할 때, 알맞은 코드를 작성하시오. \n",
    "#  def f(x, y): \n",
    "#    return x**y\n",
    "\n",
    "lambda x,y:x**y"
   ]
  },
  {
   "cell_type": "code",
   "execution_count": 34,
   "id": "bee47fd6",
   "metadata": {},
   "outputs": [
    {
     "data": {
      "text/plain": [
       "[1, 4, 9, 16, 25]"
      ]
     },
     "execution_count": 34,
     "metadata": {},
     "output_type": "execute_result"
    }
   ],
   "source": [
    "# 다음과 같이 리스트 컴프리헨션으로 되어 있는 코드를 람다(lambda) 함수와 map() 함수를 \n",
    "# 사용하여 표현하시오.\n",
    "# >>> ex = [1, 2, 3, 4, 5]\n",
    "# >>> [value **2 for value in ex]\n",
    "# [1, 4, 9, 16, 25]\n",
    "ex=[1,2,3,4,5]\n",
    "list(map(lambda x:x**2, ex))"
   ]
  },
  {
   "cell_type": "code",
   "execution_count": 36,
   "id": "8df0f6a8",
   "metadata": {},
   "outputs": [
    {
     "name": "stdout",
     "output_type": "stream",
     "text": [
      "1 2 3\n"
     ]
    }
   ],
   "source": [
    "a = [1,2,3]\n",
    "\n",
    "print(*a) # * 선언문으로 리스트로 묶여있는 a를 언패킹 함"
   ]
  },
  {
   "cell_type": "code",
   "execution_count": 37,
   "id": "aef95598",
   "metadata": {},
   "outputs": [
    {
     "data": {
      "text/plain": [
       "'2019-9-6'"
      ]
     },
     "execution_count": 37,
     "metadata": {},
     "output_type": "execute_result"
    }
   ],
   "source": [
    "# 5. 다음 코드의 실행 결과를 쓰시오.\n",
    "\n",
    "# >>> date_info = {'year': \"2019\", 'month': \"9\", 'day': \"6\"}\n",
    "# >>> result = \"{year}-{month}-{day}\".format(**date_info)\n",
    "# >>> result \n",
    "\n",
    "# 'year=2019-month=9-day=8' 가 나옴 \n",
    "\n",
    "date_info = {'year': \"2019\", 'month': \"9\", 'day': \"6\"}\n",
    "result = \"{year}-{month}-{day}\".format(**date_info)\n",
    "result"
   ]
  }
 ],
 "metadata": {
  "kernelspec": {
   "display_name": "Python 3",
   "language": "python",
   "name": "python3"
  },
  "language_info": {
   "codemirror_mode": {
    "name": "ipython",
    "version": 3
   },
   "file_extension": ".py",
   "mimetype": "text/x-python",
   "name": "python",
   "nbconvert_exporter": "python",
   "pygments_lexer": "ipython3",
   "version": "3.8.8"
  },
  "toc": {
   "base_numbering": 1,
   "nav_menu": {},
   "number_sections": false,
   "sideBar": true,
   "skip_h1_title": false,
   "title_cell": "Table of Contents",
   "title_sidebar": "Contents",
   "toc_cell": false,
   "toc_position": {},
   "toc_section_display": true,
   "toc_window_display": true
  },
  "varInspector": {
   "cols": {
    "lenName": 16,
    "lenType": 16,
    "lenVar": 40
   },
   "kernels_config": {
    "python": {
     "delete_cmd_postfix": "",
     "delete_cmd_prefix": "del ",
     "library": "var_list.py",
     "varRefreshCmd": "print(var_dic_list())"
    },
    "r": {
     "delete_cmd_postfix": ") ",
     "delete_cmd_prefix": "rm(",
     "library": "var_list.r",
     "varRefreshCmd": "cat(var_dic_list()) "
    }
   },
   "types_to_exclude": [
    "module",
    "function",
    "builtin_function_or_method",
    "instance",
    "_Feature"
   ],
   "window_display": false
  }
 },
 "nbformat": 4,
 "nbformat_minor": 5
}
