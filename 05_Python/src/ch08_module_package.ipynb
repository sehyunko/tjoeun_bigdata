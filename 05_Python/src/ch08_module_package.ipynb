{
 "cells": [
  {
   "cell_type": "markdown",
   "id": "a0177667",
   "metadata": {},
   "source": [
    "<b><font size=6 color='green'>ch08. 모듈과 패키지</font>"
   ]
  },
  {
   "cell_type": "markdown",
   "id": "3387412c",
   "metadata": {},
   "source": [
    "## 1절. 모듈 사용하기\n",
    "\n",
    "* 모듈은 함수, 변수, 클래스등을 담고 있는 파일 (*.py) \n",
    "* 파이썬 표준 모듈은 200여개 인터프리터와 함께 install 됨 "
   ]
  },
  {
   "cell_type": "code",
   "execution_count": null,
   "id": "913e6a5e",
   "metadata": {},
   "outputs": [],
   "source": [
    "# 1. import 모듈명 :  모듈안의 함수들은 모듈명.함수 \n",
    "\n",
    "import time # time 모듈안의 함수, 변수, 클래스가 메모리에 로드 됨 \n",
    "\n",
    "time.ctime()"
   ]
  },
  {
   "cell_type": "code",
   "execution_count": null,
   "id": "b7b1456d",
   "metadata": {},
   "outputs": [],
   "source": [
    "time.time() # 1970년 1월1일 이후 밀리세컨즈 "
   ]
  },
  {
   "cell_type": "code",
   "execution_count": null,
   "id": "c6c3c934",
   "metadata": {},
   "outputs": [],
   "source": [
    "del time # time 모듈이 메모리에서 unload"
   ]
  },
  {
   "cell_type": "code",
   "execution_count": null,
   "id": "23f5bd6d",
   "metadata": {},
   "outputs": [],
   "source": [
    "time.time()"
   ]
  },
  {
   "cell_type": "code",
   "execution_count": null,
   "id": "6374f709",
   "metadata": {},
   "outputs": [],
   "source": [
    "# 2. from 모듈명 import 함수명  : 모듈안의 특정 함수만 사용   \n",
    "#    from 패키지명 import 모듈명\n",
    "#    from 패키지명.모듈명 import 함수명 \n",
    "\n",
    "from time import ctime\n",
    "\n",
    "ctime() # time.ctime() 이 아니고 바로 ctime()을 사용가능 \n"
   ]
  },
  {
   "cell_type": "code",
   "execution_count": null,
   "id": "a33889b0",
   "metadata": {},
   "outputs": [],
   "source": [
    "del ctime\n",
    "ctime()"
   ]
  },
  {
   "cell_type": "code",
   "execution_count": null,
   "id": "111b09ce",
   "metadata": {},
   "outputs": [],
   "source": [
    "# 3. import 모듈명 as 별칭 : 모듈명을 메모리에서 로드하고 별칭으로 사용 \n",
    "\n",
    "import time as t \n",
    "\n",
    "t.ctime()"
   ]
  },
  {
   "cell_type": "code",
   "execution_count": null,
   "id": "9f0a84bd",
   "metadata": {},
   "outputs": [],
   "source": [
    "# 4. from 모듈명 import 함수명 as 별칭 \n",
    "#    from 패키지명 import 모듈명 as 별칭 \n",
    "#    from 패키지명.모듈명 import 함수명 as 별칭 \n",
    "\n",
    "from time import ctime as ct\n",
    "\n",
    "ct()"
   ]
  },
  {
   "cell_type": "code",
   "execution_count": null,
   "id": "d872532a",
   "metadata": {},
   "outputs": [],
   "source": [
    "import time \n",
    "\n",
    "dir(time) # time 모듈내의 변수, 함수 클래스등을 list로 출력 "
   ]
  },
  {
   "cell_type": "code",
   "execution_count": null,
   "id": "4e813dee",
   "metadata": {},
   "outputs": [],
   "source": [
    "import numpy as np \n",
    "\n",
    "dir(np)"
   ]
  },
  {
   "cell_type": "code",
   "execution_count": null,
   "id": "748ff73d",
   "metadata": {},
   "outputs": [],
   "source": [
    "import pandas as pd  # 두번 이상 실행하면 무시됨. -> 2번이상 로드하지 않음 \n",
    "\n",
    "dir(pd)"
   ]
  },
  {
   "cell_type": "code",
   "execution_count": null,
   "id": "fcc2562d",
   "metadata": {},
   "outputs": [],
   "source": [
    "import math \n",
    "\n",
    "print(dir(math))"
   ]
  },
  {
   "cell_type": "code",
   "execution_count": null,
   "id": "0fa107b7",
   "metadata": {},
   "outputs": [],
   "source": [
    "import sys \n",
    "\n",
    "print(dir(sys))"
   ]
  },
  {
   "cell_type": "markdown",
   "id": "d47b0ed9",
   "metadata": {},
   "source": [
    "```\n",
    "import A : A 모듈을 가져옴 \n",
    "\n",
    "import A as b : A 모듈을 가져와서 b 라는 별칭으로 사용함 \n",
    "\n",
    "from A import b : A 모듈안의 b 함수를 사용함 \n",
    "\n",
    "from A import b as c : A 모듈안의 b 함수를 c라는 별칭으로 사용함 \n",
    "\n",
    "from A.B import C : A패키지안의 B모듈의 C함수를 가져옴 \n",
    "\n",
    "from A.B import C as D : A 패키지안의 B모듈의 C함수를 D라는 별칭으로 사용함\n",
    "``` "
   ]
  },
  {
   "cell_type": "markdown",
   "id": "cebb4d48",
   "metadata": {},
   "source": [
    "## 2절. 사용자 정의 모듈\n",
    "\n",
    "* 함수나 클래스 등을 파이썬 파일에 저장해서 모듈을 만들고 재사용 할 수 있음.\n",
    "* 모듈을 가져오는 순서 : (1) 표준 모듈 검색. 없다면, (2) sys.path변수에 저장된 경로를 검색 "
   ]
  },
  {
   "cell_type": "code",
   "execution_count": 1,
   "id": "6afedb9f",
   "metadata": {},
   "outputs": [
    {
     "data": {
      "text/plain": [
       "['D:\\\\BigData\\\\src\\\\08_Python',\n",
       " 'C:\\\\Users\\\\tjoeun707-12\\\\anaconda3\\\\python38.zip',\n",
       " 'C:\\\\Users\\\\tjoeun707-12\\\\anaconda3\\\\DLLs',\n",
       " 'C:\\\\Users\\\\tjoeun707-12\\\\anaconda3\\\\lib',\n",
       " 'C:\\\\Users\\\\tjoeun707-12\\\\anaconda3',\n",
       " '',\n",
       " 'C:\\\\Users\\\\tjoeun707-12\\\\anaconda3\\\\lib\\\\site-packages',\n",
       " 'C:\\\\Users\\\\tjoeun707-12\\\\anaconda3\\\\lib\\\\site-packages\\\\locket-0.2.1-py3.8.egg',\n",
       " 'C:\\\\Users\\\\tjoeun707-12\\\\anaconda3\\\\lib\\\\site-packages\\\\win32',\n",
       " 'C:\\\\Users\\\\tjoeun707-12\\\\anaconda3\\\\lib\\\\site-packages\\\\win32\\\\lib',\n",
       " 'C:\\\\Users\\\\tjoeun707-12\\\\anaconda3\\\\lib\\\\site-packages\\\\Pythonwin',\n",
       " 'C:\\\\Users\\\\tjoeun707-12\\\\anaconda3\\\\lib\\\\site-packages\\\\IPython\\\\extensions',\n",
       " 'C:\\\\Users\\\\tjoeun707-12\\\\.ipython']"
      ]
     },
     "execution_count": 1,
     "metadata": {},
     "output_type": "execute_result"
    }
   ],
   "source": [
    "import sys\n",
    "\n",
    "sys.path ## import 문 시행시 검색이 이루어지는 파일경로들 "
   ]
  },
  {
   "cell_type": "code",
   "execution_count": null,
   "id": "c76f7d7e",
   "metadata": {},
   "outputs": [],
   "source": [
    "# 사용자 정의 모듈 및 패키지를 저장할 D:\\BigData\\src\\pylib 폴더 생성 "
   ]
  },
  {
   "cell_type": "code",
   "execution_count": 2,
   "id": "867b4ab6",
   "metadata": {},
   "outputs": [],
   "source": [
    "sys.path.append(r'D:\\BigData\\src\\pylib') ## sys.path 경로 리스트에 추가 \n",
    "import fibonacci"
   ]
  },
  {
   "cell_type": "code",
   "execution_count": 4,
   "id": "64b11f6a",
   "metadata": {},
   "outputs": [
    {
     "name": "stdout",
     "output_type": "stream",
     "text": [
      "0 1 1 2 3 5 8 13 21 34 55 89 \n"
     ]
    }
   ],
   "source": [
    "fibonacci.fibo_print(100)"
   ]
  },
  {
   "cell_type": "code",
   "execution_count": 5,
   "id": "eb43c400",
   "metadata": {},
   "outputs": [
    {
     "data": {
      "text/plain": [
       "[0, 1, 1, 2, 3, 5, 8, 13, 21, 34, 55, 89]"
      ]
     },
     "execution_count": 5,
     "metadata": {},
     "output_type": "execute_result"
    }
   ],
   "source": [
    "fibonacci.fibo_return(100)"
   ]
  },
  {
   "cell_type": "code",
   "execution_count": 6,
   "id": "a0d75bb6",
   "metadata": {},
   "outputs": [
    {
     "name": "stdout",
     "output_type": "stream",
     "text": [
      " D 드라이브의 볼륨: 학생방\n",
      " 볼륨 일련 번호: 7657-E302\n",
      "\n",
      " D:\\BigData\\src\\08_Python 디렉터리\n",
      "\n",
      "2021-07-23  오후 12:49    <DIR>          .\n",
      "2021-07-23  오후 12:49    <DIR>          ..\n",
      "2021-07-23  오전 10:47    <DIR>          .ipynb_checkpoints\n",
      "2021-07-22  오후 05:24             9,661 0722연습문제_고세현.ipynb\n",
      "2021-07-21  오후 03:58               161 a.py\n",
      "2021-07-19  오후 12:36           979,990 ch01_파이썬 개요 및 환경설정.ipynb\n",
      "2021-07-19  오후 05:09            52,591 ch02_1절변수_2절화면io_3절기본자료형.ipynb\n",
      "2021-07-20  오전 11:43            25,312 ch03_포맷팅, 연산자.ipynb\n",
      "2021-07-21  오후 03:20            13,434 ch04_문자열다루기.ipynb\n",
      "2021-07-21  오전 11:01            55,522 ch05_데이터 자료구조.ipynb\n",
      "2021-07-22  오전 11:13            11,256 ch06_제어문.ipynb\n",
      "2021-07-23  오전 10:50           131,593 ch07_함수.ipynb\n",
      "2021-07-23  오후 12:49             9,327 ch08_모듈과 패키지.ipynb\n",
      "2021-07-19  오후 12:35    <DIR>          IDETest\n",
      "2021-07-21  오후 03:58    <DIR>          __pycache__\n",
      "              10개 파일           1,288,847 바이트\n",
      "               5개 디렉터리  201,548,328,960 바이트 남음\n"
     ]
    }
   ],
   "source": [
    "! dir # ! 명령문 : cmd 창에서 쓰는 것과 같은 효과 "
   ]
  },
  {
   "cell_type": "code",
   "execution_count": 7,
   "id": "e34d5890",
   "metadata": {},
   "outputs": [],
   "source": [
    "del fibonacci"
   ]
  },
  {
   "cell_type": "code",
   "execution_count": 9,
   "id": "57202d68",
   "metadata": {},
   "outputs": [
    {
     "name": "stdout",
     "output_type": "stream",
     "text": [
      "0 1 1 2 3 5 8 13 \n"
     ]
    }
   ],
   "source": [
    "import fibonacci as f \n",
    "\n",
    "f.fibo_print(20)"
   ]
  },
  {
   "cell_type": "code",
   "execution_count": 12,
   "id": "3abdf551",
   "metadata": {},
   "outputs": [
    {
     "name": "stdout",
     "output_type": "stream",
     "text": [
      "0 1 1 2 3 5 8 13 21 \n"
     ]
    }
   ],
   "source": [
    "from fibonacci import fibo_print, fibo_return\n",
    "\n",
    "fibo_print(30)"
   ]
  },
  {
   "cell_type": "code",
   "execution_count": 13,
   "id": "50301177",
   "metadata": {},
   "outputs": [],
   "source": [
    "del fibo_print, fibo_return"
   ]
  },
  {
   "cell_type": "code",
   "execution_count": 14,
   "id": "eeb95997",
   "metadata": {},
   "outputs": [
    {
     "name": "stdout",
     "output_type": "stream",
     "text": [
      "0 1 1 2 3 5 8 13 21 34 55 89 144 \n"
     ]
    }
   ],
   "source": [
    "from fibonacci import fibo_print as fp \n",
    "\n",
    "fp(200)"
   ]
  },
  {
   "cell_type": "code",
   "execution_count": 15,
   "id": "497fe7ec",
   "metadata": {},
   "outputs": [],
   "source": [
    "## 파일을 한번이라도 import 하면 __pycache__ 폴더가 생기고 그 안에 .pyc 확장자 파일이 생김. \n",
    "## 나중에 또 import 할 때 빠르게 다시 import 하기 위함 "
   ]
  },
  {
   "cell_type": "markdown",
   "id": "f9399ed0",
   "metadata": {},
   "source": [
    "## 3절. 패키지 \n",
    "\n",
    "* 폴더 내에 또 다중의 폴더가 들어있는 경우도 있음\n",
    "* 다중 모듈 패키지 ex. 넘파이... "
   ]
  },
  {
   "cell_type": "code",
   "execution_count": 1,
   "id": "d8fe1b65",
   "metadata": {},
   "outputs": [],
   "source": [
    "import sys\n",
    "\n",
    "sys.path.append(r'D:\\BigData\\src\\pylib')"
   ]
  },
  {
   "cell_type": "code",
   "execution_count": 2,
   "id": "89033db1",
   "metadata": {},
   "outputs": [
    {
     "name": "stdout",
     "output_type": "stream",
     "text": [
      "sample_pack 패키지를 로드합니다\n"
     ]
    }
   ],
   "source": [
    "import sample_pack # sample_pack을 로드 한다고 해도 그 하위 폴더들 (패키지들) 까지 import 되지않음 "
   ]
  },
  {
   "cell_type": "code",
   "execution_count": 3,
   "id": "4d862041",
   "metadata": {},
   "outputs": [
    {
     "name": "stdout",
     "output_type": "stream",
     "text": [
      "ab 패키지를 로드합니다\n",
      "sample_pack 아래 ab 아래 a 모듈\n"
     ]
    }
   ],
   "source": [
    "import sample_pack.ab.a as a"
   ]
  },
  {
   "cell_type": "code",
   "execution_count": 4,
   "id": "01901c3c",
   "metadata": {},
   "outputs": [
    {
     "name": "stdout",
     "output_type": "stream",
     "text": [
      "Hello World\n"
     ]
    }
   ],
   "source": [
    "a.hello()"
   ]
  },
  {
   "cell_type": "code",
   "execution_count": 1,
   "id": "6eea9298",
   "metadata": {},
   "outputs": [
    {
     "name": "stdout",
     "output_type": "stream",
     "text": [
      "sample_pack 패키지를 로드합니다\n",
      "ab 패키지를 로드합니다\n",
      "sample_pack 아래 ab 아래 a 모듈\n"
     ]
    }
   ],
   "source": [
    "## 커널 재시작후, \n",
    "import sys\n",
    "\n",
    "sys.path.append(r'D:\\BigData\\src\\pylib')\n",
    "\n",
    "from sample_pack.ab import *\n",
    "\n"
   ]
  },
  {
   "cell_type": "code",
   "execution_count": 3,
   "id": "869187b3",
   "metadata": {},
   "outputs": [
    {
     "name": "stdout",
     "output_type": "stream",
     "text": [
      "Hello World\n"
     ]
    }
   ],
   "source": [
    "a.hello()"
   ]
  },
  {
   "cell_type": "code",
   "execution_count": 5,
   "id": "053e0e9e",
   "metadata": {},
   "outputs": [
    {
     "ename": "NameError",
     "evalue": "name 'b' is not defined",
     "output_type": "error",
     "traceback": [
      "\u001b[1;31m---------------------------------------------------------------------------\u001b[0m",
      "\u001b[1;31mNameError\u001b[0m                                 Traceback (most recent call last)",
      "\u001b[1;32m<ipython-input-5-3e8458c53314>\u001b[0m in \u001b[0;36m<module>\u001b[1;34m\u001b[0m\n\u001b[1;32m----> 1\u001b[1;33m \u001b[0mb\u001b[0m\u001b[1;33m.\u001b[0m\u001b[0mhello\u001b[0m\u001b[1;33m(\u001b[0m\u001b[1;33m)\u001b[0m \u001b[1;31m## __all__ 변수에 b함수는 안넣어놨기 때문에\u001b[0m\u001b[1;33m\u001b[0m\u001b[1;33m\u001b[0m\u001b[0m\n\u001b[0m",
      "\u001b[1;31mNameError\u001b[0m: name 'b' is not defined"
     ]
    }
   ],
   "source": [
    "b.hello() ## __all__ 변수에 b함수는 안넣어놨기 때문에"
   ]
  },
  {
   "cell_type": "code",
   "execution_count": 1,
   "id": "cd9c0fa3",
   "metadata": {},
   "outputs": [
    {
     "name": "stdout",
     "output_type": "stream",
     "text": [
      "sample_pack 패키지를 로드합니다\n",
      "sample_pack 안의 cd 패키지 로드\n",
      "ab 패키지를 로드합니다\n",
      "sample_pack 아래 ab 아래 a 모듈\n"
     ]
    }
   ],
   "source": [
    "## cd 패키지는 ab패키지의 일부 참조 \n",
    "## 커널 재시작후, \n",
    "import sys\n",
    "\n",
    "sys.path.append(r'D:\\BigData\\src\\pylib')\n",
    "\n",
    "#import sample_pack.cd.c as c \n",
    "from sample_pack.cd import c "
   ]
  },
  {
   "cell_type": "code",
   "execution_count": 2,
   "id": "ca259ac7",
   "metadata": {},
   "outputs": [
    {
     "name": "stdout",
     "output_type": "stream",
     "text": [
      "nice - c 모듈안\n",
      "Hello World\n"
     ]
    }
   ],
   "source": [
    "c.nice()"
   ]
  },
  {
   "cell_type": "markdown",
   "id": "a6b5bb9c",
   "metadata": {},
   "source": [
    "## 4절. 패키지 설치 및 삭제 "
   ]
  },
  {
   "cell_type": "code",
   "execution_count": 11,
   "id": "47e3d6ca",
   "metadata": {},
   "outputs": [
    {
     "name": "stdout",
     "output_type": "stream",
     "text": [
      "dict       23171\n",
      "list       18310\n",
      "function   16007\n",
      "Operator   12266\n",
      "tuple      8204\n",
      "Name       7792\n",
      "PythonNode 7728\n",
      "DFAPlan    5405\n",
      "weakref    3053\n",
      "NFAArc     2730\n"
     ]
    }
   ],
   "source": [
    "import objgraph\n",
    "\n",
    "objgraph.show_most_common_types() ## 메모리 사용량 출력"
   ]
  },
  {
   "cell_type": "code",
   "execution_count": 10,
   "id": "18ad7554",
   "metadata": {},
   "outputs": [],
   "source": [
    "l = [2]\n",
    "\n",
    "for i in range(10000):\n",
    "    l.append('aaaaaaaaa')\n",
    "    l.append('bbbbbbbbb')"
   ]
  }
 ],
 "metadata": {
  "kernelspec": {
   "display_name": "Python 3",
   "language": "python",
   "name": "python3"
  },
  "language_info": {
   "codemirror_mode": {
    "name": "ipython",
    "version": 3
   },
   "file_extension": ".py",
   "mimetype": "text/x-python",
   "name": "python",
   "nbconvert_exporter": "python",
   "pygments_lexer": "ipython3",
   "version": "3.8.8"
  },
  "toc": {
   "base_numbering": 1,
   "nav_menu": {
    "height": "12.2222px",
    "width": "213.993px"
   },
   "number_sections": false,
   "sideBar": true,
   "skip_h1_title": false,
   "title_cell": "Table of Contents",
   "title_sidebar": "Contents",
   "toc_cell": false,
   "toc_position": {
    "height": "calc(100% - 180px)",
    "left": "10px",
    "top": "150px",
    "width": "299.774px"
   },
   "toc_section_display": true,
   "toc_window_display": true
  },
  "varInspector": {
   "cols": {
    "lenName": 16,
    "lenType": 16,
    "lenVar": 40
   },
   "kernels_config": {
    "python": {
     "delete_cmd_postfix": "",
     "delete_cmd_prefix": "del ",
     "library": "var_list.py",
     "varRefreshCmd": "print(var_dic_list())"
    },
    "r": {
     "delete_cmd_postfix": ") ",
     "delete_cmd_prefix": "rm(",
     "library": "var_list.r",
     "varRefreshCmd": "cat(var_dic_list()) "
    }
   },
   "position": {
    "height": "543.976px",
    "left": "17.8993px",
    "right": "20px",
    "top": "188.986px",
    "width": "361.771px"
   },
   "types_to_exclude": [
    "module",
    "function",
    "builtin_function_or_method",
    "instance",
    "_Feature"
   ],
   "window_display": false
  },
  "widgets": {
   "application/vnd.jupyter.widget-state+json": {
    "state": {},
    "version_major": 2,
    "version_minor": 0
   }
  }
 },
 "nbformat": 4,
 "nbformat_minor": 5
}
