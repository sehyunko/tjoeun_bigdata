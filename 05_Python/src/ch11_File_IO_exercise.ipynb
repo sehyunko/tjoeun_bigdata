{
 "cells": [
  {
   "cell_type": "code",
   "execution_count": 1,
   "id": "0da0d50b",
   "metadata": {},
   "outputs": [],
   "source": [
    "# 필요한 클래스나 함수들 정의 \n",
    "\n",
    "class Customer:\n",
    "    '고객 데이터 저장'\n",
    "    \n",
    "    def __init__(self, name, phone, email, age, grade, etc):\n",
    "        self.name = name \n",
    "        self.phone = phone \n",
    "        self.email = email\n",
    "        self.age = age\n",
    "        self.grade = grade\n",
    "        self.etc = etc\n",
    "    def as_dic(self): #cutomer 객체를 딕셔너리로 변환 (csv 파일 저장시)\n",
    "        return {'name':self.name, 'phone':self.phone,'email':self.email,'age':self.age,\n",
    "                'grade':self.grade,'etc':self.etc}\n",
    "    def as_list_style(self): # 객체를 리스트 스타일로 변환 '홍길동 010-8999-9999 e@e.com 20 3 까칠해'\n",
    "        temp = [self.name, self.phone, self.email, self.age, self.grade, self.etc]\n",
    "        return ' '.join(temp)\n",
    "    def __str__(self): # **홍길동 010-8999-9999 e@e.com 20 3 까칠해\n",
    "        return '{:>5}\\t{:3}\\t{:15}\\t{:15}\\t{:3}\\t{}'.format('*'*self.grade,self.name,self.phone,self.email,self.age,self.etc)    "
   ]
  },
  {
   "cell_type": "code",
   "execution_count": 2,
   "id": "3f369243",
   "metadata": {},
   "outputs": [],
   "source": [
    "# txt 파일 내용 : 홍길동 010-8999-9999 e@e.com 20 3 까칠해 -> 객체로 변환 \n",
    "# txt 파일 내용 한줄 (홍길동 010-8999-9999 e@e.com 20 3 까칠해)을 Customer 객체로 반환 \n",
    "\n",
    "def to_customer(row):\n",
    "    data = row.strip().split(' ')\n",
    "    name = data[0]\n",
    "    phone = data[1]\n",
    "    email = data[2]\n",
    "    age = int(data[3])\n",
    "    grade = int(data[4])\n",
    "    etc = data[5]\n",
    "    return Customer(name, phone, email, age, grade, etc)"
   ]
  },
  {
   "cell_type": "code",
   "execution_count": 3,
   "id": "fd74996f",
   "metadata": {},
   "outputs": [],
   "source": [
    "# 0. 실행하면 customers.txt 파일을 로드  : load(Customer list)\n",
    "# customer.txt이 존재하지 않으면 빈 customer.txt 파일을 생성하고 데이터는 customer_list = [ ]\n",
    "#파일의 내용을 customer_list 에 append \n",
    "#파일이 없으면 빈 파일 생성하고 내용은 ' ' 추가\n",
    "\n",
    "customer_list = []\n",
    "\n",
    "def load_customers():\n",
    "    try:\n",
    "        with open('data/customer.txt','r') as f:\n",
    "            info = f.readlines()\n",
    "            customer_list.append(info)\n",
    "    except FileNotFoundError as e:\n",
    "        with open('data/customer.txt','r') as f:\n",
    "            f.write('')\n",
    "    finally:\n",
    "        return customer_list"
   ]
  },
  {
   "cell_type": "code",
   "execution_count": 4,
   "id": "405a2096",
   "metadata": {},
   "outputs": [],
   "source": [
    "# 1. 입력 메소드 \n",
    "\n",
    "def fn1_insert_customer_info(name, phone, email, age, grade, etc):\n",
    "    # 사용자로부터 이름, 전화번호, 이메일, 나이, 등급, etc를 받아 customer형 객체를 리턴\n",
    "    customer = Customer(name,phone,email,age,grade,etc)\n",
    "    customer_list.append(customer)\n",
    "    return customer"
   ]
  },
  {
   "cell_type": "code",
   "execution_count": 5,
   "id": "59ae9a35",
   "metadata": {},
   "outputs": [],
   "source": [
    "# 2. 전체 출력 \n",
    "\n",
    "def fn2_print_customer(customer_list):\n",
    "    # customer_list를 전체 출력 (*** 홍길동 010-8999-9999 e@e.com 20 3 까칠해)\n",
    "    for c in customer_list:\n",
    "        print(c)"
   ]
  },
  {
   "cell_type": "code",
   "execution_count": 6,
   "id": "394d2a82",
   "metadata": {},
   "outputs": [],
   "source": [
    "# 3. 삭제 (동명이인 없다고 가정)\n",
    "# 삭제하고자 하는 고객이름을 받아 customer_list에서 삭제 \n",
    "# 삭제성공 또는 삭제 실패 여부 출력\n",
    "def fn3_delete_customer(name,customer_list):\n",
    "    flag = False\n",
    "    \n",
    "    for c in customer_list:\n",
    "        if name in c.__str__():\n",
    "            customer_list.remove(c)\n",
    "            flag = True\n",
    "    if flag == True:\n",
    "        print('삭제 성공')\n",
    "    elif flag == False:\n",
    "        print('삭제 실패')"
   ]
  },
  {
   "cell_type": "code",
   "execution_count": 7,
   "id": "49c4de36",
   "metadata": {},
   "outputs": [],
   "source": [
    "# 4. 이름찾기\n",
    "def fn4_search_customer(name,customer_list):\n",
    "    #찾고자하는 고객 이름을 받아 찾는 고객 이름 출력\n",
    "    for c in customer_list:\n",
    "        if(name in c.__str__()):\n",
    "            print(c)"
   ]
  },
  {
   "cell_type": "code",
   "execution_count": 8,
   "id": "89d0973c",
   "metadata": {},
   "outputs": [],
   "source": [
    "# 5. 내보내기 (csv파일)\n",
    "import csv\n",
    "\n",
    "def fn5_save_customer_csv(path,customer_list):\n",
    "    # 저장할 파일명을 입력받아 data 폴더 밑에 해당 파일명으로 customer_list를 csv 파일로 저장 \n",
    "    try:\n",
    "        with open('data/%s'%path,'w',newline='') as f:\n",
    "            writer = csv.writer(f)\n",
    "            for c in customer_list:\n",
    "                row = c.__str__().split('\\t')\n",
    "                row = [r.strip() for r in row]\n",
    "                writer.writerow(row)\n",
    "            print('csv 파일 저장 완료')\n",
    "    except FileNotFoundError as e:\n",
    "        print('파일 경로를 찾을 수 없습니다')"
   ]
  },
  {
   "cell_type": "code",
   "execution_count": 9,
   "id": "6a45e4e3",
   "metadata": {},
   "outputs": [],
   "source": [
    "# 9. 종료하기 (종료하기 전 customer_list를 txt 파일에 저장후 종료)\n",
    "import pickle\n",
    "\n",
    "def fn9_save_customer_txt(customer_list):\n",
    "    # customer_list의 내용을 data/ch09_customer.txt에 저장 \n",
    "    try:\n",
    "        with open('data/customer.txt','wb') as f:\n",
    "            pickle.dump(customer_list,f)\n",
    "    except FileNotFoundError as e:\n",
    "        print('파일 경로를 찾을 수 없습니다')"
   ]
  },
  {
   "cell_type": "code",
   "execution_count": 10,
   "id": "4d21babf",
   "metadata": {},
   "outputs": [],
   "source": [
    "def main():\n",
    "    global customer_list\n",
    "    customer_list = load_customers() # ch09_customer.txt의 내용을 load\n",
    "    while True:\n",
    "        print('1:입력|2:전체출력|3:삭제|4:이름 찾기|5:csv파일 출력|9:종료',end=' ')\n",
    "        fn = int(input('메뉴 선택:'))\n",
    "        \n",
    "        if fn == 1:\n",
    "            name = input('입력할 사람의 이름은?')\n",
    "            phone = input('입력할 사람의 전화번호는?')\n",
    "            email = input('입력할 사람의 이메일은?')\n",
    "            age = input('입력할 사람의 나이는?')\n",
    "            grade = int(input('입력할 사람의 성적은(1~5)?').strip())\n",
    "            etc = input('입력할 사람의 기타정보는?')\n",
    "            \n",
    "            customer = fn1_insert_customer_info(name,phone,email,age,grade,etc) # 입력받은 내용으로 customer 객체 반환 \n",
    "            \n",
    "        elif fn == 2:\n",
    "            fn2_print_customer(customer_list)\n",
    "        elif fn == 3:\n",
    "            name = input('삭제할 정보의 사람 이름을 입력하시오:')\n",
    "            fn3_delete_customer(name,customer_list)\n",
    "        elif fn == 4:\n",
    "            name = input('조회할 정보의 사람 이름을 입력하시오:')\n",
    "            fn4_search_customer(name,customer_list)\n",
    "        elif fn ==5: \n",
    "            path = input('저장할 파일경로를 입력하시오:')\n",
    "            fn5_save_customer_csv(path,customer_list)\n",
    "        elif fn == 9:\n",
    "            fn9_save_customer_txt(customer_list)\n",
    "            break"
   ]
  },
  {
   "cell_type": "code",
   "execution_count": 11,
   "id": "8176dc7d",
   "metadata": {},
   "outputs": [
    {
     "name": "stdout",
     "output_type": "stream",
     "text": [
      "1:입력|2:전체출력|3:삭제|4:이름 찾기|5:csv파일 출력|9:종료 메뉴 선택:1\n",
      "입력할 사람의 이름은?마동석\n",
      "입력할 사람의 전화번호는?010-2222-1111\n",
      "입력할 사람의 이메일은?madong@naver.com\n",
      "입력할 사람의 나이는?32\n",
      "입력할 사람의 성적은(1~5)?4\n",
      "입력할 사람의 기타정보는?배우\n",
      "1:입력|2:전체출력|3:삭제|4:이름 찾기|5:csv파일 출력|9:종료 메뉴 선택:1\n",
      "입력할 사람의 이름은?김길자\n",
      "입력할 사람의 전화번호는?010-3333-2222\n",
      "입력할 사람의 이메일은?kilja@naver.com\n",
      "입력할 사람의 나이는?82\n",
      "입력할 사람의 성적은(1~5)?3\n",
      "입력할 사람의 기타정보는?할머니\n",
      "1:입력|2:전체출력|3:삭제|4:이름 찾기|5:csv파일 출력|9:종료 메뉴 선택:1\n",
      "입력할 사람의 이름은?홍길동\n",
      "입력할 사람의 전화번호는?010-3333-5555\n",
      "입력할 사람의 이메일은?kildong@naver.com\n",
      "입력할 사람의 나이는?23\n",
      "입력할 사람의 성적은(1~5)?4\n",
      "입력할 사람의 기타정보는?학생\n",
      "1:입력|2:전체출력|3:삭제|4:이름 찾기|5:csv파일 출력|9:종료 메뉴 선택:2\n",
      " ****\t마동석\t010-2222-1111  \tmadong@naver.com\t32 \t배우\n",
      "  ***\t김길자\t010-3333-2222  \tkilja@naver.com\t82 \t할머니\n",
      " ****\t홍길동\t010-3333-5555  \tkildong@naver.com\t23 \t학생\n",
      "1:입력|2:전체출력|3:삭제|4:이름 찾기|5:csv파일 출력|9:종료 메뉴 선택:3\n",
      "삭제할 정보의 사람 이름을 입력하시오:김길자\n",
      "삭제 성공\n",
      "1:입력|2:전체출력|3:삭제|4:이름 찾기|5:csv파일 출력|9:종료 메뉴 선택:4\n",
      "조회할 정보의 사람 이름을 입력하시오:마동석\n",
      " ****\t마동석\t010-2222-1111  \tmadong@naver.com\t32 \t배우\n",
      "1:입력|2:전체출력|3:삭제|4:이름 찾기|5:csv파일 출력|9:종료 메뉴 선택:5\n",
      "저장할 파일경로를 입력하시오:9\n",
      "csv 파일 저장 완료\n",
      "1:입력|2:전체출력|3:삭제|4:이름 찾기|5:csv파일 출력|9:종료 메뉴 선택:9\n"
     ]
    }
   ],
   "source": [
    "main()"
   ]
  }
 ],
 "metadata": {
  "kernelspec": {
   "display_name": "Python 3",
   "language": "python",
   "name": "python3"
  },
  "language_info": {
   "codemirror_mode": {
    "name": "ipython",
    "version": 3
   },
   "file_extension": ".py",
   "mimetype": "text/x-python",
   "name": "python",
   "nbconvert_exporter": "python",
   "pygments_lexer": "ipython3",
   "version": "3.8.8"
  },
  "toc": {
   "base_numbering": 1,
   "nav_menu": {},
   "number_sections": true,
   "sideBar": true,
   "skip_h1_title": false,
   "title_cell": "Table of Contents",
   "title_sidebar": "Contents",
   "toc_cell": false,
   "toc_position": {},
   "toc_section_display": true,
   "toc_window_display": false
  },
  "varInspector": {
   "cols": {
    "lenName": 16,
    "lenType": 16,
    "lenVar": 40
   },
   "kernels_config": {
    "python": {
     "delete_cmd_postfix": "",
     "delete_cmd_prefix": "del ",
     "library": "var_list.py",
     "varRefreshCmd": "print(var_dic_list())"
    },
    "r": {
     "delete_cmd_postfix": ") ",
     "delete_cmd_prefix": "rm(",
     "library": "var_list.r",
     "varRefreshCmd": "cat(var_dic_list()) "
    }
   },
   "types_to_exclude": [
    "module",
    "function",
    "builtin_function_or_method",
    "instance",
    "_Feature"
   ],
   "window_display": false
  }
 },
 "nbformat": 4,
 "nbformat_minor": 5
}
